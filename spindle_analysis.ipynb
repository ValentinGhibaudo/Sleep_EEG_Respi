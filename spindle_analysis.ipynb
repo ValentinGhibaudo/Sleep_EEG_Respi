{
 "cells": [
  {
   "cell_type": "code",
   "execution_count": 1,
   "id": "fa5d6047-3e8e-4391-bc92-62453095243b",
   "metadata": {},
   "outputs": [],
   "source": [
    "%load_ext autoreload\n",
    "%autoreload 2"
   ]
  },
  {
   "cell_type": "code",
   "execution_count": 32,
   "id": "a19cd174-1e2c-4cc6-9416-40f5173fb21f",
   "metadata": {},
   "outputs": [],
   "source": [
    "import numpy as np\n",
    "import pandas as pd\n",
    "from scipy import signal\n",
    "import matplotlib.pyplot as plt\n",
    "import xarray as xr\n",
    "from pyedflib import highlevel\n",
    "import yasa\n",
    "import tqdm\n",
    "import mne\n",
    "from functools import reduce\n",
    "from params import *\n",
    "import ghibtools as gh\n",
    "import seaborn as sns"
   ]
  },
  {
   "cell_type": "markdown",
   "id": "87a04021-f154-434e-9cae-72fe79021095",
   "metadata": {},
   "source": [
    "## PARAMS"
   ]
  },
  {
   "cell_type": "code",
   "execution_count": 16,
   "id": "1cf7e9f0-a14f-41f1-9afc-4e54b6c48091",
   "metadata": {},
   "outputs": [],
   "source": [
    "save_df_spindles = True\n",
    "save_all_spindles = True"
   ]
  },
  {
   "cell_type": "markdown",
   "id": "3c3d2f4a-03c6-4825-8cff-c79964a542e7",
   "metadata": {},
   "source": [
    "## FIND SPINDLES WITH YASA"
   ]
  },
  {
   "cell_type": "code",
   "execution_count": 25,
   "id": "120cc044-78c5-4945-9469-a56fe0c89103",
   "metadata": {},
   "outputs": [],
   "source": [
    "def detect_spindles(patient, srate=srate, chan = eeg_chans, save=False , stages=compute_stages):\n",
    "    input_file = f'../dataarray/da_staged_{patient}.nc'\n",
    "    da = xr.load_dataarray(input_file)\n",
    "    concat = []\n",
    "    for stage in compute_stages:\n",
    "        print(stage)\n",
    "        data = da.sel(stage = stage, chan = chan).dropna(dim='time').values\n",
    "\n",
    "        # Apply the detection\n",
    "                \n",
    "        sp = yasa.spindles_detect(data=data, sf=srate, ch_names=chan, multi_only=False, remove_outliers=True)\n",
    "                \n",
    "        # Get the full detection dataframe\n",
    "        if not sp is None:\n",
    "            all_spindles = sp.summary()  \n",
    "            all_spindles.insert(0 , 'stage', stage)\n",
    "            all_spindles.insert(0 , 'patient', patient)\n",
    "            concat.append(all_spindles) \n",
    "        \n",
    "    df_return = pd.concat(concat)\n",
    "    if save: \n",
    "        df_return.to_excel(f'../df_analyse/spindles_{patient}.xlsx')\n",
    "    return df_return"
   ]
  },
  {
   "cell_type": "code",
   "execution_count": 26,
   "id": "f6e76b97-6ed4-4175-a2b2-d62ac4b5e906",
   "metadata": {},
   "outputs": [
    {
     "name": "stdout",
     "output_type": "stream",
     "text": [
      "P1\n",
      "W\n",
      "R\n"
     ]
    },
    {
     "name": "stderr",
     "output_type": "stream",
     "text": [
      "20-May-22 18:06:00 | WARNING | No spindle were found in channel Fp2-C4.\n",
      "20-May-22 18:06:00 | WARNING | No spindle were found in channel C4-T4.\n",
      "20-May-22 18:06:01 | WARNING | No spindle were found in channel Fz-Cz.\n",
      "20-May-22 18:06:02 | WARNING | No spindle were found in channel Cz-Pz.\n",
      "20-May-22 18:06:03 | WARNING | No spindle were found in channel Fp1-C3.\n",
      "20-May-22 18:06:03 | WARNING | No spindle were found in channel C3-T3.\n",
      "20-May-22 18:06:04 | WARNING | No spindle were found in channel T3-O1.\n"
     ]
    },
    {
     "name": "stdout",
     "output_type": "stream",
     "text": [
      "N2\n",
      "N3\n"
     ]
    },
    {
     "name": "stderr",
     "output_type": "stream",
     "text": [
      "20-May-22 18:06:19 | WARNING | No spindle were found in channel T4-O2.\n",
      "20-May-22 18:06:19 | WARNING | No spindle were found in channel Cz-Pz.\n",
      "20-May-22 18:06:20 | WARNING | No spindle were found in channel T3-O1.\n"
     ]
    },
    {
     "name": "stdout",
     "output_type": "stream",
     "text": [
      "P2\n",
      "W\n"
     ]
    },
    {
     "name": "stderr",
     "output_type": "stream",
     "text": [
      "20-May-22 18:06:26 | WARNING | No spindle were found in channel Fz-Cz.\n"
     ]
    },
    {
     "name": "stdout",
     "output_type": "stream",
     "text": [
      "R\n",
      "N2\n",
      "N3\n"
     ]
    },
    {
     "name": "stderr",
     "output_type": "stream",
     "text": [
      "20-May-22 18:06:57 | WARNING | No spindle were found in channel Fp2-C4.\n",
      "20-May-22 18:06:57 | WARNING | No spindle were found in channel T4-O2.\n",
      "20-May-22 18:06:59 | WARNING | No spindle were found in channel T3-O1.\n"
     ]
    },
    {
     "name": "stdout",
     "output_type": "stream",
     "text": [
      "P3\n",
      "W\n",
      "R\n",
      "N2\n",
      "N3\n"
     ]
    },
    {
     "name": "stderr",
     "output_type": "stream",
     "text": [
      "20-May-22 18:07:38 | WARNING | No spindle were found in channel T4-O2.\n"
     ]
    },
    {
     "name": "stdout",
     "output_type": "stream",
     "text": [
      "P4\n",
      "W\n",
      "R\n"
     ]
    },
    {
     "name": "stderr",
     "output_type": "stream",
     "text": [
      "20-May-22 18:08:01 | WARNING | No spindle were found in channel T4-O2.\n",
      "20-May-22 18:08:02 | WARNING | No spindle were found in channel Cz-Pz.\n"
     ]
    },
    {
     "name": "stdout",
     "output_type": "stream",
     "text": [
      "N2\n",
      "N3\n"
     ]
    },
    {
     "name": "stderr",
     "output_type": "stream",
     "text": [
      "20-May-22 18:08:20 | WARNING | No spindle were found in channel T4-O2.\n"
     ]
    },
    {
     "name": "stdout",
     "output_type": "stream",
     "text": [
      "P5\n",
      "W\n",
      "R\n"
     ]
    },
    {
     "name": "stderr",
     "output_type": "stream",
     "text": [
      "20-May-22 18:08:39 | WARNING | No spindle were found in channel T4-O2.\n",
      "20-May-22 18:08:41 | WARNING | No spindle were found in channel T3-O1.\n"
     ]
    },
    {
     "name": "stdout",
     "output_type": "stream",
     "text": [
      "N2\n",
      "N3\n"
     ]
    },
    {
     "name": "stderr",
     "output_type": "stream",
     "text": [
      "20-May-22 18:08:56 | WARNING | No spindle were found in channel C4-T4.\n",
      "20-May-22 18:08:56 | WARNING | No spindle were found in channel T4-O2.\n",
      "20-May-22 18:08:56 | WARNING | No spindle were found in channel Cz-Pz.\n",
      "20-May-22 18:08:56 | WARNING | No spindle were found in channel Fp1-C3.\n",
      "20-May-22 18:08:56 | WARNING | No spindle were found in channel C3-T3.\n",
      "20-May-22 18:08:56 | WARNING | No spindle were found in channel T3-O1.\n"
     ]
    },
    {
     "name": "stdout",
     "output_type": "stream",
     "text": [
      "P6\n",
      "W\n"
     ]
    },
    {
     "name": "stderr",
     "output_type": "stream",
     "text": [
      "20-May-22 18:09:06 | WARNING | No spindle were found in channel Fp2-C4.\n",
      "20-May-22 18:09:08 | WARNING | No spindle were found in channel Fz-Cz.\n"
     ]
    },
    {
     "name": "stdout",
     "output_type": "stream",
     "text": [
      "R\n"
     ]
    },
    {
     "name": "stderr",
     "output_type": "stream",
     "text": [
      "20-May-22 18:09:12 | WARNING | No spindle were found in channel Fz-Cz.\n",
      "20-May-22 18:09:13 | WARNING | No spindle were found in channel Cz-Pz.\n",
      "20-May-22 18:09:13 | WARNING | No spindle were found in channel C3-T3.\n"
     ]
    },
    {
     "name": "stdout",
     "output_type": "stream",
     "text": [
      "N2\n",
      "N3\n"
     ]
    },
    {
     "name": "stderr",
     "output_type": "stream",
     "text": [
      "20-May-22 18:09:26 | WARNING | No spindle were found in channel Fp2-C4.\n",
      "20-May-22 18:09:26 | WARNING | No spindle were found in channel C4-T4.\n",
      "20-May-22 18:09:26 | WARNING | No spindle were found in channel T4-O2.\n",
      "20-May-22 18:09:27 | WARNING | No spindle were found in channel Cz-Pz.\n",
      "20-May-22 18:09:27 | WARNING | No spindle were found in channel Fp1-C3.\n",
      "20-May-22 18:09:27 | WARNING | No spindle were found in channel C3-T3.\n",
      "20-May-22 18:09:28 | WARNING | No spindle were found in channel T3-O1.\n"
     ]
    },
    {
     "name": "stdout",
     "output_type": "stream",
     "text": [
      "P7\n",
      "W\n",
      "R\n",
      "N2\n",
      "N3\n"
     ]
    },
    {
     "name": "stderr",
     "output_type": "stream",
     "text": [
      "20-May-22 18:10:15 | WARNING | No spindle were found in channel T4-O2.\n",
      "20-May-22 18:10:18 | WARNING | No spindle were found in channel T3-O1.\n"
     ]
    },
    {
     "name": "stdout",
     "output_type": "stream",
     "text": [
      "P8\n",
      "W\n"
     ]
    },
    {
     "name": "stderr",
     "output_type": "stream",
     "text": [
      "20-May-22 18:10:27 | WARNING | No spindle were found in channel Fz-Cz.\n",
      "20-May-22 18:10:28 | WARNING | No spindle were found in channel Cz-Pz.\n"
     ]
    },
    {
     "name": "stdout",
     "output_type": "stream",
     "text": [
      "R\n"
     ]
    },
    {
     "name": "stderr",
     "output_type": "stream",
     "text": [
      "20-May-22 18:10:30 | WARNING | No spindle were found in channel Cz-Pz.\n"
     ]
    },
    {
     "name": "stdout",
     "output_type": "stream",
     "text": [
      "N2\n",
      "N3\n"
     ]
    },
    {
     "name": "stderr",
     "output_type": "stream",
     "text": [
      "20-May-22 18:10:38 | WARNING | No spindle were found in channel Fp2-C4.\n",
      "20-May-22 18:10:39 | WARNING | No spindle were found in channel C4-T4.\n",
      "20-May-22 18:10:39 | WARNING | No spindle were found in channel T4-O2.\n",
      "20-May-22 18:10:39 | WARNING | No spindle were found in channel Cz-Pz.\n",
      "20-May-22 18:10:39 | WARNING | No spindle were found in channel Fp1-C3.\n",
      "20-May-22 18:10:40 | WARNING | No spindle were found in channel C3-T3.\n",
      "20-May-22 18:10:40 | WARNING | No spindle were found in channel T3-O1.\n"
     ]
    },
    {
     "name": "stdout",
     "output_type": "stream",
     "text": [
      "P9\n",
      "W\n",
      "R\n"
     ]
    },
    {
     "name": "stderr",
     "output_type": "stream",
     "text": [
      "20-May-22 18:11:01 | WARNING | No spindle were found in channel T4-O2.\n",
      "20-May-22 18:11:02 | WARNING | No spindle were found in channel Fp1-C3.\n"
     ]
    },
    {
     "name": "stdout",
     "output_type": "stream",
     "text": [
      "N2\n",
      "N3\n"
     ]
    },
    {
     "name": "stderr",
     "output_type": "stream",
     "text": [
      "20-May-22 18:11:17 | WARNING | No spindle were found in channel Fp2-C4.\n",
      "20-May-22 18:11:17 | WARNING | No spindle were found in channel C4-T4.\n",
      "20-May-22 18:11:17 | WARNING | No spindle were found in channel T4-O2.\n",
      "20-May-22 18:11:17 | WARNING | No spindle were found in channel Fz-Cz.\n",
      "20-May-22 18:11:17 | WARNING | No spindle were found in channel Cz-Pz.\n",
      "20-May-22 18:11:18 | WARNING | No spindle were found in channel Fp1-C3.\n",
      "20-May-22 18:11:18 | WARNING | No spindle were found in channel C3-T3.\n",
      "20-May-22 18:11:18 | WARNING | No spindle were found in channel T3-O1.\n",
      "20-May-22 18:11:18 | WARNING | No spindles were found in data. Returning None.\n"
     ]
    },
    {
     "name": "stdout",
     "output_type": "stream",
     "text": [
      "P10\n",
      "W\n",
      "R\n"
     ]
    },
    {
     "name": "stderr",
     "output_type": "stream",
     "text": [
      "20-May-22 18:11:40 | WARNING | No spindle were found in channel C4-T4.\n",
      "20-May-22 18:11:43 | WARNING | No spindle were found in channel C3-T3.\n"
     ]
    },
    {
     "name": "stdout",
     "output_type": "stream",
     "text": [
      "N2\n",
      "N3\n"
     ]
    },
    {
     "name": "stderr",
     "output_type": "stream",
     "text": [
      "20-May-22 18:12:02 | WARNING | No spindle were found in channel Fp2-C4.\n",
      "20-May-22 18:12:02 | WARNING | No spindle were found in channel C4-T4.\n",
      "20-May-22 18:12:02 | WARNING | No spindle were found in channel T4-O2.\n",
      "20-May-22 18:12:03 | WARNING | No spindle were found in channel Fz-Cz.\n",
      "20-May-22 18:12:03 | WARNING | No spindle were found in channel Cz-Pz.\n",
      "20-May-22 18:12:03 | WARNING | No spindle were found in channel Fp1-C3.\n",
      "20-May-22 18:12:04 | WARNING | No spindle were found in channel C3-T3.\n",
      "20-May-22 18:12:04 | WARNING | No spindle were found in channel T3-O1.\n",
      "20-May-22 18:12:04 | WARNING | No spindles were found in data. Returning None.\n"
     ]
    }
   ],
   "source": [
    "spindles_all_concat = []\n",
    "for patient in patients:\n",
    "    print(patient)\n",
    "    spindles = detect_spindles(patient, save=save_df_spindles)\n",
    "    spindles_all_concat.append(spindles)"
   ]
  },
  {
   "cell_type": "code",
   "execution_count": 27,
   "id": "66c0759f-ea7c-404a-b3aa-1eae65a4388f",
   "metadata": {},
   "outputs": [],
   "source": [
    "spindles_all_patient = pd.concat(spindles_all_concat)\n",
    "if save_all_spindles:\n",
    "    spindles_all_patient.to_excel('../df_analyse/spindles_all_patients.xlsx')"
   ]
  },
  {
   "cell_type": "code",
   "execution_count": 28,
   "id": "82ce0f4d-0fbd-4be0-af0c-b26fe140225a",
   "metadata": {},
   "outputs": [],
   "source": [
    "spindles_all_crop = spindles_all_patient.loc[:,['patient','stage','Duration','Amplitude','Frequency']]"
   ]
  },
  {
   "cell_type": "code",
   "execution_count": 29,
   "id": "d8ea14d5-5e3f-4175-b6d1-025806fde56f",
   "metadata": {},
   "outputs": [
    {
     "data": {
      "text/html": [
       "<div>\n",
       "<style scoped>\n",
       "    .dataframe tbody tr th:only-of-type {\n",
       "        vertical-align: middle;\n",
       "    }\n",
       "\n",
       "    .dataframe tbody tr th {\n",
       "        vertical-align: top;\n",
       "    }\n",
       "\n",
       "    .dataframe thead th {\n",
       "        text-align: right;\n",
       "    }\n",
       "</style>\n",
       "<table border=\"1\" class=\"dataframe\">\n",
       "  <thead>\n",
       "    <tr style=\"text-align: right;\">\n",
       "      <th></th>\n",
       "      <th>patient</th>\n",
       "      <th>stage</th>\n",
       "      <th>Duration</th>\n",
       "      <th>Amplitude</th>\n",
       "      <th>Frequency</th>\n",
       "    </tr>\n",
       "  </thead>\n",
       "  <tbody>\n",
       "    <tr>\n",
       "      <th>0</th>\n",
       "      <td>P1</td>\n",
       "      <td>W</td>\n",
       "      <td>0.980469</td>\n",
       "      <td>57.420250</td>\n",
       "      <td>13.153248</td>\n",
       "    </tr>\n",
       "    <tr>\n",
       "      <th>1</th>\n",
       "      <td>P1</td>\n",
       "      <td>W</td>\n",
       "      <td>0.832031</td>\n",
       "      <td>50.192098</td>\n",
       "      <td>13.230707</td>\n",
       "    </tr>\n",
       "    <tr>\n",
       "      <th>2</th>\n",
       "      <td>P1</td>\n",
       "      <td>W</td>\n",
       "      <td>0.957031</td>\n",
       "      <td>35.588988</td>\n",
       "      <td>14.076669</td>\n",
       "    </tr>\n",
       "    <tr>\n",
       "      <th>3</th>\n",
       "      <td>P1</td>\n",
       "      <td>W</td>\n",
       "      <td>1.105469</td>\n",
       "      <td>41.109137</td>\n",
       "      <td>13.262335</td>\n",
       "    </tr>\n",
       "    <tr>\n",
       "      <th>4</th>\n",
       "      <td>P1</td>\n",
       "      <td>W</td>\n",
       "      <td>0.699219</td>\n",
       "      <td>38.720417</td>\n",
       "      <td>12.814406</td>\n",
       "    </tr>\n",
       "    <tr>\n",
       "      <th>...</th>\n",
       "      <td>...</td>\n",
       "      <td>...</td>\n",
       "      <td>...</td>\n",
       "      <td>...</td>\n",
       "      <td>...</td>\n",
       "    </tr>\n",
       "    <tr>\n",
       "      <th>2667</th>\n",
       "      <td>P10</td>\n",
       "      <td>N2</td>\n",
       "      <td>0.554688</td>\n",
       "      <td>31.118556</td>\n",
       "      <td>13.017753</td>\n",
       "    </tr>\n",
       "    <tr>\n",
       "      <th>2668</th>\n",
       "      <td>P10</td>\n",
       "      <td>N2</td>\n",
       "      <td>0.523438</td>\n",
       "      <td>25.437377</td>\n",
       "      <td>13.624334</td>\n",
       "    </tr>\n",
       "    <tr>\n",
       "      <th>2669</th>\n",
       "      <td>P10</td>\n",
       "      <td>N2</td>\n",
       "      <td>0.628906</td>\n",
       "      <td>31.801027</td>\n",
       "      <td>13.726640</td>\n",
       "    </tr>\n",
       "    <tr>\n",
       "      <th>2670</th>\n",
       "      <td>P10</td>\n",
       "      <td>N2</td>\n",
       "      <td>0.644531</td>\n",
       "      <td>34.620598</td>\n",
       "      <td>13.607499</td>\n",
       "    </tr>\n",
       "    <tr>\n",
       "      <th>2671</th>\n",
       "      <td>P10</td>\n",
       "      <td>N2</td>\n",
       "      <td>0.531250</td>\n",
       "      <td>24.391288</td>\n",
       "      <td>12.839775</td>\n",
       "    </tr>\n",
       "  </tbody>\n",
       "</table>\n",
       "<p>25785 rows × 5 columns</p>\n",
       "</div>"
      ],
      "text/plain": [
       "     patient stage  Duration  Amplitude  Frequency\n",
       "0         P1     W  0.980469  57.420250  13.153248\n",
       "1         P1     W  0.832031  50.192098  13.230707\n",
       "2         P1     W  0.957031  35.588988  14.076669\n",
       "3         P1     W  1.105469  41.109137  13.262335\n",
       "4         P1     W  0.699219  38.720417  12.814406\n",
       "...      ...   ...       ...        ...        ...\n",
       "2667     P10    N2  0.554688  31.118556  13.017753\n",
       "2668     P10    N2  0.523438  25.437377  13.624334\n",
       "2669     P10    N2  0.628906  31.801027  13.726640\n",
       "2670     P10    N2  0.644531  34.620598  13.607499\n",
       "2671     P10    N2  0.531250  24.391288  12.839775\n",
       "\n",
       "[25785 rows x 5 columns]"
      ]
     },
     "execution_count": 29,
     "metadata": {},
     "output_type": "execute_result"
    }
   ],
   "source": [
    "spindles_all_crop"
   ]
  },
  {
   "cell_type": "code",
   "execution_count": 37,
   "id": "2879765f-0b2c-4f23-8a3a-6bbae5027dc2",
   "metadata": {},
   "outputs": [
    {
     "data": {
      "text/plain": [
       "<AxesSubplot:>"
      ]
     },
     "execution_count": 37,
     "metadata": {},
     "output_type": "execute_result"
    },
    {
     "data": {
      "image/png": "[encoded data removed]",
      "text/plain": [
       "<Figure size 432x288 with 2 Axes>"
      ]
     },
     "metadata": {
      "needs_background": "light"
     },
     "output_type": "display_data"
    }
   ],
   "source": [
    "sns.heatmap(spindles_all_crop.corr())"
   ]
  },
  {
   "cell_type": "code",
   "execution_count": 40,
   "id": "f22e1d7c-baf7-499e-9cbd-6f54d53ea60e",
   "metadata": {},
   "outputs": [
    {
     "data": {
      "text/plain": [
       "<seaborn.matrix.ClusterGrid at 0x7f6a113ae3d0>"
      ]
     },
     "execution_count": 40,
     "metadata": {},
     "output_type": "execute_result"
    },
    {
     "data": {
      "image/png": "[encoded data removed]",
      "text/plain": [
       "<Figure size 720x720 with 4 Axes>"
      ]
     },
     "metadata": {
      "needs_background": "light"
     },
     "output_type": "display_data"
    }
   ],
   "source": [
    "sns.clustermap(spindles_all_patient.corr())"
   ]
  },
  {
   "cell_type": "code",
   "execution_count": 55,
   "id": "32ad6409-a573-4453-9a02-2127a4b78d3b",
   "metadata": {},
   "outputs": [
    {
     "data": {
      "image/png": "[encoded data removed]",
      "text/plain": [
       "<Figure size 1440x576 with 3 Axes>"
      ]
     },
     "metadata": {
      "needs_background": "light"
     },
     "output_type": "display_data"
    }
   ],
   "source": [
    "fig, axs = plt.subplots(ncols = 3, figsize = (20,8))\n",
    "fig.suptitle('Spindles metrics vs Stage')\n",
    "for col, metric in enumerate(['Duration','Amplitude','Frequency']):\n",
    "    ax = axs[col]\n",
    "    sns.boxplot(data=spindles_all_crop, x='stage', y=metric, ax=ax)"
   ]
  },
  {
   "cell_type": "code",
   "execution_count": 57,
   "id": "b8c8aae9-572f-45b5-8b45-1a136737615a",
   "metadata": {},
   "outputs": [
    {
     "name": "stderr",
     "output_type": "stream",
     "text": [
      "/home/valentin.ghibaudo/.virtualenvs/py38_cluster/lib64/python3.8/site-packages/scipy/stats/morestats.py:1760: UserWarning: p-value may not be accurate for N > 5000.\n",
      "  warnings.warn(\"p-value may not be accurate for N > 5000.\")\n",
      "/home/valentin.ghibaudo/.virtualenvs/py38_cluster/lib64/python3.8/site-packages/scipy/stats/morestats.py:1760: UserWarning: p-value may not be accurate for N > 5000.\n",
      "  warnings.warn(\"p-value may not be accurate for N > 5000.\")\n"
     ]
    },
    {
     "name": "stdout",
     "output_type": "stream",
     "text": [
      "Un-successfull transformation\n"
     ]
    },
    {
     "name": "stderr",
     "output_type": "stream",
     "text": [
      "/home/valentin.ghibaudo/.virtualenvs/py38_cluster/lib64/python3.8/site-packages/scipy/stats/morestats.py:1760: UserWarning: p-value may not be accurate for N > 5000.\n",
      "  warnings.warn(\"p-value may not be accurate for N > 5000.\")\n",
      "/home/valentin.ghibaudo/.virtualenvs/py38_cluster/lib64/python3.8/site-packages/scipy/stats/morestats.py:1760: UserWarning: p-value may not be accurate for N > 5000.\n",
      "  warnings.warn(\"p-value may not be accurate for N > 5000.\")\n"
     ]
    },
    {
     "name": "stdout",
     "output_type": "stream",
     "text": [
      "Un-successfull transformation\n"
     ]
    },
    {
     "name": "stderr",
     "output_type": "stream",
     "text": [
      "/home/valentin.ghibaudo/.virtualenvs/py38_cluster/lib64/python3.8/site-packages/scipy/stats/morestats.py:1760: UserWarning: p-value may not be accurate for N > 5000.\n",
      "  warnings.warn(\"p-value may not be accurate for N > 5000.\")\n",
      "/home/valentin.ghibaudo/.virtualenvs/py38_cluster/lib64/python3.8/site-packages/scipy/stats/morestats.py:1760: UserWarning: p-value may not be accurate for N > 5000.\n",
      "  warnings.warn(\"p-value may not be accurate for N > 5000.\")\n"
     ]
    },
    {
     "name": "stdout",
     "output_type": "stream",
     "text": [
      "Un-successfull transformation\n"
     ]
    },
    {
     "data": {
      "image/png": "[encoded data removed]",
      "text/plain": [
       "<Figure size 1440x576 with 3 Axes>"
      ]
     },
     "metadata": {
      "needs_background": "light"
     },
     "output_type": "display_data"
    }
   ],
   "source": [
    "fig, axs = plt.subplots(ncols = 3, figsize = (20,8), constrained_layout = True)\n",
    "fig.suptitle('Spindles metrics vs Stage')\n",
    "for col, metric in enumerate(['Duration','Amplitude','Frequency']):\n",
    "    ax = axs[col]\n",
    "    gh.auto_stats(df=spindles_all_crop, predictor='stage', outcome=metric, design = 'between', ax=ax)"
   ]
  },
  {
   "cell_type": "code",
   "execution_count": null,
   "id": "cd251294-1124-4619-af42-ff7e04ab11a3",
   "metadata": {},
   "outputs": [],
   "source": []
  }
 ],
 "metadata": {
  "kernelspec": {
   "display_name": "Python 3 (ipykernel)",
   "language": "python",
   "name": "python3"
  },
  "language_info": {
   "codemirror_mode": {
    "name": "ipython",
    "version": 3
   },
   "file_extension": ".py",
   "mimetype": "text/x-python",
   "name": "python",
   "nbconvert_exporter": "python",
   "pygments_lexer": "ipython3",
   "version": "3.8.12"
  }
 },
 "nbformat": 4,
 "nbformat_minor": 5
}
