{
 "cells": [
  {
   "cell_type": "code",
   "execution_count": 4,
   "id": "82329d9d-48e7-4178-8876-15e91cf795dd",
   "metadata": {},
   "outputs": [],
   "source": [
    "%matplotlib inline"
   ]
  },
  {
   "cell_type": "code",
   "execution_count": 19,
   "id": "c0d8f159-7d56-41a4-bc1e-8b1a5d32cafc",
   "metadata": {},
   "outputs": [],
   "source": [
    "import numpy as np\n",
    "import matplotlib.pyplot as plt\n",
    "import numba"
   ]
  },
  {
   "cell_type": "code",
   "execution_count": 15,
   "id": "607fd974-f272-4650-ba5a-51a065c3016e",
   "metadata": {},
   "outputs": [
    {
     "data": {
      "text/plain": [
       "(array([  4.,  22.,  65., 153., 211., 246., 176.,  89.,  27.,   7.]),\n",
       " array([-0.67278537, -0.33911519, -0.005445  ,  0.32822518,  0.66189536,\n",
       "         0.99556554,  1.32923572,  1.6629059 ,  1.99657609,  2.33024627,\n",
       "         2.66391645]),\n",
       " <BarContainer object of 10 artists>)"
      ]
     },
     "execution_count": 15,
     "metadata": {},
     "output_type": "execute_result"
    },
    {
     "data": {
      "image/png": "[encoded data removed]",
      "text/plain": [
       "<Figure size 640x480 with 1 Axes>"
      ]
     },
     "metadata": {},
     "output_type": "display_data"
    }
   ],
   "source": [
    "\n",
    "data = ((np.random.randn(1_000) + 2)  / 12) * np.pi * 2\n",
    "fig, ax = plt.subplots()\n",
    "ax.hist(data, edgecolor = 'k')"
   ]
  },
  {
   "cell_type": "code",
   "execution_count": null,
   "id": "79b224df-9b74-40ab-8402-352f638aef58",
   "metadata": {},
   "outputs": [],
   "source": []
  },
  {
   "cell_type": "code",
   "execution_count": 16,
   "id": "f1117eb2-07c0-495f-b351-051de8f39c8f",
   "metadata": {},
   "outputs": [],
   "source": [
    "\n",
    "def HermansRasson2T_V1(sample):\n",
    "    n = sample.size\n",
    "    total = 0\n",
    "    for i in range(n):\n",
    "        for j in range(n):\n",
    "            total = total + abs(abs(sample[i]-sample[j])-np.pi)-(np.pi/2)\n",
    "            total = total - (2.895*(abs(np.sin(sample[i]-sample[j]))-(2/np.pi)))\n",
    "    T = total/n\n",
    "    return T\n",
    "\n"
   ]
  },
  {
   "cell_type": "code",
   "execution_count": 21,
   "id": "e6b447e9-1e7d-48a0-bd31-cf971a14b0b2",
   "metadata": {},
   "outputs": [],
   "source": [
    "@numba.jit()\n",
    "def HermansRasson2T_V2(sample):\n",
    "    n = sample.size\n",
    "    total = 0\n",
    "    for i in range(n):\n",
    "        for j in range(n):\n",
    "            total = total + abs(abs(sample[i]-sample[j])-np.pi)-(np.pi/2)\n",
    "            total = total - (2.895*(abs(np.sin(sample[i]-sample[j]))-(2/np.pi)))\n",
    "    T = total/n\n",
    "    return T\n"
   ]
  },
  {
   "cell_type": "code",
   "execution_count": 105,
   "id": "304716ec-01bb-47c7-90e2-cca33d09bf5f",
   "metadata": {},
   "outputs": [],
   "source": [
    "\n",
    "def HermansRasson2T_V3(sample):\n",
    "    d = sample[None, :] - sample[:, None]\n",
    "    T = np.sum(np.abs(np.abs(d) - np.pi) - (np.pi / 2) - 2.895 * (np.abs(np.sin(d)) - (2 / np.pi))) / sample.size\n",
    "    return T\n"
   ]
  },
  {
   "cell_type": "code",
   "execution_count": 106,
   "id": "a8a90ae8-bc2a-4696-87aa-00e953aad5f1",
   "metadata": {},
   "outputs": [
    {
     "name": "stdout",
     "output_type": "stream",
     "text": [
      "1368.0969919426423\n",
      "1368.0969919426423\n",
      "1368.0969919480217\n"
     ]
    }
   ],
   "source": [
    "print(HermansRasson2T_V1(data))\n",
    "print(HermansRasson2T_V2(data))\n",
    "print(HermansRasson2T_V3(data))"
   ]
  },
  {
   "cell_type": "code",
   "execution_count": 107,
   "id": "e105c488-b64f-4225-ba60-908be4d28a2c",
   "metadata": {},
   "outputs": [
    {
     "name": "stdout",
     "output_type": "stream",
     "text": [
      "1.27 s ± 2 ms per loop (mean ± std. dev. of 7 runs, 1 loop each)\n"
     ]
    }
   ],
   "source": [
    "%timeit HermansRasson2T_V1(data)"
   ]
  },
  {
   "cell_type": "code",
   "execution_count": 108,
   "id": "ba4497ff-6ad5-4ae3-97f5-03ad97970dcf",
   "metadata": {},
   "outputs": [
    {
     "name": "stdout",
     "output_type": "stream",
     "text": [
      "9.21 ms ± 2.17 µs per loop (mean ± std. dev. of 7 runs, 100 loops each)\n"
     ]
    }
   ],
   "source": [
    "%timeit HermansRasson2T_V2(data)"
   ]
  },
  {
   "cell_type": "code",
   "execution_count": 109,
   "id": "4f2dc2c9-b368-4c6c-a696-c143f4c31ed8",
   "metadata": {},
   "outputs": [
    {
     "name": "stdout",
     "output_type": "stream",
     "text": [
      "15 ms ± 80.6 µs per loop (mean ± std. dev. of 7 runs, 100 loops each)\n"
     ]
    }
   ],
   "source": [
    "%timeit HermansRasson2T_V3(data)"
   ]
  },
  {
   "cell_type": "code",
   "execution_count": 27,
   "id": "f4c0c77a-594d-4ec9-88ff-53ef6362e738",
   "metadata": {},
   "outputs": [
    {
     "data": {
      "text/plain": [
       "136.80781758957653"
      ]
     },
     "execution_count": 27,
     "metadata": {},
     "output_type": "execute_result"
    }
   ],
   "source": [
    "1260 / 9.21"
   ]
  },
  {
   "cell_type": "code",
   "execution_count": null,
   "id": "84f3006c-a5a8-4df0-ad9c-40ee310a83db",
   "metadata": {},
   "outputs": [],
   "source": []
  },
  {
   "cell_type": "code",
   "execution_count": 28,
   "id": "fa8ca851-8962-4ddf-bea4-cfec3d912e45",
   "metadata": {},
   "outputs": [
    {
     "name": "stdout",
     "output_type": "stream",
     "text": [
      "[0 1 2 3] [ 0 10 20 30]\n"
     ]
    }
   ],
   "source": [
    "a = np.arange(4)\n",
    "b = np.arange(4) * 10\n",
    "print(a, b)"
   ]
  },
  {
   "cell_type": "code",
   "execution_count": 29,
   "id": "9b092dfd-dc3d-4a6c-9043-5719b8228245",
   "metadata": {},
   "outputs": [
    {
     "data": {
      "text/plain": [
       "array([[ 0, 10, 20, 30],\n",
       "       [ 1, 11, 21, 31],\n",
       "       [ 2, 12, 22, 32],\n",
       "       [ 3, 13, 23, 33]])"
      ]
     },
     "execution_count": 29,
     "metadata": {},
     "output_type": "execute_result"
    }
   ],
   "source": [
    "a[:, None] + b[None, :]"
   ]
  },
  {
   "cell_type": "code",
   "execution_count": 110,
   "id": "743882a9-6b89-4515-9d20-0b726d579fa7",
   "metadata": {},
   "outputs": [],
   "source": [
    "def HermansRasson2P_V1(sample, univals = 1000):\n",
    "    n = sample.size\n",
    "    testset = np.zeros(univals)\n",
    "    for f in range(univals):\n",
    "        data1 = np.random.rand(n) * 2*np.pi\n",
    "        testset[f] = HermansRasson2T_V2(data1)\n",
    "    Tsample = HermansRasson2T_V2(sample)\n",
    "\n",
    "    counter = 1\n",
    "    for j in range(univals):\n",
    "        if testset[j] >= Tsample:\n",
    "            counter = counter + 1\n",
    "    p = counter / (univals+1)\n",
    "    return p"
   ]
  },
  {
   "cell_type": "code",
   "execution_count": 111,
   "id": "bbe41484-6219-44ac-97db-002ba2e46073",
   "metadata": {},
   "outputs": [],
   "source": [
    "def HermansRasson2P_V2(sample, univals = 1000, seed=None):\n",
    "    rng = np.random.default_rng(seed=seed)\n",
    "    Tsample = HermansRasson2T_V2(sample)\n",
    "    n = sample.size\n",
    "    testset = np.zeros(univals)\n",
    "    for f in range(univals):\n",
    "        data1 = rng.uniform(size=n, low=0, high=2*np.pi)\n",
    "        testset[f] = HermansRasson2T_V2(data1)\n",
    "    p = (np.sum(testset > Tsample) + 1) / (univals + 1)\n",
    "    return p"
   ]
  },
  {
   "cell_type": "code",
   "execution_count": 112,
   "id": "d5feca8b-4c56-4f2e-81a9-b59817367169",
   "metadata": {},
   "outputs": [],
   "source": [
    "def HermansRasson2P_V2(sample, univals = 1000, seed=None):\n",
    "    rng = np.random.default_rng(seed=seed)\n",
    "    Tsample = HermansRasson2T_V2(sample)\n",
    "    n = sample.size\n",
    "    testset = np.zeros(univals)\n",
    "    for f in range(univals):\n",
    "        data1 = rng.uniform(size=n, low=0, high=2*np.pi)\n",
    "        testset[f] = HermansRasson2T_V2(data1)\n",
    "    p = (np.sum(testset > Tsample) + 1) / (univals + 1)\n",
    "    return p"
   ]
  },
  {
   "cell_type": "code",
   "execution_count": 126,
   "id": "c71b13e8-7285-4c69-a762-f467c7e0bb43",
   "metadata": {},
   "outputs": [],
   "source": [
    "@numba.jit()\n",
    "def HermansRasson2P_V3(sample, univals = 1000, seed=None):\n",
    "    \n",
    "    rng = np.random.default_rng(seed=seed)\n",
    "    Tsample = HermansRasson2T_V2(sample)\n",
    "    n = sample.size\n",
    "    testset = np.zeros(univals)\n",
    "    for f in numba.prange(univals):\n",
    "        data1 = rng.uniform(size=n, low=0, high=2*np.pi)\n",
    "        testset[f] = HermansRasson2T_V2(data1)\n",
    "    p = (np.sum(testset > Tsample) + 1) / (univals + 1)\n",
    "    return p"
   ]
  },
  {
   "cell_type": "code",
   "execution_count": 127,
   "id": "260e5ef1-57d1-4585-b886-140d5c649a47",
   "metadata": {},
   "outputs": [
    {
     "name": "stdout",
     "output_type": "stream",
     "text": [
      "0.09090909090909091\n",
      "0.09090909090909091\n"
     ]
    },
    {
     "name": "stderr",
     "output_type": "stream",
     "text": [
      "/tmp/ipykernel_3754/947443828.py:1: NumbaWarning: \n",
      "Compilation is falling back to object mode WITH looplifting enabled because Function \"HermansRasson2P_V3\" failed type inference due to: Unknown attribute 'default_rng' of type Module(<module 'numpy.random' from '/home/samuel/.virtualenvs/py3.10/lib/python3.10/site-packages/numpy/random/__init__.py'>)\n",
      "\n",
      "File \"../../../tmp/ipykernel_3754/947443828.py\", line 4:\n",
      "<source missing, REPL/exec in use?>\n",
      "\n",
      "During: typing of get attribute at /tmp/ipykernel_3754/947443828.py (4)\n",
      "\n",
      "File \"../../../tmp/ipykernel_3754/947443828.py\", line 4:\n",
      "<source missing, REPL/exec in use?>\n",
      "\n",
      "  @numba.jit()\n",
      "/tmp/ipykernel_3754/947443828.py:1: NumbaWarning: \n",
      "Compilation is falling back to object mode WITHOUT looplifting enabled because Function \"HermansRasson2P_V3\" failed type inference due to: Cannot determine Numba type of <class 'numba.core.dispatcher.LiftedLoop'>\n",
      "\n",
      "File \"../../../tmp/ipykernel_3754/947443828.py\", line 8:\n",
      "<source missing, REPL/exec in use?>\n",
      "\n",
      "  @numba.jit()\n",
      "/home/samuel/.virtualenvs/py3.10/lib/python3.10/site-packages/numba/core/object_mode_passes.py:151: NumbaWarning: Function \"HermansRasson2P_V3\" was compiled in object mode without forceobj=True, but has lifted loops.\n",
      "\n",
      "File \"../../../tmp/ipykernel_3754/947443828.py\", line 4:\n",
      "<source missing, REPL/exec in use?>\n",
      "\n",
      "  warnings.warn(errors.NumbaWarning(warn_msg,\n",
      "/home/samuel/.virtualenvs/py3.10/lib/python3.10/site-packages/numba/core/object_mode_passes.py:161: NumbaDeprecationWarning: \n",
      "Fall-back from the nopython compilation path to the object mode compilation path has been detected, this is deprecated behaviour.\n",
      "\n",
      "For more information visit https://numba.readthedocs.io/en/stable/reference/deprecation.html#deprecation-of-object-mode-fall-back-behaviour-when-using-jit\n",
      "\n",
      "File \"../../../tmp/ipykernel_3754/947443828.py\", line 4:\n",
      "<source missing, REPL/exec in use?>\n",
      "\n",
      "  warnings.warn(errors.NumbaDeprecationWarning(msg,\n",
      "/tmp/ipykernel_3754/947443828.py:1: NumbaWarning: \n",
      "Compilation is falling back to object mode WITHOUT looplifting enabled because Function \"HermansRasson2P_V3\" failed type inference due to: non-precise type pyobject\n",
      "During: typing of argument at /tmp/ipykernel_3754/947443828.py (8)\n",
      "\n",
      "File \"../../../tmp/ipykernel_3754/947443828.py\", line 8:\n",
      "<source missing, REPL/exec in use?>\n",
      "\n",
      "  @numba.jit()\n",
      "/home/samuel/.virtualenvs/py3.10/lib/python3.10/site-packages/numba/core/object_mode_passes.py:151: NumbaWarning: Function \"HermansRasson2P_V3\" was compiled in object mode without forceobj=True.\n",
      "\n",
      "File \"../../../tmp/ipykernel_3754/947443828.py\", line 8:\n",
      "<source missing, REPL/exec in use?>\n",
      "\n",
      "  warnings.warn(errors.NumbaWarning(warn_msg,\n",
      "/home/samuel/.virtualenvs/py3.10/lib/python3.10/site-packages/numba/core/object_mode_passes.py:161: NumbaDeprecationWarning: \n",
      "Fall-back from the nopython compilation path to the object mode compilation path has been detected, this is deprecated behaviour.\n",
      "\n",
      "For more information visit https://numba.readthedocs.io/en/stable/reference/deprecation.html#deprecation-of-object-mode-fall-back-behaviour-when-using-jit\n",
      "\n",
      "File \"../../../tmp/ipykernel_3754/947443828.py\", line 8:\n",
      "<source missing, REPL/exec in use?>\n",
      "\n",
      "  warnings.warn(errors.NumbaDeprecationWarning(msg,\n"
     ]
    },
    {
     "name": "stdout",
     "output_type": "stream",
     "text": [
      "0.09090909090909091\n"
     ]
    }
   ],
   "source": [
    "print(HermansRasson2P_V1(data, univals = 10))\n",
    "print(HermansRasson2P_V2(data, univals = 10))\n",
    "print(HermansRasson2P_V3(data, univals = 10))\n"
   ]
  },
  {
   "cell_type": "code",
   "execution_count": 128,
   "id": "a2f08b0b-10c2-46ec-b85a-2a10bd6eb06b",
   "metadata": {},
   "outputs": [
    {
     "name": "stdout",
     "output_type": "stream",
     "text": [
      "145 ms ± 144 µs per loop (mean ± std. dev. of 7 runs, 10 loops each)\n"
     ]
    }
   ],
   "source": [
    "%timeit HermansRasson2P_V1(data, univals=10)"
   ]
  },
  {
   "cell_type": "code",
   "execution_count": 129,
   "id": "92e4df57-8735-4487-a9be-d54de2fa78f5",
   "metadata": {},
   "outputs": [
    {
     "name": "stdout",
     "output_type": "stream",
     "text": [
      "144 ms ± 335 µs per loop (mean ± std. dev. of 7 runs, 10 loops each)\n"
     ]
    }
   ],
   "source": [
    "%timeit HermansRasson2P_V2(data, univals=10)"
   ]
  },
  {
   "cell_type": "code",
   "execution_count": 130,
   "id": "860c5399-70a2-49ef-9c4a-622056e3b658",
   "metadata": {},
   "outputs": [
    {
     "name": "stdout",
     "output_type": "stream",
     "text": [
      "144 ms ± 155 µs per loop (mean ± std. dev. of 7 runs, 10 loops each)\n"
     ]
    }
   ],
   "source": [
    "%timeit HermansRasson2P_V3(data, univals=10)"
   ]
  },
  {
   "cell_type": "code",
   "execution_count": null,
   "id": "32969482-96f2-41ae-9b28-5d7b8b5e456b",
   "metadata": {},
   "outputs": [],
   "source": [
    "\n"
   ]
  },
  {
   "cell_type": "code",
   "execution_count": null,
   "id": "e13969e2-9a93-4de9-959f-4ff37447dda7",
   "metadata": {},
   "outputs": [],
   "source": []
  }
 ],
 "metadata": {
  "kernelspec": {
   "display_name": "Python 3 (ipykernel)",
   "language": "python",
   "name": "python3"
  },
  "language_info": {
   "codemirror_mode": {
    "name": "ipython",
    "version": 3
   },
   "file_extension": ".py",
   "mimetype": "text/x-python",
   "name": "python",
   "nbconvert_exporter": "python",
   "pygments_lexer": "ipython3",
   "version": "3.10.12"
  }
 },
 "nbformat": 4,
 "nbformat_minor": 5
}
