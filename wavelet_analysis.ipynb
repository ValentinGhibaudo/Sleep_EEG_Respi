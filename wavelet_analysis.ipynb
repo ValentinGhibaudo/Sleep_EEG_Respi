{
 "cells": [
  {
   "cell_type": "code",
   "execution_count": 1,
   "id": "bd09a373-3758-40e3-96db-746b6b594868",
   "metadata": {},
   "outputs": [],
   "source": [
    "%load_ext autoreload\n",
    "%autoreload 2"
   ]
  },
  {
   "cell_type": "code",
   "execution_count": 2,
   "id": "613fab06-5808-452d-8a59-2108bc502721",
   "metadata": {},
   "outputs": [],
   "source": [
    "import numpy as np\n",
    "import pandas as pd\n",
    "from scipy import signal\n",
    "import matplotlib.pyplot as plt\n",
    "import xarray as xr\n",
    "from bibliotheque import *\n",
    "\n",
    "%matplotlib inline"
   ]
  },
  {
   "cell_type": "markdown",
   "id": "36ed47c0-a6e6-449c-a23f-cbda9f517255",
   "metadata": {},
   "source": [
    "LOAD"
   ]
  },
  {
   "cell_type": "code",
   "execution_count": 3,
   "id": "961455f2-c3a3-4d44-8e00-a6c19fe0f927",
   "metadata": {},
   "outputs": [],
   "source": [
    "root = '/crnldata/'"
   ]
  },
  {
   "cell_type": "code",
   "execution_count": 4,
   "id": "b2152021-a034-4836-935a-e805e27160e9",
   "metadata": {},
   "outputs": [],
   "source": [
    "data_file = root + 'cmo/Etudiants/Valentin_G/Sleep_EEG_Respi/dataarray/da_staged.nc'"
   ]
  },
  {
   "cell_type": "code",
   "execution_count": 5,
   "id": "dbbb1483-17e2-4e32-8e48-ac3d8a108aca",
   "metadata": {},
   "outputs": [],
   "source": [
    "da = xr.load_dataarray(data_file)"
   ]
  },
  {
   "cell_type": "code",
   "execution_count": 6,
   "id": "24f3b173-42cd-44f7-a059-4e0259792288",
   "metadata": {},
   "outputs": [],
   "source": [
    "da = da.sel(stage = 'N2').dropna(dim='time')"
   ]
  },
  {
   "cell_type": "markdown",
   "id": "b1bfb853-30d6-48c3-b53b-23e3f1b53501",
   "metadata": {},
   "source": [
    "PARAMS"
   ]
  },
  {
   "cell_type": "code",
   "execution_count": 7,
   "id": "688f193c-d796-412e-8b55-e596a1a1d97d",
   "metadata": {},
   "outputs": [],
   "source": [
    "chans = list(da.coords['chan'].values)\n",
    "eeg_chans = ['Fp2-C4','C4-T4','T4-O2','Fz-Cz','Cz-Pz','Fp1-C3','C3-T3','T3-O1']\n",
    "respi_chan = 'DEBIT'\n",
    "ecg_chan = 'ECG'\n",
    "eog_chans = ['EOGDt-A2','EOGG-A1']\n",
    "sel_chans = ['Fp2-C4','C4-T4','T4-O2','Fz-Cz','Cz-Pz','Fp1-C3','C3-T3','T3-O1','DEBIT','ECG']\n",
    "stages = ['W','R','N1','N2','N3']\n",
    "srate = 256"
   ]
  },
  {
   "cell_type": "markdown",
   "id": "8a5ebbc1-9020-43a5-8435-127a337d63c4",
   "metadata": {},
   "source": [
    "TOOLS"
   ]
  },
  {
   "cell_type": "code",
   "execution_count": 8,
   "id": "254b1804-858d-44ef-a85d-c078b14cf7cb",
   "metadata": {},
   "outputs": [],
   "source": [
    "def complex_mw(a , time, n , freq, m = 0):\n",
    "    s = n / (2 * np.pi * freq)\n",
    "    GaussWin = a * np.exp( -(time - m)** 2 / (2 * s**2))\n",
    "    complex_sinewave = np.exp(1j * 2 *np.pi * freq * time)\n",
    "    cmw = GaussWin * complex_sinewave\n",
    "    return cmw\n",
    "\n",
    "def extract_features_from_cmw_family(sig, time_sig, cmw_family_params, return_cmw_family=False):\n",
    "    \n",
    "    shape = (2, cmw_family_params['range'].size, cmw_family_params['time'].size)\n",
    "    cmw_family = np.zeros(shape)\n",
    "\n",
    "    dims = ['axis','freq','time']\n",
    "    coords = {'axis':['real','imag'],'freq':cmw_family_params['range'], 'time':cmw_family_params['time']}\n",
    "    da_cmw_family = xr.DataArray(data = cmw_family, dims = dims, coords = coords, name = 'cmw_family')\n",
    "\n",
    "    shape = (cmw_family_params['range'].size , time_sig.size)\n",
    "    \n",
    "    reals = np.zeros(shape)\n",
    "    imags = np.zeros(shape)\n",
    "    modules = np.zeros(shape)\n",
    "    angles = np.zeros(shape)\n",
    "\n",
    "    features = ['filtered','i_filtered','phase','power']\n",
    "    data = np.zeros(shape = (len(features),reals.shape[0] , reals.shape[1]))\n",
    "    dims = ['feature','freqs','time']\n",
    "    coords = {'feature':features, 'freqs':cmw_family_params['range'], 'time':time_sig}\n",
    "    da_features = xr.DataArray(data = data, dims = dims, coords = coords, name = 'features')\n",
    "\n",
    "    cmw_family_freq_range = cmw_family_params['range']\n",
    "    cmw_family_n_range = cmw_family_params['n_cycles']\n",
    "    idx = np.arange(0,cmw_family_freq_range.size,1)\n",
    "    \n",
    "    for i, fi, ni in zip(idx, cmw_family_freq_range, cmw_family_n_range):\n",
    "     \n",
    "        a = cmw_family_params['amp']\n",
    "        time = cmw_family_params['time']\n",
    "        m = cmw_family_params['m']\n",
    "        \n",
    "        cmw_f = complex_mw(a=a, time=time,n=ni, freq=fi, m = m)\n",
    "\n",
    "        da_cmw_family.loc['real',fi,:] = np.real(cmw_f)\n",
    "        da_cmw_family.loc['imag',fi,:] = np.imag(cmw_f)\n",
    "\n",
    "        complex_conv = signal.convolve(sig, cmw_f, mode = 'same')\n",
    "\n",
    "        real = np.real(complex_conv)\n",
    "        imag = np.imag(complex_conv)\n",
    "        angle = np.angle(complex_conv)\n",
    "        module = np.zeros((time_sig.size))\n",
    "        for i_bin in range(time_sig.size):\n",
    "            module_i_bin = np.sqrt((real[i_bin])**2 + (imag[i_bin])**2)\n",
    "            module[i_bin] = module_i_bin\n",
    "\n",
    "        reals[i,:] = real\n",
    "        imags[i,:] = imag\n",
    "        modules[i,:] = module\n",
    "        angles[i,:] = angle\n",
    "\n",
    "        da_features.loc['filtered',:,:] = reals\n",
    "        da_features.loc['i_filtered',:,:] = imags\n",
    "        da_features.loc['phase',:,:] = angle\n",
    "        da_features.loc['power',:,:] = modules\n",
    "    if return_cmw_family:\n",
    "        return da_features, da_cmw_family\n",
    "    else:\n",
    "        return da_features.loc['power',:,:]"
   ]
  },
  {
   "cell_type": "markdown",
   "id": "f1e1fd46-ddf8-4124-8daa-f750322f37a2",
   "metadata": {},
   "source": [
    "PARAMS"
   ]
  },
  {
   "cell_type": "code",
   "execution_count": 9,
   "id": "f42fceb3-5206-4d78-87dd-24e8cc215c5e",
   "metadata": {},
   "outputs": [],
   "source": [
    "step = 40\n",
    "start_freq = 10\n",
    "stop_freq = 20"
   ]
  },
  {
   "cell_type": "code",
   "execution_count": 29,
   "id": "09af1994-4bb9-45b9-b925-644486de2a7d",
   "metadata": {},
   "outputs": [],
   "source": [
    "srate = 256\n",
    "range_freqs = 10\n",
    "\n",
    "amp = 1\n",
    "time_cmw = np.arange(-2,2,1/srate)\n",
    "range_freqs = np.linspace(start_freq,stop_freq,step)\n",
    "n_cycles = np.linspace(5,10,step)\n",
    "m = 0\n",
    "\n",
    "cmw_family_params = {'amp':amp, 'time':time_cmw, 'n_cycles':n_cycles, 'm':m, 'range':range_freqs}\n",
    "\n",
    "save = False"
   ]
  },
  {
   "cell_type": "markdown",
   "id": "d447562c-2047-4d7b-9ea7-d4fde16907d9",
   "metadata": {},
   "source": [
    "GO"
   ]
  },
  {
   "cell_type": "code",
   "execution_count": 12,
   "id": "2533d45a-6221-497c-8ba1-a5b77cfcf92a",
   "metadata": {},
   "outputs": [
    {
     "name": "stdout",
     "output_type": "stream",
     "text": [
      "Fp2-C4\n",
      "C4-T4\n",
      "T4-O2\n",
      "Fz-Cz\n",
      "Cz-Pz\n",
      "Fp1-C3\n",
      "C3-T3\n",
      "T3-O1\n"
     ]
    }
   ],
   "source": [
    "concat = []\n",
    "for chan in eeg_chans:\n",
    "    print(chan)\n",
    "    sig = da.loc[chan, :].dropna(dim='time').values\n",
    "    time_sig = time_vector(sig=sig, srate=srate)\n",
    "    da_features = extract_features_from_cmw_family(sig, time_sig, cmw_family_params)\n",
    "    concat.append(da_features)\n",
    "da_all_features = xr.concat(concat, dim = 'chan')\n",
    "da_all_features = da_all_features.assign_coords({'chan':eeg_chans})"
   ]
  },
  {
   "cell_type": "code",
   "execution_count": 13,
   "id": "93f2ed03-7fd7-48f3-a6d6-c13d4a750e1f",
   "metadata": {},
   "outputs": [],
   "source": [
    "if save:\n",
    "    da_all_features.to_netcdf(root + 'cmo/Etudiants/Valentin_G/Sleep_EEG_Respi/dataarray/da_features_all.nc')"
   ]
  },
  {
   "cell_type": "code",
   "execution_count": 15,
   "id": "e216b31c-1014-4569-b2fa-d015ed179c02",
   "metadata": {},
   "outputs": [],
   "source": [
    "da_test = da_all_features.loc['Fp2-C4',:,:]"
   ]
  },
  {
   "cell_type": "code",
   "execution_count": 28,
   "id": "ff7a6cf3-8278-4718-b025-70d9c4438dee",
   "metadata": {},
   "outputs": [
    {
     "data": {
      "text/plain": [
       "<matplotlib.collections.QuadMesh at 0x7f71b0c21820>"
      ]
     },
     "execution_count": 28,
     "metadata": {},
     "output_type": "execute_result"
    },
    {
     "data": {
      "image/png": "[encoded data removed]",
      "text/plain": [
       "<Figure size 432x288 with 2 Axes>"
      ]
     },
     "metadata": {
      "needs_background": "light"
     },
     "output_type": "display_data"
    }
   ],
   "source": [
    "da_test.loc[:,50:60].plot()"
   ]
  },
  {
   "cell_type": "code",
   "execution_count": 22,
   "id": "5f6ae825-f526-4473-90b4-4610a59dd251",
   "metadata": {},
   "outputs": [
    {
     "data": {
      "text/plain": [
       "[<matplotlib.lines.Line2D at 0x7f71b103c670>]"
      ]
     },
     "execution_count": 22,
     "metadata": {},
     "output_type": "execute_result"
    },
    {
     "data": {
      "image/png": "[encoded data removed]",
      "text/plain": [
       "<Figure size 432x288 with 1 Axes>"
      ]
     },
     "metadata": {
      "needs_background": "light"
     },
     "output_type": "display_data"
    }
   ],
   "source": [
    "da_test.mean('time').plot()"
   ]
  },
  {
   "cell_type": "code",
   "execution_count": null,
   "id": "64bad616-9fe8-41ba-9c3b-3212add7a090",
   "metadata": {},
   "outputs": [],
   "source": []
  }
 ],
 "metadata": {
  "kernelspec": {
   "display_name": "Python 3 (ipykernel)",
   "language": "python",
   "name": "python3"
  },
  "language_info": {
   "codemirror_mode": {
    "name": "ipython",
    "version": 3
   },
   "file_extension": ".py",
   "mimetype": "text/x-python",
   "name": "python",
   "nbconvert_exporter": "python",
   "pygments_lexer": "ipython3",
   "version": "3.8.12"
  }
 },
 "nbformat": 4,
 "nbformat_minor": 5
}
