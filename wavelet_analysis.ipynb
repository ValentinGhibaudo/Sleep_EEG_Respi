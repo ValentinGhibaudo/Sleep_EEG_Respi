{
 "cells": [
  {
   "cell_type": "code",
   "execution_count": 1,
   "id": "bd09a373-3758-40e3-96db-746b6b594868",
   "metadata": {
    "tags": []
   },
   "outputs": [],
   "source": [
    "%load_ext autoreload\n",
    "%autoreload 2"
   ]
  },
  {
   "cell_type": "code",
   "execution_count": 2,
   "id": "613fab06-5808-452d-8a59-2108bc502721",
   "metadata": {
    "tags": []
   },
   "outputs": [],
   "source": [
    "import numpy as np\n",
    "import pandas as pd\n",
    "from scipy import signal\n",
    "import matplotlib.pyplot as plt\n",
    "import xarray as xr\n",
    "import ghibtools as gh\n",
    "from params import *\n",
    "\n",
    "%matplotlib inline"
   ]
  },
  {
   "cell_type": "markdown",
   "id": "b1bfb853-30d6-48c3-b53b-23e3f1b53501",
   "metadata": {},
   "source": [
    "## PARAMS"
   ]
  },
  {
   "cell_type": "code",
   "execution_count": 3,
   "id": "401dbecc-d63f-48d8-8fee-8baea4d4c73b",
   "metadata": {},
   "outputs": [],
   "source": [
    "save = False"
   ]
  },
  {
   "cell_type": "code",
   "execution_count": 4,
   "id": "8b2a0383-dc6f-4a11-8fe1-1908a355e1c7",
   "metadata": {
    "tags": []
   },
   "outputs": [],
   "source": [
    "f_start = 10\n",
    "f_stop = 20\n",
    "n_steps = 40\n",
    "\n",
    "cycle_start = 7\n",
    "cycle_stop = 14"
   ]
  },
  {
   "cell_type": "markdown",
   "id": "d447562c-2047-4d7b-9ea7-d4fde16907d9",
   "metadata": {},
   "source": [
    "GO"
   ]
  },
  {
   "cell_type": "code",
   "execution_count": 5,
   "id": "745db4bf-fa17-42dc-85be-95d90bf40f0c",
   "metadata": {
    "tags": []
   },
   "outputs": [],
   "source": [
    "def data_to_tf(patient, srate=srate, f_start = f_start , f_stop=f_stop, n_steps=n_steps, save=save):\n",
    "    data_file = f'../dataarray/da_N2N3_{patient}.nc'\n",
    "    da = xr.load_dataarray(data_file)\n",
    "        \n",
    "    chans = ['Fp1-C3','Fp2-C4'] \n",
    "\n",
    "    sig = da.loc[chans, :].mean('chan').values # compute tf matrix on the mean fronto-central signal\n",
    "    print(sig.size / srate)\n",
    "    tf_matrix =  gh.tf(sig=sig, srate=srate, f_start=f_start , f_stop=f_stop, n_step=n_steps, cycle_start=cycle_start, cycle_stop=cycle_stop)   \n",
    "    \n",
    "    if save:\n",
    "        tf_matrix.to_netcdf(f'../dataarray/da_tf_frontal_{patient}.nc')\n",
    "        \n",
    "    # return tf_matrix"
   ]
  },
  {
   "cell_type": "code",
   "execution_count": 6,
   "id": "c432b60b-fd30-42c0-b7d1-e0dd8191779c",
   "metadata": {
    "tags": []
   },
   "outputs": [
    {
     "name": "stdout",
     "output_type": "stream",
     "text": [
      "P17\n",
      "19170.0\n"
     ]
    }
   ],
   "source": [
    "for patient in patients:\n",
    "    print(patient)\n",
    "    data_to_tf(patient)"
   ]
  }
 ],
 "metadata": {
  "kernelspec": {
   "display_name": "Python 3 (ipykernel)",
   "language": "python",
   "name": "python3"
  },
  "language_info": {
   "codemirror_mode": {
    "name": "ipython",
    "version": 3
   },
   "file_extension": ".py",
   "mimetype": "text/x-python",
   "name": "python",
   "nbconvert_exporter": "python",
   "pygments_lexer": "ipython3",
   "version": "3.10.6"
  },
  "vscode": {
   "interpreter": {
    "hash": "3f8cbbc74cb36f3c349d37f7f054c850f545b983d7e696789398bf82f47d5438"
   }
  }
 },
 "nbformat": 4,
 "nbformat_minor": 5
}
