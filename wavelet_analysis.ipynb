{
 "cells": [
  {
   "cell_type": "code",
   "execution_count": 1,
   "id": "bd09a373-3758-40e3-96db-746b6b594868",
   "metadata": {
    "execution": {
     "iopub.execute_input": "2022-05-25T10:17:35.067968Z",
     "iopub.status.busy": "2022-05-25T10:17:35.067844Z",
     "iopub.status.idle": "2022-05-25T10:17:35.077955Z",
     "shell.execute_reply": "2022-05-25T10:17:35.077550Z",
     "shell.execute_reply.started": "2022-05-25T10:17:35.067955Z"
    },
    "tags": []
   },
   "outputs": [],
   "source": [
    "%load_ext autoreload\n",
    "%autoreload 2"
   ]
  },
  {
   "cell_type": "code",
   "execution_count": 12,
   "id": "613fab06-5808-452d-8a59-2108bc502721",
   "metadata": {
    "execution": {
     "iopub.execute_input": "2022-05-25T10:19:34.000237Z",
     "iopub.status.busy": "2022-05-25T10:19:33.999705Z",
     "iopub.status.idle": "2022-05-25T10:19:34.043339Z",
     "shell.execute_reply": "2022-05-25T10:19:34.042751Z",
     "shell.execute_reply.started": "2022-05-25T10:19:34.000175Z"
    },
    "tags": []
   },
   "outputs": [],
   "source": [
    "import numpy as np\n",
    "import pandas as pd\n",
    "from scipy import signal\n",
    "import matplotlib.pyplot as plt\n",
    "import xarray as xr\n",
    "import ghibtools as gh\n",
    "import tqdm\n",
    "from params import *\n",
    "\n",
    "%matplotlib inline"
   ]
  },
  {
   "cell_type": "markdown",
   "id": "b1bfb853-30d6-48c3-b53b-23e3f1b53501",
   "metadata": {},
   "source": [
    "## PARAMS"
   ]
  },
  {
   "cell_type": "code",
   "execution_count": 13,
   "id": "688f193c-d796-412e-8b55-e596a1a1d97d",
   "metadata": {
    "execution": {
     "iopub.execute_input": "2022-05-25T10:19:34.298353Z",
     "iopub.status.busy": "2022-05-25T10:19:34.297747Z",
     "iopub.status.idle": "2022-05-25T10:19:34.334874Z",
     "shell.execute_reply": "2022-05-25T10:19:34.334155Z",
     "shell.execute_reply.started": "2022-05-25T10:19:34.298285Z"
    },
    "tags": []
   },
   "outputs": [],
   "source": [
    "eeg_chans = ['Fp2-C4','C4-T4','T4-O2','Fz-Cz','Cz-Pz','Fp1-C3','C3-T3','T3-O1']\n",
    "srate = 256"
   ]
  },
  {
   "cell_type": "code",
   "execution_count": 14,
   "id": "09af1994-4bb9-45b9-b925-644486de2a7d",
   "metadata": {
    "execution": {
     "iopub.execute_input": "2022-05-25T10:19:34.467564Z",
     "iopub.status.busy": "2022-05-25T10:19:34.467024Z",
     "iopub.status.idle": "2022-05-25T10:19:34.504954Z",
     "shell.execute_reply": "2022-05-25T10:19:34.504388Z",
     "shell.execute_reply.started": "2022-05-25T10:19:34.467502Z"
    },
    "tags": []
   },
   "outputs": [],
   "source": [
    "run_all = True"
   ]
  },
  {
   "cell_type": "code",
   "execution_count": 15,
   "id": "6949dd2e-0666-4ae1-aa40-be8b3c61d56f",
   "metadata": {
    "execution": {
     "iopub.execute_input": "2022-05-25T10:19:35.027906Z",
     "iopub.status.busy": "2022-05-25T10:19:35.027372Z",
     "iopub.status.idle": "2022-05-25T10:19:35.071042Z",
     "shell.execute_reply": "2022-05-25T10:19:35.070496Z",
     "shell.execute_reply.started": "2022-05-25T10:19:35.027844Z"
    },
    "tags": []
   },
   "outputs": [],
   "source": [
    "tf_mode = 'moi'\n",
    "# tf_mode = 'cmo\""
   ]
  },
  {
   "cell_type": "code",
   "execution_count": 16,
   "id": "8b2a0383-dc6f-4a11-8fe1-1908a355e1c7",
   "metadata": {
    "execution": {
     "iopub.execute_input": "2022-05-25T10:19:35.394252Z",
     "iopub.status.busy": "2022-05-25T10:19:35.394094Z",
     "iopub.status.idle": "2022-05-25T10:19:35.413859Z",
     "shell.execute_reply": "2022-05-25T10:19:35.413465Z",
     "shell.execute_reply.started": "2022-05-25T10:19:35.394235Z"
    },
    "tags": []
   },
   "outputs": [],
   "source": [
    "f_start = 10\n",
    "f_stop = 20\n",
    "n_steps = 40\n",
    "\n",
    "cycle_start = f_start\n",
    "cycle_stop = f_stop"
   ]
  },
  {
   "cell_type": "markdown",
   "id": "8a5ebbc1-9020-43a5-8435-127a337d63c4",
   "metadata": {},
   "source": [
    "TOOLS"
   ]
  },
  {
   "cell_type": "markdown",
   "id": "d447562c-2047-4d7b-9ea7-d4fde16907d9",
   "metadata": {},
   "source": [
    "GO"
   ]
  },
  {
   "cell_type": "code",
   "execution_count": 20,
   "id": "745db4bf-fa17-42dc-85be-95d90bf40f0c",
   "metadata": {
    "execution": {
     "iopub.execute_input": "2022-05-25T10:20:10.919709Z",
     "iopub.status.busy": "2022-05-25T10:20:10.919542Z",
     "iopub.status.idle": "2022-05-25T10:20:10.943093Z",
     "shell.execute_reply": "2022-05-25T10:20:10.942519Z",
     "shell.execute_reply.started": "2022-05-25T10:20:10.919681Z"
    },
    "tags": []
   },
   "outputs": [],
   "source": [
    "def data_to_tf(patient, srate=srate, f_start = f_start , f_stop=f_stop, n_steps=n_steps, save=True):\n",
    "    data_file = f'../dataarray/da_staged_{patient}.nc'\n",
    "    da = xr.load_dataarray(data_file)\n",
    "    da = da.sel(stage = stage_to_study).dropna(dim='time')\n",
    "    chans = list(da.coords['chan'].values)\n",
    "    \n",
    "    concat = []\n",
    "        \n",
    "    for chan in eeg_chans:\n",
    "        sig = da.loc[chan, :].dropna(dim='time').values\n",
    "        tf_matrix =  gh.tf(sig=sig, srate=srate, f_start=f_start , f_stop=f_stop, n_steps=n_steps, cycle_start=cycle_start, cycle_stop=cycle_stop)    \n",
    "        concat.append(tf_matrix)\n",
    "        \n",
    "    da_tf = xr.concat(concat, dim = 'chan')\n",
    "    da_tf = da_tf.assign_coords({'chan':eeg_chans})\n",
    "    \n",
    "    if save:\n",
    "        da_tf.to_netcdf(f'../dataarray/da_tf_{patient}.nc')\n",
    "    return da_tf"
   ]
  },
  {
   "cell_type": "code",
   "execution_count": 21,
   "id": "fb46284d-915f-4a10-af4b-8cc0f6ecf525",
   "metadata": {
    "execution": {
     "iopub.execute_input": "2022-05-25T10:20:11.065524Z",
     "iopub.status.busy": "2022-05-25T10:20:11.064999Z",
     "iopub.status.idle": "2022-05-25T10:20:11.104289Z",
     "shell.execute_reply": "2022-05-25T10:20:11.103724Z",
     "shell.execute_reply.started": "2022-05-25T10:20:11.065463Z"
    },
    "tags": []
   },
   "outputs": [],
   "source": [
    "def tf_to_stretch_cycled(da_tf, patient, save=True):\n",
    "    resp_features = pd.read_excel(f'../df_analyse/resp_features_{patient}.xlsx')\n",
    "\n",
    "    concat = []\n",
    "    for chan in eeg_chans:\n",
    "        da_stretch_cycle = gh.tf_cycle_stretch(da=da_tf, chan=chan, rsp_features=resp_features, nb_point_by_cycle=1000, inspi_ratio = 0.4, save_path = f'../df_analyse/resp_features_new_{patient}.xlsx')\n",
    "        concat.append(da_stretch_cycle)\n",
    "        \n",
    "    da_tf_stretched = xr.concat(concat, dim = 'chan')\n",
    "    da_tf_stretched = da_tf_stretched.assign_coords({'chan':eeg_chans})\n",
    "    if save:\n",
    "        da_tf_stretched.to_netcdf(f'../dataarray/da_tf_stretched_{patient}.nc')\n",
    "    return da_tf_stretched"
   ]
  },
  {
   "cell_type": "code",
   "execution_count": 22,
   "id": "c432b60b-fd30-42c0-b7d1-e0dd8191779c",
   "metadata": {
    "execution": {
     "iopub.execute_input": "2022-05-25T10:20:11.211948Z",
     "iopub.status.busy": "2022-05-25T10:20:11.211335Z",
     "iopub.status.idle": "2022-05-25T10:45:09.907100Z",
     "shell.execute_reply": "2022-05-25T10:45:09.904901Z",
     "shell.execute_reply.started": "2022-05-25T10:20:11.211878Z"
    },
    "tags": []
   },
   "outputs": [
    {
     "name": "stdout",
     "output_type": "stream",
     "text": [
      "P1\n",
      "n cycle removed = 2\n",
      "n cycle removed = 2\n",
      "n cycle removed = 2\n",
      "n cycle removed = 2\n",
      "n cycle removed = 2\n",
      "n cycle removed = 2\n",
      "n cycle removed = 2\n",
      "n cycle removed = 2\n",
      "P2\n",
      "n cycle removed = 2\n",
      "n cycle removed = 2\n",
      "n cycle removed = 2\n",
      "n cycle removed = 2\n",
      "n cycle removed = 2\n",
      "n cycle removed = 2\n",
      "n cycle removed = 2\n",
      "n cycle removed = 2\n",
      "P3\n",
      "n cycle removed = 1\n",
      "n cycle removed = 1\n",
      "n cycle removed = 1\n",
      "n cycle removed = 1\n",
      "n cycle removed = 1\n",
      "n cycle removed = 1\n",
      "n cycle removed = 1\n",
      "n cycle removed = 1\n",
      "P4\n",
      "n cycle removed = 1\n",
      "n cycle removed = 1\n",
      "n cycle removed = 1\n",
      "n cycle removed = 1\n",
      "n cycle removed = 1\n",
      "n cycle removed = 1\n",
      "n cycle removed = 1\n",
      "n cycle removed = 1\n",
      "P5\n",
      "n cycle removed = 2\n",
      "n cycle removed = 2\n",
      "n cycle removed = 2\n",
      "n cycle removed = 2\n",
      "n cycle removed = 2\n",
      "n cycle removed = 2\n",
      "n cycle removed = 2\n",
      "n cycle removed = 2\n",
      "P6\n",
      "n cycle removed = 2\n",
      "n cycle removed = 2\n",
      "n cycle removed = 2\n",
      "n cycle removed = 2\n",
      "n cycle removed = 2\n",
      "n cycle removed = 2\n",
      "n cycle removed = 2\n",
      "n cycle removed = 2\n",
      "P7\n",
      "n cycle removed = 2\n",
      "n cycle removed = 2\n",
      "n cycle removed = 2\n",
      "n cycle removed = 2\n",
      "n cycle removed = 2\n",
      "n cycle removed = 2\n",
      "n cycle removed = 2\n",
      "n cycle removed = 2\n",
      "P8\n",
      "n cycle removed = 2\n",
      "n cycle removed = 2\n",
      "n cycle removed = 2\n",
      "n cycle removed = 2\n",
      "n cycle removed = 2\n",
      "n cycle removed = 2\n",
      "n cycle removed = 2\n",
      "n cycle removed = 2\n",
      "P9\n",
      "n cycle removed = 2\n",
      "n cycle removed = 2\n",
      "n cycle removed = 2\n",
      "n cycle removed = 2\n",
      "n cycle removed = 2\n",
      "n cycle removed = 2\n",
      "n cycle removed = 2\n",
      "n cycle removed = 2\n",
      "P10\n",
      "n cycle removed = 2\n",
      "n cycle removed = 2\n",
      "n cycle removed = 2\n",
      "n cycle removed = 2\n",
      "n cycle removed = 2\n",
      "n cycle removed = 2\n",
      "n cycle removed = 2\n",
      "n cycle removed = 2\n"
     ]
    }
   ],
   "source": [
    "if run_all:\n",
    "    for patient in patients:\n",
    "        print(patient)\n",
    "        da_tf = data_to_tf(patient)\n",
    "        da_tf_stretched = tf_to_stretch_cycled(da_tf , patient)\n",
    "        del da_tf\n",
    "        del da_tf_stretched"
   ]
  },
  {
   "cell_type": "code",
   "execution_count": null,
   "id": "0c14ccd8-e9d3-4d45-955c-26bb968aa7a2",
   "metadata": {},
   "outputs": [],
   "source": []
  },
  {
   "cell_type": "code",
   "execution_count": null,
   "id": "30f1b3b8-96a2-4d2c-bee6-1df3041e26e1",
   "metadata": {},
   "outputs": [],
   "source": []
  }
 ],
 "metadata": {
  "kernelspec": {
   "display_name": "Python 3 (ipykernel)",
   "language": "python",
   "name": "python3"
  },
  "language_info": {
   "codemirror_mode": {
    "name": "ipython",
    "version": 3
   },
   "file_extension": ".py",
   "mimetype": "text/x-python",
   "name": "python",
   "nbconvert_exporter": "python",
   "pygments_lexer": "ipython3",
   "version": "3.8.12"
  }
 },
 "nbformat": 4,
 "nbformat_minor": 5
}
