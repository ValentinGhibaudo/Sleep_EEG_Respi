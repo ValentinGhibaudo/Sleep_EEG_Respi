{
 "cells": [
  {
   "cell_type": "code",
   "execution_count": 253,
   "id": "1ff12acc-13ad-4592-8597-0b8a034fc216",
   "metadata": {
    "execution": {
     "iopub.execute_input": "2022-06-08T15:18:07.138435Z",
     "iopub.status.busy": "2022-06-08T15:18:07.138266Z",
     "iopub.status.idle": "2022-06-08T15:18:07.148775Z",
     "shell.execute_reply": "2022-06-08T15:18:07.148406Z",
     "shell.execute_reply.started": "2022-06-08T15:18:07.138418Z"
    },
    "tags": []
   },
   "outputs": [
    {
     "name": "stdout",
     "output_type": "stream",
     "text": [
      "The autoreload extension is already loaded. To reload it, use:\n",
      "  %reload_ext autoreload\n"
     ]
    }
   ],
   "source": [
    "%load_ext autoreload\n",
    "%autoreload 2"
   ]
  },
  {
   "cell_type": "code",
   "execution_count": 254,
   "id": "e0d64622-9275-4792-8b6b-f378184a5140",
   "metadata": {
    "execution": {
     "iopub.execute_input": "2022-06-08T15:18:07.149474Z",
     "iopub.status.busy": "2022-06-08T15:18:07.149324Z",
     "iopub.status.idle": "2022-06-08T15:18:08.804591Z",
     "shell.execute_reply": "2022-06-08T15:18:08.804171Z",
     "shell.execute_reply.started": "2022-06-08T15:18:07.149458Z"
    },
    "tags": []
   },
   "outputs": [],
   "source": [
    "import numpy as np\n",
    "import pandas as pd\n",
    "import matplotlib.pyplot as plt\n",
    "from params import *\n",
    "import tqdm\n",
    "import ghibtools as gh\n",
    "import seaborn as sns\n",
    "import pingouin as pg\n",
    "%matplotlib inline"
   ]
  },
  {
   "cell_type": "markdown",
   "id": "9dde465b-1a96-47b6-9a74-e85a37a1b13c",
   "metadata": {},
   "source": [
    "## TOOLS"
   ]
  },
  {
   "cell_type": "code",
   "execution_count": 255,
   "id": "ad4a6a4e",
   "metadata": {},
   "outputs": [],
   "source": [
    "def encoded_to_usable_df(save=False):\n",
    "    for patient in patients:\n",
    "        encoded = pd.read_excel(f'../df_analyse/resp_features_encoded_{patient}.xlsx', index_col = 0)\n",
    "        spindled = encoded[encoded['spindling code'] == 1].reset_index(drop= True)\n",
    "        end_cycles = []\n",
    "        for cycle in range(spindled.shape[0]):\n",
    "            end_resp = spindled.loc[cycle, 'inspi_time'] + spindled.loc[cycle, 'cycle_duration']\n",
    "            end_cycles.append(end_resp)\n",
    "        spindled['end_time'] = end_cycles\n",
    "        spindled = spindled.drop(columns = ['inspi_index','expi_index','cycle_duration','insp_duration','exp_duration','cycle_freq','insp_volume','exp_volume','total_amplitude','insp_amplitude','exp_amplitude','spindling code'])\n",
    "        if save:\n",
    "            spindled.to_excel(f'../df_analyse/spindled_cycles_timings_{patient}.xlsx')"
   ]
  },
  {
   "cell_type": "code",
   "execution_count": 256,
   "id": "0d269a92-a4a4-4fc5-88ed-28217a37d92a",
   "metadata": {
    "execution": {
     "iopub.execute_input": "2022-06-08T15:18:10.105893Z",
     "iopub.status.busy": "2022-06-08T15:18:10.105741Z",
     "iopub.status.idle": "2022-06-08T15:18:10.128066Z",
     "shell.execute_reply": "2022-06-08T15:18:10.127693Z",
     "shell.execute_reply.started": "2022-06-08T15:18:10.105873Z"
    }
   },
   "outputs": [],
   "source": [
    "def count_spindles_phase_resp_fast(nbins, patient, stage='N2', return_normal=True):\n",
    "\n",
    "    spindle_file = f'../df_analyse/spindles_{patient}.xlsx'\n",
    "    spindles = pd.read_excel(spindle_file).drop(columns = 'Unnamed: 0')\n",
    "    spindles = spindles[spindles['stage'] == stage]\n",
    "    spindles_times = spindles['Peak']\n",
    "\n",
    "    df_cycles = pd.read_excel(f'../df_analyse/spindled_cycles_timings_{patient}.xlsx')\n",
    "    \n",
    "    count = []\n",
    "\n",
    "    for cycle in df_cycles.index: # loop only on cycles with spindles found inside\n",
    "        \n",
    "        start = df_cycles.loc[cycle,'inspi_time'] # get start time of the cycle\n",
    "        stop = df_cycles.loc[cycle,'end_time'] # get stop time of the cycle\n",
    "\n",
    "        phases_timings = np.linspace(start, stop, nbins + 1) # slice the cycle time in n equal phase time points\n",
    "        \n",
    "        spindles_of_the_cycle = spindles_times[(spindles_times >= start) & (spindles_times <= stop)].values # keep the spindles of the cycle\n",
    "        \n",
    "        for spindle_time in spindles_of_the_cycle: # loop on spindles of the cycle\n",
    "            for phase_bin, phase_start in enumerate(phases_timings): # loop on phases start times and attribute bin value to the phase\n",
    "                if phase_start == phases_timings[-1]: # trick to stop looping if phase start == last phase timing\n",
    "                    break \n",
    "                else:\n",
    "                    phase_stop = phases_timings[phase_bin + 1] # stop time of this phase bin = next phase timing after the start phase timing of the list\n",
    "                    if spindle_time >= phase_start and spindle_time < phase_stop: # if there is a spindle found between start and stop timings of the phase\n",
    "                        count.append(phase_bin) # a counter is added with the bin value\n",
    "\n",
    "    if not return_normal: # return raw counts of spindles by bins\n",
    "        phase_count = pd.Series(count).value_counts(normalize = False).reindex(np.arange(0,nbins))\n",
    "        phase_count = phase_count.to_frame().T\n",
    "    else: # return normalized counts of spindles by bins (each bin value = bin value / sum of all bin values) = default mode\n",
    "        phase_count = pd.Series(count).value_counts(normalize = True).reindex(np.arange(0,nbins))\n",
    "        phase_count = phase_count.to_frame().T\n",
    "        mi = gh.Modulation_Index(phase_count.values)\n",
    "        phase_count.insert(0 , 'mi', mi)\n",
    "\n",
    "    phase_count.insert(0 , 'patient', patient)\n",
    "\n",
    "    return phase_count"
   ]
  },
  {
   "cell_type": "code",
   "execution_count": 257,
   "id": "44c2a6b7-881a-49ec-b40f-ddcb67539ebb",
   "metadata": {
    "execution": {
     "iopub.execute_input": "2022-06-08T15:18:10.381793Z",
     "iopub.status.busy": "2022-06-08T15:18:10.381686Z",
     "iopub.status.idle": "2022-06-08T15:18:10.400139Z",
     "shell.execute_reply": "2022-06-08T15:18:10.399715Z",
     "shell.execute_reply.started": "2022-06-08T15:18:10.381779Z"
    }
   },
   "outputs": [],
   "source": [
    "def get_patient_phase_histogram(patient, nbins, stage='N2'):\n",
    "    count = count_spindles_phase_resp_fast(nbins=nbins, patient=patient, stage=stage)\n",
    "    count.insert(1 , 'stage' , stage)\n",
    "    return count"
   ]
  },
  {
   "cell_type": "code",
   "execution_count": 258,
   "id": "d8792455-fecd-4a1e-9da2-372fb8345721",
   "metadata": {
    "execution": {
     "iopub.execute_input": "2022-06-08T15:18:11.864787Z",
     "iopub.status.busy": "2022-06-08T15:18:11.864684Z",
     "iopub.status.idle": "2022-06-08T15:18:42.938164Z",
     "shell.execute_reply": "2022-06-08T15:18:42.937826Z",
     "shell.execute_reply.started": "2022-06-08T15:18:11.864773Z"
    }
   },
   "outputs": [],
   "source": [
    "def get_all_patients_phase_histogram(nbins, patients, show=False):\n",
    "    concat = []\n",
    "    for patient in patients:\n",
    "        # print(patient)\n",
    "        concat.append(get_patient_phase_histogram(patient=patient, nbins=nbins))\n",
    "    df = pd.concat(concat)\n",
    "\n",
    "    if show: \n",
    "        for patient in patients:\n",
    "            print(patient)\n",
    "            gh.Modulation_Index(df.set_index('patient').drop(columns = ['stage','mi']).loc[patient,:].values, show = True)\n",
    "            plt.show()\n",
    "            \n",
    "    return df"
   ]
  },
  {
   "cell_type": "code",
   "execution_count": 259,
   "id": "7b420cb5",
   "metadata": {},
   "outputs": [],
   "source": [
    "def to_tidy(df):\n",
    "    patients = df['patient'].values\n",
    "    df = df.set_index('patient')\n",
    "    rows = []\n",
    "    for patient in patients:\n",
    "        stage = df.loc[patient,'stage']\n",
    "        mi = df.loc[patient,'mi']\n",
    "        phases = [col for col in df.columns if not col in ['stage','mi']]\n",
    "        for phase in phases:\n",
    "            phase_value = df.loc[patient,phase]\n",
    "            rows.append([patient, stage, mi , phase, phase_value])\n",
    "    return pd.DataFrame(rows, columns = ['patient','stage','mi','phase','bin value'])\n",
    "            "
   ]
  },
  {
   "cell_type": "markdown",
   "id": "85db2807",
   "metadata": {},
   "source": [
    "## GO"
   ]
  },
  {
   "cell_type": "code",
   "execution_count": 260,
   "id": "a96ba4e6-bef0-4ec8-a078-76d7874992ef",
   "metadata": {
    "execution": {
     "iopub.execute_input": "2022-06-08T15:18:42.938889Z",
     "iopub.status.busy": "2022-06-08T15:18:42.938747Z",
     "iopub.status.idle": "2022-06-08T15:18:42.963087Z",
     "shell.execute_reply": "2022-06-08T15:18:42.962725Z",
     "shell.execute_reply.started": "2022-06-08T15:18:42.938875Z"
    }
   },
   "outputs": [],
   "source": [
    "df_2 = get_all_patients_phase_histogram(2, patients)"
   ]
  },
  {
   "cell_type": "code",
   "execution_count": 261,
   "id": "e070f61a",
   "metadata": {},
   "outputs": [
    {
     "data": {
      "text/html": [
       "<div>\n",
       "<style scoped>\n",
       "    .dataframe tbody tr th:only-of-type {\n",
       "        vertical-align: middle;\n",
       "    }\n",
       "\n",
       "    .dataframe tbody tr th {\n",
       "        vertical-align: top;\n",
       "    }\n",
       "\n",
       "    .dataframe thead th {\n",
       "        text-align: right;\n",
       "    }\n",
       "</style>\n",
       "<table border=\"1\" class=\"dataframe\">\n",
       "  <thead>\n",
       "    <tr style=\"text-align: right;\">\n",
       "      <th></th>\n",
       "      <th>patient</th>\n",
       "      <th>stage</th>\n",
       "      <th>mi</th>\n",
       "      <th>0</th>\n",
       "      <th>1</th>\n",
       "    </tr>\n",
       "  </thead>\n",
       "  <tbody>\n",
       "    <tr>\n",
       "      <th>0</th>\n",
       "      <td>P1</td>\n",
       "      <td>N2</td>\n",
       "      <td>0.003053</td>\n",
       "      <td>0.467485</td>\n",
       "      <td>0.532515</td>\n",
       "    </tr>\n",
       "    <tr>\n",
       "      <th>0</th>\n",
       "      <td>P2</td>\n",
       "      <td>N2</td>\n",
       "      <td>0.013197</td>\n",
       "      <td>0.432473</td>\n",
       "      <td>0.567527</td>\n",
       "    </tr>\n",
       "    <tr>\n",
       "      <th>0</th>\n",
       "      <td>P3</td>\n",
       "      <td>N2</td>\n",
       "      <td>0.012368</td>\n",
       "      <td>0.434624</td>\n",
       "      <td>0.565376</td>\n",
       "    </tr>\n",
       "    <tr>\n",
       "      <th>0</th>\n",
       "      <td>P4</td>\n",
       "      <td>N2</td>\n",
       "      <td>0.000961</td>\n",
       "      <td>0.481752</td>\n",
       "      <td>0.518248</td>\n",
       "    </tr>\n",
       "    <tr>\n",
       "      <th>0</th>\n",
       "      <td>P5</td>\n",
       "      <td>N2</td>\n",
       "      <td>0.006456</td>\n",
       "      <td>0.452734</td>\n",
       "      <td>0.547266</td>\n",
       "    </tr>\n",
       "    <tr>\n",
       "      <th>0</th>\n",
       "      <td>P6</td>\n",
       "      <td>N2</td>\n",
       "      <td>0.000273</td>\n",
       "      <td>0.490272</td>\n",
       "      <td>0.509728</td>\n",
       "    </tr>\n",
       "    <tr>\n",
       "      <th>0</th>\n",
       "      <td>P7</td>\n",
       "      <td>N2</td>\n",
       "      <td>0.001007</td>\n",
       "      <td>0.481322</td>\n",
       "      <td>0.518678</td>\n",
       "    </tr>\n",
       "    <tr>\n",
       "      <th>0</th>\n",
       "      <td>P8</td>\n",
       "      <td>N2</td>\n",
       "      <td>0.000041</td>\n",
       "      <td>0.496250</td>\n",
       "      <td>0.503750</td>\n",
       "    </tr>\n",
       "    <tr>\n",
       "      <th>0</th>\n",
       "      <td>P9</td>\n",
       "      <td>N2</td>\n",
       "      <td>0.000673</td>\n",
       "      <td>0.484725</td>\n",
       "      <td>0.515275</td>\n",
       "    </tr>\n",
       "    <tr>\n",
       "      <th>0</th>\n",
       "      <td>P10</td>\n",
       "      <td>N2</td>\n",
       "      <td>0.005302</td>\n",
       "      <td>0.457158</td>\n",
       "      <td>0.542842</td>\n",
       "    </tr>\n",
       "  </tbody>\n",
       "</table>\n",
       "</div>"
      ],
      "text/plain": [
       "  patient stage        mi         0         1\n",
       "0      P1    N2  0.003053  0.467485  0.532515\n",
       "0      P2    N2  0.013197  0.432473  0.567527\n",
       "0      P3    N2  0.012368  0.434624  0.565376\n",
       "0      P4    N2  0.000961  0.481752  0.518248\n",
       "0      P5    N2  0.006456  0.452734  0.547266\n",
       "0      P6    N2  0.000273  0.490272  0.509728\n",
       "0      P7    N2  0.001007  0.481322  0.518678\n",
       "0      P8    N2  0.000041  0.496250  0.503750\n",
       "0      P9    N2  0.000673  0.484725  0.515275\n",
       "0     P10    N2  0.005302  0.457158  0.542842"
      ]
     },
     "execution_count": 261,
     "metadata": {},
     "output_type": "execute_result"
    }
   ],
   "source": [
    "df_2"
   ]
  },
  {
   "cell_type": "code",
   "execution_count": 262,
   "id": "c34b4df8-3351-4e1a-84fe-529aa81807e3",
   "metadata": {
    "execution": {
     "iopub.execute_input": "2022-06-08T15:18:42.963747Z",
     "iopub.status.busy": "2022-06-08T15:18:42.963604Z",
     "iopub.status.idle": "2022-06-08T15:19:13.693125Z",
     "shell.execute_reply": "2022-06-08T15:19:13.692645Z",
     "shell.execute_reply.started": "2022-06-08T15:18:42.963733Z"
    },
    "tags": []
   },
   "outputs": [],
   "source": [
    "df_2 = to_tidy(df_2)"
   ]
  },
  {
   "cell_type": "code",
   "execution_count": 263,
   "id": "f3230321",
   "metadata": {},
   "outputs": [],
   "source": [
    "ttest = pg.ttest(x= df_2[df_2['phase']==1]['bin value'] , y=0.5)"
   ]
  },
  {
   "cell_type": "code",
   "execution_count": 264,
   "id": "5fe14138",
   "metadata": {},
   "outputs": [
    {
     "data": {
      "text/html": [
       "<div>\n",
       "<style scoped>\n",
       "    .dataframe tbody tr th:only-of-type {\n",
       "        vertical-align: middle;\n",
       "    }\n",
       "\n",
       "    .dataframe tbody tr th {\n",
       "        vertical-align: top;\n",
       "    }\n",
       "\n",
       "    .dataframe thead th {\n",
       "        text-align: right;\n",
       "    }\n",
       "</style>\n",
       "<table border=\"1\" class=\"dataframe\">\n",
       "  <thead>\n",
       "    <tr style=\"text-align: right;\">\n",
       "      <th></th>\n",
       "      <th>T</th>\n",
       "      <th>dof</th>\n",
       "      <th>alternative</th>\n",
       "      <th>p-val</th>\n",
       "      <th>CI95%</th>\n",
       "      <th>cohen-d</th>\n",
       "      <th>BF10</th>\n",
       "      <th>power</th>\n",
       "    </tr>\n",
       "  </thead>\n",
       "  <tbody>\n",
       "    <tr>\n",
       "      <th>T-test</th>\n",
       "      <td>4.460383</td>\n",
       "      <td>9</td>\n",
       "      <td>two-sided</td>\n",
       "      <td>0.001576</td>\n",
       "      <td>[0.52, 0.55]</td>\n",
       "      <td>1.410497</td>\n",
       "      <td>27.991</td>\n",
       "      <td>0.976612</td>\n",
       "    </tr>\n",
       "  </tbody>\n",
       "</table>\n",
       "</div>"
      ],
      "text/plain": [
       "               T  dof alternative     p-val         CI95%   cohen-d    BF10  \\\n",
       "T-test  4.460383    9   two-sided  0.001576  [0.52, 0.55]  1.410497  27.991   \n",
       "\n",
       "           power  \n",
       "T-test  0.976612  "
      ]
     },
     "execution_count": 264,
     "metadata": {},
     "output_type": "execute_result"
    }
   ],
   "source": [
    "ttest"
   ]
  },
  {
   "cell_type": "code",
   "execution_count": 265,
   "id": "059c2bcf-3f0b-470b-9404-55626952bca5",
   "metadata": {
    "execution": {
     "iopub.execute_input": "2022-06-08T15:19:14.994687Z",
     "iopub.status.busy": "2022-06-08T15:19:14.994501Z",
     "iopub.status.idle": "2022-06-08T15:19:15.219504Z",
     "shell.execute_reply": "2022-06-08T15:19:15.219145Z",
     "shell.execute_reply.started": "2022-06-08T15:19:14.994666Z"
    },
    "tags": []
   },
   "outputs": [
    {
     "data": {
      "image/png": "[encoded data removed]",
      "text/plain": [
       "<Figure size 1440x720 with 1 Axes>"
      ]
     },
     "metadata": {
      "needs_background": "light"
     },
     "output_type": "display_data"
    }
   ],
   "source": [
    "fig, ax = plt.subplots(figsize = (20,10))\n",
    "sns.barplot(data =df_2, x='patient', y ='bin value', hue = 'phase', ax=ax)\n",
    "p = ttest.loc['T-test', 'p-val'].round(4)\n",
    "cohen = ttest.loc['T-test', 'cohen-d'].round(4)\n",
    "ax.set_title(f'T-test against 0.5 : p={p} ; cohen-d = {cohen}')\n",
    "for p in ax.patches:\n",
    "    ax.annotate(str(round(p.get_height(), 2)), (p.get_x() * 1.005, p.get_height() * 1.005))\n",
    "# plt.savefig('../presentation_2/bar_2_bins')"
   ]
  },
  {
   "cell_type": "code",
   "execution_count": 266,
   "id": "beb4237f",
   "metadata": {},
   "outputs": [
    {
     "data": {
      "text/html": [
       "<div>\n",
       "<style scoped>\n",
       "    .dataframe tbody tr th:only-of-type {\n",
       "        vertical-align: middle;\n",
       "    }\n",
       "\n",
       "    .dataframe tbody tr th {\n",
       "        vertical-align: top;\n",
       "    }\n",
       "\n",
       "    .dataframe thead th {\n",
       "        text-align: right;\n",
       "    }\n",
       "</style>\n",
       "<table border=\"1\" class=\"dataframe\">\n",
       "  <thead>\n",
       "    <tr style=\"text-align: right;\">\n",
       "      <th></th>\n",
       "      <th>patient</th>\n",
       "      <th>stage</th>\n",
       "      <th>mi</th>\n",
       "      <th>0</th>\n",
       "      <th>1</th>\n",
       "      <th>2</th>\n",
       "      <th>3</th>\n",
       "      <th>4</th>\n",
       "      <th>5</th>\n",
       "      <th>6</th>\n",
       "      <th>...</th>\n",
       "      <th>8</th>\n",
       "      <th>9</th>\n",
       "      <th>10</th>\n",
       "      <th>11</th>\n",
       "      <th>12</th>\n",
       "      <th>13</th>\n",
       "      <th>14</th>\n",
       "      <th>15</th>\n",
       "      <th>16</th>\n",
       "      <th>17</th>\n",
       "    </tr>\n",
       "  </thead>\n",
       "  <tbody>\n",
       "    <tr>\n",
       "      <th>0</th>\n",
       "      <td>P1</td>\n",
       "      <td>N2</td>\n",
       "      <td>0.002354</td>\n",
       "      <td>0.058663</td>\n",
       "      <td>0.048204</td>\n",
       "      <td>0.059573</td>\n",
       "      <td>0.046839</td>\n",
       "      <td>0.055480</td>\n",
       "      <td>0.045475</td>\n",
       "      <td>0.053206</td>\n",
       "      <td>...</td>\n",
       "      <td>0.053206</td>\n",
       "      <td>0.055025</td>\n",
       "      <td>0.058663</td>\n",
       "      <td>0.059118</td>\n",
       "      <td>0.055935</td>\n",
       "      <td>0.055935</td>\n",
       "      <td>0.074579</td>\n",
       "      <td>0.059573</td>\n",
       "      <td>0.060482</td>\n",
       "      <td>0.053206</td>\n",
       "    </tr>\n",
       "    <tr>\n",
       "      <th>0</th>\n",
       "      <td>P2</td>\n",
       "      <td>N2</td>\n",
       "      <td>0.005643</td>\n",
       "      <td>0.048558</td>\n",
       "      <td>0.039833</td>\n",
       "      <td>0.048179</td>\n",
       "      <td>0.049317</td>\n",
       "      <td>0.053111</td>\n",
       "      <td>0.048938</td>\n",
       "      <td>0.049697</td>\n",
       "      <td>...</td>\n",
       "      <td>0.051214</td>\n",
       "      <td>0.073596</td>\n",
       "      <td>0.075493</td>\n",
       "      <td>0.059181</td>\n",
       "      <td>0.072838</td>\n",
       "      <td>0.053869</td>\n",
       "      <td>0.066388</td>\n",
       "      <td>0.055008</td>\n",
       "      <td>0.061836</td>\n",
       "      <td>0.049317</td>\n",
       "    </tr>\n",
       "    <tr>\n",
       "      <th>0</th>\n",
       "      <td>P3</td>\n",
       "      <td>N2</td>\n",
       "      <td>0.005904</td>\n",
       "      <td>0.054557</td>\n",
       "      <td>0.048766</td>\n",
       "      <td>0.034136</td>\n",
       "      <td>0.039012</td>\n",
       "      <td>0.045413</td>\n",
       "      <td>0.045108</td>\n",
       "      <td>0.054252</td>\n",
       "      <td>...</td>\n",
       "      <td>0.056690</td>\n",
       "      <td>0.053337</td>\n",
       "      <td>0.058824</td>\n",
       "      <td>0.074672</td>\n",
       "      <td>0.067358</td>\n",
       "      <td>0.068881</td>\n",
       "      <td>0.059433</td>\n",
       "      <td>0.060957</td>\n",
       "      <td>0.065529</td>\n",
       "      <td>0.056385</td>\n",
       "    </tr>\n",
       "    <tr>\n",
       "      <th>0</th>\n",
       "      <td>P4</td>\n",
       "      <td>N2</td>\n",
       "      <td>0.002306</td>\n",
       "      <td>0.052717</td>\n",
       "      <td>0.049878</td>\n",
       "      <td>0.056772</td>\n",
       "      <td>0.059205</td>\n",
       "      <td>0.058800</td>\n",
       "      <td>0.046634</td>\n",
       "      <td>0.058394</td>\n",
       "      <td>...</td>\n",
       "      <td>0.048256</td>\n",
       "      <td>0.050689</td>\n",
       "      <td>0.065288</td>\n",
       "      <td>0.068532</td>\n",
       "      <td>0.056772</td>\n",
       "      <td>0.062449</td>\n",
       "      <td>0.062449</td>\n",
       "      <td>0.051906</td>\n",
       "      <td>0.044607</td>\n",
       "      <td>0.055556</td>\n",
       "    </tr>\n",
       "    <tr>\n",
       "      <th>0</th>\n",
       "      <td>P5</td>\n",
       "      <td>N2</td>\n",
       "      <td>0.004595</td>\n",
       "      <td>0.034760</td>\n",
       "      <td>0.059771</td>\n",
       "      <td>0.053836</td>\n",
       "      <td>0.051717</td>\n",
       "      <td>0.056380</td>\n",
       "      <td>0.043663</td>\n",
       "      <td>0.043663</td>\n",
       "      <td>...</td>\n",
       "      <td>0.053412</td>\n",
       "      <td>0.053836</td>\n",
       "      <td>0.056380</td>\n",
       "      <td>0.065282</td>\n",
       "      <td>0.061891</td>\n",
       "      <td>0.062315</td>\n",
       "      <td>0.065706</td>\n",
       "      <td>0.075032</td>\n",
       "      <td>0.055108</td>\n",
       "      <td>0.051717</td>\n",
       "    </tr>\n",
       "    <tr>\n",
       "      <th>0</th>\n",
       "      <td>P6</td>\n",
       "      <td>N2</td>\n",
       "      <td>0.003744</td>\n",
       "      <td>0.052529</td>\n",
       "      <td>0.046693</td>\n",
       "      <td>0.046693</td>\n",
       "      <td>0.060311</td>\n",
       "      <td>0.065175</td>\n",
       "      <td>0.061284</td>\n",
       "      <td>0.062257</td>\n",
       "      <td>...</td>\n",
       "      <td>0.048638</td>\n",
       "      <td>0.059339</td>\n",
       "      <td>0.067121</td>\n",
       "      <td>0.050584</td>\n",
       "      <td>0.044747</td>\n",
       "      <td>0.056420</td>\n",
       "      <td>0.048638</td>\n",
       "      <td>0.063230</td>\n",
       "      <td>0.047665</td>\n",
       "      <td>0.071984</td>\n",
       "    </tr>\n",
       "    <tr>\n",
       "      <th>0</th>\n",
       "      <td>P7</td>\n",
       "      <td>N2</td>\n",
       "      <td>0.002056</td>\n",
       "      <td>0.054815</td>\n",
       "      <td>0.067956</td>\n",
       "      <td>0.058945</td>\n",
       "      <td>0.055378</td>\n",
       "      <td>0.054252</td>\n",
       "      <td>0.052938</td>\n",
       "      <td>0.047494</td>\n",
       "      <td>...</td>\n",
       "      <td>0.046931</td>\n",
       "      <td>0.053126</td>\n",
       "      <td>0.053876</td>\n",
       "      <td>0.055754</td>\n",
       "      <td>0.055378</td>\n",
       "      <td>0.055566</td>\n",
       "      <td>0.060822</td>\n",
       "      <td>0.056505</td>\n",
       "      <td>0.063826</td>\n",
       "      <td>0.063826</td>\n",
       "    </tr>\n",
       "    <tr>\n",
       "      <th>0</th>\n",
       "      <td>P8</td>\n",
       "      <td>N2</td>\n",
       "      <td>0.008726</td>\n",
       "      <td>0.061250</td>\n",
       "      <td>0.075000</td>\n",
       "      <td>0.053750</td>\n",
       "      <td>0.047500</td>\n",
       "      <td>0.041250</td>\n",
       "      <td>0.060000</td>\n",
       "      <td>0.077500</td>\n",
       "      <td>...</td>\n",
       "      <td>0.042500</td>\n",
       "      <td>0.055000</td>\n",
       "      <td>0.062500</td>\n",
       "      <td>0.080000</td>\n",
       "      <td>0.042500</td>\n",
       "      <td>0.063750</td>\n",
       "      <td>0.047500</td>\n",
       "      <td>0.061250</td>\n",
       "      <td>0.046250</td>\n",
       "      <td>0.045000</td>\n",
       "    </tr>\n",
       "    <tr>\n",
       "      <th>0</th>\n",
       "      <td>P9</td>\n",
       "      <td>N2</td>\n",
       "      <td>0.004217</td>\n",
       "      <td>0.061100</td>\n",
       "      <td>0.059063</td>\n",
       "      <td>0.041752</td>\n",
       "      <td>0.058045</td>\n",
       "      <td>0.059063</td>\n",
       "      <td>0.061100</td>\n",
       "      <td>0.052953</td>\n",
       "      <td>...</td>\n",
       "      <td>0.045825</td>\n",
       "      <td>0.058045</td>\n",
       "      <td>0.067210</td>\n",
       "      <td>0.075356</td>\n",
       "      <td>0.053971</td>\n",
       "      <td>0.046843</td>\n",
       "      <td>0.042770</td>\n",
       "      <td>0.052953</td>\n",
       "      <td>0.065173</td>\n",
       "      <td>0.052953</td>\n",
       "    </tr>\n",
       "    <tr>\n",
       "      <th>0</th>\n",
       "      <td>P10</td>\n",
       "      <td>N2</td>\n",
       "      <td>0.005346</td>\n",
       "      <td>0.060671</td>\n",
       "      <td>0.062267</td>\n",
       "      <td>0.057477</td>\n",
       "      <td>0.060138</td>\n",
       "      <td>0.048430</td>\n",
       "      <td>0.052155</td>\n",
       "      <td>0.035657</td>\n",
       "      <td>...</td>\n",
       "      <td>0.043108</td>\n",
       "      <td>0.050027</td>\n",
       "      <td>0.055349</td>\n",
       "      <td>0.060671</td>\n",
       "      <td>0.050027</td>\n",
       "      <td>0.063332</td>\n",
       "      <td>0.063864</td>\n",
       "      <td>0.067057</td>\n",
       "      <td>0.068121</td>\n",
       "      <td>0.064396</td>\n",
       "    </tr>\n",
       "  </tbody>\n",
       "</table>\n",
       "<p>10 rows × 21 columns</p>\n",
       "</div>"
      ],
      "text/plain": [
       "  patient stage        mi         0         1         2         3         4  \\\n",
       "0      P1    N2  0.002354  0.058663  0.048204  0.059573  0.046839  0.055480   \n",
       "0      P2    N2  0.005643  0.048558  0.039833  0.048179  0.049317  0.053111   \n",
       "0      P3    N2  0.005904  0.054557  0.048766  0.034136  0.039012  0.045413   \n",
       "0      P4    N2  0.002306  0.052717  0.049878  0.056772  0.059205  0.058800   \n",
       "0      P5    N2  0.004595  0.034760  0.059771  0.053836  0.051717  0.056380   \n",
       "0      P6    N2  0.003744  0.052529  0.046693  0.046693  0.060311  0.065175   \n",
       "0      P7    N2  0.002056  0.054815  0.067956  0.058945  0.055378  0.054252   \n",
       "0      P8    N2  0.008726  0.061250  0.075000  0.053750  0.047500  0.041250   \n",
       "0      P9    N2  0.004217  0.061100  0.059063  0.041752  0.058045  0.059063   \n",
       "0     P10    N2  0.005346  0.060671  0.062267  0.057477  0.060138  0.048430   \n",
       "\n",
       "          5         6  ...         8         9        10        11        12  \\\n",
       "0  0.045475  0.053206  ...  0.053206  0.055025  0.058663  0.059118  0.055935   \n",
       "0  0.048938  0.049697  ...  0.051214  0.073596  0.075493  0.059181  0.072838   \n",
       "0  0.045108  0.054252  ...  0.056690  0.053337  0.058824  0.074672  0.067358   \n",
       "0  0.046634  0.058394  ...  0.048256  0.050689  0.065288  0.068532  0.056772   \n",
       "0  0.043663  0.043663  ...  0.053412  0.053836  0.056380  0.065282  0.061891   \n",
       "0  0.061284  0.062257  ...  0.048638  0.059339  0.067121  0.050584  0.044747   \n",
       "0  0.052938  0.047494  ...  0.046931  0.053126  0.053876  0.055754  0.055378   \n",
       "0  0.060000  0.077500  ...  0.042500  0.055000  0.062500  0.080000  0.042500   \n",
       "0  0.061100  0.052953  ...  0.045825  0.058045  0.067210  0.075356  0.053971   \n",
       "0  0.052155  0.035657  ...  0.043108  0.050027  0.055349  0.060671  0.050027   \n",
       "\n",
       "         13        14        15        16        17  \n",
       "0  0.055935  0.074579  0.059573  0.060482  0.053206  \n",
       "0  0.053869  0.066388  0.055008  0.061836  0.049317  \n",
       "0  0.068881  0.059433  0.060957  0.065529  0.056385  \n",
       "0  0.062449  0.062449  0.051906  0.044607  0.055556  \n",
       "0  0.062315  0.065706  0.075032  0.055108  0.051717  \n",
       "0  0.056420  0.048638  0.063230  0.047665  0.071984  \n",
       "0  0.055566  0.060822  0.056505  0.063826  0.063826  \n",
       "0  0.063750  0.047500  0.061250  0.046250  0.045000  \n",
       "0  0.046843  0.042770  0.052953  0.065173  0.052953  \n",
       "0  0.063332  0.063864  0.067057  0.068121  0.064396  \n",
       "\n",
       "[10 rows x 21 columns]"
      ]
     },
     "execution_count": 266,
     "metadata": {},
     "output_type": "execute_result"
    }
   ],
   "source": [
    "df_18 = get_all_patients_phase_histogram(18, patients)\n",
    "df_18"
   ]
  },
  {
   "cell_type": "code",
   "execution_count": 267,
   "id": "3e71c4ca",
   "metadata": {},
   "outputs": [
    {
     "name": "stdout",
     "output_type": "stream",
     "text": [
      "P1\n"
     ]
    },
    {
     "data": {
      "image/png": "[encoded data removed]",
      "text/plain": [
       "<Figure size 576x288 with 1 Axes>"
      ]
     },
     "metadata": {
      "needs_background": "light"
     },
     "output_type": "display_data"
    },
    {
     "name": "stdout",
     "output_type": "stream",
     "text": [
      "P2\n"
     ]
    },
    {
     "data": {
      "image/png": "[encoded data removed]",
      "text/plain": [
       "<Figure size 576x288 with 1 Axes>"
      ]
     },
     "metadata": {
      "needs_background": "light"
     },
     "output_type": "display_data"
    },
    {
     "name": "stdout",
     "output_type": "stream",
     "text": [
      "P3\n"
     ]
    },
    {
     "data": {
      "image/png": "[encoded data removed]",
      "text/plain": [
       "<Figure size 576x288 with 1 Axes>"
      ]
     },
     "metadata": {
      "needs_background": "light"
     },
     "output_type": "display_data"
    },
    {
     "name": "stdout",
     "output_type": "stream",
     "text": [
      "P4\n"
     ]
    },
    {
     "data": {
      "image/png": "[encoded data removed]",
      "text/plain": [
       "<Figure size 576x288 with 1 Axes>"
      ]
     },
     "metadata": {
      "needs_background": "light"
     },
     "output_type": "display_data"
    },
    {
     "name": "stdout",
     "output_type": "stream",
     "text": [
      "P5\n"
     ]
    },
    {
     "data": {
      "image/png": "[encoded data removed]",
      "text/plain": [
       "<Figure size 576x288 with 1 Axes>"
      ]
     },
     "metadata": {
      "needs_background": "light"
     },
     "output_type": "display_data"
    },
    {
     "name": "stdout",
     "output_type": "stream",
     "text": [
      "P6\n"
     ]
    },
    {
     "data": {
      "image/png": "[encoded data removed]",
      "text/plain": [
       "<Figure size 576x288 with 1 Axes>"
      ]
     },
     "metadata": {
      "needs_background": "light"
     },
     "output_type": "display_data"
    },
    {
     "name": "stdout",
     "output_type": "stream",
     "text": [
      "P7\n"
     ]
    },
    {
     "data": {
      "image/png": "[encoded data removed]",
      "text/plain": [
       "<Figure size 576x288 with 1 Axes>"
      ]
     },
     "metadata": {
      "needs_background": "light"
     },
     "output_type": "display_data"
    },
    {
     "name": "stdout",
     "output_type": "stream",
     "text": [
      "P8\n"
     ]
    },
    {
     "data": {
      "image/png": "[encoded data removed]",
      "text/plain": [
       "<Figure size 576x288 with 1 Axes>"
      ]
     },
     "metadata": {
      "needs_background": "light"
     },
     "output_type": "display_data"
    },
    {
     "name": "stdout",
     "output_type": "stream",
     "text": [
      "P9\n"
     ]
    },
    {
     "data": {
      "image/png": "[encoded data removed]",
      "text/plain": [
       "<Figure size 576x288 with 1 Axes>"
      ]
     },
     "metadata": {
      "needs_background": "light"
     },
     "output_type": "display_data"
    },
    {
     "name": "stdout",
     "output_type": "stream",
     "text": [
      "P10\n"
     ]
    },
    {
     "data": {
      "image/png": "[encoded data removed]",
      "text/plain": [
       "<Figure size 576x288 with 1 Axes>"
      ]
     },
     "metadata": {
      "needs_background": "light"
     },
     "output_type": "display_data"
    }
   ],
   "source": [
    "df_all = get_all_patients_phase_histogram(6, patients, show = True)"
   ]
  },
  {
   "cell_type": "code",
   "execution_count": 268,
   "id": "6facd222",
   "metadata": {},
   "outputs": [
    {
     "data": {
      "text/plain": [
       "<seaborn.axisgrid.FacetGrid at 0x7fb751c0c070>"
      ]
     },
     "execution_count": 268,
     "metadata": {},
     "output_type": "execute_result"
    },
    {
     "data": {
      "image/png": "[encoded data removed]",
      "text/plain": [
       "<Figure size 360x360 with 1 Axes>"
      ]
     },
     "metadata": {
      "needs_background": "light"
     },
     "output_type": "display_data"
    }
   ],
   "source": [
    "sns.catplot(data=to_tidy(df_all), x='phase', y = 'bin value', kind ='point')"
   ]
  }
 ],
 "metadata": {
  "interpreter": {
   "hash": "4bd70bb5ed2fb7582dd19992bfd207be77cacf780be7966dbdb042214aeb5dc8"
  },
  "kernelspec": {
   "display_name": "Python 3.8.12 ('py38_cluster')",
   "language": "python",
   "name": "python3"
  },
  "language_info": {
   "codemirror_mode": {
    "name": "ipython",
    "version": 3
   },
   "file_extension": ".py",
   "mimetype": "text/x-python",
   "name": "python",
   "nbconvert_exporter": "python",
   "pygments_lexer": "ipython3",
   "version": "3.8.12"
  }
 },
 "nbformat": 4,
 "nbformat_minor": 5
}
