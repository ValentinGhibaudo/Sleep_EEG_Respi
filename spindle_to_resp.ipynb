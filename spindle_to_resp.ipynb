{
 "cells": [
  {
   "cell_type": "code",
   "execution_count": 1,
   "id": "1ff12acc-13ad-4592-8597-0b8a034fc216",
   "metadata": {
    "execution": {
     "iopub.execute_input": "2022-05-25T15:27:50.844916Z",
     "iopub.status.busy": "2022-05-25T15:27:50.844787Z",
     "iopub.status.idle": "2022-05-25T15:27:50.855139Z",
     "shell.execute_reply": "2022-05-25T15:27:50.854715Z",
     "shell.execute_reply.started": "2022-05-25T15:27:50.844901Z"
    },
    "tags": []
   },
   "outputs": [],
   "source": [
    "%load_ext autoreload\n",
    "%autoreload 2"
   ]
  },
  {
   "cell_type": "code",
   "execution_count": 2,
   "id": "e0d64622-9275-4792-8b6b-f378184a5140",
   "metadata": {
    "execution": {
     "iopub.execute_input": "2022-05-25T15:27:50.855747Z",
     "iopub.status.busy": "2022-05-25T15:27:50.855649Z",
     "iopub.status.idle": "2022-05-25T15:27:52.520287Z",
     "shell.execute_reply": "2022-05-25T15:27:52.519921Z",
     "shell.execute_reply.started": "2022-05-25T15:27:50.855734Z"
    },
    "tags": []
   },
   "outputs": [],
   "source": [
    "import numpy as np\n",
    "import pandas as pd\n",
    "import matplotlib.pyplot as plt\n",
    "from params import *\n",
    "import tqdm\n",
    "import ghibtools as gh\n",
    "import seaborn as sns\n",
    "import pingouin as pg\n",
    "%matplotlib inline"
   ]
  },
  {
   "cell_type": "code",
   "execution_count": 3,
   "id": "7baef168-5240-4870-9dab-fcab8158c17a",
   "metadata": {
    "execution": {
     "iopub.execute_input": "2022-05-25T15:27:52.520926Z",
     "iopub.status.busy": "2022-05-25T15:27:52.520818Z",
     "iopub.status.idle": "2022-05-25T15:27:52.537518Z",
     "shell.execute_reply": "2022-05-25T15:27:52.537162Z",
     "shell.execute_reply.started": "2022-05-25T15:27:52.520912Z"
    },
    "tags": []
   },
   "outputs": [
    {
     "name": "stdout",
     "output_type": "stream",
     "text": [
      "P10\n"
     ]
    }
   ],
   "source": [
    "print(patient)"
   ]
  },
  {
   "cell_type": "markdown",
   "id": "a34eeddf-fc23-44c6-9eed-4aebacf2082f",
   "metadata": {},
   "source": [
    "## SAVING CHOSE"
   ]
  },
  {
   "cell_type": "code",
   "execution_count": 4,
   "id": "6af95f5d-7a87-4dc6-a507-8f18cdb0a6ce",
   "metadata": {
    "execution": {
     "iopub.execute_input": "2022-05-25T15:27:52.538158Z",
     "iopub.status.busy": "2022-05-25T15:27:52.538025Z",
     "iopub.status.idle": "2022-05-25T15:27:52.555929Z",
     "shell.execute_reply": "2022-05-25T15:27:52.555457Z",
     "shell.execute_reply.started": "2022-05-25T15:27:52.538144Z"
    },
    "tags": []
   },
   "outputs": [],
   "source": [
    "save_cycles_with_spindle = False"
   ]
  },
  {
   "cell_type": "markdown",
   "id": "144e4cd7-851c-40b9-a10f-9ee4d585959a",
   "metadata": {},
   "source": [
    "## PARAMS"
   ]
  },
  {
   "cell_type": "code",
   "execution_count": 5,
   "id": "77d7c170-89ca-4a68-9920-15daec743ef9",
   "metadata": {
    "execution": {
     "iopub.execute_input": "2022-05-25T15:27:52.557001Z",
     "iopub.status.busy": "2022-05-25T15:27:52.556795Z",
     "iopub.status.idle": "2022-05-25T15:27:52.574036Z",
     "shell.execute_reply": "2022-05-25T15:27:52.573602Z",
     "shell.execute_reply.started": "2022-05-25T15:27:52.556982Z"
    },
    "tags": []
   },
   "outputs": [],
   "source": [
    "nbins = 2"
   ]
  },
  {
   "cell_type": "markdown",
   "id": "9dde465b-1a96-47b6-9a74-e85a37a1b13c",
   "metadata": {},
   "source": [
    "## LOAD RESP FEATURES & SPINDLES FEATURES"
   ]
  },
  {
   "cell_type": "code",
   "execution_count": 6,
   "id": "3983d501-da40-495a-a417-58c4861843ef",
   "metadata": {
    "execution": {
     "iopub.execute_input": "2022-05-25T15:27:52.574598Z",
     "iopub.status.busy": "2022-05-25T15:27:52.574496Z",
     "iopub.status.idle": "2022-05-25T15:27:52.591288Z",
     "shell.execute_reply": "2022-05-25T15:27:52.590893Z",
     "shell.execute_reply.started": "2022-05-25T15:27:52.574586Z"
    },
    "tags": []
   },
   "outputs": [],
   "source": [
    "def load_df(patient , stage_to_study=stage_to_study):\n",
    "    spindle_file = f'../df_analyse/spindles_{patient}.xlsx'\n",
    "    rsp_cycle_file = f'../df_analyse/resp_features_new_{patient}.xlsx'\n",
    "    df_cycles = pd.read_excel(rsp_cycle_file, index_col = 0)\n",
    "    spindles = pd.read_excel(spindle_file).drop(columns = 'Unnamed: 0')\n",
    "    spindles = spindles[spindles['stage'] == stage_to_study]\n",
    "    end_cycles = []\n",
    "    for cycle in range(df_cycles.shape[0]):\n",
    "        end_resp = df_cycles.loc[cycle, 'inspi_time'] + df_cycles.loc[cycle, 'cycle_duration']\n",
    "        end_cycles.append(end_resp)\n",
    "    df_cycles['end_time'] = end_cycles\n",
    "    df_cycles\n",
    "    \n",
    "    return df_cycles , spindles"
   ]
  },
  {
   "cell_type": "code",
   "execution_count": 7,
   "id": "ac99b18f-ef58-40ce-839a-2965acab715b",
   "metadata": {
    "execution": {
     "iopub.execute_input": "2022-05-25T15:27:52.591904Z",
     "iopub.status.busy": "2022-05-25T15:27:52.591730Z",
     "iopub.status.idle": "2022-05-25T15:27:53.299382Z",
     "shell.execute_reply": "2022-05-25T15:27:53.299001Z",
     "shell.execute_reply.started": "2022-05-25T15:27:52.591891Z"
    },
    "tags": []
   },
   "outputs": [],
   "source": [
    "df_cycles , spindles = load_df(patient)"
   ]
  },
  {
   "cell_type": "code",
   "execution_count": 8,
   "id": "03e7e72b-7951-42ba-a540-92f4a943327c",
   "metadata": {
    "execution": {
     "iopub.execute_input": "2022-05-25T15:27:53.300087Z",
     "iopub.status.busy": "2022-05-25T15:27:53.299877Z",
     "iopub.status.idle": "2022-05-25T15:27:53.332478Z",
     "shell.execute_reply": "2022-05-25T15:27:53.332087Z",
     "shell.execute_reply.started": "2022-05-25T15:27:53.300073Z"
    },
    "tags": []
   },
   "outputs": [
    {
     "data": {
      "text/html": [
       "<div>\n",
       "<style scoped>\n",
       "    .dataframe tbody tr th:only-of-type {\n",
       "        vertical-align: middle;\n",
       "    }\n",
       "\n",
       "    .dataframe tbody tr th {\n",
       "        vertical-align: top;\n",
       "    }\n",
       "\n",
       "    .dataframe thead th {\n",
       "        text-align: right;\n",
       "    }\n",
       "</style>\n",
       "<table border=\"1\" class=\"dataframe\">\n",
       "  <thead>\n",
       "    <tr style=\"text-align: right;\">\n",
       "      <th></th>\n",
       "      <th>Unnamed: 0</th>\n",
       "      <th>patient</th>\n",
       "      <th>cycle_num</th>\n",
       "      <th>inspi_index</th>\n",
       "      <th>expi_index</th>\n",
       "      <th>inspi_time</th>\n",
       "      <th>expi_time</th>\n",
       "      <th>cycle_duration</th>\n",
       "      <th>insp_duration</th>\n",
       "      <th>exp_duration</th>\n",
       "      <th>cycle_freq</th>\n",
       "      <th>insp_volume</th>\n",
       "      <th>exp_volume</th>\n",
       "      <th>total_amplitude</th>\n",
       "      <th>insp_amplitude</th>\n",
       "      <th>exp_amplitude</th>\n",
       "      <th>end_time</th>\n",
       "    </tr>\n",
       "  </thead>\n",
       "  <tbody>\n",
       "    <tr>\n",
       "      <th>0</th>\n",
       "      <td>0</td>\n",
       "      <td>P10</td>\n",
       "      <td>0</td>\n",
       "      <td>9</td>\n",
       "      <td>315</td>\n",
       "      <td>0.035156</td>\n",
       "      <td>1.230469</td>\n",
       "      <td>3.218750</td>\n",
       "      <td>1.195312</td>\n",
       "      <td>2.023438</td>\n",
       "      <td>0.310680</td>\n",
       "      <td>70.149251</td>\n",
       "      <td>35.250572</td>\n",
       "      <td>101.332140</td>\n",
       "      <td>70.477427</td>\n",
       "      <td>30.854713</td>\n",
       "      <td>3.253906</td>\n",
       "    </tr>\n",
       "    <tr>\n",
       "      <th>1</th>\n",
       "      <td>1</td>\n",
       "      <td>P10</td>\n",
       "      <td>1</td>\n",
       "      <td>833</td>\n",
       "      <td>1149</td>\n",
       "      <td>3.253906</td>\n",
       "      <td>4.488281</td>\n",
       "      <td>3.484375</td>\n",
       "      <td>1.234375</td>\n",
       "      <td>2.250000</td>\n",
       "      <td>0.286996</td>\n",
       "      <td>76.714018</td>\n",
       "      <td>41.101259</td>\n",
       "      <td>109.483597</td>\n",
       "      <td>78.546267</td>\n",
       "      <td>30.937330</td>\n",
       "      <td>6.738281</td>\n",
       "    </tr>\n",
       "    <tr>\n",
       "      <th>2</th>\n",
       "      <td>2</td>\n",
       "      <td>P10</td>\n",
       "      <td>2</td>\n",
       "      <td>1725</td>\n",
       "      <td>2081</td>\n",
       "      <td>6.738281</td>\n",
       "      <td>8.128906</td>\n",
       "      <td>3.496094</td>\n",
       "      <td>1.390625</td>\n",
       "      <td>2.105469</td>\n",
       "      <td>0.286034</td>\n",
       "      <td>80.284087</td>\n",
       "      <td>37.333431</td>\n",
       "      <td>99.036470</td>\n",
       "      <td>68.051436</td>\n",
       "      <td>30.985034</td>\n",
       "      <td>10.234375</td>\n",
       "    </tr>\n",
       "    <tr>\n",
       "      <th>3</th>\n",
       "      <td>3</td>\n",
       "      <td>P10</td>\n",
       "      <td>3</td>\n",
       "      <td>2620</td>\n",
       "      <td>2982</td>\n",
       "      <td>10.234375</td>\n",
       "      <td>11.648438</td>\n",
       "      <td>3.363281</td>\n",
       "      <td>1.414062</td>\n",
       "      <td>1.949219</td>\n",
       "      <td>0.297329</td>\n",
       "      <td>73.256394</td>\n",
       "      <td>33.306419</td>\n",
       "      <td>93.975076</td>\n",
       "      <td>63.056873</td>\n",
       "      <td>30.918203</td>\n",
       "      <td>13.597656</td>\n",
       "    </tr>\n",
       "    <tr>\n",
       "      <th>4</th>\n",
       "      <td>4</td>\n",
       "      <td>P10</td>\n",
       "      <td>4</td>\n",
       "      <td>3481</td>\n",
       "      <td>3791</td>\n",
       "      <td>13.597656</td>\n",
       "      <td>14.808594</td>\n",
       "      <td>3.449219</td>\n",
       "      <td>1.210938</td>\n",
       "      <td>2.238281</td>\n",
       "      <td>0.289921</td>\n",
       "      <td>75.739948</td>\n",
       "      <td>40.251144</td>\n",
       "      <td>109.223979</td>\n",
       "      <td>78.179055</td>\n",
       "      <td>31.044925</td>\n",
       "      <td>17.046875</td>\n",
       "    </tr>\n",
       "    <tr>\n",
       "      <th>...</th>\n",
       "      <td>...</td>\n",
       "      <td>...</td>\n",
       "      <td>...</td>\n",
       "      <td>...</td>\n",
       "      <td>...</td>\n",
       "      <td>...</td>\n",
       "      <td>...</td>\n",
       "      <td>...</td>\n",
       "      <td>...</td>\n",
       "      <td>...</td>\n",
       "      <td>...</td>\n",
       "      <td>...</td>\n",
       "      <td>...</td>\n",
       "      <td>...</td>\n",
       "      <td>...</td>\n",
       "      <td>...</td>\n",
       "      <td>...</td>\n",
       "    </tr>\n",
       "    <tr>\n",
       "      <th>1684</th>\n",
       "      <td>1687</td>\n",
       "      <td>P10</td>\n",
       "      <td>1687</td>\n",
       "      <td>1813931</td>\n",
       "      <td>1814254</td>\n",
       "      <td>7085.667969</td>\n",
       "      <td>7086.929688</td>\n",
       "      <td>2.914062</td>\n",
       "      <td>1.261719</td>\n",
       "      <td>1.652344</td>\n",
       "      <td>0.343164</td>\n",
       "      <td>79.005229</td>\n",
       "      <td>7.133767</td>\n",
       "      <td>112.294064</td>\n",
       "      <td>81.305451</td>\n",
       "      <td>30.988612</td>\n",
       "      <td>7088.582031</td>\n",
       "    </tr>\n",
       "    <tr>\n",
       "      <th>1685</th>\n",
       "      <td>1688</td>\n",
       "      <td>P10</td>\n",
       "      <td>1688</td>\n",
       "      <td>1814677</td>\n",
       "      <td>1814990</td>\n",
       "      <td>7088.582031</td>\n",
       "      <td>7089.804688</td>\n",
       "      <td>3.496094</td>\n",
       "      <td>1.222656</td>\n",
       "      <td>2.273438</td>\n",
       "      <td>0.286034</td>\n",
       "      <td>80.071477</td>\n",
       "      <td>18.720356</td>\n",
       "      <td>114.306694</td>\n",
       "      <td>83.273309</td>\n",
       "      <td>31.033386</td>\n",
       "      <td>7092.078125</td>\n",
       "    </tr>\n",
       "    <tr>\n",
       "      <th>1686</th>\n",
       "      <td>1689</td>\n",
       "      <td>P10</td>\n",
       "      <td>1689</td>\n",
       "      <td>1815572</td>\n",
       "      <td>1815900</td>\n",
       "      <td>7092.078125</td>\n",
       "      <td>7093.359375</td>\n",
       "      <td>3.144531</td>\n",
       "      <td>1.281250</td>\n",
       "      <td>1.863281</td>\n",
       "      <td>0.318012</td>\n",
       "      <td>88.749161</td>\n",
       "      <td>10.335936</td>\n",
       "      <td>125.269604</td>\n",
       "      <td>94.430902</td>\n",
       "      <td>30.838703</td>\n",
       "      <td>7095.222656</td>\n",
       "    </tr>\n",
       "    <tr>\n",
       "      <th>1687</th>\n",
       "      <td>1690</td>\n",
       "      <td>P10</td>\n",
       "      <td>1690</td>\n",
       "      <td>1816377</td>\n",
       "      <td>1816681</td>\n",
       "      <td>7095.222656</td>\n",
       "      <td>7096.410156</td>\n",
       "      <td>3.453125</td>\n",
       "      <td>1.187500</td>\n",
       "      <td>2.265625</td>\n",
       "      <td>0.289593</td>\n",
       "      <td>84.251904</td>\n",
       "      <td>17.570151</td>\n",
       "      <td>119.336883</td>\n",
       "      <td>88.696413</td>\n",
       "      <td>30.640469</td>\n",
       "      <td>7098.675781</td>\n",
       "    </tr>\n",
       "    <tr>\n",
       "      <th>1688</th>\n",
       "      <td>1691</td>\n",
       "      <td>P10</td>\n",
       "      <td>1691</td>\n",
       "      <td>1817261</td>\n",
       "      <td>1817586</td>\n",
       "      <td>7098.675781</td>\n",
       "      <td>7099.945312</td>\n",
       "      <td>3.367188</td>\n",
       "      <td>1.269531</td>\n",
       "      <td>2.097656</td>\n",
       "      <td>0.296984</td>\n",
       "      <td>82.172224</td>\n",
       "      <td>20.448784</td>\n",
       "      <td>120.132235</td>\n",
       "      <td>89.417430</td>\n",
       "      <td>30.714805</td>\n",
       "      <td>7102.042969</td>\n",
       "    </tr>\n",
       "  </tbody>\n",
       "</table>\n",
       "<p>1689 rows × 17 columns</p>\n",
       "</div>"
      ],
      "text/plain": [
       "      Unnamed: 0 patient  cycle_num  inspi_index  expi_index   inspi_time  \\\n",
       "0              0     P10          0            9         315     0.035156   \n",
       "1              1     P10          1          833        1149     3.253906   \n",
       "2              2     P10          2         1725        2081     6.738281   \n",
       "3              3     P10          3         2620        2982    10.234375   \n",
       "4              4     P10          4         3481        3791    13.597656   \n",
       "...          ...     ...        ...          ...         ...          ...   \n",
       "1684        1687     P10       1687      1813931     1814254  7085.667969   \n",
       "1685        1688     P10       1688      1814677     1814990  7088.582031   \n",
       "1686        1689     P10       1689      1815572     1815900  7092.078125   \n",
       "1687        1690     P10       1690      1816377     1816681  7095.222656   \n",
       "1688        1691     P10       1691      1817261     1817586  7098.675781   \n",
       "\n",
       "        expi_time  cycle_duration  insp_duration  exp_duration  cycle_freq  \\\n",
       "0        1.230469        3.218750       1.195312      2.023438    0.310680   \n",
       "1        4.488281        3.484375       1.234375      2.250000    0.286996   \n",
       "2        8.128906        3.496094       1.390625      2.105469    0.286034   \n",
       "3       11.648438        3.363281       1.414062      1.949219    0.297329   \n",
       "4       14.808594        3.449219       1.210938      2.238281    0.289921   \n",
       "...           ...             ...            ...           ...         ...   \n",
       "1684  7086.929688        2.914062       1.261719      1.652344    0.343164   \n",
       "1685  7089.804688        3.496094       1.222656      2.273438    0.286034   \n",
       "1686  7093.359375        3.144531       1.281250      1.863281    0.318012   \n",
       "1687  7096.410156        3.453125       1.187500      2.265625    0.289593   \n",
       "1688  7099.945312        3.367188       1.269531      2.097656    0.296984   \n",
       "\n",
       "      insp_volume  exp_volume  total_amplitude  insp_amplitude  exp_amplitude  \\\n",
       "0       70.149251   35.250572       101.332140       70.477427      30.854713   \n",
       "1       76.714018   41.101259       109.483597       78.546267      30.937330   \n",
       "2       80.284087   37.333431        99.036470       68.051436      30.985034   \n",
       "3       73.256394   33.306419        93.975076       63.056873      30.918203   \n",
       "4       75.739948   40.251144       109.223979       78.179055      31.044925   \n",
       "...           ...         ...              ...             ...            ...   \n",
       "1684    79.005229    7.133767       112.294064       81.305451      30.988612   \n",
       "1685    80.071477   18.720356       114.306694       83.273309      31.033386   \n",
       "1686    88.749161   10.335936       125.269604       94.430902      30.838703   \n",
       "1687    84.251904   17.570151       119.336883       88.696413      30.640469   \n",
       "1688    82.172224   20.448784       120.132235       89.417430      30.714805   \n",
       "\n",
       "         end_time  \n",
       "0        3.253906  \n",
       "1        6.738281  \n",
       "2       10.234375  \n",
       "3       13.597656  \n",
       "4       17.046875  \n",
       "...           ...  \n",
       "1684  7088.582031  \n",
       "1685  7092.078125  \n",
       "1686  7095.222656  \n",
       "1687  7098.675781  \n",
       "1688  7102.042969  \n",
       "\n",
       "[1689 rows x 17 columns]"
      ]
     },
     "execution_count": 8,
     "metadata": {},
     "output_type": "execute_result"
    }
   ],
   "source": [
    "df_cycles"
   ]
  },
  {
   "cell_type": "code",
   "execution_count": 9,
   "id": "cf0120fa-c491-4148-b7dd-c71b934403bc",
   "metadata": {
    "execution": {
     "iopub.execute_input": "2022-05-25T15:27:53.333278Z",
     "iopub.status.busy": "2022-05-25T15:27:53.333073Z",
     "iopub.status.idle": "2022-05-25T15:27:53.420671Z",
     "shell.execute_reply": "2022-05-25T15:27:53.420281Z",
     "shell.execute_reply.started": "2022-05-25T15:27:53.333264Z"
    },
    "tags": []
   },
   "outputs": [
    {
     "data": {
      "text/html": [
       "<div>\n",
       "<style scoped>\n",
       "    .dataframe tbody tr th:only-of-type {\n",
       "        vertical-align: middle;\n",
       "    }\n",
       "\n",
       "    .dataframe tbody tr th {\n",
       "        vertical-align: top;\n",
       "    }\n",
       "\n",
       "    .dataframe thead th {\n",
       "        text-align: right;\n",
       "    }\n",
       "</style>\n",
       "<table border=\"1\" class=\"dataframe\">\n",
       "  <thead>\n",
       "    <tr style=\"text-align: right;\">\n",
       "      <th></th>\n",
       "      <th>patient</th>\n",
       "      <th>stage</th>\n",
       "      <th>Start</th>\n",
       "      <th>Peak</th>\n",
       "      <th>End</th>\n",
       "      <th>Duration</th>\n",
       "      <th>Amplitude</th>\n",
       "      <th>RMS</th>\n",
       "      <th>AbsPower</th>\n",
       "      <th>RelPower</th>\n",
       "      <th>Frequency</th>\n",
       "      <th>Oscillations</th>\n",
       "      <th>Symmetry</th>\n",
       "      <th>Channel</th>\n",
       "      <th>IdxChannel</th>\n",
       "    </tr>\n",
       "  </thead>\n",
       "  <tbody>\n",
       "    <tr>\n",
       "      <th>180</th>\n",
       "      <td>P10</td>\n",
       "      <td>N2</td>\n",
       "      <td>4.253906</td>\n",
       "      <td>4.722656</td>\n",
       "      <td>5.363281</td>\n",
       "      <td>1.109375</td>\n",
       "      <td>48.304384</td>\n",
       "      <td>9.593304</td>\n",
       "      <td>1.896777</td>\n",
       "      <td>0.420378</td>\n",
       "      <td>12.280584</td>\n",
       "      <td>13</td>\n",
       "      <td>0.421053</td>\n",
       "      <td>Fp2-C4</td>\n",
       "      <td>0</td>\n",
       "    </tr>\n",
       "    <tr>\n",
       "      <th>181</th>\n",
       "      <td>P10</td>\n",
       "      <td>N2</td>\n",
       "      <td>23.078125</td>\n",
       "      <td>23.281250</td>\n",
       "      <td>23.609375</td>\n",
       "      <td>0.531250</td>\n",
       "      <td>28.306916</td>\n",
       "      <td>7.323837</td>\n",
       "      <td>1.813016</td>\n",
       "      <td>0.390438</td>\n",
       "      <td>12.538347</td>\n",
       "      <td>7</td>\n",
       "      <td>0.379562</td>\n",
       "      <td>Fp2-C4</td>\n",
       "      <td>0</td>\n",
       "    </tr>\n",
       "    <tr>\n",
       "      <th>182</th>\n",
       "      <td>P10</td>\n",
       "      <td>N2</td>\n",
       "      <td>33.667969</td>\n",
       "      <td>33.980469</td>\n",
       "      <td>34.273438</td>\n",
       "      <td>0.605469</td>\n",
       "      <td>36.242581</td>\n",
       "      <td>8.118359</td>\n",
       "      <td>1.796433</td>\n",
       "      <td>0.261610</td>\n",
       "      <td>11.926052</td>\n",
       "      <td>7</td>\n",
       "      <td>0.512821</td>\n",
       "      <td>Fp2-C4</td>\n",
       "      <td>0</td>\n",
       "    </tr>\n",
       "    <tr>\n",
       "      <th>183</th>\n",
       "      <td>P10</td>\n",
       "      <td>N2</td>\n",
       "      <td>51.339844</td>\n",
       "      <td>51.832031</td>\n",
       "      <td>52.167969</td>\n",
       "      <td>0.828125</td>\n",
       "      <td>28.222252</td>\n",
       "      <td>6.654932</td>\n",
       "      <td>1.767579</td>\n",
       "      <td>0.464829</td>\n",
       "      <td>12.585936</td>\n",
       "      <td>11</td>\n",
       "      <td>0.591549</td>\n",
       "      <td>Fp2-C4</td>\n",
       "      <td>0</td>\n",
       "    </tr>\n",
       "    <tr>\n",
       "      <th>184</th>\n",
       "      <td>P10</td>\n",
       "      <td>N2</td>\n",
       "      <td>117.804688</td>\n",
       "      <td>118.375000</td>\n",
       "      <td>118.816406</td>\n",
       "      <td>1.011719</td>\n",
       "      <td>53.490489</td>\n",
       "      <td>11.261966</td>\n",
       "      <td>1.922048</td>\n",
       "      <td>0.320993</td>\n",
       "      <td>12.951341</td>\n",
       "      <td>13</td>\n",
       "      <td>0.561538</td>\n",
       "      <td>Fp2-C4</td>\n",
       "      <td>0</td>\n",
       "    </tr>\n",
       "    <tr>\n",
       "      <th>...</th>\n",
       "      <td>...</td>\n",
       "      <td>...</td>\n",
       "      <td>...</td>\n",
       "      <td>...</td>\n",
       "      <td>...</td>\n",
       "      <td>...</td>\n",
       "      <td>...</td>\n",
       "      <td>...</td>\n",
       "      <td>...</td>\n",
       "      <td>...</td>\n",
       "      <td>...</td>\n",
       "      <td>...</td>\n",
       "      <td>...</td>\n",
       "      <td>...</td>\n",
       "      <td>...</td>\n",
       "    </tr>\n",
       "    <tr>\n",
       "      <th>2847</th>\n",
       "      <td>P10</td>\n",
       "      <td>N2</td>\n",
       "      <td>7449.910156</td>\n",
       "      <td>7450.089844</td>\n",
       "      <td>7450.464844</td>\n",
       "      <td>0.554688</td>\n",
       "      <td>31.118556</td>\n",
       "      <td>6.772215</td>\n",
       "      <td>1.478077</td>\n",
       "      <td>0.236618</td>\n",
       "      <td>13.017753</td>\n",
       "      <td>6</td>\n",
       "      <td>0.321678</td>\n",
       "      <td>T3-O1</td>\n",
       "      <td>7</td>\n",
       "    </tr>\n",
       "    <tr>\n",
       "      <th>2848</th>\n",
       "      <td>P10</td>\n",
       "      <td>N2</td>\n",
       "      <td>7509.289062</td>\n",
       "      <td>7509.449219</td>\n",
       "      <td>7509.812500</td>\n",
       "      <td>0.523438</td>\n",
       "      <td>25.437377</td>\n",
       "      <td>5.836279</td>\n",
       "      <td>1.679451</td>\n",
       "      <td>0.396657</td>\n",
       "      <td>13.624334</td>\n",
       "      <td>7</td>\n",
       "      <td>0.303704</td>\n",
       "      <td>T3-O1</td>\n",
       "      <td>7</td>\n",
       "    </tr>\n",
       "    <tr>\n",
       "      <th>2849</th>\n",
       "      <td>P10</td>\n",
       "      <td>N2</td>\n",
       "      <td>8001.078125</td>\n",
       "      <td>8001.460938</td>\n",
       "      <td>8001.707031</td>\n",
       "      <td>0.628906</td>\n",
       "      <td>31.801027</td>\n",
       "      <td>7.156477</td>\n",
       "      <td>1.765386</td>\n",
       "      <td>0.385709</td>\n",
       "      <td>13.726640</td>\n",
       "      <td>8</td>\n",
       "      <td>0.604938</td>\n",
       "      <td>T3-O1</td>\n",
       "      <td>7</td>\n",
       "    </tr>\n",
       "    <tr>\n",
       "      <th>2850</th>\n",
       "      <td>P10</td>\n",
       "      <td>N2</td>\n",
       "      <td>8584.031250</td>\n",
       "      <td>8584.339844</td>\n",
       "      <td>8584.675781</td>\n",
       "      <td>0.644531</td>\n",
       "      <td>34.620598</td>\n",
       "      <td>8.311678</td>\n",
       "      <td>1.893966</td>\n",
       "      <td>0.429671</td>\n",
       "      <td>13.607499</td>\n",
       "      <td>9</td>\n",
       "      <td>0.475904</td>\n",
       "      <td>T3-O1</td>\n",
       "      <td>7</td>\n",
       "    </tr>\n",
       "    <tr>\n",
       "      <th>2851</th>\n",
       "      <td>P10</td>\n",
       "      <td>N2</td>\n",
       "      <td>8902.546875</td>\n",
       "      <td>8902.996094</td>\n",
       "      <td>8903.078125</td>\n",
       "      <td>0.531250</td>\n",
       "      <td>24.391288</td>\n",
       "      <td>5.639737</td>\n",
       "      <td>1.570673</td>\n",
       "      <td>0.293893</td>\n",
       "      <td>12.839775</td>\n",
       "      <td>6</td>\n",
       "      <td>0.839416</td>\n",
       "      <td>T3-O1</td>\n",
       "      <td>7</td>\n",
       "    </tr>\n",
       "  </tbody>\n",
       "</table>\n",
       "<p>2672 rows × 15 columns</p>\n",
       "</div>"
      ],
      "text/plain": [
       "     patient stage        Start         Peak          End  Duration  \\\n",
       "180      P10    N2     4.253906     4.722656     5.363281  1.109375   \n",
       "181      P10    N2    23.078125    23.281250    23.609375  0.531250   \n",
       "182      P10    N2    33.667969    33.980469    34.273438  0.605469   \n",
       "183      P10    N2    51.339844    51.832031    52.167969  0.828125   \n",
       "184      P10    N2   117.804688   118.375000   118.816406  1.011719   \n",
       "...      ...   ...          ...          ...          ...       ...   \n",
       "2847     P10    N2  7449.910156  7450.089844  7450.464844  0.554688   \n",
       "2848     P10    N2  7509.289062  7509.449219  7509.812500  0.523438   \n",
       "2849     P10    N2  8001.078125  8001.460938  8001.707031  0.628906   \n",
       "2850     P10    N2  8584.031250  8584.339844  8584.675781  0.644531   \n",
       "2851     P10    N2  8902.546875  8902.996094  8903.078125  0.531250   \n",
       "\n",
       "      Amplitude        RMS  AbsPower  RelPower  Frequency  Oscillations  \\\n",
       "180   48.304384   9.593304  1.896777  0.420378  12.280584            13   \n",
       "181   28.306916   7.323837  1.813016  0.390438  12.538347             7   \n",
       "182   36.242581   8.118359  1.796433  0.261610  11.926052             7   \n",
       "183   28.222252   6.654932  1.767579  0.464829  12.585936            11   \n",
       "184   53.490489  11.261966  1.922048  0.320993  12.951341            13   \n",
       "...         ...        ...       ...       ...        ...           ...   \n",
       "2847  31.118556   6.772215  1.478077  0.236618  13.017753             6   \n",
       "2848  25.437377   5.836279  1.679451  0.396657  13.624334             7   \n",
       "2849  31.801027   7.156477  1.765386  0.385709  13.726640             8   \n",
       "2850  34.620598   8.311678  1.893966  0.429671  13.607499             9   \n",
       "2851  24.391288   5.639737  1.570673  0.293893  12.839775             6   \n",
       "\n",
       "      Symmetry Channel  IdxChannel  \n",
       "180   0.421053  Fp2-C4           0  \n",
       "181   0.379562  Fp2-C4           0  \n",
       "182   0.512821  Fp2-C4           0  \n",
       "183   0.591549  Fp2-C4           0  \n",
       "184   0.561538  Fp2-C4           0  \n",
       "...        ...     ...         ...  \n",
       "2847  0.321678   T3-O1           7  \n",
       "2848  0.303704   T3-O1           7  \n",
       "2849  0.604938   T3-O1           7  \n",
       "2850  0.475904   T3-O1           7  \n",
       "2851  0.839416   T3-O1           7  \n",
       "\n",
       "[2672 rows x 15 columns]"
      ]
     },
     "execution_count": 9,
     "metadata": {},
     "output_type": "execute_result"
    }
   ],
   "source": [
    "spindles"
   ]
  },
  {
   "cell_type": "markdown",
   "id": "b0937f81-38fb-4da6-bd9e-68f5e26dd1e5",
   "metadata": {
    "tags": []
   },
   "source": [
    "## COMPUTE WHICH CYCLE CONTAINS SPINDLES"
   ]
  },
  {
   "cell_type": "code",
   "execution_count": 10,
   "id": "7105f63a-452c-45ae-b9fe-4b2ee5d92bb1",
   "metadata": {
    "execution": {
     "iopub.execute_input": "2022-05-25T15:27:53.422291Z",
     "iopub.status.busy": "2022-05-25T15:27:53.422146Z",
     "iopub.status.idle": "2022-05-25T15:27:53.584882Z",
     "shell.execute_reply": "2022-05-25T15:27:53.584067Z",
     "shell.execute_reply.started": "2022-05-25T15:27:53.422277Z"
    },
    "tags": []
   },
   "outputs": [],
   "source": [
    "def which_cycle_find_spindle(spindles = spindles, df_cycles = df_cycles, patient=patient):\n",
    "    spindles_times = spindles['Peak'].values\n",
    "\n",
    "    count = []\n",
    "\n",
    "    for cycle in range(df_cycles.shape[0]):\n",
    "\n",
    "        start = df_cycles.loc[cycle,'inspi_time']\n",
    "        stop = df_cycles.loc[cycle,'end_time']\n",
    "        \n",
    "        for spindle_time in spindles_times:\n",
    "            if spindle_time >= start and spindle_time < stop:\n",
    "                count.append(cycle)\n",
    "    cycles_with_spindle = pd.Series(count).unique()\n",
    "\n",
    "    return cycles_with_spindle"
   ]
  },
  {
   "cell_type": "code",
   "execution_count": 11,
   "id": "19757d25-1da7-4573-a408-2fa6fed44a12",
   "metadata": {
    "execution": {
     "iopub.execute_input": "2022-05-25T15:27:53.586122Z",
     "iopub.status.busy": "2022-05-25T15:27:53.585917Z",
     "iopub.status.idle": "2022-05-25T15:27:54.063457Z",
     "shell.execute_reply": "2022-05-25T15:27:54.063039Z",
     "shell.execute_reply.started": "2022-05-25T15:27:53.586095Z"
    },
    "tags": []
   },
   "outputs": [],
   "source": [
    "cycles_spindled = which_cycle_find_spindle(spindles = spindles, df_cycles = df_cycles)"
   ]
  },
  {
   "cell_type": "code",
   "execution_count": 12,
   "id": "aa472d41-3f24-464d-b40a-7ee71eaf9964",
   "metadata": {
    "execution": {
     "iopub.execute_input": "2022-05-25T15:27:54.064157Z",
     "iopub.status.busy": "2022-05-25T15:27:54.063974Z",
     "iopub.status.idle": "2022-05-25T15:27:54.080776Z",
     "shell.execute_reply": "2022-05-25T15:27:54.080369Z",
     "shell.execute_reply.started": "2022-05-25T15:27:54.064142Z"
    },
    "tags": []
   },
   "outputs": [],
   "source": [
    "if save_cycles_with_spindle:\n",
    "    print(f'saving {patient}')\n",
    "    np.save(f'../df_analyse/cycles_spindled_{patient}', cycles_spindled)"
   ]
  },
  {
   "cell_type": "code",
   "execution_count": 13,
   "id": "1f1bb004-bd9d-4419-b820-153190e7beb7",
   "metadata": {
    "execution": {
     "iopub.execute_input": "2022-05-25T15:27:54.081391Z",
     "iopub.status.busy": "2022-05-25T15:27:54.081289Z",
     "iopub.status.idle": "2022-05-25T15:27:54.199152Z",
     "shell.execute_reply": "2022-05-25T15:27:54.197418Z",
     "shell.execute_reply.started": "2022-05-25T15:27:54.081378Z"
    },
    "tags": []
   },
   "outputs": [
    {
     "data": {
      "text/plain": [
       "755"
      ]
     },
     "execution_count": 13,
     "metadata": {},
     "output_type": "execute_result"
    }
   ],
   "source": [
    "cycles_spindled.size"
   ]
  },
  {
   "cell_type": "markdown",
   "id": "395f597b-9c24-4c86-a8cc-924234a0afa0",
   "metadata": {
    "tags": []
   },
   "source": [
    "## COMPUTE WHICH RESP PHASE CONTAINS SPINDLES"
   ]
  },
  {
   "cell_type": "code",
   "execution_count": 14,
   "id": "0d269a92-a4a4-4fc5-88ed-28217a37d92a",
   "metadata": {
    "execution": {
     "iopub.execute_input": "2022-05-25T15:27:54.201659Z",
     "iopub.status.busy": "2022-05-25T15:27:54.201472Z",
     "iopub.status.idle": "2022-05-25T15:27:54.315317Z",
     "shell.execute_reply": "2022-05-25T15:27:54.313304Z",
     "shell.execute_reply.started": "2022-05-25T15:27:54.201646Z"
    }
   },
   "outputs": [],
   "source": [
    "def count_spindles_phase_resp(nbins, patient, spindles = spindles, df_cycles = df_cycles, cycle_spindled = cycles_spindled, show=False):\n",
    "    spindles_times = spindles['Peak']\n",
    "    \n",
    "    count = []\n",
    "\n",
    "    for cycle in cycle_spindled:\n",
    "        \n",
    "        start = df_cycles.loc[cycle,'inspi_time']\n",
    "        stop = df_cycles.loc[cycle,'end_time']\n",
    "\n",
    "        phases_timings = np.linspace(start, stop, nbins + 1)\n",
    "        \n",
    "        spindles_of_the_cycle = spindles_times[(spindles_times >= start) & (spindles_times <= stop)].values\n",
    "        \n",
    "        for spindle_time in spindles_of_the_cycle:\n",
    "            for i, phase_start in enumerate(phases_timings):\n",
    "                if phase_start != phases_timings[-1]:\n",
    "                    phase_stop = phases_timings[i + 1]\n",
    "                    if spindle_time >= phase_start and spindle_time < phase_stop:\n",
    "                        count.append(i)\n",
    "                        \n",
    "    phase_count = pd.Series(count).value_counts(normalize = False).reindex(np.arange(0,nbins))\n",
    "    phase_count = phase_count.to_frame().T\n",
    "    phase_count.insert(0 , 'norm' , 'no')\n",
    "    phase_count_norm = pd.Series(count).value_counts(normalize = True).reindex(np.arange(0,nbins))\n",
    "    phase_count_norm = phase_count_norm.to_frame().T\n",
    "    phase_count_norm.insert(0 , 'norm' , 'yes')\n",
    "    \n",
    "    df_concat = pd.concat([phase_count, phase_count_norm], axis = 0)\n",
    "    \n",
    "    df_concat.insert(0 , 'patient', patient)\n",
    "\n",
    "    return df_concat"
   ]
  },
  {
   "cell_type": "code",
   "execution_count": 15,
   "id": "aa55602f-1e07-4854-8c78-299c55c0981f",
   "metadata": {
    "execution": {
     "iopub.execute_input": "2022-05-25T15:27:54.318196Z",
     "iopub.status.busy": "2022-05-25T15:27:54.317659Z",
     "iopub.status.idle": "2022-05-25T15:27:54.625299Z",
     "shell.execute_reply": "2022-05-25T15:27:54.624882Z",
     "shell.execute_reply.started": "2022-05-25T15:27:54.318127Z"
    }
   },
   "outputs": [
    {
     "data": {
      "text/html": [
       "<div>\n",
       "<style scoped>\n",
       "    .dataframe tbody tr th:only-of-type {\n",
       "        vertical-align: middle;\n",
       "    }\n",
       "\n",
       "    .dataframe tbody tr th {\n",
       "        vertical-align: top;\n",
       "    }\n",
       "\n",
       "    .dataframe thead th {\n",
       "        text-align: right;\n",
       "    }\n",
       "</style>\n",
       "<table border=\"1\" class=\"dataframe\">\n",
       "  <thead>\n",
       "    <tr style=\"text-align: right;\">\n",
       "      <th></th>\n",
       "      <th>patient</th>\n",
       "      <th>norm</th>\n",
       "      <th>0</th>\n",
       "      <th>1</th>\n",
       "    </tr>\n",
       "  </thead>\n",
       "  <tbody>\n",
       "    <tr>\n",
       "      <th>0</th>\n",
       "      <td>P10</td>\n",
       "      <td>no</td>\n",
       "      <td>859.000000</td>\n",
       "      <td>1020.000000</td>\n",
       "    </tr>\n",
       "    <tr>\n",
       "      <th>0</th>\n",
       "      <td>P10</td>\n",
       "      <td>yes</td>\n",
       "      <td>0.457158</td>\n",
       "      <td>0.542842</td>\n",
       "    </tr>\n",
       "  </tbody>\n",
       "</table>\n",
       "</div>"
      ],
      "text/plain": [
       "  patient norm           0            1\n",
       "0     P10   no  859.000000  1020.000000\n",
       "0     P10  yes    0.457158     0.542842"
      ]
     },
     "execution_count": 15,
     "metadata": {},
     "output_type": "execute_result"
    }
   ],
   "source": [
    "count_spindles_phase_resp(nbins, patient)"
   ]
  },
  {
   "cell_type": "markdown",
   "id": "78d9ef1f-fc3e-40a4-befb-9ca961bbf807",
   "metadata": {
    "tags": []
   },
   "source": [
    "## LOOP ON PATIENTS AND STAGES"
   ]
  },
  {
   "cell_type": "code",
   "execution_count": 16,
   "id": "44c2a6b7-881a-49ec-b40f-ddcb67539ebb",
   "metadata": {
    "execution": {
     "iopub.execute_input": "2022-05-25T15:27:54.625858Z",
     "iopub.status.busy": "2022-05-25T15:27:54.625758Z",
     "iopub.status.idle": "2022-05-25T15:27:54.643124Z",
     "shell.execute_reply": "2022-05-25T15:27:54.642695Z",
     "shell.execute_reply.started": "2022-05-25T15:27:54.625845Z"
    }
   },
   "outputs": [],
   "source": [
    "def all_in_one(patient, nbins=nbins, stage='N2'):\n",
    "    df_cycles , spindles = load_df(patient, stage_to_study=stage)\n",
    "    cycles_spindled = which_cycle_find_spindle(spindles = spindles, df_cycles = df_cycles, patient=patient)\n",
    "    count = count_spindles_phase_resp(nbins=nbins, patient=patient, spindles = spindles, df_cycles = df_cycles, cycle_spindled = cycles_spindled, show=False)\n",
    "    count.insert(1 , 'stage' , stage)\n",
    "    return count"
   ]
  },
  {
   "cell_type": "code",
   "execution_count": 17,
   "id": "093f801a-3aa9-4f5e-8e67-5b9806937e94",
   "metadata": {
    "execution": {
     "iopub.execute_input": "2022-05-25T15:27:54.643713Z",
     "iopub.status.busy": "2022-05-25T15:27:54.643608Z",
     "iopub.status.idle": "2022-05-25T15:27:55.960617Z",
     "shell.execute_reply": "2022-05-25T15:27:55.960169Z",
     "shell.execute_reply.started": "2022-05-25T15:27:54.643700Z"
    }
   },
   "outputs": [
    {
     "data": {
      "text/html": [
       "<div>\n",
       "<style scoped>\n",
       "    .dataframe tbody tr th:only-of-type {\n",
       "        vertical-align: middle;\n",
       "    }\n",
       "\n",
       "    .dataframe tbody tr th {\n",
       "        vertical-align: top;\n",
       "    }\n",
       "\n",
       "    .dataframe thead th {\n",
       "        text-align: right;\n",
       "    }\n",
       "</style>\n",
       "<table border=\"1\" class=\"dataframe\">\n",
       "  <thead>\n",
       "    <tr style=\"text-align: right;\">\n",
       "      <th></th>\n",
       "      <th>patient</th>\n",
       "      <th>stage</th>\n",
       "      <th>norm</th>\n",
       "      <th>0</th>\n",
       "      <th>1</th>\n",
       "    </tr>\n",
       "  </thead>\n",
       "  <tbody>\n",
       "    <tr>\n",
       "      <th>0</th>\n",
       "      <td>P1</td>\n",
       "      <td>N2</td>\n",
       "      <td>no</td>\n",
       "      <td>1028.000000</td>\n",
       "      <td>1171.000000</td>\n",
       "    </tr>\n",
       "    <tr>\n",
       "      <th>0</th>\n",
       "      <td>P1</td>\n",
       "      <td>N2</td>\n",
       "      <td>yes</td>\n",
       "      <td>0.467485</td>\n",
       "      <td>0.532515</td>\n",
       "    </tr>\n",
       "  </tbody>\n",
       "</table>\n",
       "</div>"
      ],
      "text/plain": [
       "  patient stage norm            0            1\n",
       "0      P1    N2   no  1028.000000  1171.000000\n",
       "0      P1    N2  yes     0.467485     0.532515"
      ]
     },
     "execution_count": 17,
     "metadata": {},
     "output_type": "execute_result"
    }
   ],
   "source": [
    "all_in_one(patient='P1',nbins = 2, stage = 'N2')"
   ]
  },
  {
   "cell_type": "code",
   "execution_count": 18,
   "id": "d8792455-fecd-4a1e-9da2-372fb8345721",
   "metadata": {
    "execution": {
     "iopub.execute_input": "2022-05-25T15:27:55.961336Z",
     "iopub.status.busy": "2022-05-25T15:27:55.961189Z",
     "iopub.status.idle": "2022-05-25T15:28:25.767912Z",
     "shell.execute_reply": "2022-05-25T15:28:25.767515Z",
     "shell.execute_reply.started": "2022-05-25T15:27:55.961307Z"
    }
   },
   "outputs": [
    {
     "name": "stdout",
     "output_type": "stream",
     "text": [
      "P1\n",
      "P2\n",
      "P3\n",
      "P4\n",
      "P5\n",
      "P6\n",
      "P7\n",
      "P8\n",
      "P9\n"
     ]
    },
    {
     "name": "stderr",
     "output_type": "stream",
     "text": [
      "/tmp/ipykernel_198917/607658360.py:14: FutureWarning: The default dtype for empty Series will be 'object' instead of 'float64' in a future version. Specify a dtype explicitly to silence this warning.\n",
      "  cycles_with_spindle = pd.Series(count).unique()\n",
      "/tmp/ipykernel_198917/1370126485.py:22: FutureWarning: The default dtype for empty Series will be 'object' instead of 'float64' in a future version. Specify a dtype explicitly to silence this warning.\n",
      "  phase_count = pd.Series(count).value_counts(normalize = False).reindex(np.arange(0,nbins))\n",
      "/tmp/ipykernel_198917/1370126485.py:25: FutureWarning: The default dtype for empty Series will be 'object' instead of 'float64' in a future version. Specify a dtype explicitly to silence this warning.\n",
      "  phase_count_norm = pd.Series(count).value_counts(normalize = True).reindex(np.arange(0,nbins))\n"
     ]
    },
    {
     "name": "stdout",
     "output_type": "stream",
     "text": [
      "P10\n"
     ]
    },
    {
     "name": "stderr",
     "output_type": "stream",
     "text": [
      "/tmp/ipykernel_198917/607658360.py:14: FutureWarning: The default dtype for empty Series will be 'object' instead of 'float64' in a future version. Specify a dtype explicitly to silence this warning.\n",
      "  cycles_with_spindle = pd.Series(count).unique()\n",
      "/tmp/ipykernel_198917/1370126485.py:22: FutureWarning: The default dtype for empty Series will be 'object' instead of 'float64' in a future version. Specify a dtype explicitly to silence this warning.\n",
      "  phase_count = pd.Series(count).value_counts(normalize = False).reindex(np.arange(0,nbins))\n",
      "/tmp/ipykernel_198917/1370126485.py:25: FutureWarning: The default dtype for empty Series will be 'object' instead of 'float64' in a future version. Specify a dtype explicitly to silence this warning.\n",
      "  phase_count_norm = pd.Series(count).value_counts(normalize = True).reindex(np.arange(0,nbins))\n"
     ]
    }
   ],
   "source": [
    "concat = []\n",
    "for p in  ['P1','P2','P3','P4','P5','P6','P7','P8','P9','P10']:\n",
    "    print(p)\n",
    "    for stage in compute_stages:\n",
    "        concat.append(all_in_one(patient=p, stage=stage))\n",
    "df = pd.concat(concat)"
   ]
  },
  {
   "cell_type": "code",
   "execution_count": 19,
   "id": "a96ba4e6-bef0-4ec8-a078-76d7874992ef",
   "metadata": {
    "execution": {
     "iopub.execute_input": "2022-05-25T15:28:25.768524Z",
     "iopub.status.busy": "2022-05-25T15:28:25.768419Z",
     "iopub.status.idle": "2022-05-25T15:28:25.793359Z",
     "shell.execute_reply": "2022-05-25T15:28:25.792845Z",
     "shell.execute_reply.started": "2022-05-25T15:28:25.768510Z"
    }
   },
   "outputs": [
    {
     "data": {
      "text/html": [
       "<div>\n",
       "<style scoped>\n",
       "    .dataframe tbody tr th:only-of-type {\n",
       "        vertical-align: middle;\n",
       "    }\n",
       "\n",
       "    .dataframe tbody tr th {\n",
       "        vertical-align: top;\n",
       "    }\n",
       "\n",
       "    .dataframe thead th {\n",
       "        text-align: right;\n",
       "    }\n",
       "</style>\n",
       "<table border=\"1\" class=\"dataframe\">\n",
       "  <thead>\n",
       "    <tr style=\"text-align: right;\">\n",
       "      <th></th>\n",
       "      <th>patient</th>\n",
       "      <th>stage</th>\n",
       "      <th>norm</th>\n",
       "      <th>0</th>\n",
       "      <th>1</th>\n",
       "    </tr>\n",
       "  </thead>\n",
       "  <tbody>\n",
       "    <tr>\n",
       "      <th>0</th>\n",
       "      <td>P1</td>\n",
       "      <td>W</td>\n",
       "      <td>no</td>\n",
       "      <td>25.000000</td>\n",
       "      <td>36.000000</td>\n",
       "    </tr>\n",
       "    <tr>\n",
       "      <th>0</th>\n",
       "      <td>P1</td>\n",
       "      <td>W</td>\n",
       "      <td>yes</td>\n",
       "      <td>0.409836</td>\n",
       "      <td>0.590164</td>\n",
       "    </tr>\n",
       "    <tr>\n",
       "      <th>0</th>\n",
       "      <td>P1</td>\n",
       "      <td>R</td>\n",
       "      <td>no</td>\n",
       "      <td>NaN</td>\n",
       "      <td>3.000000</td>\n",
       "    </tr>\n",
       "    <tr>\n",
       "      <th>0</th>\n",
       "      <td>P1</td>\n",
       "      <td>R</td>\n",
       "      <td>yes</td>\n",
       "      <td>NaN</td>\n",
       "      <td>1.000000</td>\n",
       "    </tr>\n",
       "    <tr>\n",
       "      <th>0</th>\n",
       "      <td>P1</td>\n",
       "      <td>N2</td>\n",
       "      <td>no</td>\n",
       "      <td>1028.000000</td>\n",
       "      <td>1171.000000</td>\n",
       "    </tr>\n",
       "    <tr>\n",
       "      <th>...</th>\n",
       "      <td>...</td>\n",
       "      <td>...</td>\n",
       "      <td>...</td>\n",
       "      <td>...</td>\n",
       "      <td>...</td>\n",
       "    </tr>\n",
       "    <tr>\n",
       "      <th>0</th>\n",
       "      <td>P10</td>\n",
       "      <td>R</td>\n",
       "      <td>yes</td>\n",
       "      <td>0.375000</td>\n",
       "      <td>0.625000</td>\n",
       "    </tr>\n",
       "    <tr>\n",
       "      <th>0</th>\n",
       "      <td>P10</td>\n",
       "      <td>N2</td>\n",
       "      <td>no</td>\n",
       "      <td>859.000000</td>\n",
       "      <td>1020.000000</td>\n",
       "    </tr>\n",
       "    <tr>\n",
       "      <th>0</th>\n",
       "      <td>P10</td>\n",
       "      <td>N2</td>\n",
       "      <td>yes</td>\n",
       "      <td>0.457158</td>\n",
       "      <td>0.542842</td>\n",
       "    </tr>\n",
       "    <tr>\n",
       "      <th>0</th>\n",
       "      <td>P10</td>\n",
       "      <td>N3</td>\n",
       "      <td>no</td>\n",
       "      <td>NaN</td>\n",
       "      <td>NaN</td>\n",
       "    </tr>\n",
       "    <tr>\n",
       "      <th>0</th>\n",
       "      <td>P10</td>\n",
       "      <td>N3</td>\n",
       "      <td>yes</td>\n",
       "      <td>NaN</td>\n",
       "      <td>NaN</td>\n",
       "    </tr>\n",
       "  </tbody>\n",
       "</table>\n",
       "<p>80 rows × 5 columns</p>\n",
       "</div>"
      ],
      "text/plain": [
       "   patient stage norm            0            1\n",
       "0       P1     W   no    25.000000    36.000000\n",
       "0       P1     W  yes     0.409836     0.590164\n",
       "0       P1     R   no          NaN     3.000000\n",
       "0       P1     R  yes          NaN     1.000000\n",
       "0       P1    N2   no  1028.000000  1171.000000\n",
       "..     ...   ...  ...          ...          ...\n",
       "0      P10     R  yes     0.375000     0.625000\n",
       "0      P10    N2   no   859.000000  1020.000000\n",
       "0      P10    N2  yes     0.457158     0.542842\n",
       "0      P10    N3   no          NaN          NaN\n",
       "0      P10    N3  yes          NaN          NaN\n",
       "\n",
       "[80 rows x 5 columns]"
      ]
     },
     "execution_count": 19,
     "metadata": {},
     "output_type": "execute_result"
    }
   ],
   "source": [
    "df"
   ]
  },
  {
   "cell_type": "code",
   "execution_count": 24,
   "id": "c34b4df8-3351-4e1a-84fe-529aa81807e3",
   "metadata": {
    "execution": {
     "iopub.execute_input": "2022-05-25T15:28:46.732341Z",
     "iopub.status.busy": "2022-05-25T15:28:46.732161Z",
     "iopub.status.idle": "2022-05-25T15:29:17.071306Z",
     "shell.execute_reply": "2022-05-25T15:29:17.070889Z",
     "shell.execute_reply.started": "2022-05-25T15:28:46.732325Z"
    },
    "tags": []
   },
   "outputs": [
    {
     "name": "stdout",
     "output_type": "stream",
     "text": [
      "P1\n",
      "P2\n",
      "P3\n",
      "P4\n",
      "P5\n",
      "P6\n",
      "P7\n",
      "P8\n",
      "P9\n"
     ]
    },
    {
     "name": "stderr",
     "output_type": "stream",
     "text": [
      "/tmp/ipykernel_198917/607658360.py:14: FutureWarning: The default dtype for empty Series will be 'object' instead of 'float64' in a future version. Specify a dtype explicitly to silence this warning.\n",
      "  cycles_with_spindle = pd.Series(count).unique()\n",
      "/tmp/ipykernel_198917/1370126485.py:22: FutureWarning: The default dtype for empty Series will be 'object' instead of 'float64' in a future version. Specify a dtype explicitly to silence this warning.\n",
      "  phase_count = pd.Series(count).value_counts(normalize = False).reindex(np.arange(0,nbins))\n",
      "/tmp/ipykernel_198917/1370126485.py:25: FutureWarning: The default dtype for empty Series will be 'object' instead of 'float64' in a future version. Specify a dtype explicitly to silence this warning.\n",
      "  phase_count_norm = pd.Series(count).value_counts(normalize = True).reindex(np.arange(0,nbins))\n"
     ]
    },
    {
     "name": "stdout",
     "output_type": "stream",
     "text": [
      "P10\n"
     ]
    },
    {
     "name": "stderr",
     "output_type": "stream",
     "text": [
      "/tmp/ipykernel_198917/607658360.py:14: FutureWarning: The default dtype for empty Series will be 'object' instead of 'float64' in a future version. Specify a dtype explicitly to silence this warning.\n",
      "  cycles_with_spindle = pd.Series(count).unique()\n",
      "/tmp/ipykernel_198917/1370126485.py:22: FutureWarning: The default dtype for empty Series will be 'object' instead of 'float64' in a future version. Specify a dtype explicitly to silence this warning.\n",
      "  phase_count = pd.Series(count).value_counts(normalize = False).reindex(np.arange(0,nbins))\n",
      "/tmp/ipykernel_198917/1370126485.py:25: FutureWarning: The default dtype for empty Series will be 'object' instead of 'float64' in a future version. Specify a dtype explicitly to silence this warning.\n",
      "  phase_count_norm = pd.Series(count).value_counts(normalize = True).reindex(np.arange(0,nbins))\n"
     ]
    }
   ],
   "source": [
    "concat = []\n",
    "for p in  ['P1','P2','P3','P4','P5','P6','P7','P8','P9','P10']:\n",
    "    print(p)\n",
    "    for stage in compute_stages:\n",
    "        concat.append(all_in_one(patient=p,nbins = 3, stage=stage))\n",
    "df_3 = pd.concat(concat)"
   ]
  },
  {
   "cell_type": "code",
   "execution_count": 31,
   "id": "896bd4f4-14d6-4639-9788-1ebab2a3c11c",
   "metadata": {
    "execution": {
     "iopub.execute_input": "2022-05-25T15:30:34.258884Z",
     "iopub.status.busy": "2022-05-25T15:30:34.258349Z",
     "iopub.status.idle": "2022-05-25T15:30:34.285697Z",
     "shell.execute_reply": "2022-05-25T15:30:34.285206Z",
     "shell.execute_reply.started": "2022-05-25T15:30:34.258821Z"
    },
    "tags": []
   },
   "outputs": [],
   "source": [
    "to_plot_3 = df_3[(df_3['norm'] == 'yes') & (df_3['stage'] == 'N2') ]"
   ]
  },
  {
   "cell_type": "code",
   "execution_count": 42,
   "id": "bd44cbea-ab4c-4c14-8721-f01820f68aea",
   "metadata": {
    "execution": {
     "iopub.execute_input": "2022-05-25T15:33:10.508058Z",
     "iopub.status.busy": "2022-05-25T15:33:10.507747Z",
     "iopub.status.idle": "2022-05-25T15:33:10.665195Z",
     "shell.execute_reply": "2022-05-25T15:33:10.664781Z",
     "shell.execute_reply.started": "2022-05-25T15:33:10.508022Z"
    },
    "tags": []
   },
   "outputs": [
    {
     "data": {
      "text/plain": [
       "<AxesSubplot:xlabel='patient,norm,stage'>"
      ]
     },
     "execution_count": 42,
     "metadata": {},
     "output_type": "execute_result"
    },
    {
     "data": {
      "image/png": "[encoded data removed]",
      "text/plain": [
       "<Figure size 432x288 with 1 Axes>"
      ]
     },
     "metadata": {
      "needs_background": "light"
     },
     "output_type": "display_data"
    }
   ],
   "source": [
    "to_plot_3.set_index(['patient','norm','stage']).plot.bar()"
   ]
  },
  {
   "cell_type": "code",
   "execution_count": 20,
   "id": "f702fdf5-b693-418c-967f-0e2e134b932b",
   "metadata": {
    "execution": {
     "iopub.execute_input": "2022-05-25T15:28:25.794053Z",
     "iopub.status.busy": "2022-05-25T15:28:25.793940Z",
     "iopub.status.idle": "2022-05-25T15:28:25.829661Z",
     "shell.execute_reply": "2022-05-25T15:28:25.829252Z",
     "shell.execute_reply.started": "2022-05-25T15:28:25.794039Z"
    }
   },
   "outputs": [
    {
     "data": {
      "text/html": [
       "<div>\n",
       "<style scoped>\n",
       "    .dataframe tbody tr th:only-of-type {\n",
       "        vertical-align: middle;\n",
       "    }\n",
       "\n",
       "    .dataframe tbody tr th {\n",
       "        vertical-align: top;\n",
       "    }\n",
       "\n",
       "    .dataframe thead th {\n",
       "        text-align: right;\n",
       "    }\n",
       "</style>\n",
       "<table border=\"1\" class=\"dataframe\">\n",
       "  <thead>\n",
       "    <tr style=\"text-align: right;\">\n",
       "      <th></th>\n",
       "      <th>patient</th>\n",
       "      <th>stage</th>\n",
       "      <th>norm</th>\n",
       "      <th>phase</th>\n",
       "      <th>count</th>\n",
       "    </tr>\n",
       "  </thead>\n",
       "  <tbody>\n",
       "    <tr>\n",
       "      <th>0</th>\n",
       "      <td>P1</td>\n",
       "      <td>W</td>\n",
       "      <td>no</td>\n",
       "      <td>0</td>\n",
       "      <td>25.000000</td>\n",
       "    </tr>\n",
       "    <tr>\n",
       "      <th>1</th>\n",
       "      <td>P1</td>\n",
       "      <td>W</td>\n",
       "      <td>no</td>\n",
       "      <td>1</td>\n",
       "      <td>36.000000</td>\n",
       "    </tr>\n",
       "    <tr>\n",
       "      <th>2</th>\n",
       "      <td>P1</td>\n",
       "      <td>W</td>\n",
       "      <td>yes</td>\n",
       "      <td>0</td>\n",
       "      <td>0.409836</td>\n",
       "    </tr>\n",
       "    <tr>\n",
       "      <th>3</th>\n",
       "      <td>P1</td>\n",
       "      <td>W</td>\n",
       "      <td>yes</td>\n",
       "      <td>1</td>\n",
       "      <td>0.590164</td>\n",
       "    </tr>\n",
       "    <tr>\n",
       "      <th>4</th>\n",
       "      <td>P1</td>\n",
       "      <td>R</td>\n",
       "      <td>no</td>\n",
       "      <td>0</td>\n",
       "      <td>NaN</td>\n",
       "    </tr>\n",
       "    <tr>\n",
       "      <th>...</th>\n",
       "      <td>...</td>\n",
       "      <td>...</td>\n",
       "      <td>...</td>\n",
       "      <td>...</td>\n",
       "      <td>...</td>\n",
       "    </tr>\n",
       "    <tr>\n",
       "      <th>155</th>\n",
       "      <td>P10</td>\n",
       "      <td>N2</td>\n",
       "      <td>yes</td>\n",
       "      <td>1</td>\n",
       "      <td>0.542842</td>\n",
       "    </tr>\n",
       "    <tr>\n",
       "      <th>156</th>\n",
       "      <td>P10</td>\n",
       "      <td>N3</td>\n",
       "      <td>no</td>\n",
       "      <td>0</td>\n",
       "      <td>NaN</td>\n",
       "    </tr>\n",
       "    <tr>\n",
       "      <th>157</th>\n",
       "      <td>P10</td>\n",
       "      <td>N3</td>\n",
       "      <td>no</td>\n",
       "      <td>1</td>\n",
       "      <td>NaN</td>\n",
       "    </tr>\n",
       "    <tr>\n",
       "      <th>158</th>\n",
       "      <td>P10</td>\n",
       "      <td>N3</td>\n",
       "      <td>yes</td>\n",
       "      <td>0</td>\n",
       "      <td>NaN</td>\n",
       "    </tr>\n",
       "    <tr>\n",
       "      <th>159</th>\n",
       "      <td>P10</td>\n",
       "      <td>N3</td>\n",
       "      <td>yes</td>\n",
       "      <td>1</td>\n",
       "      <td>NaN</td>\n",
       "    </tr>\n",
       "  </tbody>\n",
       "</table>\n",
       "<p>160 rows × 5 columns</p>\n",
       "</div>"
      ],
      "text/plain": [
       "    patient stage norm  phase      count\n",
       "0        P1     W   no      0  25.000000\n",
       "1        P1     W   no      1  36.000000\n",
       "2        P1     W  yes      0   0.409836\n",
       "3        P1     W  yes      1   0.590164\n",
       "4        P1     R   no      0        NaN\n",
       "..      ...   ...  ...    ...        ...\n",
       "155     P10    N2  yes      1   0.542842\n",
       "156     P10    N3   no      0        NaN\n",
       "157     P10    N3   no      1        NaN\n",
       "158     P10    N3  yes      0        NaN\n",
       "159     P10    N3  yes      1        NaN\n",
       "\n",
       "[160 rows x 5 columns]"
      ]
     },
     "execution_count": 20,
     "metadata": {},
     "output_type": "execute_result"
    }
   ],
   "source": [
    "def to_tidy(df, nbins=2, indexes = ['patient','stage','norm']):\n",
    "    df = df.set_index(indexes)\n",
    "    rows = []\n",
    "    for patient in patients:\n",
    "        for stage in compute_stages:\n",
    "            for norm in ['no','yes']:\n",
    "                for bin_i in range(nbins):\n",
    "\n",
    "                    count_bin_i = df.loc[(patient, stage, norm), bin_i]\n",
    "                    row = [patient, stage, norm, bin_i, count_bin_i]\n",
    "                    rows.append(row)\n",
    "                \n",
    "    df_tidy = pd.DataFrame(rows, columns = ['patient' , 'stage', 'norm', 'phase' , 'count'])\n",
    "    return df_tidy\n",
    "\n",
    "df_tidy = to_tidy(df)\n",
    "df_tidy"
   ]
  },
  {
   "cell_type": "code",
   "execution_count": 21,
   "id": "0d2ecf42-0c88-4673-bfcb-3cebae2579d2",
   "metadata": {
    "execution": {
     "iopub.execute_input": "2022-05-25T15:28:25.830296Z",
     "iopub.status.busy": "2022-05-25T15:28:25.830177Z",
     "iopub.status.idle": "2022-05-25T15:28:25.856137Z",
     "shell.execute_reply": "2022-05-25T15:28:25.855757Z",
     "shell.execute_reply.started": "2022-05-25T15:28:25.830280Z"
    }
   },
   "outputs": [
    {
     "data": {
      "text/html": [
       "<div>\n",
       "<style scoped>\n",
       "    .dataframe tbody tr th:only-of-type {\n",
       "        vertical-align: middle;\n",
       "    }\n",
       "\n",
       "    .dataframe tbody tr th {\n",
       "        vertical-align: top;\n",
       "    }\n",
       "\n",
       "    .dataframe thead th {\n",
       "        text-align: right;\n",
       "    }\n",
       "</style>\n",
       "<table border=\"1\" class=\"dataframe\">\n",
       "  <thead>\n",
       "    <tr style=\"text-align: right;\">\n",
       "      <th></th>\n",
       "      <th></th>\n",
       "      <th></th>\n",
       "      <th>count</th>\n",
       "    </tr>\n",
       "    <tr>\n",
       "      <th>stage</th>\n",
       "      <th>norm</th>\n",
       "      <th>phase</th>\n",
       "      <th></th>\n",
       "    </tr>\n",
       "  </thead>\n",
       "  <tbody>\n",
       "    <tr>\n",
       "      <th rowspan=\"4\" valign=\"top\">N2</th>\n",
       "      <th rowspan=\"2\" valign=\"top\">no</th>\n",
       "      <th>0</th>\n",
       "      <td>1065.000000</td>\n",
       "    </tr>\n",
       "    <tr>\n",
       "      <th>1</th>\n",
       "      <td>1230.700000</td>\n",
       "    </tr>\n",
       "    <tr>\n",
       "      <th rowspan=\"2\" valign=\"top\">yes</th>\n",
       "      <th>0</th>\n",
       "      <td>0.467880</td>\n",
       "    </tr>\n",
       "    <tr>\n",
       "      <th>1</th>\n",
       "      <td>0.532120</td>\n",
       "    </tr>\n",
       "    <tr>\n",
       "      <th rowspan=\"4\" valign=\"top\">N3</th>\n",
       "      <th rowspan=\"2\" valign=\"top\">no</th>\n",
       "      <th>0</th>\n",
       "      <td>17.600000</td>\n",
       "    </tr>\n",
       "    <tr>\n",
       "      <th>1</th>\n",
       "      <td>16.750000</td>\n",
       "    </tr>\n",
       "    <tr>\n",
       "      <th rowspan=\"2\" valign=\"top\">yes</th>\n",
       "      <th>0</th>\n",
       "      <td>0.398883</td>\n",
       "    </tr>\n",
       "    <tr>\n",
       "      <th>1</th>\n",
       "      <td>0.750698</td>\n",
       "    </tr>\n",
       "    <tr>\n",
       "      <th rowspan=\"4\" valign=\"top\">R</th>\n",
       "      <th rowspan=\"2\" valign=\"top\">no</th>\n",
       "      <th>0</th>\n",
       "      <td>11.250000</td>\n",
       "    </tr>\n",
       "    <tr>\n",
       "      <th>1</th>\n",
       "      <td>12.400000</td>\n",
       "    </tr>\n",
       "    <tr>\n",
       "      <th rowspan=\"2\" valign=\"top\">yes</th>\n",
       "      <th>0</th>\n",
       "      <td>0.478024</td>\n",
       "    </tr>\n",
       "    <tr>\n",
       "      <th>1</th>\n",
       "      <td>0.617581</td>\n",
       "    </tr>\n",
       "    <tr>\n",
       "      <th rowspan=\"4\" valign=\"top\">W</th>\n",
       "      <th rowspan=\"2\" valign=\"top\">no</th>\n",
       "      <th>0</th>\n",
       "      <td>46.200000</td>\n",
       "    </tr>\n",
       "    <tr>\n",
       "      <th>1</th>\n",
       "      <td>47.100000</td>\n",
       "    </tr>\n",
       "    <tr>\n",
       "      <th rowspan=\"2\" valign=\"top\">yes</th>\n",
       "      <th>0</th>\n",
       "      <td>0.491606</td>\n",
       "    </tr>\n",
       "    <tr>\n",
       "      <th>1</th>\n",
       "      <td>0.508394</td>\n",
       "    </tr>\n",
       "  </tbody>\n",
       "</table>\n",
       "</div>"
      ],
      "text/plain": [
       "                        count\n",
       "stage norm phase             \n",
       "N2    no   0      1065.000000\n",
       "           1      1230.700000\n",
       "      yes  0         0.467880\n",
       "           1         0.532120\n",
       "N3    no   0        17.600000\n",
       "           1        16.750000\n",
       "      yes  0         0.398883\n",
       "           1         0.750698\n",
       "R     no   0        11.250000\n",
       "           1        12.400000\n",
       "      yes  0         0.478024\n",
       "           1         0.617581\n",
       "W     no   0        46.200000\n",
       "           1        47.100000\n",
       "      yes  0         0.491606\n",
       "           1         0.508394"
      ]
     },
     "execution_count": 21,
     "metadata": {},
     "output_type": "execute_result"
    }
   ],
   "source": [
    "df_tidy.groupby(['stage','norm','phase']).mean()"
   ]
  },
  {
   "cell_type": "code",
   "execution_count": 22,
   "id": "cb8a1c4d-829f-4ddc-a243-939f6aae77c9",
   "metadata": {
    "execution": {
     "iopub.execute_input": "2022-05-25T15:28:25.856716Z",
     "iopub.status.busy": "2022-05-25T15:28:25.856614Z",
     "iopub.status.idle": "2022-05-25T15:28:25.879621Z",
     "shell.execute_reply": "2022-05-25T15:28:25.879154Z",
     "shell.execute_reply.started": "2022-05-25T15:28:25.856701Z"
    }
   },
   "outputs": [
    {
     "data": {
      "text/html": [
       "<div>\n",
       "<style scoped>\n",
       "    .dataframe tbody tr th:only-of-type {\n",
       "        vertical-align: middle;\n",
       "    }\n",
       "\n",
       "    .dataframe tbody tr th {\n",
       "        vertical-align: top;\n",
       "    }\n",
       "\n",
       "    .dataframe thead th {\n",
       "        text-align: right;\n",
       "    }\n",
       "</style>\n",
       "<table border=\"1\" class=\"dataframe\">\n",
       "  <thead>\n",
       "    <tr style=\"text-align: right;\">\n",
       "      <th></th>\n",
       "      <th></th>\n",
       "      <th></th>\n",
       "      <th>count</th>\n",
       "    </tr>\n",
       "    <tr>\n",
       "      <th>stage</th>\n",
       "      <th>norm</th>\n",
       "      <th>phase</th>\n",
       "      <th></th>\n",
       "    </tr>\n",
       "  </thead>\n",
       "  <tbody>\n",
       "    <tr>\n",
       "      <th rowspan=\"4\" valign=\"top\">N2</th>\n",
       "      <th rowspan=\"2\" valign=\"top\">no</th>\n",
       "      <th>0</th>\n",
       "      <td>628.026539</td>\n",
       "    </tr>\n",
       "    <tr>\n",
       "      <th>1</th>\n",
       "      <td>712.710951</td>\n",
       "    </tr>\n",
       "    <tr>\n",
       "      <th rowspan=\"2\" valign=\"top\">yes</th>\n",
       "      <th>0</th>\n",
       "      <td>0.022772</td>\n",
       "    </tr>\n",
       "    <tr>\n",
       "      <th>1</th>\n",
       "      <td>0.022772</td>\n",
       "    </tr>\n",
       "    <tr>\n",
       "      <th rowspan=\"4\" valign=\"top\">N3</th>\n",
       "      <th rowspan=\"2\" valign=\"top\">no</th>\n",
       "      <th>0</th>\n",
       "      <td>12.074767</td>\n",
       "    </tr>\n",
       "    <tr>\n",
       "      <th>1</th>\n",
       "      <td>17.621010</td>\n",
       "    </tr>\n",
       "    <tr>\n",
       "      <th rowspan=\"2\" valign=\"top\">yes</th>\n",
       "      <th>0</th>\n",
       "      <td>0.086560</td>\n",
       "    </tr>\n",
       "    <tr>\n",
       "      <th>1</th>\n",
       "      <td>0.216563</td>\n",
       "    </tr>\n",
       "    <tr>\n",
       "      <th rowspan=\"4\" valign=\"top\">R</th>\n",
       "      <th rowspan=\"2\" valign=\"top\">no</th>\n",
       "      <th>0</th>\n",
       "      <td>14.577380</td>\n",
       "    </tr>\n",
       "    <tr>\n",
       "      <th>1</th>\n",
       "      <td>16.681327</td>\n",
       "    </tr>\n",
       "    <tr>\n",
       "      <th rowspan=\"2\" valign=\"top\">yes</th>\n",
       "      <th>0</th>\n",
       "      <td>0.149593</td>\n",
       "    </tr>\n",
       "    <tr>\n",
       "      <th>1</th>\n",
       "      <td>0.240891</td>\n",
       "    </tr>\n",
       "    <tr>\n",
       "      <th rowspan=\"4\" valign=\"top\">W</th>\n",
       "      <th rowspan=\"2\" valign=\"top\">no</th>\n",
       "      <th>0</th>\n",
       "      <td>31.097696</td>\n",
       "    </tr>\n",
       "    <tr>\n",
       "      <th>1</th>\n",
       "      <td>24.803450</td>\n",
       "    </tr>\n",
       "    <tr>\n",
       "      <th rowspan=\"2\" valign=\"top\">yes</th>\n",
       "      <th>0</th>\n",
       "      <td>0.093384</td>\n",
       "    </tr>\n",
       "    <tr>\n",
       "      <th>1</th>\n",
       "      <td>0.093384</td>\n",
       "    </tr>\n",
       "  </tbody>\n",
       "</table>\n",
       "</div>"
      ],
      "text/plain": [
       "                       count\n",
       "stage norm phase            \n",
       "N2    no   0      628.026539\n",
       "           1      712.710951\n",
       "      yes  0        0.022772\n",
       "           1        0.022772\n",
       "N3    no   0       12.074767\n",
       "           1       17.621010\n",
       "      yes  0        0.086560\n",
       "           1        0.216563\n",
       "R     no   0       14.577380\n",
       "           1       16.681327\n",
       "      yes  0        0.149593\n",
       "           1        0.240891\n",
       "W     no   0       31.097696\n",
       "           1       24.803450\n",
       "      yes  0        0.093384\n",
       "           1        0.093384"
      ]
     },
     "execution_count": 22,
     "metadata": {},
     "output_type": "execute_result"
    }
   ],
   "source": [
    "df_tidy.groupby(['stage','norm','phase']).std()"
   ]
  },
  {
   "cell_type": "code",
   "execution_count": 23,
   "id": "3220b03d-a75f-4ed6-9326-630582c5b7ee",
   "metadata": {
    "execution": {
     "iopub.execute_input": "2022-05-25T15:28:25.880324Z",
     "iopub.status.busy": "2022-05-25T15:28:25.880187Z",
     "iopub.status.idle": "2022-05-25T15:28:26.713321Z",
     "shell.execute_reply": "2022-05-25T15:28:26.710295Z",
     "shell.execute_reply.started": "2022-05-25T15:28:25.880310Z"
    }
   },
   "outputs": [
    {
     "ename": "KeyboardInterrupt",
     "evalue": "",
     "output_type": "error",
     "traceback": [
      "\u001b[0;31m---------------------------------------------------------------------------\u001b[0m",
      "\u001b[0;31mKeyboardInterrupt\u001b[0m                         Traceback (most recent call last)",
      "\u001b[0;32m/tmp/ipykernel_198917/1894264508.py\u001b[0m in \u001b[0;36m<module>\u001b[0;34m\u001b[0m\n\u001b[1;32m      4\u001b[0m     \u001b[0;32mfor\u001b[0m \u001b[0mcol\u001b[0m\u001b[0;34m,\u001b[0m \u001b[0mmode\u001b[0m \u001b[0;32min\u001b[0m \u001b[0menumerate\u001b[0m\u001b[0;34m(\u001b[0m\u001b[0;34m[\u001b[0m\u001b[0;34m'box'\u001b[0m\u001b[0;34m,\u001b[0m\u001b[0;34m'distribution'\u001b[0m\u001b[0;34m]\u001b[0m\u001b[0;34m)\u001b[0m\u001b[0;34m:\u001b[0m\u001b[0;34m\u001b[0m\u001b[0;34m\u001b[0m\u001b[0m\n\u001b[1;32m      5\u001b[0m         \u001b[0max\u001b[0m \u001b[0;34m=\u001b[0m \u001b[0maxs\u001b[0m\u001b[0;34m[\u001b[0m\u001b[0mrow\u001b[0m\u001b[0;34m,\u001b[0m \u001b[0mcol\u001b[0m\u001b[0;34m]\u001b[0m\u001b[0;34m\u001b[0m\u001b[0;34m\u001b[0m\u001b[0m\n\u001b[0;32m----> 6\u001b[0;31m         \u001b[0mgh\u001b[0m\u001b[0;34m.\u001b[0m\u001b[0mauto_stats\u001b[0m\u001b[0;34m(\u001b[0m\u001b[0mdf\u001b[0m\u001b[0;34m=\u001b[0m\u001b[0mdf_tidy\u001b[0m\u001b[0;34m[\u001b[0m\u001b[0;34m(\u001b[0m\u001b[0mdf_tidy\u001b[0m\u001b[0;34m[\u001b[0m\u001b[0;34m'stage'\u001b[0m\u001b[0;34m]\u001b[0m \u001b[0;34m==\u001b[0m \u001b[0;34m'N2'\u001b[0m\u001b[0;34m)\u001b[0m \u001b[0;34m&\u001b[0m \u001b[0;34m(\u001b[0m\u001b[0mdf_tidy\u001b[0m\u001b[0;34m[\u001b[0m\u001b[0;34m'norm'\u001b[0m\u001b[0;34m]\u001b[0m \u001b[0;34m==\u001b[0m \u001b[0mnorm\u001b[0m\u001b[0;34m)\u001b[0m\u001b[0;34m]\u001b[0m \u001b[0;34m,\u001b[0m \u001b[0mpredictor\u001b[0m \u001b[0;34m=\u001b[0m \u001b[0;34m'phase'\u001b[0m\u001b[0;34m,\u001b[0m \u001b[0moutcome\u001b[0m \u001b[0;34m=\u001b[0m \u001b[0;34m'count'\u001b[0m \u001b[0;34m,\u001b[0m \u001b[0mdesign\u001b[0m \u001b[0;34m=\u001b[0m \u001b[0;34m'within'\u001b[0m\u001b[0;34m,\u001b[0m \u001b[0max\u001b[0m\u001b[0;34m=\u001b[0m\u001b[0max\u001b[0m\u001b[0;34m,\u001b[0m \u001b[0mmode\u001b[0m \u001b[0;34m=\u001b[0m \u001b[0mmode\u001b[0m\u001b[0;34m)\u001b[0m\u001b[0;34m\u001b[0m\u001b[0;34m\u001b[0m\u001b[0m\n\u001b[0m",
      "\u001b[0;32m~/Documents/ghibtools/ghibtools/stats.py\u001b[0m in \u001b[0;36mauto_stats\u001b[0;34m(df, predictor, outcome, ax, subject, design, mode, transform, verbose)\u001b[0m\n\u001b[1;32m    333\u001b[0m     \u001b[0;32melif\u001b[0m \u001b[0mmode\u001b[0m \u001b[0;34m==\u001b[0m \u001b[0;34m'distribution'\u001b[0m\u001b[0;34m:\u001b[0m\u001b[0;34m\u001b[0m\u001b[0;34m\u001b[0m\u001b[0m\n\u001b[1;32m    334\u001b[0m         \u001b[0;31m# ax = sns.histplot(df, x=outcome, hue = predictor, kde = True, ax=ax)\u001b[0m\u001b[0;34m\u001b[0m\u001b[0;34m\u001b[0m\u001b[0;34m\u001b[0m\u001b[0m\n\u001b[0;32m--> 335\u001b[0;31m         \u001b[0max\u001b[0m \u001b[0;34m=\u001b[0m \u001b[0msns\u001b[0m\u001b[0;34m.\u001b[0m\u001b[0mkdeplot\u001b[0m\u001b[0;34m(\u001b[0m\u001b[0mdata\u001b[0m\u001b[0;34m=\u001b[0m\u001b[0mdf\u001b[0m\u001b[0;34m,\u001b[0m \u001b[0mx\u001b[0m\u001b[0;34m=\u001b[0m\u001b[0moutcome\u001b[0m\u001b[0;34m,\u001b[0m \u001b[0mhue\u001b[0m \u001b[0;34m=\u001b[0m \u001b[0mpredictor\u001b[0m\u001b[0;34m,\u001b[0m \u001b[0max\u001b[0m\u001b[0;34m=\u001b[0m\u001b[0max\u001b[0m\u001b[0;34m)\u001b[0m\u001b[0;34m\u001b[0m\u001b[0;34m\u001b[0m\u001b[0m\n\u001b[0m\u001b[1;32m    336\u001b[0m \u001b[0;34m\u001b[0m\u001b[0m\n\u001b[1;32m    337\u001b[0m     \u001b[0;32mif\u001b[0m \u001b[0mes_label\u001b[0m \u001b[0;32mis\u001b[0m \u001b[0;32mNone\u001b[0m\u001b[0;34m:\u001b[0m\u001b[0;34m\u001b[0m\u001b[0;34m\u001b[0m\u001b[0m\n",
      "\u001b[0;32m~/.virtualenvs/py38/lib/python3.8/site-packages/seaborn/_decorators.py\u001b[0m in \u001b[0;36minner_f\u001b[0;34m(*args, **kwargs)\u001b[0m\n\u001b[1;32m     44\u001b[0m             )\n\u001b[1;32m     45\u001b[0m         \u001b[0mkwargs\u001b[0m\u001b[0;34m.\u001b[0m\u001b[0mupdate\u001b[0m\u001b[0;34m(\u001b[0m\u001b[0;34m{\u001b[0m\u001b[0mk\u001b[0m\u001b[0;34m:\u001b[0m \u001b[0marg\u001b[0m \u001b[0;32mfor\u001b[0m \u001b[0mk\u001b[0m\u001b[0;34m,\u001b[0m \u001b[0marg\u001b[0m \u001b[0;32min\u001b[0m \u001b[0mzip\u001b[0m\u001b[0;34m(\u001b[0m\u001b[0msig\u001b[0m\u001b[0;34m.\u001b[0m\u001b[0mparameters\u001b[0m\u001b[0;34m,\u001b[0m \u001b[0margs\u001b[0m\u001b[0;34m)\u001b[0m\u001b[0;34m}\u001b[0m\u001b[0;34m)\u001b[0m\u001b[0;34m\u001b[0m\u001b[0;34m\u001b[0m\u001b[0m\n\u001b[0;32m---> 46\u001b[0;31m         \u001b[0;32mreturn\u001b[0m \u001b[0mf\u001b[0m\u001b[0;34m(\u001b[0m\u001b[0;34m**\u001b[0m\u001b[0mkwargs\u001b[0m\u001b[0;34m)\u001b[0m\u001b[0;34m\u001b[0m\u001b[0;34m\u001b[0m\u001b[0m\n\u001b[0m\u001b[1;32m     47\u001b[0m     \u001b[0;32mreturn\u001b[0m \u001b[0minner_f\u001b[0m\u001b[0;34m\u001b[0m\u001b[0;34m\u001b[0m\u001b[0m\n\u001b[1;32m     48\u001b[0m \u001b[0;34m\u001b[0m\u001b[0m\n",
      "\u001b[0;32m~/.virtualenvs/py38/lib/python3.8/site-packages/seaborn/distributions.py\u001b[0m in \u001b[0;36mkdeplot\u001b[0;34m(x, y, shade, vertical, kernel, bw, gridsize, cut, clip, legend, cumulative, shade_lowest, cbar, cbar_ax, cbar_kws, ax, weights, hue, palette, hue_order, hue_norm, multiple, common_norm, common_grid, levels, thresh, bw_method, bw_adjust, log_scale, color, fill, data, data2, warn_singular, **kwargs)\u001b[0m\n\u001b[1;32m   1768\u001b[0m             \u001b[0mplot_kws\u001b[0m\u001b[0;34m[\u001b[0m\u001b[0;34m\"color\"\u001b[0m\u001b[0;34m]\u001b[0m \u001b[0;34m=\u001b[0m \u001b[0mcolor\u001b[0m\u001b[0;34m\u001b[0m\u001b[0;34m\u001b[0m\u001b[0m\n\u001b[1;32m   1769\u001b[0m \u001b[0;34m\u001b[0m\u001b[0m\n\u001b[0;32m-> 1770\u001b[0;31m         p.plot_univariate_density(\n\u001b[0m\u001b[1;32m   1771\u001b[0m             \u001b[0mmultiple\u001b[0m\u001b[0;34m=\u001b[0m\u001b[0mmultiple\u001b[0m\u001b[0;34m,\u001b[0m\u001b[0;34m\u001b[0m\u001b[0;34m\u001b[0m\u001b[0m\n\u001b[1;32m   1772\u001b[0m             \u001b[0mcommon_norm\u001b[0m\u001b[0;34m=\u001b[0m\u001b[0mcommon_norm\u001b[0m\u001b[0;34m,\u001b[0m\u001b[0;34m\u001b[0m\u001b[0;34m\u001b[0m\u001b[0m\n",
      "\u001b[0;32m~/.virtualenvs/py38/lib/python3.8/site-packages/seaborn/distributions.py\u001b[0m in \u001b[0;36mplot_univariate_density\u001b[0;34m(self, multiple, common_norm, common_grid, warn_singular, fill, legend, estimate_kws, **plot_kws)\u001b[0m\n\u001b[1;32m   1017\u001b[0m                     )\n\u001b[1;32m   1018\u001b[0m                 \u001b[0;32melse\u001b[0m\u001b[0;34m:\u001b[0m\u001b[0;34m\u001b[0m\u001b[0;34m\u001b[0m\u001b[0m\n\u001b[0;32m-> 1019\u001b[0;31m                     \u001b[0martist\u001b[0m\u001b[0;34m,\u001b[0m \u001b[0;34m=\u001b[0m \u001b[0max\u001b[0m\u001b[0;34m.\u001b[0m\u001b[0mplot\u001b[0m\u001b[0;34m(\u001b[0m\u001b[0msupport\u001b[0m\u001b[0;34m,\u001b[0m \u001b[0mdensity\u001b[0m\u001b[0;34m,\u001b[0m \u001b[0;34m**\u001b[0m\u001b[0martist_kws\u001b[0m\u001b[0;34m)\u001b[0m\u001b[0;34m\u001b[0m\u001b[0;34m\u001b[0m\u001b[0m\n\u001b[0m\u001b[1;32m   1020\u001b[0m \u001b[0;34m\u001b[0m\u001b[0m\n\u001b[1;32m   1021\u001b[0m                 \u001b[0martist\u001b[0m\u001b[0;34m.\u001b[0m\u001b[0msticky_edges\u001b[0m\u001b[0;34m.\u001b[0m\u001b[0mx\u001b[0m\u001b[0;34m[\u001b[0m\u001b[0;34m:\u001b[0m\u001b[0;34m]\u001b[0m \u001b[0;34m=\u001b[0m \u001b[0msticky_support\u001b[0m\u001b[0;34m\u001b[0m\u001b[0;34m\u001b[0m\u001b[0m\n",
      "\u001b[0;32m~/.virtualenvs/py38/lib/python3.8/site-packages/matplotlib/axes/_axes.py\u001b[0m in \u001b[0;36mplot\u001b[0;34m(self, scalex, scaley, data, *args, **kwargs)\u001b[0m\n\u001b[1;32m   1630\u001b[0m         \"\"\"\n\u001b[1;32m   1631\u001b[0m         \u001b[0mkwargs\u001b[0m \u001b[0;34m=\u001b[0m \u001b[0mcbook\u001b[0m\u001b[0;34m.\u001b[0m\u001b[0mnormalize_kwargs\u001b[0m\u001b[0;34m(\u001b[0m\u001b[0mkwargs\u001b[0m\u001b[0;34m,\u001b[0m \u001b[0mmlines\u001b[0m\u001b[0;34m.\u001b[0m\u001b[0mLine2D\u001b[0m\u001b[0;34m)\u001b[0m\u001b[0;34m\u001b[0m\u001b[0;34m\u001b[0m\u001b[0m\n\u001b[0;32m-> 1632\u001b[0;31m         \u001b[0mlines\u001b[0m \u001b[0;34m=\u001b[0m \u001b[0;34m[\u001b[0m\u001b[0;34m*\u001b[0m\u001b[0mself\u001b[0m\u001b[0;34m.\u001b[0m\u001b[0m_get_lines\u001b[0m\u001b[0;34m(\u001b[0m\u001b[0;34m*\u001b[0m\u001b[0margs\u001b[0m\u001b[0;34m,\u001b[0m \u001b[0mdata\u001b[0m\u001b[0;34m=\u001b[0m\u001b[0mdata\u001b[0m\u001b[0;34m,\u001b[0m \u001b[0;34m**\u001b[0m\u001b[0mkwargs\u001b[0m\u001b[0;34m)\u001b[0m\u001b[0;34m]\u001b[0m\u001b[0;34m\u001b[0m\u001b[0;34m\u001b[0m\u001b[0m\n\u001b[0m\u001b[1;32m   1633\u001b[0m         \u001b[0;32mfor\u001b[0m \u001b[0mline\u001b[0m \u001b[0;32min\u001b[0m \u001b[0mlines\u001b[0m\u001b[0;34m:\u001b[0m\u001b[0;34m\u001b[0m\u001b[0;34m\u001b[0m\u001b[0m\n\u001b[1;32m   1634\u001b[0m             \u001b[0mself\u001b[0m\u001b[0;34m.\u001b[0m\u001b[0madd_line\u001b[0m\u001b[0;34m(\u001b[0m\u001b[0mline\u001b[0m\u001b[0;34m)\u001b[0m\u001b[0;34m\u001b[0m\u001b[0;34m\u001b[0m\u001b[0m\n",
      "\u001b[0;32m~/.virtualenvs/py38/lib/python3.8/site-packages/matplotlib/axes/_base.py\u001b[0m in \u001b[0;36m__call__\u001b[0;34m(self, data, *args, **kwargs)\u001b[0m\n\u001b[1;32m    310\u001b[0m                 \u001b[0mthis\u001b[0m \u001b[0;34m+=\u001b[0m \u001b[0margs\u001b[0m\u001b[0;34m[\u001b[0m\u001b[0;36m0\u001b[0m\u001b[0;34m]\u001b[0m\u001b[0;34m,\u001b[0m\u001b[0;34m\u001b[0m\u001b[0;34m\u001b[0m\u001b[0m\n\u001b[1;32m    311\u001b[0m                 \u001b[0margs\u001b[0m \u001b[0;34m=\u001b[0m \u001b[0margs\u001b[0m\u001b[0;34m[\u001b[0m\u001b[0;36m1\u001b[0m\u001b[0;34m:\u001b[0m\u001b[0;34m]\u001b[0m\u001b[0;34m\u001b[0m\u001b[0;34m\u001b[0m\u001b[0m\n\u001b[0;32m--> 312\u001b[0;31m             \u001b[0;32myield\u001b[0m \u001b[0;32mfrom\u001b[0m \u001b[0mself\u001b[0m\u001b[0;34m.\u001b[0m\u001b[0m_plot_args\u001b[0m\u001b[0;34m(\u001b[0m\u001b[0mthis\u001b[0m\u001b[0;34m,\u001b[0m \u001b[0mkwargs\u001b[0m\u001b[0;34m)\u001b[0m\u001b[0;34m\u001b[0m\u001b[0;34m\u001b[0m\u001b[0m\n\u001b[0m\u001b[1;32m    313\u001b[0m \u001b[0;34m\u001b[0m\u001b[0m\n\u001b[1;32m    314\u001b[0m     \u001b[0;32mdef\u001b[0m \u001b[0mget_next_color\u001b[0m\u001b[0;34m(\u001b[0m\u001b[0mself\u001b[0m\u001b[0;34m)\u001b[0m\u001b[0;34m:\u001b[0m\u001b[0;34m\u001b[0m\u001b[0;34m\u001b[0m\u001b[0m\n",
      "\u001b[0;32m~/.virtualenvs/py38/lib/python3.8/site-packages/matplotlib/axes/_base.py\u001b[0m in \u001b[0;36m_plot_args\u001b[0;34m(self, tup, kwargs, return_kwargs)\u001b[0m\n\u001b[1;32m    485\u001b[0m \u001b[0;34m\u001b[0m\u001b[0m\n\u001b[1;32m    486\u001b[0m         \u001b[0;32mif\u001b[0m \u001b[0mlen\u001b[0m\u001b[0;34m(\u001b[0m\u001b[0mxy\u001b[0m\u001b[0;34m)\u001b[0m \u001b[0;34m==\u001b[0m \u001b[0;36m2\u001b[0m\u001b[0;34m:\u001b[0m\u001b[0;34m\u001b[0m\u001b[0;34m\u001b[0m\u001b[0m\n\u001b[0;32m--> 487\u001b[0;31m             \u001b[0mx\u001b[0m \u001b[0;34m=\u001b[0m \u001b[0m_check_1d\u001b[0m\u001b[0;34m(\u001b[0m\u001b[0mxy\u001b[0m\u001b[0;34m[\u001b[0m\u001b[0;36m0\u001b[0m\u001b[0;34m]\u001b[0m\u001b[0;34m)\u001b[0m\u001b[0;34m\u001b[0m\u001b[0;34m\u001b[0m\u001b[0m\n\u001b[0m\u001b[1;32m    488\u001b[0m             \u001b[0my\u001b[0m \u001b[0;34m=\u001b[0m \u001b[0m_check_1d\u001b[0m\u001b[0;34m(\u001b[0m\u001b[0mxy\u001b[0m\u001b[0;34m[\u001b[0m\u001b[0;36m1\u001b[0m\u001b[0;34m]\u001b[0m\u001b[0;34m)\u001b[0m\u001b[0;34m\u001b[0m\u001b[0;34m\u001b[0m\u001b[0m\n\u001b[1;32m    489\u001b[0m         \u001b[0;32melse\u001b[0m\u001b[0;34m:\u001b[0m\u001b[0;34m\u001b[0m\u001b[0;34m\u001b[0m\u001b[0m\n",
      "\u001b[0;32m~/.virtualenvs/py38/lib/python3.8/site-packages/matplotlib/cbook/__init__.py\u001b[0m in \u001b[0;36m_check_1d\u001b[0;34m(x)\u001b[0m\n\u001b[1;32m   1325\u001b[0m                     message='Support for multi-dimensional indexing')\n\u001b[1;32m   1326\u001b[0m \u001b[0;34m\u001b[0m\u001b[0m\n\u001b[0;32m-> 1327\u001b[0;31m                 \u001b[0mndim\u001b[0m \u001b[0;34m=\u001b[0m \u001b[0mx\u001b[0m\u001b[0;34m[\u001b[0m\u001b[0;34m:\u001b[0m\u001b[0;34m,\u001b[0m \u001b[0;32mNone\u001b[0m\u001b[0;34m]\u001b[0m\u001b[0;34m.\u001b[0m\u001b[0mndim\u001b[0m\u001b[0;34m\u001b[0m\u001b[0;34m\u001b[0m\u001b[0m\n\u001b[0m\u001b[1;32m   1328\u001b[0m                 \u001b[0;31m# we have definitely hit a pandas index or series object\u001b[0m\u001b[0;34m\u001b[0m\u001b[0;34m\u001b[0m\u001b[0;34m\u001b[0m\u001b[0m\n\u001b[1;32m   1329\u001b[0m                 \u001b[0;31m# cast to a numpy array.\u001b[0m\u001b[0;34m\u001b[0m\u001b[0;34m\u001b[0m\u001b[0;34m\u001b[0m\u001b[0m\n",
      "\u001b[0;32m~/.virtualenvs/py38/lib/python3.8/site-packages/pandas/core/indexes/base.py\u001b[0m in \u001b[0;36m__getitem__\u001b[0;34m(self, key)\u001b[0m\n\u001b[1;32m   5056\u001b[0m         \u001b[0;31m# Because we ruled out integer above, we always get an arraylike here\u001b[0m\u001b[0;34m\u001b[0m\u001b[0;34m\u001b[0m\u001b[0;34m\u001b[0m\u001b[0m\n\u001b[1;32m   5057\u001b[0m         \u001b[0;32mif\u001b[0m \u001b[0mresult\u001b[0m\u001b[0;34m.\u001b[0m\u001b[0mndim\u001b[0m \u001b[0;34m>\u001b[0m \u001b[0;36m1\u001b[0m\u001b[0;34m:\u001b[0m\u001b[0;34m\u001b[0m\u001b[0;34m\u001b[0m\u001b[0m\n\u001b[0;32m-> 5058\u001b[0;31m             \u001b[0mdeprecate_ndim_indexing\u001b[0m\u001b[0;34m(\u001b[0m\u001b[0mresult\u001b[0m\u001b[0;34m)\u001b[0m\u001b[0;34m\u001b[0m\u001b[0;34m\u001b[0m\u001b[0m\n\u001b[0m\u001b[1;32m   5059\u001b[0m             \u001b[0;32mif\u001b[0m \u001b[0mhasattr\u001b[0m\u001b[0;34m(\u001b[0m\u001b[0mresult\u001b[0m\u001b[0;34m,\u001b[0m \u001b[0;34m\"_ndarray\"\u001b[0m\u001b[0;34m)\u001b[0m\u001b[0;34m:\u001b[0m\u001b[0;34m\u001b[0m\u001b[0;34m\u001b[0m\u001b[0m\n\u001b[1;32m   5060\u001b[0m                 \u001b[0;31m# error: Item \"ndarray[Any, Any]\" of \"Union[ExtensionArray,\u001b[0m\u001b[0;34m\u001b[0m\u001b[0;34m\u001b[0m\u001b[0;34m\u001b[0m\u001b[0m\n",
      "\u001b[0;32m~/.virtualenvs/py38/lib/python3.8/site-packages/pandas/core/indexers/utils.py\u001b[0m in \u001b[0;36mdeprecate_ndim_indexing\u001b[0;34m(result, stacklevel)\u001b[0m\n\u001b[1;32m    376\u001b[0m             \u001b[0;34m\"version.  Convert to a numpy array before indexing instead.\"\u001b[0m\u001b[0;34m,\u001b[0m\u001b[0;34m\u001b[0m\u001b[0;34m\u001b[0m\u001b[0m\n\u001b[1;32m    377\u001b[0m             \u001b[0mFutureWarning\u001b[0m\u001b[0;34m,\u001b[0m\u001b[0;34m\u001b[0m\u001b[0;34m\u001b[0m\u001b[0m\n\u001b[0;32m--> 378\u001b[0;31m             \u001b[0mstacklevel\u001b[0m\u001b[0;34m=\u001b[0m\u001b[0mfind_stack_level\u001b[0m\u001b[0;34m(\u001b[0m\u001b[0;34m)\u001b[0m\u001b[0;34m,\u001b[0m\u001b[0;34m\u001b[0m\u001b[0;34m\u001b[0m\u001b[0m\n\u001b[0m\u001b[1;32m    379\u001b[0m         )\n\u001b[1;32m    380\u001b[0m \u001b[0;34m\u001b[0m\u001b[0m\n",
      "\u001b[0;32m~/.virtualenvs/py38/lib/python3.8/site-packages/pandas/util/_exceptions.py\u001b[0m in \u001b[0;36mfind_stack_level\u001b[0;34m()\u001b[0m\n\u001b[1;32m     30\u001b[0m     \u001b[0;34m(\u001b[0m\u001b[0mtests\u001b[0m \u001b[0mnotwithstanding\u001b[0m\u001b[0;34m)\u001b[0m\u001b[0;34m.\u001b[0m\u001b[0;34m\u001b[0m\u001b[0;34m\u001b[0m\u001b[0m\n\u001b[1;32m     31\u001b[0m     \"\"\"\n\u001b[0;32m---> 32\u001b[0;31m     \u001b[0mstack\u001b[0m \u001b[0;34m=\u001b[0m \u001b[0minspect\u001b[0m\u001b[0;34m.\u001b[0m\u001b[0mstack\u001b[0m\u001b[0;34m(\u001b[0m\u001b[0;34m)\u001b[0m\u001b[0;34m\u001b[0m\u001b[0;34m\u001b[0m\u001b[0m\n\u001b[0m\u001b[1;32m     33\u001b[0m \u001b[0;34m\u001b[0m\u001b[0m\n\u001b[1;32m     34\u001b[0m     \u001b[0;32mimport\u001b[0m \u001b[0mpandas\u001b[0m \u001b[0;32mas\u001b[0m \u001b[0mpd\u001b[0m\u001b[0;34m\u001b[0m\u001b[0;34m\u001b[0m\u001b[0m\n",
      "\u001b[0;32m/usr/lib/python3.8/inspect.py\u001b[0m in \u001b[0;36mstack\u001b[0;34m(context)\u001b[0m\n\u001b[1;32m   1524\u001b[0m \u001b[0;32mdef\u001b[0m \u001b[0mstack\u001b[0m\u001b[0;34m(\u001b[0m\u001b[0mcontext\u001b[0m\u001b[0;34m=\u001b[0m\u001b[0;36m1\u001b[0m\u001b[0;34m)\u001b[0m\u001b[0;34m:\u001b[0m\u001b[0;34m\u001b[0m\u001b[0;34m\u001b[0m\u001b[0m\n\u001b[1;32m   1525\u001b[0m     \u001b[0;34m\"\"\"Return a list of records for the stack above the caller's frame.\"\"\"\u001b[0m\u001b[0;34m\u001b[0m\u001b[0;34m\u001b[0m\u001b[0m\n\u001b[0;32m-> 1526\u001b[0;31m     \u001b[0;32mreturn\u001b[0m \u001b[0mgetouterframes\u001b[0m\u001b[0;34m(\u001b[0m\u001b[0msys\u001b[0m\u001b[0;34m.\u001b[0m\u001b[0m_getframe\u001b[0m\u001b[0;34m(\u001b[0m\u001b[0;36m1\u001b[0m\u001b[0;34m)\u001b[0m\u001b[0;34m,\u001b[0m \u001b[0mcontext\u001b[0m\u001b[0;34m)\u001b[0m\u001b[0;34m\u001b[0m\u001b[0;34m\u001b[0m\u001b[0m\n\u001b[0m\u001b[1;32m   1527\u001b[0m \u001b[0;34m\u001b[0m\u001b[0m\n\u001b[1;32m   1528\u001b[0m \u001b[0;32mdef\u001b[0m \u001b[0mtrace\u001b[0m\u001b[0;34m(\u001b[0m\u001b[0mcontext\u001b[0m\u001b[0;34m=\u001b[0m\u001b[0;36m1\u001b[0m\u001b[0;34m)\u001b[0m\u001b[0;34m:\u001b[0m\u001b[0;34m\u001b[0m\u001b[0;34m\u001b[0m\u001b[0m\n",
      "\u001b[0;32m/usr/lib/python3.8/inspect.py\u001b[0m in \u001b[0;36mgetouterframes\u001b[0;34m(frame, context)\u001b[0m\n\u001b[1;32m   1501\u001b[0m     \u001b[0mframelist\u001b[0m \u001b[0;34m=\u001b[0m \u001b[0;34m[\u001b[0m\u001b[0;34m]\u001b[0m\u001b[0;34m\u001b[0m\u001b[0;34m\u001b[0m\u001b[0m\n\u001b[1;32m   1502\u001b[0m     \u001b[0;32mwhile\u001b[0m \u001b[0mframe\u001b[0m\u001b[0;34m:\u001b[0m\u001b[0;34m\u001b[0m\u001b[0;34m\u001b[0m\u001b[0m\n\u001b[0;32m-> 1503\u001b[0;31m         \u001b[0mframeinfo\u001b[0m \u001b[0;34m=\u001b[0m \u001b[0;34m(\u001b[0m\u001b[0mframe\u001b[0m\u001b[0;34m,\u001b[0m\u001b[0;34m)\u001b[0m \u001b[0;34m+\u001b[0m \u001b[0mgetframeinfo\u001b[0m\u001b[0;34m(\u001b[0m\u001b[0mframe\u001b[0m\u001b[0;34m,\u001b[0m \u001b[0mcontext\u001b[0m\u001b[0;34m)\u001b[0m\u001b[0;34m\u001b[0m\u001b[0;34m\u001b[0m\u001b[0m\n\u001b[0m\u001b[1;32m   1504\u001b[0m         \u001b[0mframelist\u001b[0m\u001b[0;34m.\u001b[0m\u001b[0mappend\u001b[0m\u001b[0;34m(\u001b[0m\u001b[0mFrameInfo\u001b[0m\u001b[0;34m(\u001b[0m\u001b[0;34m*\u001b[0m\u001b[0mframeinfo\u001b[0m\u001b[0;34m)\u001b[0m\u001b[0;34m)\u001b[0m\u001b[0;34m\u001b[0m\u001b[0;34m\u001b[0m\u001b[0m\n\u001b[1;32m   1505\u001b[0m         \u001b[0mframe\u001b[0m \u001b[0;34m=\u001b[0m \u001b[0mframe\u001b[0m\u001b[0;34m.\u001b[0m\u001b[0mf_back\u001b[0m\u001b[0;34m\u001b[0m\u001b[0;34m\u001b[0m\u001b[0m\n",
      "\u001b[0;32m/usr/lib/python3.8/inspect.py\u001b[0m in \u001b[0;36mgetframeinfo\u001b[0;34m(frame, context)\u001b[0m\n\u001b[1;32m   1475\u001b[0m         \u001b[0mstart\u001b[0m \u001b[0;34m=\u001b[0m \u001b[0mlineno\u001b[0m \u001b[0;34m-\u001b[0m \u001b[0;36m1\u001b[0m \u001b[0;34m-\u001b[0m \u001b[0mcontext\u001b[0m\u001b[0;34m//\u001b[0m\u001b[0;36m2\u001b[0m\u001b[0;34m\u001b[0m\u001b[0;34m\u001b[0m\u001b[0m\n\u001b[1;32m   1476\u001b[0m         \u001b[0;32mtry\u001b[0m\u001b[0;34m:\u001b[0m\u001b[0;34m\u001b[0m\u001b[0;34m\u001b[0m\u001b[0m\n\u001b[0;32m-> 1477\u001b[0;31m             \u001b[0mlines\u001b[0m\u001b[0;34m,\u001b[0m \u001b[0mlnum\u001b[0m \u001b[0;34m=\u001b[0m \u001b[0mfindsource\u001b[0m\u001b[0;34m(\u001b[0m\u001b[0mframe\u001b[0m\u001b[0;34m)\u001b[0m\u001b[0;34m\u001b[0m\u001b[0;34m\u001b[0m\u001b[0m\n\u001b[0m\u001b[1;32m   1478\u001b[0m         \u001b[0;32mexcept\u001b[0m \u001b[0mOSError\u001b[0m\u001b[0;34m:\u001b[0m\u001b[0;34m\u001b[0m\u001b[0;34m\u001b[0m\u001b[0m\n\u001b[1;32m   1479\u001b[0m             \u001b[0mlines\u001b[0m \u001b[0;34m=\u001b[0m \u001b[0mindex\u001b[0m \u001b[0;34m=\u001b[0m \u001b[0;32mNone\u001b[0m\u001b[0;34m\u001b[0m\u001b[0;34m\u001b[0m\u001b[0m\n",
      "\u001b[0;32m/usr/lib/python3.8/inspect.py\u001b[0m in \u001b[0;36mfindsource\u001b[0;34m(object)\u001b[0m\n\u001b[1;32m    790\u001b[0m             \u001b[0;32mraise\u001b[0m \u001b[0mOSError\u001b[0m\u001b[0;34m(\u001b[0m\u001b[0;34m'source code not available'\u001b[0m\u001b[0;34m)\u001b[0m\u001b[0;34m\u001b[0m\u001b[0;34m\u001b[0m\u001b[0m\n\u001b[1;32m    791\u001b[0m \u001b[0;34m\u001b[0m\u001b[0m\n\u001b[0;32m--> 792\u001b[0;31m     \u001b[0mmodule\u001b[0m \u001b[0;34m=\u001b[0m \u001b[0mgetmodule\u001b[0m\u001b[0;34m(\u001b[0m\u001b[0mobject\u001b[0m\u001b[0;34m,\u001b[0m \u001b[0mfile\u001b[0m\u001b[0;34m)\u001b[0m\u001b[0;34m\u001b[0m\u001b[0;34m\u001b[0m\u001b[0m\n\u001b[0m\u001b[1;32m    793\u001b[0m     \u001b[0;32mif\u001b[0m \u001b[0mmodule\u001b[0m\u001b[0;34m:\u001b[0m\u001b[0;34m\u001b[0m\u001b[0;34m\u001b[0m\u001b[0m\n\u001b[1;32m    794\u001b[0m         \u001b[0mlines\u001b[0m \u001b[0;34m=\u001b[0m \u001b[0mlinecache\u001b[0m\u001b[0;34m.\u001b[0m\u001b[0mgetlines\u001b[0m\u001b[0;34m(\u001b[0m\u001b[0mfile\u001b[0m\u001b[0;34m,\u001b[0m \u001b[0mmodule\u001b[0m\u001b[0;34m.\u001b[0m\u001b[0m__dict__\u001b[0m\u001b[0;34m)\u001b[0m\u001b[0;34m\u001b[0m\u001b[0;34m\u001b[0m\u001b[0m\n",
      "\u001b[0;32m/usr/lib/python3.8/inspect.py\u001b[0m in \u001b[0;36mgetmodule\u001b[0;34m(object, _filename)\u001b[0m\n\u001b[1;32m    742\u001b[0m     \u001b[0;31m# Update the filename to module name cache and check yet again\u001b[0m\u001b[0;34m\u001b[0m\u001b[0;34m\u001b[0m\u001b[0;34m\u001b[0m\u001b[0m\n\u001b[1;32m    743\u001b[0m     \u001b[0;31m# Copy sys.modules in order to cope with changes while iterating\u001b[0m\u001b[0;34m\u001b[0m\u001b[0;34m\u001b[0m\u001b[0;34m\u001b[0m\u001b[0m\n\u001b[0;32m--> 744\u001b[0;31m     \u001b[0;32mfor\u001b[0m \u001b[0mmodname\u001b[0m\u001b[0;34m,\u001b[0m \u001b[0mmodule\u001b[0m \u001b[0;32min\u001b[0m \u001b[0msys\u001b[0m\u001b[0;34m.\u001b[0m\u001b[0mmodules\u001b[0m\u001b[0;34m.\u001b[0m\u001b[0mcopy\u001b[0m\u001b[0;34m(\u001b[0m\u001b[0;34m)\u001b[0m\u001b[0;34m.\u001b[0m\u001b[0mitems\u001b[0m\u001b[0;34m(\u001b[0m\u001b[0;34m)\u001b[0m\u001b[0;34m:\u001b[0m\u001b[0;34m\u001b[0m\u001b[0;34m\u001b[0m\u001b[0m\n\u001b[0m\u001b[1;32m    745\u001b[0m         \u001b[0;32mif\u001b[0m \u001b[0mismodule\u001b[0m\u001b[0;34m(\u001b[0m\u001b[0mmodule\u001b[0m\u001b[0;34m)\u001b[0m \u001b[0;32mand\u001b[0m \u001b[0mhasattr\u001b[0m\u001b[0;34m(\u001b[0m\u001b[0mmodule\u001b[0m\u001b[0;34m,\u001b[0m \u001b[0;34m'__file__'\u001b[0m\u001b[0;34m)\u001b[0m\u001b[0;34m:\u001b[0m\u001b[0;34m\u001b[0m\u001b[0;34m\u001b[0m\u001b[0m\n\u001b[1;32m    746\u001b[0m             \u001b[0mf\u001b[0m \u001b[0;34m=\u001b[0m \u001b[0mmodule\u001b[0m\u001b[0;34m.\u001b[0m\u001b[0m__file__\u001b[0m\u001b[0;34m\u001b[0m\u001b[0;34m\u001b[0m\u001b[0m\n",
      "\u001b[0;31mKeyboardInterrupt\u001b[0m: "
     ]
    },
    {
     "data": {
      "image/png": "[encoded data removed]",
      "text/plain": [
       "<Figure size 1440x720 with 4 Axes>"
      ]
     },
     "metadata": {
      "needs_background": "light"
     },
     "output_type": "display_data"
    }
   ],
   "source": [
    "fig ,axs = plt.subplots(nrows = 2, ncols = 2, figsize = (20,10), constrained_layout =True)\n",
    "\n",
    "for row , norm in enumerate(['no', 'yes']):\n",
    "    for col, mode in enumerate(['box','distribution']):\n",
    "        ax = axs[row, col]\n",
    "        gh.auto_stats(df=df_tidy[(df_tidy['stage'] == 'N2') & (df_tidy['norm'] == norm)] , predictor = 'phase', outcome = 'count' , design = 'within', ax=ax, mode = mode)"
   ]
  },
  {
   "cell_type": "code",
   "execution_count": null,
   "id": "aefb7012-b9fb-493e-927d-ddd2938a4c17",
   "metadata": {
    "execution": {
     "iopub.status.busy": "2022-05-25T15:28:26.714000Z",
     "iopub.status.idle": "2022-05-25T15:28:26.714283Z",
     "shell.execute_reply": "2022-05-25T15:28:26.714146Z",
     "shell.execute_reply.started": "2022-05-25T15:28:26.714131Z"
    }
   },
   "outputs": [],
   "source": [
    "bin_1_prop = df_tidy[(df_tidy['stage'] == 'N2') & (df_tidy['norm'] == 'yes') & (df_tidy['phase'] == 1)]['count'].values\n",
    "bin_0_prop = df_tidy[(df_tidy['stage'] == 'N2') & (df_tidy['norm'] == 'yes') & (df_tidy['phase'] == 0)]['count'].values"
   ]
  },
  {
   "cell_type": "code",
   "execution_count": null,
   "id": "53a12fe7-3304-4fa1-be2c-fff485da3ddd",
   "metadata": {
    "execution": {
     "iopub.status.busy": "2022-05-25T15:28:26.714991Z",
     "iopub.status.idle": "2022-05-25T15:28:26.715166Z",
     "shell.execute_reply": "2022-05-25T15:28:26.715082Z",
     "shell.execute_reply.started": "2022-05-25T15:28:26.715072Z"
    },
    "tags": []
   },
   "outputs": [],
   "source": [
    "ttest = pg.ttest(x = bin_1_prop, y = 0.5)\n",
    "ttest"
   ]
  },
  {
   "cell_type": "code",
   "execution_count": null,
   "id": "e290978c-8061-4a3a-b93a-ad8468b2b10e",
   "metadata": {
    "execution": {
     "iopub.status.busy": "2022-05-25T15:28:26.715890Z",
     "iopub.status.idle": "2022-05-25T15:28:26.716216Z",
     "shell.execute_reply": "2022-05-25T15:28:26.716118Z",
     "shell.execute_reply.started": "2022-05-25T15:28:26.716106Z"
    }
   },
   "outputs": [],
   "source": [
    "pg.ttest(x = bin_0_prop, y = 0.5)"
   ]
  },
  {
   "cell_type": "code",
   "execution_count": null,
   "id": "059c2bcf-3f0b-470b-9404-55626952bca5",
   "metadata": {
    "execution": {
     "iopub.status.busy": "2022-05-25T15:28:26.716951Z",
     "iopub.status.idle": "2022-05-25T15:28:26.717198Z",
     "shell.execute_reply": "2022-05-25T15:28:26.717114Z",
     "shell.execute_reply.started": "2022-05-25T15:28:26.717104Z"
    },
    "tags": []
   },
   "outputs": [],
   "source": [
    "fig, ax = plt.subplots(figsize = (20,10))\n",
    "sns.barplot(data = df_tidy[(df_tidy['stage'] == 'N2') & (df_tidy['norm'] == 'yes')], x='patient', y ='count', hue = 'phase', ax=ax)\n",
    "p = ttest.loc['T-test', 'p-val'].round(4)\n",
    "cohen = ttest.loc['T-test', 'cohen-d'].round(4)\n",
    "ax.set_title(f'T-test against 0.5 : p={p} ; cohen-d = {cohen}')\n",
    "for p in ax.patches:\n",
    "    ax.annotate(str(round(p.get_height(), 2)), (p.get_x() * 1.005, p.get_height() * 1.005))\n",
    "# plt.savefig('../presentation_2/bar_2_bins')"
   ]
  },
  {
   "cell_type": "code",
   "execution_count": null,
   "id": "30c04f05-e608-4ea7-b9f5-0092711ca50f",
   "metadata": {
    "execution": {
     "iopub.status.busy": "2022-05-25T15:28:26.717988Z",
     "iopub.status.idle": "2022-05-25T15:28:26.718283Z",
     "shell.execute_reply": "2022-05-25T15:28:26.718161Z",
     "shell.execute_reply.started": "2022-05-25T15:28:26.718148Z"
    },
    "tags": []
   },
   "outputs": [],
   "source": [
    "for p in ax.patches:\n",
    "    print(p.get_height())"
   ]
  },
  {
   "cell_type": "code",
   "execution_count": null,
   "id": "23c05e18-719c-4194-96d6-1c527fa599a5",
   "metadata": {
    "execution": {
     "iopub.status.busy": "2022-05-25T15:28:26.718979Z",
     "iopub.status.idle": "2022-05-25T15:28:26.719218Z",
     "shell.execute_reply": "2022-05-25T15:28:26.719138Z",
     "shell.execute_reply.started": "2022-05-25T15:28:26.719129Z"
    }
   },
   "outputs": [],
   "source": [
    "sns.catplot(data = df_tidy[df_tidy['norm'] == 'no'], x='patient', y ='count', hue = 'phase', col = 'stage')"
   ]
  },
  {
   "cell_type": "code",
   "execution_count": null,
   "id": "a8d02471-9f5d-4797-aa98-0e14bd11e598",
   "metadata": {
    "execution": {
     "iopub.status.busy": "2022-05-25T15:28:26.719598Z",
     "iopub.status.idle": "2022-05-25T15:28:26.719754Z",
     "shell.execute_reply": "2022-05-25T15:28:26.719678Z",
     "shell.execute_reply.started": "2022-05-25T15:28:26.719670Z"
    }
   },
   "outputs": [],
   "source": [
    "sns.catplot(data = df_tidy[df_tidy['norm'] == 'yes'], x='patient', y ='count', hue = 'phase', col = 'stage')"
   ]
  },
  {
   "cell_type": "code",
   "execution_count": null,
   "id": "719d2cce-17d3-4e24-81b4-c8d17048483c",
   "metadata": {
    "execution": {
     "iopub.status.busy": "2022-05-25T15:28:26.720376Z",
     "iopub.status.idle": "2022-05-25T15:28:26.720549Z",
     "shell.execute_reply": "2022-05-25T15:28:26.720471Z",
     "shell.execute_reply.started": "2022-05-25T15:28:26.720462Z"
    }
   },
   "outputs": [],
   "source": [
    "concat = []\n",
    "for p in  patients:\n",
    "    print(p)\n",
    "    concat.append(all_in_one(p, nbins = 20))\n"
   ]
  },
  {
   "cell_type": "code",
   "execution_count": null,
   "id": "a085eb81-bfa5-4011-a016-acb2df5a512b",
   "metadata": {
    "execution": {
     "iopub.status.busy": "2022-05-25T15:28:26.721192Z",
     "iopub.status.idle": "2022-05-25T15:28:26.721355Z",
     "shell.execute_reply": "2022-05-25T15:28:26.721275Z",
     "shell.execute_reply.started": "2022-05-25T15:28:26.721266Z"
    }
   },
   "outputs": [],
   "source": [
    "df_20 = pd.concat(concat)"
   ]
  },
  {
   "cell_type": "code",
   "execution_count": null,
   "id": "b2c3c4da-ca7c-4c48-aa32-484e9140df76",
   "metadata": {
    "execution": {
     "iopub.status.busy": "2022-05-25T15:28:26.721939Z",
     "iopub.status.idle": "2022-05-25T15:28:26.722099Z",
     "shell.execute_reply": "2022-05-25T15:28:26.722021Z",
     "shell.execute_reply.started": "2022-05-25T15:28:26.722012Z"
    }
   },
   "outputs": [],
   "source": [
    "df_20.mean().plot.bar()"
   ]
  },
  {
   "cell_type": "code",
   "execution_count": null,
   "id": "431f469e-5cab-4260-b8d2-9523b4e36a27",
   "metadata": {
    "execution": {
     "iopub.status.busy": "2022-05-25T15:28:26.723068Z",
     "iopub.status.idle": "2022-05-25T15:28:26.723242Z",
     "shell.execute_reply": "2022-05-25T15:28:26.723165Z",
     "shell.execute_reply.started": "2022-05-25T15:28:26.723156Z"
    }
   },
   "outputs": [],
   "source": [
    "df_20"
   ]
  },
  {
   "cell_type": "code",
   "execution_count": null,
   "id": "68029901-4155-4e8d-aae1-4b18eb635c33",
   "metadata": {
    "execution": {
     "iopub.status.busy": "2022-05-25T15:28:26.723778Z",
     "iopub.status.idle": "2022-05-25T15:28:26.723931Z",
     "shell.execute_reply": "2022-05-25T15:28:26.723857Z",
     "shell.execute_reply.started": "2022-05-25T15:28:26.723848Z"
    }
   },
   "outputs": [],
   "source": [
    "def get_complex_vector(phase, amplitude, axis = 0):\n",
    "    #### phase in radian\n",
    "    #### amplitude 0/1 if spike or whaever positive values if continuous thing\n",
    "    if np.sum(amplitude<0) >0:\n",
    "        print('Caution ! Negative amplitude may disturb mesurement !')\n",
    "    # vectors = np.zeros(phase.shape, dtype ='complex64')\n",
    "    # vectors[:] = (amplitude*np.exp(1j*phase))\n",
    "    vectors = amplitude.astype('float32') * np.exp((1j*phase).astype('complex64'))\n",
    "    # print(vectors.dtype)\n",
    "    mean_vector = np.nanmean(vectors, axis = axis)\n",
    "    vectors = 0\n",
    "    length = abs(mean_vector)\n",
    "    angle = np.angle(mean_vector)\n",
    "    if np.isscalar(angle):\n",
    "        if angle<0:\n",
    "            angle += 2*np.pi\n",
    "    elif isinstance(angle, np.ndarray) :\n",
    "        angle[angle<0] += np.ones(np.sum(angle<0))*2*np.pi\n",
    "    else :\n",
    "        print('unknown data type')\n",
    "        exit()\n",
    "    return angle, length\n"
   ]
  },
  {
   "cell_type": "code",
   "execution_count": null,
   "id": "af20d2d9-a8f8-4e9b-bb8e-05ba5b9d1208",
   "metadata": {
    "execution": {
     "iopub.status.busy": "2022-05-25T15:28:26.724399Z",
     "iopub.status.idle": "2022-05-25T15:28:26.724590Z",
     "shell.execute_reply": "2022-05-25T15:28:26.724512Z",
     "shell.execute_reply.started": "2022-05-25T15:28:26.724503Z"
    }
   },
   "outputs": [],
   "source": [
    "df_20_raw = df_20[df_20['norm'] == 'no']"
   ]
  },
  {
   "cell_type": "code",
   "execution_count": null,
   "id": "c780c200-c235-4f8e-a4fc-b2b14d6a616f",
   "metadata": {
    "execution": {
     "iopub.status.busy": "2022-05-25T15:28:26.725488Z",
     "iopub.status.idle": "2022-05-25T15:28:26.725671Z",
     "shell.execute_reply": "2022-05-25T15:28:26.725593Z",
     "shell.execute_reply.started": "2022-05-25T15:28:26.725584Z"
    }
   },
   "outputs": [],
   "source": [
    "df_20_raw.mean()"
   ]
  },
  {
   "cell_type": "code",
   "execution_count": null,
   "id": "1ce28d00-649c-4ab1-bca5-b1f3c176d030",
   "metadata": {
    "execution": {
     "iopub.status.busy": "2022-05-25T15:28:26.726278Z",
     "iopub.status.idle": "2022-05-25T15:28:26.726433Z",
     "shell.execute_reply": "2022-05-25T15:28:26.726355Z",
     "shell.execute_reply.started": "2022-05-25T15:28:26.726346Z"
    }
   },
   "outputs": [],
   "source": [
    "df_20_raw.iloc[4,3:].values"
   ]
  },
  {
   "cell_type": "code",
   "execution_count": null,
   "id": "7b455fc9-f4d1-487c-a186-4c58955fa466",
   "metadata": {
    "execution": {
     "iopub.status.busy": "2022-05-25T15:28:26.726973Z",
     "iopub.status.idle": "2022-05-25T15:28:26.727128Z",
     "shell.execute_reply": "2022-05-25T15:28:26.727052Z",
     "shell.execute_reply.started": "2022-05-25T15:28:26.727043Z"
    }
   },
   "outputs": [],
   "source": [
    "def phases_in_radian(nbins = 20):\n",
    "    phases = np.linspace(0 , 2*np.pi , 20)\n",
    "    return phases"
   ]
  },
  {
   "cell_type": "code",
   "execution_count": null,
   "id": "a219cdeb-478d-435a-a1ab-b45f3773700d",
   "metadata": {
    "execution": {
     "iopub.status.busy": "2022-05-25T15:28:26.727771Z",
     "iopub.status.idle": "2022-05-25T15:28:26.727939Z",
     "shell.execute_reply": "2022-05-25T15:28:26.727860Z",
     "shell.execute_reply.started": "2022-05-25T15:28:26.727851Z"
    }
   },
   "outputs": [],
   "source": [
    "phases = phases_in_radian(nbins = 20)"
   ]
  },
  {
   "cell_type": "code",
   "execution_count": null,
   "id": "c1d4fe82-64c1-42c1-882d-05795efef066",
   "metadata": {
    "execution": {
     "iopub.status.busy": "2022-05-25T15:28:26.728894Z",
     "iopub.status.idle": "2022-05-25T15:28:26.729088Z",
     "shell.execute_reply": "2022-05-25T15:28:26.729009Z",
     "shell.execute_reply.started": "2022-05-25T15:28:26.729000Z"
    }
   },
   "outputs": [],
   "source": [
    "phases"
   ]
  },
  {
   "cell_type": "code",
   "execution_count": null,
   "id": "00b5a465-7bf6-4c04-9451-10e0eebdc9da",
   "metadata": {
    "execution": {
     "iopub.status.busy": "2022-05-25T15:28:26.729654Z",
     "iopub.status.idle": "2022-05-25T15:28:26.729813Z",
     "shell.execute_reply": "2022-05-25T15:28:26.729735Z",
     "shell.execute_reply.started": "2022-05-25T15:28:26.729726Z"
    }
   },
   "outputs": [],
   "source": [
    "np.linspace(0 , 2*np.pi , 20)"
   ]
  },
  {
   "cell_type": "code",
   "execution_count": null,
   "id": "f32534bb-7ca7-4996-a2f8-1c9fb3164ba9",
   "metadata": {
    "execution": {
     "iopub.status.busy": "2022-05-25T15:28:26.730528Z",
     "iopub.status.idle": "2022-05-25T15:28:26.730705Z",
     "shell.execute_reply": "2022-05-25T15:28:26.730626Z",
     "shell.execute_reply.started": "2022-05-25T15:28:26.730617Z"
    }
   },
   "outputs": [],
   "source": [
    "np.arange(20) / 20 * 2 * np.pi"
   ]
  },
  {
   "cell_type": "code",
   "execution_count": null,
   "id": "8b87c027-200b-47cc-bf70-948c277ed6ca",
   "metadata": {
    "execution": {
     "iopub.status.busy": "2022-05-25T15:28:26.731499Z",
     "iopub.status.idle": "2022-05-25T15:28:26.731729Z",
     "shell.execute_reply": "2022-05-25T15:28:26.731640Z",
     "shell.execute_reply.started": "2022-05-25T15:28:26.731629Z"
    }
   },
   "outputs": [],
   "source": [
    "phases_in_radian().size"
   ]
  },
  {
   "cell_type": "code",
   "execution_count": null,
   "id": "7e0ad130-a43a-4015-a751-a2f64d4873c0",
   "metadata": {
    "execution": {
     "iopub.status.busy": "2022-05-25T15:28:26.732266Z",
     "iopub.status.idle": "2022-05-25T15:28:26.732463Z",
     "shell.execute_reply": "2022-05-25T15:28:26.732379Z",
     "shell.execute_reply.started": "2022-05-25T15:28:26.732369Z"
    }
   },
   "outputs": [],
   "source": [
    "angle, length = get_complex_vector(phase=np.arange(20) / 20 * 2 * np.pi, amplitude=df_20_raw.mean().values)"
   ]
  },
  {
   "cell_type": "code",
   "execution_count": null,
   "id": "8fe54043-f254-4800-a0ec-4ade6547432c",
   "metadata": {
    "execution": {
     "iopub.status.busy": "2022-05-25T15:28:26.733014Z",
     "iopub.status.idle": "2022-05-25T15:28:26.733214Z",
     "shell.execute_reply": "2022-05-25T15:28:26.733129Z",
     "shell.execute_reply.started": "2022-05-25T15:28:26.733118Z"
    }
   },
   "outputs": [],
   "source": [
    "angle"
   ]
  },
  {
   "cell_type": "code",
   "execution_count": null,
   "id": "b6fbd5e5-d28d-4c7c-91f7-2ef69380db79",
   "metadata": {
    "execution": {
     "iopub.status.busy": "2022-05-25T15:28:26.733863Z",
     "iopub.status.idle": "2022-05-25T15:28:26.734175Z",
     "shell.execute_reply": "2022-05-25T15:28:26.734087Z",
     "shell.execute_reply.started": "2022-05-25T15:28:26.734076Z"
    }
   },
   "outputs": [],
   "source": [
    "length"
   ]
  },
  {
   "cell_type": "code",
   "execution_count": null,
   "id": "f403bf42-47b0-4528-af0c-c7fedec07b90",
   "metadata": {},
   "outputs": [],
   "source": []
  },
  {
   "cell_type": "code",
   "execution_count": null,
   "id": "4b1290d7-0804-4036-a024-8c8f3559d1aa",
   "metadata": {
    "execution": {
     "iopub.status.busy": "2022-05-25T15:28:26.734840Z",
     "iopub.status.idle": "2022-05-25T15:28:26.735181Z",
     "shell.execute_reply": "2022-05-25T15:28:26.735072Z",
     "shell.execute_reply.started": "2022-05-25T15:28:26.735061Z"
    }
   },
   "outputs": [],
   "source": [
    "np.ones(df_20_raw.mean().values)"
   ]
  },
  {
   "cell_type": "code",
   "execution_count": null,
   "id": "83e983de-ce7a-4bd5-b992-d54c6d50225b",
   "metadata": {
    "execution": {
     "iopub.status.busy": "2022-05-25T15:28:26.735752Z",
     "iopub.status.idle": "2022-05-25T15:28:26.735945Z",
     "shell.execute_reply": "2022-05-25T15:28:26.735863Z",
     "shell.execute_reply.started": "2022-05-25T15:28:26.735853Z"
    }
   },
   "outputs": [],
   "source": [
    "angle"
   ]
  },
  {
   "cell_type": "code",
   "execution_count": null,
   "id": "764eb66f-a7f1-47de-8add-0287bd8e505c",
   "metadata": {
    "execution": {
     "iopub.status.busy": "2022-05-25T15:28:26.736651Z",
     "iopub.status.idle": "2022-05-25T15:28:26.736855Z",
     "shell.execute_reply": "2022-05-25T15:28:26.736772Z",
     "shell.execute_reply.started": "2022-05-25T15:28:26.736762Z"
    }
   },
   "outputs": [],
   "source": [
    "length"
   ]
  },
  {
   "cell_type": "code",
   "execution_count": null,
   "id": "76e584e1-eaa6-4e89-9ac1-989a20d4af34",
   "metadata": {
    "execution": {
     "iopub.status.busy": "2022-05-25T15:28:26.737444Z",
     "iopub.status.idle": "2022-05-25T15:28:26.737606Z",
     "shell.execute_reply": "2022-05-25T15:28:26.737528Z",
     "shell.execute_reply.started": "2022-05-25T15:28:26.737519Z"
    }
   },
   "outputs": [],
   "source": [
    "fig , ax = plt.subplots(figsize = (20,10))\n",
    "df_20_raw.mean().round(3).plot.bar(ax=ax)\n",
    "ax.bar_label(ax.containers[0])"
   ]
  },
  {
   "cell_type": "code",
   "execution_count": null,
   "id": "adf46b36-135b-4e13-be41-b6b4de7a4590",
   "metadata": {
    "execution": {
     "iopub.status.busy": "2022-05-25T15:28:26.738177Z",
     "iopub.status.idle": "2022-05-25T15:28:26.738417Z",
     "shell.execute_reply": "2022-05-25T15:28:26.738313Z",
     "shell.execute_reply.started": "2022-05-25T15:28:26.738284Z"
    }
   },
   "outputs": [],
   "source": [
    "concat = []\n",
    "for patient in patients:\n",
    "    concat.append(pd.read_excel(f'../df_analyse/resp_features_{patient}.xlsx', index_col = [0])\n",
    "df_all_rsp_features = pd.concat(concat)"
   ]
  },
  {
   "cell_type": "code",
   "execution_count": null,
   "id": "61069fc5-9c9e-476c-91fa-83a7f6d801f3",
   "metadata": {},
   "outputs": [],
   "source": []
  },
  {
   "cell_type": "code",
   "execution_count": null,
   "id": "af05ca4a-bf64-470d-b3d5-ef5cc5b3c6dd",
   "metadata": {
    "execution": {
     "iopub.status.busy": "2022-05-25T15:28:26.739027Z",
     "iopub.status.idle": "2022-05-25T15:28:26.739299Z",
     "shell.execute_reply": "2022-05-25T15:28:26.739220Z",
     "shell.execute_reply.started": "2022-05-25T15:28:26.739211Z"
    }
   },
   "outputs": [],
   "source": [
    "df_20"
   ]
  },
  {
   "cell_type": "code",
   "execution_count": null,
   "id": "2bd6f07f-61e1-4af5-8eaa-cd4c8a1b6a8a",
   "metadata": {
    "execution": {
     "iopub.status.busy": "2022-05-25T15:28:26.739926Z",
     "iopub.status.idle": "2022-05-25T15:28:26.740122Z",
     "shell.execute_reply": "2022-05-25T15:28:26.740041Z",
     "shell.execute_reply.started": "2022-05-25T15:28:26.740032Z"
    }
   },
   "outputs": [],
   "source": [
    "df_to_study = df_20.set_index(['patient','stage','norm'])\n",
    "rows = []\n",
    "for patient in patients:\n",
    "    for norm in ['no','yes']:\n",
    "        angle, length = get_complex_vector(phase=phases_in_radian(), amplitude=df_to_study.loc[(patient, 'N2', norm) , :])\n",
    "        row = [patient , norm , angle, length]\n",
    "        rows.append(row)\n",
    "df_mi = pd.DataFrame(rows, columns = ['patient' , 'norm' , 'angle' , 'length'])\n",
    "    "
   ]
  },
  {
   "cell_type": "code",
   "execution_count": null,
   "id": "c60ab15d-06b9-4a47-a431-02b31cfc0799",
   "metadata": {
    "execution": {
     "iopub.status.busy": "2022-05-25T15:28:26.740599Z",
     "iopub.status.idle": "2022-05-25T15:28:26.740759Z",
     "shell.execute_reply": "2022-05-25T15:28:26.740680Z",
     "shell.execute_reply.started": "2022-05-25T15:28:26.740671Z"
    }
   },
   "outputs": [],
   "source": [
    "df_mi"
   ]
  },
  {
   "cell_type": "code",
   "execution_count": null,
   "id": "05db0931-ca61-4697-bab9-4e4cf58a9fac",
   "metadata": {
    "execution": {
     "iopub.status.busy": "2022-05-25T15:28:26.741389Z",
     "iopub.status.idle": "2022-05-25T15:28:26.741653Z",
     "shell.execute_reply": "2022-05-25T15:28:26.741540Z",
     "shell.execute_reply.started": "2022-05-25T15:28:26.741531Z"
    }
   },
   "outputs": [],
   "source": [
    "fig ,axs = plt.subplots(nrows = 10, figsize = (5,50))\n",
    "for row, patient in enumerate(patients):\n",
    "    ax = axs[row]\n",
    "    df_20[df_20['norm'] == 'no'].set_index(['patient','stage','norm']).loc[(patient,'N2','no'), :].plot.bar(ax=ax)\n",
    "    angle = df_mi.set_index(['patient','norm']).loc[(patient,'no'),'angle'].round(2)\n",
    "    length = df_mi.set_index(['patient','norm']).loc[(patient,'no'),'length'].round(2)\n",
    "    title = f'{angle} , {length}'\n",
    "    ax.set_title(title)"
   ]
  },
  {
   "cell_type": "code",
   "execution_count": null,
   "id": "b059f0d3-e423-4597-b470-1ae7ada1ba19",
   "metadata": {
    "execution": {
     "iopub.status.busy": "2022-05-25T15:28:26.742168Z",
     "iopub.status.idle": "2022-05-25T15:28:26.742355Z",
     "shell.execute_reply": "2022-05-25T15:28:26.742248Z",
     "shell.execute_reply.started": "2022-05-25T15:28:26.742239Z"
    }
   },
   "outputs": [],
   "source": [
    "circular_hist(ax[0], angles0)"
   ]
  },
  {
   "cell_type": "code",
   "execution_count": null,
   "id": "03a78d35-6400-427c-9edd-82c18479d3f6",
   "metadata": {},
   "outputs": [],
   "source": []
  }
 ],
 "metadata": {
  "kernelspec": {
   "display_name": "Python 3 (ipykernel)",
   "language": "python",
   "name": "python3"
  },
  "language_info": {
   "codemirror_mode": {
    "name": "ipython",
    "version": 3
   },
   "file_extension": ".py",
   "mimetype": "text/x-python",
   "name": "python",
   "nbconvert_exporter": "python",
   "pygments_lexer": "ipython3",
   "version": "3.8.10"
  }
 },
 "nbformat": 4,
 "nbformat_minor": 5
}
