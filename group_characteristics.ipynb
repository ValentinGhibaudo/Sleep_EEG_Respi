{
 "cells": [
  {
   "cell_type": "code",
   "execution_count": 1,
   "id": "24b5e04c-cac9-4275-a647-c5c63901fa96",
   "metadata": {
    "tags": []
   },
   "outputs": [],
   "source": [
    "%load_ext autoreload\n",
    "%autoreload 2"
   ]
  },
  {
   "cell_type": "code",
   "execution_count": 2,
   "id": "573e6d57-0fee-4dc7-bb36-936b66f5dec6",
   "metadata": {
    "tags": []
   },
   "outputs": [],
   "source": [
    "import numpy as np\n",
    "import pandas as pd\n",
    "import matplotlib.pyplot as plt\n",
    "import ghibtools as gh\n",
    "import seaborn as sns\n",
    "\n",
    "from params import patients"
   ]
  },
  {
   "cell_type": "code",
   "execution_count": 3,
   "id": "83567a2a-39df-4262-8eab-994abdc34627",
   "metadata": {
    "tags": []
   },
   "outputs": [],
   "source": [
    "def get_resp_features():\n",
    "    concat = []\n",
    "    for patient in patients:\n",
    "        df = pd.read_excel(f'../df_analyse/resp_features_{patient}.xlsx', index_col = 0)\n",
    "        concat.append(df)\n",
    "    df_all = pd.concat(concat)\n",
    "    return df_all"
   ]
  },
  {
   "cell_type": "code",
   "execution_count": 4,
   "id": "5804bb54-708f-4ad5-8901-923f8fab091b",
   "metadata": {
    "tags": []
   },
   "outputs": [],
   "source": [
    "df_resp = get_resp_features()"
   ]
  },
  {
   "cell_type": "code",
   "execution_count": 5,
   "id": "73f78e1e-0259-478a-abb7-e435f7f6e2ca",
   "metadata": {
    "tags": []
   },
   "outputs": [
    {
     "data": {
      "text/html": [
       "<div>\n",
       "<style scoped>\n",
       "    .dataframe tbody tr th:only-of-type {\n",
       "        vertical-align: middle;\n",
       "    }\n",
       "\n",
       "    .dataframe tbody tr th {\n",
       "        vertical-align: top;\n",
       "    }\n",
       "\n",
       "    .dataframe thead th {\n",
       "        text-align: right;\n",
       "    }\n",
       "</style>\n",
       "<table border=\"1\" class=\"dataframe\">\n",
       "  <thead>\n",
       "    <tr style=\"text-align: right;\">\n",
       "      <th></th>\n",
       "      <th>patient</th>\n",
       "      <th>cycle_num</th>\n",
       "      <th>inspi_index</th>\n",
       "      <th>expi_index</th>\n",
       "      <th>inspi_time</th>\n",
       "      <th>expi_time</th>\n",
       "      <th>cycle_duration</th>\n",
       "      <th>insp_duration</th>\n",
       "      <th>exp_duration</th>\n",
       "      <th>cycle_freq</th>\n",
       "      <th>insp_volume</th>\n",
       "      <th>exp_volume</th>\n",
       "      <th>total_amplitude</th>\n",
       "      <th>insp_amplitude</th>\n",
       "      <th>exp_amplitude</th>\n",
       "    </tr>\n",
       "  </thead>\n",
       "  <tbody>\n",
       "    <tr>\n",
       "      <th>10</th>\n",
       "      <td>P1</td>\n",
       "      <td>10</td>\n",
       "      <td>7739</td>\n",
       "      <td>8010</td>\n",
       "      <td>30.230469</td>\n",
       "      <td>31.289062</td>\n",
       "      <td>3.003906</td>\n",
       "      <td>1.058594</td>\n",
       "      <td>1.945312</td>\n",
       "      <td>0.332900</td>\n",
       "      <td>6.621435</td>\n",
       "      <td>-9.500260</td>\n",
       "      <td>20.613383</td>\n",
       "      <td>9.452518</td>\n",
       "      <td>11.160865</td>\n",
       "    </tr>\n",
       "    <tr>\n",
       "      <th>11</th>\n",
       "      <td>P1</td>\n",
       "      <td>11</td>\n",
       "      <td>8508</td>\n",
       "      <td>8801</td>\n",
       "      <td>33.234375</td>\n",
       "      <td>34.378906</td>\n",
       "      <td>3.093750</td>\n",
       "      <td>1.144531</td>\n",
       "      <td>1.949219</td>\n",
       "      <td>0.323232</td>\n",
       "      <td>5.600673</td>\n",
       "      <td>-9.349028</td>\n",
       "      <td>20.538327</td>\n",
       "      <td>8.839575</td>\n",
       "      <td>11.698753</td>\n",
       "    </tr>\n",
       "    <tr>\n",
       "      <th>12</th>\n",
       "      <td>P1</td>\n",
       "      <td>12</td>\n",
       "      <td>9300</td>\n",
       "      <td>9556</td>\n",
       "      <td>36.328125</td>\n",
       "      <td>37.328125</td>\n",
       "      <td>2.875000</td>\n",
       "      <td>1.000000</td>\n",
       "      <td>1.875000</td>\n",
       "      <td>0.347826</td>\n",
       "      <td>5.789560</td>\n",
       "      <td>-8.724233</td>\n",
       "      <td>19.239578</td>\n",
       "      <td>9.066748</td>\n",
       "      <td>10.172830</td>\n",
       "    </tr>\n",
       "    <tr>\n",
       "      <th>8</th>\n",
       "      <td>P2</td>\n",
       "      <td>8</td>\n",
       "      <td>7688</td>\n",
       "      <td>8070</td>\n",
       "      <td>30.031250</td>\n",
       "      <td>31.523438</td>\n",
       "      <td>3.578125</td>\n",
       "      <td>1.492188</td>\n",
       "      <td>2.085938</td>\n",
       "      <td>0.279476</td>\n",
       "      <td>-4.927822</td>\n",
       "      <td>-27.960453</td>\n",
       "      <td>26.102216</td>\n",
       "      <td>9.490455</td>\n",
       "      <td>16.611761</td>\n",
       "    </tr>\n",
       "    <tr>\n",
       "      <th>9</th>\n",
       "      <td>P2</td>\n",
       "      <td>9</td>\n",
       "      <td>8604</td>\n",
       "      <td>8980</td>\n",
       "      <td>33.609375</td>\n",
       "      <td>35.078125</td>\n",
       "      <td>3.394531</td>\n",
       "      <td>1.468750</td>\n",
       "      <td>1.925781</td>\n",
       "      <td>0.294591</td>\n",
       "      <td>-5.524647</td>\n",
       "      <td>-25.676260</td>\n",
       "      <td>26.016618</td>\n",
       "      <td>9.555868</td>\n",
       "      <td>16.460749</td>\n",
       "    </tr>\n",
       "    <tr>\n",
       "      <th>10</th>\n",
       "      <td>P2</td>\n",
       "      <td>10</td>\n",
       "      <td>9473</td>\n",
       "      <td>9869</td>\n",
       "      <td>37.003906</td>\n",
       "      <td>38.550781</td>\n",
       "      <td>4.789062</td>\n",
       "      <td>1.546875</td>\n",
       "      <td>3.242188</td>\n",
       "      <td>0.208809</td>\n",
       "      <td>-4.890566</td>\n",
       "      <td>-31.103040</td>\n",
       "      <td>26.667632</td>\n",
       "      <td>9.593298</td>\n",
       "      <td>17.074334</td>\n",
       "    </tr>\n",
       "    <tr>\n",
       "      <th>9</th>\n",
       "      <td>P3</td>\n",
       "      <td>9</td>\n",
       "      <td>8431</td>\n",
       "      <td>8784</td>\n",
       "      <td>32.933594</td>\n",
       "      <td>34.312500</td>\n",
       "      <td>3.507812</td>\n",
       "      <td>1.378906</td>\n",
       "      <td>2.128906</td>\n",
       "      <td>0.285078</td>\n",
       "      <td>26.768712</td>\n",
       "      <td>-19.545271</td>\n",
       "      <td>52.684102</td>\n",
       "      <td>29.892552</td>\n",
       "      <td>22.791550</td>\n",
       "    </tr>\n",
       "    <tr>\n",
       "      <th>10</th>\n",
       "      <td>P3</td>\n",
       "      <td>10</td>\n",
       "      <td>9329</td>\n",
       "      <td>9695</td>\n",
       "      <td>36.441406</td>\n",
       "      <td>37.871094</td>\n",
       "      <td>3.019531</td>\n",
       "      <td>1.429688</td>\n",
       "      <td>1.589844</td>\n",
       "      <td>0.331177</td>\n",
       "      <td>27.902178</td>\n",
       "      <td>-20.239713</td>\n",
       "      <td>53.829016</td>\n",
       "      <td>29.663382</td>\n",
       "      <td>24.165634</td>\n",
       "    </tr>\n",
       "    <tr>\n",
       "      <th>7</th>\n",
       "      <td>P4</td>\n",
       "      <td>7</td>\n",
       "      <td>8219</td>\n",
       "      <td>8572</td>\n",
       "      <td>32.105469</td>\n",
       "      <td>33.484375</td>\n",
       "      <td>3.242188</td>\n",
       "      <td>1.378906</td>\n",
       "      <td>1.863281</td>\n",
       "      <td>0.308434</td>\n",
       "      <td>74.678189</td>\n",
       "      <td>44.923546</td>\n",
       "      <td>106.777948</td>\n",
       "      <td>63.466940</td>\n",
       "      <td>43.311008</td>\n",
       "    </tr>\n",
       "    <tr>\n",
       "      <th>8</th>\n",
       "      <td>P4</td>\n",
       "      <td>8</td>\n",
       "      <td>9049</td>\n",
       "      <td>9367</td>\n",
       "      <td>35.347656</td>\n",
       "      <td>36.589844</td>\n",
       "      <td>3.664062</td>\n",
       "      <td>1.242188</td>\n",
       "      <td>2.421875</td>\n",
       "      <td>0.272921</td>\n",
       "      <td>68.401351</td>\n",
       "      <td>66.872994</td>\n",
       "      <td>105.218228</td>\n",
       "      <td>61.938361</td>\n",
       "      <td>43.279867</td>\n",
       "    </tr>\n",
       "    <tr>\n",
       "      <th>67</th>\n",
       "      <td>P5</td>\n",
       "      <td>67</td>\n",
       "      <td>8432</td>\n",
       "      <td>9070</td>\n",
       "      <td>32.937500</td>\n",
       "      <td>35.429688</td>\n",
       "      <td>4.085938</td>\n",
       "      <td>2.492188</td>\n",
       "      <td>1.593750</td>\n",
       "      <td>0.244742</td>\n",
       "      <td>-12.976403</td>\n",
       "      <td>-20.080815</td>\n",
       "      <td>24.502906</td>\n",
       "      <td>8.345506</td>\n",
       "      <td>16.157400</td>\n",
       "    </tr>\n",
       "    <tr>\n",
       "      <th>75</th>\n",
       "      <td>P5</td>\n",
       "      <td>75</td>\n",
       "      <td>9632</td>\n",
       "      <td>10097</td>\n",
       "      <td>37.625000</td>\n",
       "      <td>39.441406</td>\n",
       "      <td>3.847656</td>\n",
       "      <td>1.816406</td>\n",
       "      <td>2.031250</td>\n",
       "      <td>0.259898</td>\n",
       "      <td>-8.189019</td>\n",
       "      <td>-22.293489</td>\n",
       "      <td>22.594294</td>\n",
       "      <td>8.373727</td>\n",
       "      <td>14.220567</td>\n",
       "    </tr>\n",
       "    <tr>\n",
       "      <th>7</th>\n",
       "      <td>P6</td>\n",
       "      <td>7</td>\n",
       "      <td>7788</td>\n",
       "      <td>8150</td>\n",
       "      <td>30.421875</td>\n",
       "      <td>31.835938</td>\n",
       "      <td>3.156250</td>\n",
       "      <td>1.414062</td>\n",
       "      <td>1.742188</td>\n",
       "      <td>0.316832</td>\n",
       "      <td>7.461378</td>\n",
       "      <td>-7.728056</td>\n",
       "      <td>16.495420</td>\n",
       "      <td>7.240669</td>\n",
       "      <td>9.254751</td>\n",
       "    </tr>\n",
       "    <tr>\n",
       "      <th>8</th>\n",
       "      <td>P6</td>\n",
       "      <td>8</td>\n",
       "      <td>8596</td>\n",
       "      <td>8923</td>\n",
       "      <td>33.578125</td>\n",
       "      <td>34.855469</td>\n",
       "      <td>3.058594</td>\n",
       "      <td>1.277344</td>\n",
       "      <td>1.781250</td>\n",
       "      <td>0.326948</td>\n",
       "      <td>7.439693</td>\n",
       "      <td>-9.280902</td>\n",
       "      <td>20.186935</td>\n",
       "      <td>7.996276</td>\n",
       "      <td>12.190658</td>\n",
       "    </tr>\n",
       "    <tr>\n",
       "      <th>9</th>\n",
       "      <td>P6</td>\n",
       "      <td>9</td>\n",
       "      <td>9379</td>\n",
       "      <td>9751</td>\n",
       "      <td>36.636719</td>\n",
       "      <td>38.089844</td>\n",
       "      <td>4.609375</td>\n",
       "      <td>1.453125</td>\n",
       "      <td>3.156250</td>\n",
       "      <td>0.216949</td>\n",
       "      <td>11.870102</td>\n",
       "      <td>-10.611222</td>\n",
       "      <td>19.607705</td>\n",
       "      <td>11.192240</td>\n",
       "      <td>8.415465</td>\n",
       "    </tr>\n",
       "    <tr>\n",
       "      <th>9</th>\n",
       "      <td>P7</td>\n",
       "      <td>9</td>\n",
       "      <td>8280</td>\n",
       "      <td>8641</td>\n",
       "      <td>32.343750</td>\n",
       "      <td>33.753906</td>\n",
       "      <td>3.562500</td>\n",
       "      <td>1.410156</td>\n",
       "      <td>2.152344</td>\n",
       "      <td>0.280702</td>\n",
       "      <td>4.648999</td>\n",
       "      <td>-3.712449</td>\n",
       "      <td>8.461619</td>\n",
       "      <td>4.398159</td>\n",
       "      <td>4.063459</td>\n",
       "    </tr>\n",
       "    <tr>\n",
       "      <th>10</th>\n",
       "      <td>P7</td>\n",
       "      <td>10</td>\n",
       "      <td>9192</td>\n",
       "      <td>9600</td>\n",
       "      <td>35.906250</td>\n",
       "      <td>37.500000</td>\n",
       "      <td>3.000000</td>\n",
       "      <td>1.593750</td>\n",
       "      <td>1.406250</td>\n",
       "      <td>0.333333</td>\n",
       "      <td>6.867547</td>\n",
       "      <td>-5.474403</td>\n",
       "      <td>12.730872</td>\n",
       "      <td>6.156100</td>\n",
       "      <td>6.574772</td>\n",
       "    </tr>\n",
       "    <tr>\n",
       "      <th>7</th>\n",
       "      <td>P8</td>\n",
       "      <td>7</td>\n",
       "      <td>7850</td>\n",
       "      <td>8265</td>\n",
       "      <td>30.664062</td>\n",
       "      <td>32.285156</td>\n",
       "      <td>4.304688</td>\n",
       "      <td>1.621094</td>\n",
       "      <td>2.683594</td>\n",
       "      <td>0.232305</td>\n",
       "      <td>130.475099</td>\n",
       "      <td>50.235202</td>\n",
       "      <td>154.809488</td>\n",
       "      <td>117.217823</td>\n",
       "      <td>37.591665</td>\n",
       "    </tr>\n",
       "    <tr>\n",
       "      <th>8</th>\n",
       "      <td>P8</td>\n",
       "      <td>8</td>\n",
       "      <td>8952</td>\n",
       "      <td>9368</td>\n",
       "      <td>34.968750</td>\n",
       "      <td>36.593750</td>\n",
       "      <td>3.675781</td>\n",
       "      <td>1.625000</td>\n",
       "      <td>2.050781</td>\n",
       "      <td>0.272051</td>\n",
       "      <td>117.194385</td>\n",
       "      <td>38.117135</td>\n",
       "      <td>146.372693</td>\n",
       "      <td>109.085313</td>\n",
       "      <td>37.287380</td>\n",
       "    </tr>\n",
       "    <tr>\n",
       "      <th>6</th>\n",
       "      <td>P9</td>\n",
       "      <td>6</td>\n",
       "      <td>8379</td>\n",
       "      <td>8802</td>\n",
       "      <td>32.730469</td>\n",
       "      <td>34.382812</td>\n",
       "      <td>5.234375</td>\n",
       "      <td>1.652344</td>\n",
       "      <td>3.582031</td>\n",
       "      <td>0.191045</td>\n",
       "      <td>8.678228</td>\n",
       "      <td>-3.955748</td>\n",
       "      <td>13.057702</td>\n",
       "      <td>7.153591</td>\n",
       "      <td>5.904111</td>\n",
       "    </tr>\n",
       "    <tr>\n",
       "      <th>7</th>\n",
       "      <td>P9</td>\n",
       "      <td>7</td>\n",
       "      <td>9719</td>\n",
       "      <td>10175</td>\n",
       "      <td>37.964844</td>\n",
       "      <td>39.746094</td>\n",
       "      <td>5.132812</td>\n",
       "      <td>1.781250</td>\n",
       "      <td>3.351562</td>\n",
       "      <td>0.194825</td>\n",
       "      <td>7.713779</td>\n",
       "      <td>-4.525227</td>\n",
       "      <td>12.009691</td>\n",
       "      <td>5.702693</td>\n",
       "      <td>6.306998</td>\n",
       "    </tr>\n",
       "    <tr>\n",
       "      <th>9</th>\n",
       "      <td>P10</td>\n",
       "      <td>9</td>\n",
       "      <td>7686</td>\n",
       "      <td>8000</td>\n",
       "      <td>30.023438</td>\n",
       "      <td>31.250000</td>\n",
       "      <td>3.218750</td>\n",
       "      <td>1.226562</td>\n",
       "      <td>1.992188</td>\n",
       "      <td>0.310680</td>\n",
       "      <td>75.071995</td>\n",
       "      <td>33.488260</td>\n",
       "      <td>102.723547</td>\n",
       "      <td>71.716933</td>\n",
       "      <td>31.006614</td>\n",
       "    </tr>\n",
       "    <tr>\n",
       "      <th>10</th>\n",
       "      <td>P10</td>\n",
       "      <td>10</td>\n",
       "      <td>8510</td>\n",
       "      <td>8820</td>\n",
       "      <td>33.242188</td>\n",
       "      <td>34.453125</td>\n",
       "      <td>3.460938</td>\n",
       "      <td>1.210938</td>\n",
       "      <td>2.250000</td>\n",
       "      <td>0.288939</td>\n",
       "      <td>75.775015</td>\n",
       "      <td>40.770590</td>\n",
       "      <td>105.970057</td>\n",
       "      <td>75.001941</td>\n",
       "      <td>30.968116</td>\n",
       "    </tr>\n",
       "    <tr>\n",
       "      <th>11</th>\n",
       "      <td>P10</td>\n",
       "      <td>11</td>\n",
       "      <td>9396</td>\n",
       "      <td>9713</td>\n",
       "      <td>36.703125</td>\n",
       "      <td>37.941406</td>\n",
       "      <td>3.390625</td>\n",
       "      <td>1.238281</td>\n",
       "      <td>2.152344</td>\n",
       "      <td>0.294931</td>\n",
       "      <td>77.765459</td>\n",
       "      <td>35.537551</td>\n",
       "      <td>107.759422</td>\n",
       "      <td>76.740466</td>\n",
       "      <td>31.018956</td>\n",
       "    </tr>\n",
       "  </tbody>\n",
       "</table>\n",
       "</div>"
      ],
      "text/plain": [
       "   patient  cycle_num  inspi_index  expi_index  inspi_time  expi_time  \\\n",
       "10      P1         10         7739        8010   30.230469  31.289062   \n",
       "11      P1         11         8508        8801   33.234375  34.378906   \n",
       "12      P1         12         9300        9556   36.328125  37.328125   \n",
       "8       P2          8         7688        8070   30.031250  31.523438   \n",
       "9       P2          9         8604        8980   33.609375  35.078125   \n",
       "10      P2         10         9473        9869   37.003906  38.550781   \n",
       "9       P3          9         8431        8784   32.933594  34.312500   \n",
       "10      P3         10         9329        9695   36.441406  37.871094   \n",
       "7       P4          7         8219        8572   32.105469  33.484375   \n",
       "8       P4          8         9049        9367   35.347656  36.589844   \n",
       "67      P5         67         8432        9070   32.937500  35.429688   \n",
       "75      P5         75         9632       10097   37.625000  39.441406   \n",
       "7       P6          7         7788        8150   30.421875  31.835938   \n",
       "8       P6          8         8596        8923   33.578125  34.855469   \n",
       "9       P6          9         9379        9751   36.636719  38.089844   \n",
       "9       P7          9         8280        8641   32.343750  33.753906   \n",
       "10      P7         10         9192        9600   35.906250  37.500000   \n",
       "7       P8          7         7850        8265   30.664062  32.285156   \n",
       "8       P8          8         8952        9368   34.968750  36.593750   \n",
       "6       P9          6         8379        8802   32.730469  34.382812   \n",
       "7       P9          7         9719       10175   37.964844  39.746094   \n",
       "9      P10          9         7686        8000   30.023438  31.250000   \n",
       "10     P10         10         8510        8820   33.242188  34.453125   \n",
       "11     P10         11         9396        9713   36.703125  37.941406   \n",
       "\n",
       "    cycle_duration  insp_duration  exp_duration  cycle_freq  insp_volume  \\\n",
       "10        3.003906       1.058594      1.945312    0.332900     6.621435   \n",
       "11        3.093750       1.144531      1.949219    0.323232     5.600673   \n",
       "12        2.875000       1.000000      1.875000    0.347826     5.789560   \n",
       "8         3.578125       1.492188      2.085938    0.279476    -4.927822   \n",
       "9         3.394531       1.468750      1.925781    0.294591    -5.524647   \n",
       "10        4.789062       1.546875      3.242188    0.208809    -4.890566   \n",
       "9         3.507812       1.378906      2.128906    0.285078    26.768712   \n",
       "10        3.019531       1.429688      1.589844    0.331177    27.902178   \n",
       "7         3.242188       1.378906      1.863281    0.308434    74.678189   \n",
       "8         3.664062       1.242188      2.421875    0.272921    68.401351   \n",
       "67        4.085938       2.492188      1.593750    0.244742   -12.976403   \n",
       "75        3.847656       1.816406      2.031250    0.259898    -8.189019   \n",
       "7         3.156250       1.414062      1.742188    0.316832     7.461378   \n",
       "8         3.058594       1.277344      1.781250    0.326948     7.439693   \n",
       "9         4.609375       1.453125      3.156250    0.216949    11.870102   \n",
       "9         3.562500       1.410156      2.152344    0.280702     4.648999   \n",
       "10        3.000000       1.593750      1.406250    0.333333     6.867547   \n",
       "7         4.304688       1.621094      2.683594    0.232305   130.475099   \n",
       "8         3.675781       1.625000      2.050781    0.272051   117.194385   \n",
       "6         5.234375       1.652344      3.582031    0.191045     8.678228   \n",
       "7         5.132812       1.781250      3.351562    0.194825     7.713779   \n",
       "9         3.218750       1.226562      1.992188    0.310680    75.071995   \n",
       "10        3.460938       1.210938      2.250000    0.288939    75.775015   \n",
       "11        3.390625       1.238281      2.152344    0.294931    77.765459   \n",
       "\n",
       "    exp_volume  total_amplitude  insp_amplitude  exp_amplitude  \n",
       "10   -9.500260        20.613383        9.452518      11.160865  \n",
       "11   -9.349028        20.538327        8.839575      11.698753  \n",
       "12   -8.724233        19.239578        9.066748      10.172830  \n",
       "8   -27.960453        26.102216        9.490455      16.611761  \n",
       "9   -25.676260        26.016618        9.555868      16.460749  \n",
       "10  -31.103040        26.667632        9.593298      17.074334  \n",
       "9   -19.545271        52.684102       29.892552      22.791550  \n",
       "10  -20.239713        53.829016       29.663382      24.165634  \n",
       "7    44.923546       106.777948       63.466940      43.311008  \n",
       "8    66.872994       105.218228       61.938361      43.279867  \n",
       "67  -20.080815        24.502906        8.345506      16.157400  \n",
       "75  -22.293489        22.594294        8.373727      14.220567  \n",
       "7    -7.728056        16.495420        7.240669       9.254751  \n",
       "8    -9.280902        20.186935        7.996276      12.190658  \n",
       "9   -10.611222        19.607705       11.192240       8.415465  \n",
       "9    -3.712449         8.461619        4.398159       4.063459  \n",
       "10   -5.474403        12.730872        6.156100       6.574772  \n",
       "7    50.235202       154.809488      117.217823      37.591665  \n",
       "8    38.117135       146.372693      109.085313      37.287380  \n",
       "6    -3.955748        13.057702        7.153591       5.904111  \n",
       "7    -4.525227        12.009691        5.702693       6.306998  \n",
       "9    33.488260       102.723547       71.716933      31.006614  \n",
       "10   40.770590       105.970057       75.001941      30.968116  \n",
       "11   35.537551       107.759422       76.740466      31.018956  "
      ]
     },
     "execution_count": 5,
     "metadata": {},
     "output_type": "execute_result"
    }
   ],
   "source": [
    "df_resp[(df_resp['inspi_time'] > 30) & (df_resp['expi_time'] < 40)]"
   ]
  },
  {
   "cell_type": "code",
   "execution_count": null,
   "id": "c5d8a934-b5bf-4044-98fc-8fbc6c770f51",
   "metadata": {},
   "outputs": [],
   "source": []
  },
  {
   "cell_type": "code",
   "execution_count": 6,
   "id": "53c5b5b0-340b-4e88-a6ed-55151891e690",
   "metadata": {},
   "outputs": [
    {
     "data": {
      "text/plain": [
       "Text(0.5, 1.0, 'Summary of Mean Respiration Features')"
      ]
     },
     "execution_count": 6,
     "metadata": {},
     "output_type": "execute_result"
    },
    {
     "data": {
      "image/png": "[encoded data removed]",
      "text/plain": [
       "<Figure size 432x288 with 1 Axes>"
      ]
     },
     "metadata": {
      "needs_background": "light"
     },
     "output_type": "display_data"
    }
   ],
   "source": [
    "fig, ax = plt.subplots()\n",
    "df_resp[['insp_duration','exp_duration','cycle_duration','cycle_freq']].mean().round(2).plot.bar(ax=ax)\n",
    "ax.bar_label(ax.containers[0])\n",
    "ax.set_title('Summary of Mean Respiration Features')\n",
    "# plt.savefig('../presentation_4/mean_rsp_features', bbox_inches = 'tight')"
   ]
  },
  {
   "cell_type": "code",
   "execution_count": 7,
   "id": "010d4dd5-1943-47cd-8ea2-f396180e9cbb",
   "metadata": {},
   "outputs": [
    {
     "data": {
      "text/plain": [
       "Text(0.5, 1.0, 'Number of respiration cycles studied by participant')"
      ]
     },
     "execution_count": 7,
     "metadata": {},
     "output_type": "execute_result"
    },
    {
     "data": {
      "image/png": "[encoded data removed]",
      "text/plain": [
       "<Figure size 432x288 with 1 Axes>"
      ]
     },
     "metadata": {
      "needs_background": "light"
     },
     "output_type": "display_data"
    }
   ],
   "source": [
    "fig, ax = plt.subplots()\n",
    "pd.DataFrame.from_dict({patient:df_resp[df_resp['patient'] == patient].shape[0] for patient in patients}, orient = 'index').plot.bar(ax=ax)\n",
    "ax.set_title('Number of respiration cycles studied by participant')\n",
    "# plt.savefig('../presentation_4/nb_cycles_by_participant', bbox_inches = 'tight')"
   ]
  },
  {
   "cell_type": "code",
   "execution_count": 8,
   "id": "a722fcf4-bc1f-4526-aea7-014855c24495",
   "metadata": {
    "execution": {
     "iopub.execute_input": "2022-05-30T11:52:52.109554Z",
     "iopub.status.busy": "2022-05-30T11:52:52.109436Z",
     "iopub.status.idle": "2022-05-30T11:52:52.139881Z",
     "shell.execute_reply": "2022-05-30T11:52:52.139493Z",
     "shell.execute_reply.started": "2022-05-30T11:52:52.109538Z"
    },
    "tags": []
   },
   "outputs": [
    {
     "name": "stderr",
     "output_type": "stream",
     "text": [
      "/tmp/ipykernel_1172915/1337650542.py:1: FutureWarning: Dropping of nuisance columns in DataFrame reductions (with 'numeric_only=None') is deprecated; in a future version this will raise TypeError.  Select only valid columns before calling the reduction.\n",
      "  df_resp.mean()[['insp_duration','exp_duration','cycle_duration','cycle_freq']]\n"
     ]
    },
    {
     "data": {
      "text/plain": [
       "insp_duration     1.394436\n",
       "exp_duration      2.514273\n",
       "cycle_duration    3.908709\n",
       "cycle_freq        0.265407\n",
       "dtype: float64"
      ]
     },
     "execution_count": 8,
     "metadata": {},
     "output_type": "execute_result"
    }
   ],
   "source": [
    "df_resp.mean()[['insp_duration','exp_duration','cycle_duration','cycle_freq']]"
   ]
  },
  {
   "cell_type": "code",
   "execution_count": 9,
   "id": "0e35dd93-c950-4833-a764-3ae3aec66a92",
   "metadata": {
    "execution": {
     "iopub.execute_input": "2022-05-30T11:52:52.140706Z",
     "iopub.status.busy": "2022-05-30T11:52:52.140543Z",
     "iopub.status.idle": "2022-05-30T11:52:52.438436Z",
     "shell.execute_reply": "2022-05-30T11:52:52.438020Z",
     "shell.execute_reply.started": "2022-05-30T11:52:52.140693Z"
    },
    "tags": []
   },
   "outputs": [
    {
     "data": {
      "text/plain": [
       "<seaborn.matrix.ClusterGrid at 0x7fab6440f5b0>"
      ]
     },
     "execution_count": 9,
     "metadata": {},
     "output_type": "execute_result"
    },
    {
     "data": {
      "image/png": "[encoded data removed]",
      "text/plain": [
       "<Figure size 720x720 with 4 Axes>"
      ]
     },
     "metadata": {
      "needs_background": "light"
     },
     "output_type": "display_data"
    }
   ],
   "source": [
    "sns.clustermap(df_resp.corr('spearman'))"
   ]
  },
  {
   "cell_type": "code",
   "execution_count": 10,
   "id": "80e3b9c3-81ff-4689-853d-ee8bad235229",
   "metadata": {
    "tags": []
   },
   "outputs": [],
   "source": [
    "def get_spindles_features():\n",
    "    df = pd.read_excel(f'../df_analyse/spindles_all_patients.xlsx', index_col = 0)\n",
    "    return df"
   ]
  },
  {
   "cell_type": "code",
   "execution_count": 11,
   "id": "f17f0af0-7cda-47fa-bd4a-aa22f7a767bb",
   "metadata": {
    "tags": []
   },
   "outputs": [],
   "source": [
    "df_spindles = get_spindles_features()"
   ]
  },
  {
   "cell_type": "code",
   "execution_count": 22,
   "id": "00717455",
   "metadata": {},
   "outputs": [
    {
     "data": {
      "text/html": [
       "<div>\n",
       "<style scoped>\n",
       "    .dataframe tbody tr th:only-of-type {\n",
       "        vertical-align: middle;\n",
       "    }\n",
       "\n",
       "    .dataframe tbody tr th {\n",
       "        vertical-align: top;\n",
       "    }\n",
       "\n",
       "    .dataframe thead th {\n",
       "        text-align: right;\n",
       "    }\n",
       "</style>\n",
       "<table border=\"1\" class=\"dataframe\">\n",
       "  <thead>\n",
       "    <tr style=\"text-align: right;\">\n",
       "      <th></th>\n",
       "      <th>patient</th>\n",
       "      <th>stage</th>\n",
       "      <th>Start</th>\n",
       "      <th>Peak</th>\n",
       "      <th>End</th>\n",
       "      <th>Duration</th>\n",
       "      <th>Amplitude</th>\n",
       "      <th>RMS</th>\n",
       "      <th>AbsPower</th>\n",
       "      <th>RelPower</th>\n",
       "      <th>Frequency</th>\n",
       "      <th>Oscillations</th>\n",
       "      <th>Symmetry</th>\n",
       "      <th>Channel</th>\n",
       "      <th>IdxChannel</th>\n",
       "    </tr>\n",
       "  </thead>\n",
       "  <tbody>\n",
       "    <tr>\n",
       "      <th>0</th>\n",
       "      <td>P1</td>\n",
       "      <td>W</td>\n",
       "      <td>2985.226562</td>\n",
       "      <td>2985.867188</td>\n",
       "      <td>2986.207031</td>\n",
       "      <td>0.980469</td>\n",
       "      <td>57.420250</td>\n",
       "      <td>12.079360</td>\n",
       "      <td>2.030577</td>\n",
       "      <td>0.348977</td>\n",
       "      <td>13.153248</td>\n",
       "      <td>12</td>\n",
       "      <td>0.650794</td>\n",
       "      <td>Fp2-C4</td>\n",
       "      <td>0</td>\n",
       "    </tr>\n",
       "    <tr>\n",
       "      <th>1</th>\n",
       "      <td>P1</td>\n",
       "      <td>W</td>\n",
       "      <td>2996.101562</td>\n",
       "      <td>2996.289062</td>\n",
       "      <td>2996.933594</td>\n",
       "      <td>0.832031</td>\n",
       "      <td>50.192098</td>\n",
       "      <td>10.520250</td>\n",
       "      <td>2.094366</td>\n",
       "      <td>0.356515</td>\n",
       "      <td>13.230707</td>\n",
       "      <td>11</td>\n",
       "      <td>0.224299</td>\n",
       "      <td>Fp2-C4</td>\n",
       "      <td>0</td>\n",
       "    </tr>\n",
       "    <tr>\n",
       "      <th>2</th>\n",
       "      <td>P1</td>\n",
       "      <td>W</td>\n",
       "      <td>3067.574219</td>\n",
       "      <td>3068.023438</td>\n",
       "      <td>3068.531250</td>\n",
       "      <td>0.957031</td>\n",
       "      <td>35.588988</td>\n",
       "      <td>8.405817</td>\n",
       "      <td>1.866904</td>\n",
       "      <td>0.326879</td>\n",
       "      <td>14.076669</td>\n",
       "      <td>12</td>\n",
       "      <td>0.467480</td>\n",
       "      <td>Fp2-C4</td>\n",
       "      <td>0</td>\n",
       "    </tr>\n",
       "    <tr>\n",
       "      <th>3</th>\n",
       "      <td>P1</td>\n",
       "      <td>W</td>\n",
       "      <td>3090.351562</td>\n",
       "      <td>3090.937500</td>\n",
       "      <td>3091.457031</td>\n",
       "      <td>1.105469</td>\n",
       "      <td>41.109137</td>\n",
       "      <td>8.601675</td>\n",
       "      <td>1.981969</td>\n",
       "      <td>0.567952</td>\n",
       "      <td>13.262335</td>\n",
       "      <td>14</td>\n",
       "      <td>0.528169</td>\n",
       "      <td>Fp2-C4</td>\n",
       "      <td>0</td>\n",
       "    </tr>\n",
       "    <tr>\n",
       "      <th>4</th>\n",
       "      <td>P1</td>\n",
       "      <td>W</td>\n",
       "      <td>3104.332031</td>\n",
       "      <td>3104.492188</td>\n",
       "      <td>3105.031250</td>\n",
       "      <td>0.699219</td>\n",
       "      <td>38.720417</td>\n",
       "      <td>8.605187</td>\n",
       "      <td>1.854809</td>\n",
       "      <td>0.397291</td>\n",
       "      <td>12.814406</td>\n",
       "      <td>10</td>\n",
       "      <td>0.227778</td>\n",
       "      <td>Fp2-C4</td>\n",
       "      <td>0</td>\n",
       "    </tr>\n",
       "    <tr>\n",
       "      <th>...</th>\n",
       "      <td>...</td>\n",
       "      <td>...</td>\n",
       "      <td>...</td>\n",
       "      <td>...</td>\n",
       "      <td>...</td>\n",
       "      <td>...</td>\n",
       "      <td>...</td>\n",
       "      <td>...</td>\n",
       "      <td>...</td>\n",
       "      <td>...</td>\n",
       "      <td>...</td>\n",
       "      <td>...</td>\n",
       "      <td>...</td>\n",
       "      <td>...</td>\n",
       "      <td>...</td>\n",
       "    </tr>\n",
       "    <tr>\n",
       "      <th>2667</th>\n",
       "      <td>P10</td>\n",
       "      <td>N2</td>\n",
       "      <td>7449.910156</td>\n",
       "      <td>7450.089844</td>\n",
       "      <td>7450.464844</td>\n",
       "      <td>0.554688</td>\n",
       "      <td>31.118556</td>\n",
       "      <td>6.772215</td>\n",
       "      <td>1.478077</td>\n",
       "      <td>0.236618</td>\n",
       "      <td>13.017753</td>\n",
       "      <td>6</td>\n",
       "      <td>0.321678</td>\n",
       "      <td>T3-O1</td>\n",
       "      <td>7</td>\n",
       "    </tr>\n",
       "    <tr>\n",
       "      <th>2668</th>\n",
       "      <td>P10</td>\n",
       "      <td>N2</td>\n",
       "      <td>7509.289062</td>\n",
       "      <td>7509.449219</td>\n",
       "      <td>7509.812500</td>\n",
       "      <td>0.523438</td>\n",
       "      <td>25.437377</td>\n",
       "      <td>5.836279</td>\n",
       "      <td>1.679451</td>\n",
       "      <td>0.396657</td>\n",
       "      <td>13.624334</td>\n",
       "      <td>7</td>\n",
       "      <td>0.303704</td>\n",
       "      <td>T3-O1</td>\n",
       "      <td>7</td>\n",
       "    </tr>\n",
       "    <tr>\n",
       "      <th>2669</th>\n",
       "      <td>P10</td>\n",
       "      <td>N2</td>\n",
       "      <td>8001.078125</td>\n",
       "      <td>8001.460938</td>\n",
       "      <td>8001.707031</td>\n",
       "      <td>0.628906</td>\n",
       "      <td>31.801027</td>\n",
       "      <td>7.156477</td>\n",
       "      <td>1.765386</td>\n",
       "      <td>0.385709</td>\n",
       "      <td>13.726640</td>\n",
       "      <td>8</td>\n",
       "      <td>0.604938</td>\n",
       "      <td>T3-O1</td>\n",
       "      <td>7</td>\n",
       "    </tr>\n",
       "    <tr>\n",
       "      <th>2670</th>\n",
       "      <td>P10</td>\n",
       "      <td>N2</td>\n",
       "      <td>8584.031250</td>\n",
       "      <td>8584.339844</td>\n",
       "      <td>8584.675781</td>\n",
       "      <td>0.644531</td>\n",
       "      <td>34.620598</td>\n",
       "      <td>8.311678</td>\n",
       "      <td>1.893966</td>\n",
       "      <td>0.429671</td>\n",
       "      <td>13.607499</td>\n",
       "      <td>9</td>\n",
       "      <td>0.475904</td>\n",
       "      <td>T3-O1</td>\n",
       "      <td>7</td>\n",
       "    </tr>\n",
       "    <tr>\n",
       "      <th>2671</th>\n",
       "      <td>P10</td>\n",
       "      <td>N2</td>\n",
       "      <td>8902.546875</td>\n",
       "      <td>8902.996094</td>\n",
       "      <td>8903.078125</td>\n",
       "      <td>0.531250</td>\n",
       "      <td>24.391288</td>\n",
       "      <td>5.639737</td>\n",
       "      <td>1.570673</td>\n",
       "      <td>0.293893</td>\n",
       "      <td>12.839775</td>\n",
       "      <td>6</td>\n",
       "      <td>0.839416</td>\n",
       "      <td>T3-O1</td>\n",
       "      <td>7</td>\n",
       "    </tr>\n",
       "  </tbody>\n",
       "</table>\n",
       "<p>25785 rows × 15 columns</p>\n",
       "</div>"
      ],
      "text/plain": [
       "     patient stage        Start         Peak          End  Duration  \\\n",
       "0         P1     W  2985.226562  2985.867188  2986.207031  0.980469   \n",
       "1         P1     W  2996.101562  2996.289062  2996.933594  0.832031   \n",
       "2         P1     W  3067.574219  3068.023438  3068.531250  0.957031   \n",
       "3         P1     W  3090.351562  3090.937500  3091.457031  1.105469   \n",
       "4         P1     W  3104.332031  3104.492188  3105.031250  0.699219   \n",
       "...      ...   ...          ...          ...          ...       ...   \n",
       "2667     P10    N2  7449.910156  7450.089844  7450.464844  0.554688   \n",
       "2668     P10    N2  7509.289062  7509.449219  7509.812500  0.523438   \n",
       "2669     P10    N2  8001.078125  8001.460938  8001.707031  0.628906   \n",
       "2670     P10    N2  8584.031250  8584.339844  8584.675781  0.644531   \n",
       "2671     P10    N2  8902.546875  8902.996094  8903.078125  0.531250   \n",
       "\n",
       "      Amplitude        RMS  AbsPower  RelPower  Frequency  Oscillations  \\\n",
       "0     57.420250  12.079360  2.030577  0.348977  13.153248            12   \n",
       "1     50.192098  10.520250  2.094366  0.356515  13.230707            11   \n",
       "2     35.588988   8.405817  1.866904  0.326879  14.076669            12   \n",
       "3     41.109137   8.601675  1.981969  0.567952  13.262335            14   \n",
       "4     38.720417   8.605187  1.854809  0.397291  12.814406            10   \n",
       "...         ...        ...       ...       ...        ...           ...   \n",
       "2667  31.118556   6.772215  1.478077  0.236618  13.017753             6   \n",
       "2668  25.437377   5.836279  1.679451  0.396657  13.624334             7   \n",
       "2669  31.801027   7.156477  1.765386  0.385709  13.726640             8   \n",
       "2670  34.620598   8.311678  1.893966  0.429671  13.607499             9   \n",
       "2671  24.391288   5.639737  1.570673  0.293893  12.839775             6   \n",
       "\n",
       "      Symmetry Channel  IdxChannel  \n",
       "0     0.650794  Fp2-C4           0  \n",
       "1     0.224299  Fp2-C4           0  \n",
       "2     0.467480  Fp2-C4           0  \n",
       "3     0.528169  Fp2-C4           0  \n",
       "4     0.227778  Fp2-C4           0  \n",
       "...        ...     ...         ...  \n",
       "2667  0.321678   T3-O1           7  \n",
       "2668  0.303704   T3-O1           7  \n",
       "2669  0.604938   T3-O1           7  \n",
       "2670  0.475904   T3-O1           7  \n",
       "2671  0.839416   T3-O1           7  \n",
       "\n",
       "[25785 rows x 15 columns]"
      ]
     },
     "execution_count": 22,
     "metadata": {},
     "output_type": "execute_result"
    }
   ],
   "source": [
    "df_spindles"
   ]
  },
  {
   "cell_type": "code",
   "execution_count": 32,
   "id": "e88f33b1",
   "metadata": {},
   "outputs": [
    {
     "data": {
      "text/plain": [
       "array(['Fp2-C4', 'C4-T4', 'T4-O2', 'Fz-Cz', 'Cz-Pz', 'Fp1-C3', 'C3-T3',\n",
       "       'T3-O1'], dtype=object)"
      ]
     },
     "execution_count": 32,
     "metadata": {},
     "output_type": "execute_result"
    }
   ],
   "source": [
    "df_spindles['Channel'].unique()"
   ]
  },
  {
   "cell_type": "code",
   "execution_count": 33,
   "id": "776ed8d4",
   "metadata": {},
   "outputs": [],
   "source": [
    "order_chans = ['Fp1-C3','Fp2-C4', 'Fz-Cz', 'C3-T3', 'C4-T4' ,'Cz-Pz' ,'T4-O2'  ,'T3-O1']"
   ]
  },
  {
   "cell_type": "code",
   "execution_count": 34,
   "id": "7603be7d-8b87-49e7-a834-266db03e89b5",
   "metadata": {},
   "outputs": [],
   "source": [
    "rows = []\n",
    "for patient in patients:\n",
    "    for chan in order_chans:\n",
    "        df_patient_spindles = df_spindles[(df_spindles['patient'] == patient) & (df_spindles['Channel'] == chan)]\n",
    "        nspindles = df_patient_spindles.shape[0] \n",
    "        total_duration_in_minutes = df_resp[df_resp['patient'] == patient]['cycle_duration'].sum() / 60\n",
    "        nspindles_by_minute = nspindles / total_duration_in_minutes\n",
    "        rows.append([patient, chan, nspindles, total_duration_in_minutes , nspindles_by_minute])\n",
    "df_spindles_features_number = pd.DataFrame(rows, columns = ['patient','dérivation', 'nspindles','total duration','nspindles_by_minutes'])"
   ]
  },
  {
   "cell_type": "code",
   "execution_count": 35,
   "id": "80dbe429",
   "metadata": {},
   "outputs": [
    {
     "data": {
      "text/html": [
       "<div>\n",
       "<style scoped>\n",
       "    .dataframe tbody tr th:only-of-type {\n",
       "        vertical-align: middle;\n",
       "    }\n",
       "\n",
       "    .dataframe tbody tr th {\n",
       "        vertical-align: top;\n",
       "    }\n",
       "\n",
       "    .dataframe thead th {\n",
       "        text-align: right;\n",
       "    }\n",
       "</style>\n",
       "<table border=\"1\" class=\"dataframe\">\n",
       "  <thead>\n",
       "    <tr style=\"text-align: right;\">\n",
       "      <th></th>\n",
       "      <th>patient</th>\n",
       "      <th>dérivation</th>\n",
       "      <th>nspindles</th>\n",
       "      <th>total duration</th>\n",
       "      <th>nspindles_by_minutes</th>\n",
       "    </tr>\n",
       "  </thead>\n",
       "  <tbody>\n",
       "    <tr>\n",
       "      <th>0</th>\n",
       "      <td>P1</td>\n",
       "      <td>Fp1-C3</td>\n",
       "      <td>452</td>\n",
       "      <td>113.333984</td>\n",
       "      <td>3.988212</td>\n",
       "    </tr>\n",
       "    <tr>\n",
       "      <th>1</th>\n",
       "      <td>P1</td>\n",
       "      <td>Fp2-C4</td>\n",
       "      <td>416</td>\n",
       "      <td>113.333984</td>\n",
       "      <td>3.670567</td>\n",
       "    </tr>\n",
       "    <tr>\n",
       "      <th>2</th>\n",
       "      <td>P1</td>\n",
       "      <td>Fz-Cz</td>\n",
       "      <td>418</td>\n",
       "      <td>113.333984</td>\n",
       "      <td>3.688214</td>\n",
       "    </tr>\n",
       "    <tr>\n",
       "      <th>3</th>\n",
       "      <td>P1</td>\n",
       "      <td>C3-T3</td>\n",
       "      <td>332</td>\n",
       "      <td>113.333984</td>\n",
       "      <td>2.929395</td>\n",
       "    </tr>\n",
       "    <tr>\n",
       "      <th>4</th>\n",
       "      <td>P1</td>\n",
       "      <td>C4-T4</td>\n",
       "      <td>370</td>\n",
       "      <td>113.333984</td>\n",
       "      <td>3.264687</td>\n",
       "    </tr>\n",
       "    <tr>\n",
       "      <th>...</th>\n",
       "      <td>...</td>\n",
       "      <td>...</td>\n",
       "      <td>...</td>\n",
       "      <td>...</td>\n",
       "      <td>...</td>\n",
       "    </tr>\n",
       "    <tr>\n",
       "      <th>75</th>\n",
       "      <td>P10</td>\n",
       "      <td>C3-T3</td>\n",
       "      <td>624</td>\n",
       "      <td>93.317904</td>\n",
       "      <td>6.686820</td>\n",
       "    </tr>\n",
       "    <tr>\n",
       "      <th>76</th>\n",
       "      <td>P10</td>\n",
       "      <td>C4-T4</td>\n",
       "      <td>271</td>\n",
       "      <td>93.317904</td>\n",
       "      <td>2.904052</td>\n",
       "    </tr>\n",
       "    <tr>\n",
       "      <th>77</th>\n",
       "      <td>P10</td>\n",
       "      <td>Cz-Pz</td>\n",
       "      <td>195</td>\n",
       "      <td>93.317904</td>\n",
       "      <td>2.089631</td>\n",
       "    </tr>\n",
       "    <tr>\n",
       "      <th>78</th>\n",
       "      <td>P10</td>\n",
       "      <td>T4-O2</td>\n",
       "      <td>94</td>\n",
       "      <td>93.317904</td>\n",
       "      <td>1.007309</td>\n",
       "    </tr>\n",
       "    <tr>\n",
       "      <th>79</th>\n",
       "      <td>P10</td>\n",
       "      <td>T3-O1</td>\n",
       "      <td>176</td>\n",
       "      <td>93.317904</td>\n",
       "      <td>1.886026</td>\n",
       "    </tr>\n",
       "  </tbody>\n",
       "</table>\n",
       "<p>80 rows × 5 columns</p>\n",
       "</div>"
      ],
      "text/plain": [
       "   patient dérivation  nspindles  total duration  nspindles_by_minutes\n",
       "0       P1     Fp1-C3        452      113.333984              3.988212\n",
       "1       P1     Fp2-C4        416      113.333984              3.670567\n",
       "2       P1      Fz-Cz        418      113.333984              3.688214\n",
       "3       P1      C3-T3        332      113.333984              2.929395\n",
       "4       P1      C4-T4        370      113.333984              3.264687\n",
       "..     ...        ...        ...             ...                   ...\n",
       "75     P10      C3-T3        624       93.317904              6.686820\n",
       "76     P10      C4-T4        271       93.317904              2.904052\n",
       "77     P10      Cz-Pz        195       93.317904              2.089631\n",
       "78     P10      T4-O2         94       93.317904              1.007309\n",
       "79     P10      T3-O1        176       93.317904              1.886026\n",
       "\n",
       "[80 rows x 5 columns]"
      ]
     },
     "execution_count": 35,
     "metadata": {},
     "output_type": "execute_result"
    }
   ],
   "source": [
    "df_spindles_features_number"
   ]
  },
  {
   "cell_type": "code",
   "execution_count": 43,
   "id": "82ad55c2",
   "metadata": {},
   "outputs": [
    {
     "data": {
      "text/plain": [
       "Text(0.5, 1.0, 'N Spindles detected by minute of N2 stage')"
      ]
     },
     "execution_count": 43,
     "metadata": {},
     "output_type": "execute_result"
    },
    {
     "data": {
      "image/png": "[encoded data removed]",
      "text/plain": [
       "<Figure size 1440x720 with 1 Axes>"
      ]
     },
     "metadata": {
      "needs_background": "light"
     },
     "output_type": "display_data"
    }
   ],
   "source": [
    "fig, ax = plt.subplots(figsize = (20,10))\n",
    "sns.pointplot(data=df_spindles_features_number, x='dérivation', y = 'nspindles_by_minutes',hue = 'patient', ax=ax)\n",
    "ax.set_title('N Spindles detected by minute of N2 stage')\n",
    "# plt.savefig('../presentation_4/n_spindles_by_minute')"
   ]
  },
  {
   "cell_type": "code",
   "execution_count": 13,
   "id": "501a6e5b-15c9-49b6-b333-93c6a4cf4990",
   "metadata": {},
   "outputs": [
    {
     "data": {
      "text/plain": [
       "[Text(0, 0, '20.4'),\n",
       " Text(0, 0, '17.6'),\n",
       " Text(0, 0, '24.7'),\n",
       " Text(0, 0, '19.1'),\n",
       " Text(0, 0, '26.7'),\n",
       " Text(0, 0, '12.5'),\n",
       " Text(0, 0, '35.9'),\n",
       " Text(0, 0, '17.2'),\n",
       " Text(0, 0, '9'),\n",
       " Text(0, 0, '30.6')]"
      ]
     },
     "execution_count": 13,
     "metadata": {},
     "output_type": "execute_result"
    },
    {
     "data": {
      "image/png": "[encoded data removed]",
      "text/plain": [
       "<Figure size 432x288 with 1 Axes>"
      ]
     },
     "metadata": {
      "needs_background": "light"
     },
     "output_type": "display_data"
    }
   ],
   "source": [
    "fig, ax = plt.subplots()\n",
    "df_spindles_features_number.set_index('patient')['nspindles_by_minutes'].round(1).plot.bar(ax=ax)\n",
    "ax.set_title('Mean number of spindles detected by minute in N2 stage')\n",
    "ax.bar_label(ax.containers[0])\n",
    "# plt.savefig('../presentation_4/spindles_by_minute_by_patient', bbox_inches = 'tight')"
   ]
  },
  {
   "cell_type": "code",
   "execution_count": 14,
   "id": "6a2cef32-c359-43e2-960b-9014587450c7",
   "metadata": {},
   "outputs": [
    {
     "data": {
      "text/plain": [
       "[Text(0, 0, '0.86'), Text(0, 0, '13.38'), Text(0, 0, '10.88')]"
      ]
     },
     "execution_count": 14,
     "metadata": {},
     "output_type": "execute_result"
    },
    {
     "data": {
      "image/png": "[encoded data removed]",
      "text/plain": [
       "<Figure size 432x288 with 1 Axes>"
      ]
     },
     "metadata": {
      "needs_background": "light"
     },
     "output_type": "display_data"
    }
   ],
   "source": [
    "fig, ax = plt.subplots()\n",
    "df_spindles[['Duration','Frequency','Oscillations']].mean().round(2).plot.bar(ax=ax)\n",
    "ax.set_title('Mean spindles features')\n",
    "ax.bar_label(ax.containers[0])\n",
    "# plt.savefig('../presentation_4/mean_spindles_features', bbox_inches = 'tight')"
   ]
  },
  {
   "cell_type": "code",
   "execution_count": 15,
   "id": "62611ddc-4d43-4022-af0b-f3479cc45e80",
   "metadata": {
    "execution": {
     "iopub.execute_input": "2022-05-30T11:54:06.053256Z",
     "iopub.status.busy": "2022-05-30T11:54:06.053119Z",
     "iopub.status.idle": "2022-05-30T11:54:06.143616Z",
     "shell.execute_reply": "2022-05-30T11:54:06.143209Z",
     "shell.execute_reply.started": "2022-05-30T11:54:06.053241Z"
    },
    "tags": []
   },
   "outputs": [
    {
     "name": "stderr",
     "output_type": "stream",
     "text": [
      "/tmp/ipykernel_1172915/3536899752.py:1: FutureWarning: Dropping of nuisance columns in DataFrame reductions (with 'numeric_only=None') is deprecated; in a future version this will raise TypeError.  Select only valid columns before calling the reduction.\n",
      "  df_spindles.mean()[['Duration','Frequency']]\n"
     ]
    },
    {
     "data": {
      "text/plain": [
       "Duration      0.860505\n",
       "Frequency    13.384036\n",
       "dtype: float64"
      ]
     },
     "execution_count": 15,
     "metadata": {},
     "output_type": "execute_result"
    }
   ],
   "source": [
    "df_spindles.mean()[['Duration','Frequency']]"
   ]
  },
  {
   "cell_type": "code",
   "execution_count": 16,
   "id": "07bc7c5e-594f-4e4f-b2a9-8c2f4e8018b2",
   "metadata": {
    "execution": {
     "iopub.execute_input": "2022-05-30T11:54:21.482936Z",
     "iopub.status.busy": "2022-05-30T11:54:21.482794Z",
     "iopub.status.idle": "2022-05-30T11:54:21.739644Z",
     "shell.execute_reply": "2022-05-30T11:54:21.739283Z",
     "shell.execute_reply.started": "2022-05-30T11:54:21.482921Z"
    }
   },
   "outputs": [
    {
     "data": {
      "text/plain": [
       "<seaborn.matrix.ClusterGrid at 0x7faa2816ae50>"
      ]
     },
     "execution_count": 16,
     "metadata": {},
     "output_type": "execute_result"
    },
    {
     "data": {
      "image/png": "[encoded data removed]",
      "text/plain": [
       "<Figure size 720x720 with 4 Axes>"
      ]
     },
     "metadata": {
      "needs_background": "light"
     },
     "output_type": "display_data"
    }
   ],
   "source": [
    "sns.clustermap(df_spindles.corr('spearman'))"
   ]
  },
  {
   "cell_type": "code",
   "execution_count": 17,
   "id": "6af075cb-b032-448f-a0ca-da4757e07441",
   "metadata": {
    "execution": {
     "iopub.execute_input": "2022-05-30T12:14:42.951323Z",
     "iopub.status.busy": "2022-05-30T12:14:42.951091Z",
     "iopub.status.idle": "2022-05-30T12:14:42.955282Z",
     "shell.execute_reply": "2022-05-30T12:14:42.954836Z",
     "shell.execute_reply.started": "2022-05-30T12:14:42.951301Z"
    },
    "tags": []
   },
   "outputs": [],
   "source": [
    "def get_staging_comparison_features():\n",
    "    concat = []\n",
    "    for patient in patients:\n",
    "        ser = pd.read_excel(f'../df_analyse/win_staging_{patient}.xlsx').T.loc['win',:].values\n",
    "        concat.append(ser)\n",
    "    df_all = pd.DataFrame(concat, columns = [0,1])\n",
    "    return df_all"
   ]
  },
  {
   "cell_type": "code",
   "execution_count": 18,
   "id": "01c1d76a-2da8-417c-b51b-fa1e9aab2a80",
   "metadata": {
    "execution": {
     "iopub.execute_input": "2022-05-30T12:14:43.121291Z",
     "iopub.status.busy": "2022-05-30T12:14:43.121151Z",
     "iopub.status.idle": "2022-05-30T12:14:43.206098Z",
     "shell.execute_reply": "2022-05-30T12:14:43.205580Z",
     "shell.execute_reply.started": "2022-05-30T12:14:43.121277Z"
    },
    "tags": []
   },
   "outputs": [
    {
     "data": {
      "text/plain": [
       "0    0.649249\n",
       "1    0.350751\n",
       "dtype: float64"
      ]
     },
     "execution_count": 18,
     "metadata": {},
     "output_type": "execute_result"
    }
   ],
   "source": [
    "get_staging_comparison_features().mean()"
   ]
  },
  {
   "cell_type": "code",
   "execution_count": 19,
   "id": "0c58f3e2-308c-4c5f-badc-c5681a1f2ac9",
   "metadata": {
    "execution": {
     "iopub.execute_input": "2022-06-03T17:33:59.456714Z",
     "iopub.status.busy": "2022-06-03T17:33:59.456550Z",
     "iopub.status.idle": "2022-06-03T17:33:59.478472Z",
     "shell.execute_reply": "2022-06-03T17:33:59.478105Z",
     "shell.execute_reply.started": "2022-06-03T17:33:59.456686Z"
    },
    "tags": []
   },
   "outputs": [],
   "source": [
    "def get_spindle_cycle_features():\n",
    "    concat = []\n",
    "    for patient in patients:\n",
    "        ser = pd.read_excel(f'../df_analyse/cycles_numbers_{patient}.xlsx').iloc[:,1].values\n",
    "        concat.append(ser)\n",
    "    df_all = pd.DataFrame(concat, columns = ['patient','all','spindled', 'unspindled'])\n",
    "    return df_all"
   ]
  },
  {
   "cell_type": "code",
   "execution_count": 20,
   "id": "57c49896-4400-4ac3-ad1a-8603c0583fce",
   "metadata": {
    "execution": {
     "iopub.execute_input": "2022-06-03T17:33:59.635044Z",
     "iopub.status.busy": "2022-06-03T17:33:59.634482Z",
     "iopub.status.idle": "2022-06-03T17:33:59.756072Z",
     "shell.execute_reply": "2022-06-03T17:33:59.755649Z",
     "shell.execute_reply.started": "2022-06-03T17:33:59.634975Z"
    },
    "tags": []
   },
   "outputs": [
    {
     "data": {
      "text/html": [
       "<div>\n",
       "<style scoped>\n",
       "    .dataframe tbody tr th:only-of-type {\n",
       "        vertical-align: middle;\n",
       "    }\n",
       "\n",
       "    .dataframe tbody tr th {\n",
       "        vertical-align: top;\n",
       "    }\n",
       "\n",
       "    .dataframe thead th {\n",
       "        text-align: right;\n",
       "    }\n",
       "</style>\n",
       "<table border=\"1\" class=\"dataframe\">\n",
       "  <thead>\n",
       "    <tr style=\"text-align: right;\">\n",
       "      <th></th>\n",
       "      <th>patient</th>\n",
       "      <th>all</th>\n",
       "      <th>spindled</th>\n",
       "      <th>unspindled</th>\n",
       "    </tr>\n",
       "  </thead>\n",
       "  <tbody>\n",
       "    <tr>\n",
       "      <th>0</th>\n",
       "      <td>P1</td>\n",
       "      <td>2348</td>\n",
       "      <td>834</td>\n",
       "      <td>1514</td>\n",
       "    </tr>\n",
       "    <tr>\n",
       "      <th>1</th>\n",
       "      <td>P2</td>\n",
       "      <td>2334</td>\n",
       "      <td>851</td>\n",
       "      <td>1483</td>\n",
       "    </tr>\n",
       "    <tr>\n",
       "      <th>2</th>\n",
       "      <td>P3</td>\n",
       "      <td>2157</td>\n",
       "      <td>969</td>\n",
       "      <td>1188</td>\n",
       "    </tr>\n",
       "    <tr>\n",
       "      <th>3</th>\n",
       "      <td>P4</td>\n",
       "      <td>2053</td>\n",
       "      <td>916</td>\n",
       "      <td>1137</td>\n",
       "    </tr>\n",
       "    <tr>\n",
       "      <th>4</th>\n",
       "      <td>P5</td>\n",
       "      <td>1602</td>\n",
       "      <td>706</td>\n",
       "      <td>896</td>\n",
       "    </tr>\n",
       "    <tr>\n",
       "      <th>5</th>\n",
       "      <td>P6</td>\n",
       "      <td>1235</td>\n",
       "      <td>380</td>\n",
       "      <td>855</td>\n",
       "    </tr>\n",
       "    <tr>\n",
       "      <th>6</th>\n",
       "      <td>P7</td>\n",
       "      <td>2471</td>\n",
       "      <td>1440</td>\n",
       "      <td>1031</td>\n",
       "    </tr>\n",
       "    <tr>\n",
       "      <th>7</th>\n",
       "      <td>P8</td>\n",
       "      <td>753</td>\n",
       "      <td>295</td>\n",
       "      <td>458</td>\n",
       "    </tr>\n",
       "    <tr>\n",
       "      <th>8</th>\n",
       "      <td>P9</td>\n",
       "      <td>1451</td>\n",
       "      <td>472</td>\n",
       "      <td>979</td>\n",
       "    </tr>\n",
       "    <tr>\n",
       "      <th>9</th>\n",
       "      <td>P10</td>\n",
       "      <td>1689</td>\n",
       "      <td>755</td>\n",
       "      <td>934</td>\n",
       "    </tr>\n",
       "  </tbody>\n",
       "</table>\n",
       "</div>"
      ],
      "text/plain": [
       "  patient   all  spindled  unspindled\n",
       "0      P1  2348       834        1514\n",
       "1      P2  2334       851        1483\n",
       "2      P3  2157       969        1188\n",
       "3      P4  2053       916        1137\n",
       "4      P5  1602       706         896\n",
       "5      P6  1235       380         855\n",
       "6      P7  2471      1440        1031\n",
       "7      P8   753       295         458\n",
       "8      P9  1451       472         979\n",
       "9     P10  1689       755         934"
      ]
     },
     "execution_count": 20,
     "metadata": {},
     "output_type": "execute_result"
    }
   ],
   "source": [
    "get_spindle_cycle_features()"
   ]
  },
  {
   "cell_type": "code",
   "execution_count": null,
   "id": "a798513a-1165-4e59-aa2d-5d07c10d9f1c",
   "metadata": {},
   "outputs": [],
   "source": []
  }
 ],
 "metadata": {
  "kernelspec": {
   "display_name": "Python 3.8.12 ('py38_cluster')",
   "language": "python",
   "name": "python3"
  },
  "language_info": {
   "codemirror_mode": {
    "name": "ipython",
    "version": 3
   },
   "file_extension": ".py",
   "mimetype": "text/x-python",
   "name": "python",
   "nbconvert_exporter": "python",
   "pygments_lexer": "ipython3",
   "version": "3.8.12"
  },
  "vscode": {
   "interpreter": {
    "hash": "4bd70bb5ed2fb7582dd19992bfd207be77cacf780be7966dbdb042214aeb5dc8"
   }
  }
 },
 "nbformat": 4,
 "nbformat_minor": 5
}
