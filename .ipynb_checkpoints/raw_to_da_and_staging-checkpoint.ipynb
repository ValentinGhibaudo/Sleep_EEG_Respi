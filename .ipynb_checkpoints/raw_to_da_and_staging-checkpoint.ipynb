{
 "cells": [
  {
   "cell_type": "code",
   "execution_count": 1,
   "id": "c3d1179a-671d-44f0-ba85-9d3daa231a48",
   "metadata": {},
   "outputs": [],
   "source": [
    "%load_ext autoreload\n",
    "%autoreload 2"
   ]
  },
  {
   "cell_type": "code",
   "execution_count": 2,
   "id": "65a8a404-6042-4c58-85e4-a970508fe5d0",
   "metadata": {},
   "outputs": [],
   "source": [
    "import numpy as np\n",
    "import pandas as pd\n",
    "from scipy import signal\n",
    "import matplotlib.pyplot as plt\n",
    "import xarray as xr\n",
    "from pyedflib import highlevel\n",
    "import yasa\n",
    "import tqdm\n",
    "import glob\n",
    "import ghibtools as gt\n",
    "import mne\n",
    "from params import *"
   ]
  },
  {
   "cell_type": "markdown",
   "id": "54c8af1b-c4f4-42ed-929f-ce24db34b8c7",
   "metadata": {},
   "source": [
    "## PARAMS"
   ]
  },
  {
   "cell_type": "code",
   "execution_count": 3,
   "id": "359c676f-c577-4449-bee4-5bf3268a1243",
   "metadata": {},
   "outputs": [],
   "source": [
    "input_file = glob.glob(f'../data/{patient}/*.edf')[0]"
   ]
  },
  {
   "cell_type": "code",
   "execution_count": 4,
   "id": "d58a886e-0f79-4a91-8743-fd43fecf5361",
   "metadata": {},
   "outputs": [],
   "source": [
    "save_presentation = False"
   ]
  },
  {
   "cell_type": "code",
   "execution_count": 5,
   "id": "9c233626-070a-43ba-89a5-fbebef4278cc",
   "metadata": {},
   "outputs": [],
   "source": [
    "save_da = True"
   ]
  },
  {
   "cell_type": "markdown",
   "id": "c390f171-f595-49f9-8dd0-d296c629ed1d",
   "metadata": {},
   "source": [
    "## TOOLS"
   ]
  },
  {
   "cell_type": "code",
   "execution_count": 6,
   "id": "17dd2eb0-46eb-40da-a80a-b6d078385e19",
   "metadata": {},
   "outputs": [],
   "source": [
    "def eeg_mono_to_bipol(da, dérivations):\n",
    "    da_bipol = []\n",
    "    for bipol in dérivations : \n",
    "        pole1, pole2 = bipol.split('-')[0] , bipol.split('-')[1]\n",
    "        if pole1 in ['EOGDt','EOGG']:\n",
    "            chan1 = pole1\n",
    "            chan2 = f'EEG {pole2}'\n",
    "        else:\n",
    "            chan1 = f'EEG {pole1}'\n",
    "            chan2 = f'EEG {pole2}'\n",
    "        sig1 = da.loc[chan1,:]\n",
    "        sig2 = da.loc[chan2,:]\n",
    "        bipol_sig = sig1 - sig2\n",
    "        da_bipol.append(bipol_sig)\n",
    "    da_bipolaire = xr.concat(da_bipol, dim = 'chan')\n",
    "    da_bipolaire = da_bipolaire.assign_coords({'chan':dérivations})\n",
    "    return da_bipolaire"
   ]
  },
  {
   "cell_type": "code",
   "execution_count": 7,
   "id": "1691516e-4e01-440a-9675-57ab70303f31",
   "metadata": {},
   "outputs": [],
   "source": [
    "def to_notch_da(da, fs):\n",
    "    chans = list(da.coords['chan'].values)\n",
    "    da_notched = da.copy()\n",
    "    for channel in chans:\n",
    "        sig = da.sel(chan = channel).values\n",
    "        sig_notched = gt.notch(sig, fs=fs)\n",
    "        if channel == 'ECG':\n",
    "            sig_notched = -sig_notched\n",
    "        da_notched.loc[channel, :] = sig_notched\n",
    "    return da_notched"
   ]
  },
  {
   "cell_type": "code",
   "execution_count": 8,
   "id": "bba30c89-e36f-4672-83fc-0546a9d446c4",
   "metadata": {},
   "outputs": [],
   "source": [
    "def da_to_mne_object(da, srate):\n",
    "    ch_names = list(da.coords['chan'].values)\n",
    "    sfreq = srate\n",
    "    info = mne.create_info(ch_names, sfreq, ch_types='misc', verbose=None)\n",
    "    raw = mne.io.RawArray(data = da.values, info=info, first_samp=0, copy='auto', verbose=None)\n",
    "    return raw"
   ]
  },
  {
   "cell_type": "markdown",
   "id": "13d833c6-24b5-4ed7-a52f-91bc2e05f153",
   "metadata": {},
   "source": [
    "## LOAD RAW"
   ]
  },
  {
   "cell_type": "code",
   "execution_count": null,
   "id": "575a66c6-bddc-4589-bca6-d51ac65a70df",
   "metadata": {},
   "outputs": [],
   "source": [
    "signals, signal_headers, header = highlevel.read_edf(input_file)"
   ]
  },
  {
   "cell_type": "code",
   "execution_count": null,
   "id": "16513ecd-18be-4825-977a-6cc0025e1481",
   "metadata": {},
   "outputs": [],
   "source": [
    "srate = signal_headers[0]['sample_rate']\n",
    "chans = [chan_dict['label'] for chan_dict in signal_headers]\n",
    "eeg_chans = [ chan for chan in chans if 'EEG' in chan]\n",
    "eeg_chans_clean = [ chan.split(' ')[1] for chan in chans if 'EEG' in chan]\n",
    "eog_chans = [ chan for chan in chans if 'EOG' in chan] \n",
    "physio_chans = [ chan for chan in chans if not 'EEG' in chan] \n",
    "unit = signal_headers[0]['dimension']\n",
    "time = np.arange(0 , signals.shape[1] / srate , 1 / srate)\n",
    "dérivations = ['Fp2-C4' , 'C4-T4', 'T4-O2' , 'Fz-Cz' , 'Cz-Pz' , 'Fp1-C3', 'C3-T3', 'T3-O1', 'EOGDt-A1', 'EOGG-A2']\n",
    "print(f'Srate : {srate}')\n",
    "print(f'Total duration : {int(time[-1])} seconds')\n",
    "print(f'Nb of eeg electrodes : {len(eeg_chans)}')\n",
    "print(f'Nb physios electrodes : {len(physio_chans)}')"
   ]
  },
  {
   "cell_type": "markdown",
   "id": "0b2ae35f-a39e-4396-8039-5dcac428eb63",
   "metadata": {},
   "source": [
    "## PUT RAW IN DA"
   ]
  },
  {
   "cell_type": "code",
   "execution_count": null,
   "id": "c1134026-5839-4f07-ac07-8a32fd0dd9bf",
   "metadata": {},
   "outputs": [],
   "source": [
    "da = xr.DataArray(data = signals, dims = ['chan','time'] , coords = {'chan':chans , 'time':time})"
   ]
  },
  {
   "cell_type": "markdown",
   "id": "e72946bd-1b60-4264-b78c-281bd2f27ab0",
   "metadata": {},
   "source": [
    "## DISPLAY MONOPOLAR"
   ]
  },
  {
   "cell_type": "markdown",
   "id": "992b9cad-9b6b-49ae-acfe-54ec5e4c0483",
   "metadata": {
    "jp-MarkdownHeadingCollapsed": true,
    "tags": []
   },
   "source": [
    "* raw signals"
   ]
  },
  {
   "cell_type": "code",
   "execution_count": null,
   "id": "22612279-8755-44e8-ae7d-10423eb2be9d",
   "metadata": {},
   "outputs": [],
   "source": [
    "plt.figure()\n",
    "da.loc[eeg_chans, 10:10.5].plot.line(x='time', hue = 'chan', size = 10)\n",
    "if save_presentation:\n",
    "    plt.savefig(f'../presentation/raw_signals_{patient}')\n",
    "plt.show()"
   ]
  },
  {
   "cell_type": "markdown",
   "id": "a909480a-b418-42a0-905d-dd6a38d46c5b",
   "metadata": {
    "jp-MarkdownHeadingCollapsed": true,
    "tags": []
   },
   "source": [
    "* psd of raw signals"
   ]
  },
  {
   "cell_type": "code",
   "execution_count": null,
   "id": "6e515bfb-2fae-46a6-920c-877acfd713e7",
   "metadata": {},
   "outputs": [],
   "source": [
    "plt.figure()\n",
    "for chan in eeg_chans :\n",
    "    f, Pxx = gt.spectre(da.loc[chan,:].values, srate=srate, wsize = 50)\n",
    "    plt.plot(f, Pxx)\n",
    "if save_presentation:\n",
    "    plt.savefig(f'../presentation/psd_raw_mono_{patient}')\n",
    "plt.show()"
   ]
  },
  {
   "cell_type": "markdown",
   "id": "76d08b5f-be81-4b7c-8d80-87d6a39657cf",
   "metadata": {},
   "source": [
    "## MONO TO BIPOLAR "
   ]
  },
  {
   "cell_type": "markdown",
   "id": "e3e3de5d-34d1-4688-b02a-147329b94eda",
   "metadata": {
    "jp-MarkdownHeadingCollapsed": true,
    "tags": []
   },
   "source": [
    "* signals"
   ]
  },
  {
   "cell_type": "code",
   "execution_count": null,
   "id": "ed762fe3-2498-43fc-a146-ca8cd5375ba1",
   "metadata": {},
   "outputs": [],
   "source": [
    "da_bipol = eeg_mono_to_bipol(da, dérivations = dérivations)"
   ]
  },
  {
   "cell_type": "code",
   "execution_count": null,
   "id": "f01df1fc-b8ec-4123-b967-01b1d5017bdc",
   "metadata": {
    "tags": []
   },
   "outputs": [],
   "source": [
    "plt.figure()\n",
    "da_bipol.loc[:,10:11].plot.line(x='time', hue = 'chan', size = 10)\n",
    "if save_presentation:\n",
    "    plt.savefig(f'../presentation/raw_bipol_signals_{patient}')\n",
    "plt.show()"
   ]
  },
  {
   "cell_type": "markdown",
   "id": "239811d7-829f-4540-a2b1-71e85ee94163",
   "metadata": {
    "jp-MarkdownHeadingCollapsed": true,
    "tags": []
   },
   "source": [
    "* psd"
   ]
  },
  {
   "cell_type": "code",
   "execution_count": null,
   "id": "8140a463-417a-4157-b63b-78e1fb4bb824",
   "metadata": {},
   "outputs": [],
   "source": [
    "plt.figure()\n",
    "for dérivation in dérivations:\n",
    "    f, Pxx = gt.spectre(da_bipol.sel(chan = dérivation).values, srate=srate, wsize = 50)\n",
    "    plt.plot(f, Pxx, label = dérivation)\n",
    "    plt.legend()\n",
    "if save_presentation:\n",
    "    plt.savefig(f'../presentation/psd_raw_bipol_{patient}')\n",
    "plt.show()"
   ]
  },
  {
   "cell_type": "code",
   "execution_count": null,
   "id": "173b0acd-e84f-4ef6-bb6c-d13262464e20",
   "metadata": {},
   "outputs": [],
   "source": [
    "plt.figure()\n",
    "for dérivation in dérivations:\n",
    "    f, Pxx = gt.spectre(da_bipol.sel(chan = dérivation).values, srate=srate, wsize = 50)\n",
    "    plt.plot(f[:1000], Pxx[:1000], label = dérivation)\n",
    "    plt.legend()\n",
    "plt.show()"
   ]
  },
  {
   "cell_type": "markdown",
   "id": "aa81e603-2684-4c7d-9e66-b6cee95daa2a",
   "metadata": {
    "jp-MarkdownHeadingCollapsed": true,
    "tags": []
   },
   "source": [
    "* join bipol eeg to physios"
   ]
  },
  {
   "cell_type": "code",
   "execution_count": null,
   "id": "98f26dd9-7805-4b85-9bb6-e4d5b18c11e0",
   "metadata": {},
   "outputs": [],
   "source": [
    "da_physios = da.loc[physio_chans,:]"
   ]
  },
  {
   "cell_type": "code",
   "execution_count": null,
   "id": "e43aa10f-39b4-4510-94c6-8403f620f88c",
   "metadata": {},
   "outputs": [],
   "source": [
    "da_all = xr.concat([da_bipol , da_physios], dim = 'chan')"
   ]
  },
  {
   "cell_type": "code",
   "execution_count": null,
   "id": "a37026af-41bf-41e6-9e11-d09791966c5b",
   "metadata": {},
   "outputs": [],
   "source": [
    "da_all.loc[:,20:25].plot.line(x='time', row = 'chan')"
   ]
  },
  {
   "cell_type": "code",
   "execution_count": null,
   "id": "287b633e-b5ce-4eed-a451-357ff4cc8403",
   "metadata": {},
   "outputs": [],
   "source": [
    "da_all.loc['DEBIT',20:40].plot()"
   ]
  },
  {
   "cell_type": "code",
   "execution_count": null,
   "id": "d70b7c8d-126d-4d5c-be37-d4d00b8b25e4",
   "metadata": {},
   "outputs": [],
   "source": [
    "da_all_notched = to_notch_da(da_all, fs=srate)"
   ]
  },
  {
   "cell_type": "code",
   "execution_count": null,
   "id": "600ca068-408f-40b2-87ce-f90f779e1dd0",
   "metadata": {},
   "outputs": [],
   "source": [
    "plt.figure()\n",
    "for dérivation in dérivations:\n",
    "    f, Pxx = gt.spectre(da_all_notched.sel(chan = dérivation).values, srate=srate, wsize = 50)\n",
    "    plt.plot(f, Pxx, label = dérivation)\n",
    "    plt.legend()\n",
    "if save_presentation:\n",
    "    plt.savefig(f'../presentation/psd_post_notch_{patient}')\n",
    "plt.show()"
   ]
  },
  {
   "cell_type": "code",
   "execution_count": null,
   "id": "75a7b3fa-c36b-4eb5-ab93-9d7d27d301f6",
   "metadata": {},
   "outputs": [],
   "source": [
    "raw = da_to_mne_object(da_all_notched, srate=srate)"
   ]
  },
  {
   "cell_type": "code",
   "execution_count": null,
   "id": "c514a9b1-9e9d-4281-88bf-a416e6245dde",
   "metadata": {},
   "outputs": [],
   "source": [
    "eeg_names = [ chan for chan in dérivations if not chan in ['EOGDt-A1','EOGG-A2']]\n",
    "eeg_names"
   ]
  },
  {
   "cell_type": "markdown",
   "id": "def4ba50-6d3f-468b-8ad0-5ec4e49b439b",
   "metadata": {},
   "source": [
    "## **YASA**"
   ]
  },
  {
   "cell_type": "markdown",
   "id": "9be71d43-00b0-4c86-ba0d-179c1dbb4447",
   "metadata": {},
   "source": [
    "* read human marking"
   ]
  },
  {
   "cell_type": "code",
   "execution_count": null,
   "id": "17601d54-7396-4aa2-a0d1-19354cf54861",
   "metadata": {},
   "outputs": [],
   "source": [
    "txt_hypno_path = glob.glob(f'../data/{patient}/*AhypnoEXP.txt')[0]"
   ]
  },
  {
   "cell_type": "code",
   "execution_count": null,
   "id": "7a476cb6-415e-4c3d-a852-6aa3a4635bfe",
   "metadata": {},
   "outputs": [],
   "source": [
    "hypno = np.loadtxt(txt_hypno_path, dtype = str)"
   ]
  },
  {
   "cell_type": "code",
   "execution_count": null,
   "id": "24dc384c-adf9-4d5e-92ec-44140a6d7dd1",
   "metadata": {},
   "outputs": [],
   "source": [
    "hypno = hypno[:,2]\n",
    "pd.Series(hypno).value_counts()"
   ]
  },
  {
   "cell_type": "markdown",
   "id": "1e508243-9450-4449-ab42-00c83d60e295",
   "metadata": {},
   "source": [
    "* yasa sleep staging by giving \"preferentially a central electrode\" = C4-T4, eog (\"preferentially, the left LOC channel referenced either to the mastoid (e.g. E1-M2) or Fpz.\") = Left EOG reref to A1 , emg = menton (\"Preferentially a chin electrode.\")"
   ]
  },
  {
   "cell_type": "code",
   "execution_count": null,
   "id": "32535d47-fc9f-46dc-9800-bfa7bebac680",
   "metadata": {},
   "outputs": [],
   "source": [
    "sls = yasa.SleepStaging(raw , eeg_name = 'C4-T4' , eog_name = 'EOGG-A2', emg_name='Menton')"
   ]
  },
  {
   "cell_type": "code",
   "execution_count": null,
   "id": "8a7006dd-ed99-4497-9286-567ba6ac4954",
   "metadata": {},
   "outputs": [],
   "source": [
    "y_pred = sls.predict()\n",
    "y_pred"
   ]
  },
  {
   "cell_type": "code",
   "execution_count": null,
   "id": "b0a3e356-5147-44c5-8b60-802ec467ae23",
   "metadata": {},
   "outputs": [],
   "source": [
    "# What are the predicted probabilities of each sleep stage at each epoch?\n",
    "predict_probas = sls.predict_proba()\n",
    "predict_probas"
   ]
  },
  {
   "cell_type": "markdown",
   "id": "3f98a807-ae80-435d-ae74-790ad7ed69b2",
   "metadata": {},
   "source": [
    "* plot yasa sleep staging"
   ]
  },
  {
   "cell_type": "code",
   "execution_count": null,
   "id": "8f2ff336-cf96-4070-9193-e12ba91b037b",
   "metadata": {},
   "outputs": [],
   "source": [
    "# Plot the predicted probabilities\n",
    "plt.figure()\n",
    "sls.plot_predict_proba();\n",
    "if save_presentation:\n",
    "    plt.savefig('../presentation/yasa_sleep_staging')\n",
    "plt.show()"
   ]
  },
  {
   "cell_type": "markdown",
   "id": "a412860a-5ac5-442b-9692-f3926b0f985c",
   "metadata": {},
   "source": [
    "* display human vs yasa sleep staging"
   ]
  },
  {
   "cell_type": "code",
   "execution_count": null,
   "id": "0a537d3c-270e-4239-8341-106a22e08f7e",
   "metadata": {},
   "outputs": [],
   "source": [
    "n_epochs_ia = pd.Series(y_pred).size\n",
    "ia_stages = pd.Series(y_pred).value_counts().reindex(index = stages_labels) # IA staging\n",
    "n_epochs_human = pd.Series(hypno).size\n",
    "human_stages = pd.Series(hypno).value_counts().rename({'REM':'R'}).reindex(index = stages_labels)  # human staging\n",
    "df_staging_compare = pd.concat([ia_stages, human_stages] , axis = 1).rename(columns = {0:'ia',1:'human'}).T\n",
    "df_staging_compare.insert(0,  'patient' , patient)\n",
    "df_staging_compare = df_staging_compare.reset_index().set_index(['index','patient'])\n",
    "if save_da:\n",
    "    df_staging_compare.to_excel(f'../df_analyse/df_staging_compare_{patient}.xlsx')\n",
    "df_staging_compare"
   ]
  },
  {
   "cell_type": "markdown",
   "id": "4513eed4-4a91-4bb7-a7ab-9642679bbbcc",
   "metadata": {},
   "source": [
    "* make a 30 sec epoched da multi_indexed via epoch num & epoch sleep stage label"
   ]
  },
  {
   "cell_type": "code",
   "execution_count": null,
   "id": "719ad390-b259-477b-bbd5-c46e30ecf07c",
   "metadata": {},
   "outputs": [],
   "source": [
    "y_pred_series = pd.Series(y_pred)\n",
    "y_pred_series.value_counts()"
   ]
  },
  {
   "cell_type": "code",
   "execution_count": null,
   "id": "0697b48f-fc22-4e81-948c-07125bc3b98c",
   "metadata": {},
   "outputs": [],
   "source": [
    "y_pred_series"
   ]
  },
  {
   "cell_type": "code",
   "execution_count": null,
   "id": "857cecdb-9de9-4a32-b6f0-bf2686588c35",
   "metadata": {},
   "outputs": [],
   "source": [
    "epochs = np.arange(0, y_pred_series.size, 1)\n",
    "da_epoched = gt.init_da({'chan':da_all_notched.coords['chan'].values, 'epoch':epochs, 'time':np.arange(0, 30, 1 / srate)})"
   ]
  },
  {
   "cell_type": "code",
   "execution_count": null,
   "id": "431d0cc8-b229-4f5f-8cc0-6956a0284ebf",
   "metadata": {},
   "outputs": [],
   "source": [
    "da_epoched.shape"
   ]
  },
  {
   "cell_type": "code",
   "execution_count": null,
   "id": "a5be4f90-f1ce-4cf3-a410-cace693af8de",
   "metadata": {},
   "outputs": [],
   "source": [
    "for epoch in epochs:\n",
    "    start = (epoch) * 30  \n",
    "    stop = start + 30\n",
    "    epoch_slice = da_all_notched.loc[:,start:stop].values[:,:-1]\n",
    "    da_epoched.loc[:, epoch, :] = epoch_slice"
   ]
  },
  {
   "cell_type": "code",
   "execution_count": null,
   "id": "0eb91ec2-e265-4706-87c0-5960543ad7a6",
   "metadata": {},
   "outputs": [],
   "source": [
    "da_epoched"
   ]
  },
  {
   "cell_type": "code",
   "execution_count": null,
   "id": "28aeedfb-67fa-419c-a198-d89f50dd8fb4",
   "metadata": {},
   "outputs": [],
   "source": [
    "da_epoched.loc['Fp2-C4',:,:].plot()"
   ]
  },
  {
   "cell_type": "code",
   "execution_count": null,
   "id": "82bd9589-bf56-43d5-a56d-7688639b3887",
   "metadata": {},
   "outputs": [],
   "source": [
    "midx = [epochs, y_pred_series.values]\n",
    "midx_ready = pd.MultiIndex.from_arrays(midx, names=('epochs', 'stages'))\n",
    "da_epoched_midx = da_epoched.assign_coords(coords = {'epoch':midx_ready})"
   ]
  },
  {
   "cell_type": "code",
   "execution_count": null,
   "id": "2ee13651-a6df-438e-bbb2-afbbc8de35a5",
   "metadata": {},
   "outputs": [],
   "source": [
    "da_epoched_midx"
   ]
  },
  {
   "cell_type": "code",
   "execution_count": null,
   "id": "8c3c7ed1-0a9b-4a0c-b82d-018624faa1ff",
   "metadata": {},
   "outputs": [],
   "source": [
    "def stack_stages(da_midx, stage, srate = srate):\n",
    "    da = da_midx.sel(stages = stage)\n",
    "    epochs = list(da.coords['epochs'].values)\n",
    "    to_concat = []\n",
    "    for epoch in epochs:\n",
    "        da_epoch = da.sel(epochs = epoch).reset_coords(drop=True)\n",
    "        to_concat.append(da_epoch)\n",
    "    da_concat = xr.concat(to_concat, dim = 'time')\n",
    "    time_vector = np.arange(0,da_concat.shape[1]/srate, 1/srate)\n",
    "    da_return = da_concat.assign_coords({'time':time_vector}) \n",
    "    return da_return"
   ]
  },
  {
   "cell_type": "code",
   "execution_count": null,
   "id": "8846c418-56e3-432e-af8b-24ddd4073cc4",
   "metadata": {},
   "outputs": [],
   "source": [
    "da_stacked_stage = stack_stages(da_midx = da_epoched_midx, stage=stage_to_study)"
   ]
  },
  {
   "cell_type": "code",
   "execution_count": null,
   "id": "f967020f-bd0d-4db1-8e17-c3dd4b811336",
   "metadata": {
    "tags": []
   },
   "outputs": [],
   "source": [
    "da_stacked_stage"
   ]
  },
  {
   "cell_type": "markdown",
   "id": "ee4b9706-522e-49bb-86ab-029c0eaa8167",
   "metadata": {},
   "source": [
    "* stack the 30 sec epoched da multi_indexed to get one signal by chan and by stage (concat staged epochs)"
   ]
  },
  {
   "cell_type": "code",
   "execution_count": null,
   "id": "4d50fbb3-1f5b-4cba-a64b-dd83bcbf201f",
   "metadata": {},
   "outputs": [],
   "source": [
    "def stack_all_stages(da_midx, stages=stages_labels, srate=srate):\n",
    "    concat = []\n",
    "    for stage in stages:\n",
    "        da_stage = stack_stages(da_midx=da_midx, stage=stage, srate = srate)\n",
    "        concat.append(da_stage)\n",
    "    da_all_stages = xr.concat(concat, dim = 'stage')\n",
    "    da_all_stages = da_all_stages.assign_coords({'stage':stages})\n",
    "    return da_all_stages"
   ]
  },
  {
   "cell_type": "code",
   "execution_count": null,
   "id": "c965dbca-fdcf-4814-8f6e-b88e37a4005a",
   "metadata": {},
   "outputs": [],
   "source": [
    "da_all_stages = stack_all_stages(da_midx=da_epoched_midx)"
   ]
  },
  {
   "cell_type": "code",
   "execution_count": null,
   "id": "fc8ff76b-de50-4775-a628-bf37004d0f30",
   "metadata": {},
   "outputs": [],
   "source": [
    "da_all_stages"
   ]
  },
  {
   "cell_type": "markdown",
   "id": "916c990e-ef2a-4f7a-8faf-dcd47e376a84",
   "metadata": {},
   "source": [
    "* duration by stage"
   ]
  },
  {
   "cell_type": "code",
   "execution_count": null,
   "id": "1600ed75-da7e-4459-a27c-e3f39bd9ab5c",
   "metadata": {},
   "outputs": [],
   "source": [
    "def get_duration_by_stade(da_all=da_all_stages, stages=stages_labels):\n",
    "    for stage in stages: \n",
    "        da_sel = da_all.sel(stage=stage).dropna(dim='time')\n",
    "        print( stage ,int( da_sel.coords['time'].values[-1]))"
   ]
  },
  {
   "cell_type": "code",
   "execution_count": null,
   "id": "55da055f-51d6-4534-9e5f-8875346ceea4",
   "metadata": {},
   "outputs": [],
   "source": [
    "get_duration_by_stade()"
   ]
  },
  {
   "cell_type": "code",
   "execution_count": null,
   "id": "41d06841-997c-4803-be73-b515a6eaed81",
   "metadata": {},
   "outputs": [],
   "source": [
    "da_all_stages.loc['N1','Fp2-C4',0:100].plot.line(x='time', hue = 'stage')"
   ]
  },
  {
   "cell_type": "code",
   "execution_count": null,
   "id": "6ce33cbf-5ca6-4445-bbce-f951de4cdb27",
   "metadata": {},
   "outputs": [],
   "source": [
    "da_all_stages.loc['N1','ECG',:].plot()"
   ]
  },
  {
   "cell_type": "code",
   "execution_count": null,
   "id": "02859c21-32f6-4fed-acc4-00a2e16453dc",
   "metadata": {},
   "outputs": [],
   "source": [
    "da_all_stages.loc['N1',['EOGG','EOGG-A2'],30:50].plot.line(x='time', hue='chan')"
   ]
  },
  {
   "cell_type": "code",
   "execution_count": null,
   "id": "7257af2a-7cc1-44d1-b958-cfccde7f6ffc",
   "metadata": {},
   "outputs": [],
   "source": [
    "if save_da:\n",
    "    da_all_stages.to_netcdf(f'../dataarray/da_staged_{patient}.nc')"
   ]
  },
  {
   "cell_type": "code",
   "execution_count": null,
   "id": "d5344884-4a1a-4b4a-a843-5e82c8d94610",
   "metadata": {},
   "outputs": [],
   "source": [
    "print(f'Srate : {srate}')\n",
    "print(f'Total duration : {int(time[-1])} seconds')\n",
    "print(f'Nb of eeg electrodes : {len(eeg_chans)}')\n",
    "print(f'Nb physios electrodes : {len(physio_chans)}')\n",
    "print(f\"YASA trouve {n_epochs_ia} époques de 30 secs, hypnogramme human made en note {n_epochs_human} soit {n_epochs_human - n_epochs_ia} de plus soit {(n_epochs_human - n_epochs_ia) * 30} secondes de plus\")\n",
    "get_duration_by_stade()"
   ]
  },
  {
   "cell_type": "code",
   "execution_count": null,
   "id": "c349d517-9bb8-40ec-9921-c270ebb48e0d",
   "metadata": {},
   "outputs": [],
   "source": []
  }
 ],
 "metadata": {
  "kernelspec": {
   "display_name": "Python 3 (ipykernel)",
   "language": "python",
   "name": "python3"
  },
  "language_info": {
   "codemirror_mode": {
    "name": "ipython",
    "version": 3
   },
   "file_extension": ".py",
   "mimetype": "text/x-python",
   "name": "python",
   "nbconvert_exporter": "python",
   "pygments_lexer": "ipython3",
   "version": "3.8.12"
  }
 },
 "nbformat": 4,
 "nbformat_minor": 5
}
