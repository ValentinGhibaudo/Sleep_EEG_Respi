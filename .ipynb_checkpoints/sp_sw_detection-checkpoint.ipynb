{
 "cells": [
  {
   "cell_type": "code",
   "execution_count": 10,
   "id": "fa5d6047-3e8e-4391-bc92-62453095243b",
   "metadata": {},
   "outputs": [
    {
     "name": "stdout",
     "output_type": "stream",
     "text": [
      "The autoreload extension is already loaded. To reload it, use:\n",
      "  %reload_ext autoreload\n"
     ]
    }
   ],
   "source": [
    "%load_ext autoreload\n",
    "%autoreload 2"
   ]
  },
  {
   "cell_type": "code",
   "execution_count": 11,
   "id": "a19cd174-1e2c-4cc6-9416-40f5173fb21f",
   "metadata": {},
   "outputs": [],
   "source": [
    "import numpy as np\n",
    "import pandas as pd\n",
    "import matplotlib.pyplot as plt\n",
    "import xarray as xr\n",
    "import yasa\n",
    "from params import eeg_chans, patients, srate"
   ]
  },
  {
   "cell_type": "markdown",
   "id": "87a04021-f154-434e-9cae-72fe79021095",
   "metadata": {},
   "source": [
    "## PARAMS"
   ]
  },
  {
   "cell_type": "code",
   "execution_count": 15,
   "id": "1cf7e9f0-a14f-41f1-9afc-4e54b6c48091",
   "metadata": {},
   "outputs": [],
   "source": [
    "save = False"
   ]
  },
  {
   "cell_type": "markdown",
   "id": "3c3d2f4a-03c6-4825-8cff-c79964a542e7",
   "metadata": {},
   "source": [
    "## FIND SPINDLES AND SLOW WAVES WITH YASA"
   ]
  },
  {
   "cell_type": "code",
   "execution_count": 9,
   "id": "120cc044-78c5-4945-9469-a56fe0c89103",
   "metadata": {},
   "outputs": [],
   "source": [
    "def detect_spindles_and_slow_waves(patient, srate=srate, chan = eeg_chans, save=False):\n",
    "    input_file = f'../dataarray/da_N2N3_{patient}.nc'\n",
    "    da = xr.load_dataarray(input_file)\n",
    "    data = da.sel(chan = chan).dropna(dim='time').values\n",
    "\n",
    "    sp = yasa.spindles_detect(data=data, sf=srate, ch_names=chan, multi_only=False, remove_outliers=True)\n",
    "    spindles = sp.summary()  \n",
    "    spindles.insert(0 , 'patient', patient)\n",
    "\n",
    "    sw = yasa.sw_detect(data=data, sf=srate, ch_names=chan, freq_sw=[0.2,1.5], remove_outliers=True, coupling = True) # O.2 lowcut to include resp ?\n",
    "    slow_waves = sw.summary()\n",
    "        \n",
    "    if save: \n",
    "        spindles.to_excel(f'../df_analyse/spindles_{patient}.xlsx')\n",
    "        slow_waves.to_excel(f'../df_analyse/sw_{patient}.xlsx')\n",
    "    return spindles, slow_waves"
   ]
  },
  {
   "cell_type": "code",
   "execution_count": 10,
   "id": "f6e76b97-6ed4-4175-a2b2-d62ac4b5e906",
   "metadata": {},
   "outputs": [
    {
     "name": "stdout",
     "output_type": "stream",
     "text": [
      "P1\n",
      "P2\n",
      "P3\n",
      "P4\n",
      "P5\n"
     ]
    },
    {
     "name": "stderr",
     "output_type": "stream",
     "text": [
      "08-Jul-22 17:57:52 | WARNING | No SW were found in channel Cz-Pz.\n"
     ]
    },
    {
     "name": "stdout",
     "output_type": "stream",
     "text": [
      "P6\n",
      "P7\n",
      "P9\n",
      "P10\n"
     ]
    }
   ],
   "source": [
    "sp_concat = []\n",
    "sw_concat = []\n",
    "for patient in patients:\n",
    "    print(patient)\n",
    "    sp, sw = detect_spindles_and_slow_waves(patient, save=save)\n",
    "    sp_concat.append(sp)\n",
    "    sw_concat.append(sw)"
   ]
  },
  {
   "cell_type": "code",
   "execution_count": 11,
   "id": "66c0759f-ea7c-404a-b3aa-1eae65a4388f",
   "metadata": {},
   "outputs": [],
   "source": [
    "sp_all = pd.concat(sp_concat)\n",
    "sw_all = pd.concat(sw_concat)\n",
    "if save:\n",
    "    sp_all.to_excel('../df_analyse/spindles_all_patients.xlsx')\n",
    "    sw_all.to_excel('../df_analyse/slow_waves_all_patients.xlsx')\n"
   ]
  },
  {
   "cell_type": "code",
   "execution_count": null,
   "id": "f5ae038f-7e07-4c70-8430-079a781560fd",
   "metadata": {},
   "outputs": [],
   "source": []
  }
 ],
 "metadata": {
  "kernelspec": {
   "display_name": "Python 3 (ipykernel)",
   "language": "python",
   "name": "python3"
  },
  "language_info": {
   "codemirror_mode": {
    "name": "ipython",
    "version": 3
   },
   "file_extension": ".py",
   "mimetype": "text/x-python",
   "name": "python",
   "nbconvert_exporter": "python",
   "pygments_lexer": "ipython3",
   "version": "3.8.12"
  },
  "vscode": {
   "interpreter": {
    "hash": "4bd70bb5ed2fb7582dd19992bfd207be77cacf780be7966dbdb042214aeb5dc8"
   }
  }
 },
 "nbformat": 4,
 "nbformat_minor": 5
}
