{
 "cells": [
  {
   "cell_type": "code",
   "execution_count": 95,
   "id": "82ce3751-10f2-4dd7-8cfa-016c7a6f7bfa",
   "metadata": {},
   "outputs": [
    {
     "name": "stdout",
     "output_type": "stream",
     "text": [
      "The autoreload extension is already loaded. To reload it, use:\n",
      "  %reload_ext autoreload\n"
     ]
    }
   ],
   "source": [
    "%load_ext autoreload\n",
    "%autoreload 2"
   ]
  },
  {
   "cell_type": "code",
   "execution_count": 96,
   "id": "5a866a70-e0a4-4df3-889e-200101e9de3e",
   "metadata": {},
   "outputs": [],
   "source": [
    "import numpy as np\n",
    "import pandas as pd\n",
    "from scipy import signal\n",
    "import matplotlib.pyplot as plt\n",
    "import xarray as xr\n",
    "from cycle_detection import detect_respiration_cycles\n",
    "from deform_tools import deform_to_cycle_template\n",
    "from respiration_features import get_all_respiration_features\n",
    "import tqdm\n",
    "from params import * \n",
    "import ghibtools as gt\n",
    "%matplotlib inline"
   ]
  },
  {
   "cell_type": "markdown",
   "id": "ff647084-0c8c-49b3-86ee-985157937724",
   "metadata": {},
   "source": [
    "## LOAD "
   ]
  },
  {
   "cell_type": "code",
   "execution_count": 97,
   "id": "e7784f83-1dc0-4c77-8b0e-325ee737df1a",
   "metadata": {},
   "outputs": [],
   "source": [
    "stretch = False"
   ]
  },
  {
   "cell_type": "code",
   "execution_count": 98,
   "id": "19bb9ed1-997a-4bb0-accf-c76c6415722e",
   "metadata": {},
   "outputs": [],
   "source": [
    "input_file = f'../dataarray/da_staged_{patient}.nc'"
   ]
  },
  {
   "cell_type": "code",
   "execution_count": 99,
   "id": "954d7a2d-1463-4afe-a9e7-667ec1feddd8",
   "metadata": {},
   "outputs": [],
   "source": [
    "da = xr.load_dataarray(input_file)#.dropna(dim='time').sel(stage = stage_to_study)"
   ]
  },
  {
   "cell_type": "code",
   "execution_count": 100,
   "id": "7fa36ad3-d8e7-48fa-97f5-1625e5255260",
   "metadata": {},
   "outputs": [
    {
     "data": {
      "text/html": [
       "<div><svg style=\"position: absolute; width: 0; height: 0; overflow: hidden\">\n",
       "<defs>\n",
       "<symbol id=\"icon-database\" viewBox=\"0 0 32 32\">\n",
       "<path d=\"M16 0c-8.837 0-16 2.239-16 5v4c0 2.761 7.163 5 16 5s16-2.239 16-5v-4c0-2.761-7.163-5-16-5z\"></path>\n",
       "<path d=\"M16 17c-8.837 0-16-2.239-16-5v6c0 2.761 7.163 5 16 5s16-2.239 16-5v-6c0 2.761-7.163 5-16 5z\"></path>\n",
       "<path d=\"M16 26c-8.837 0-16-2.239-16-5v6c0 2.761 7.163 5 16 5s16-2.239 16-5v-6c0 2.761-7.163 5-16 5z\"></path>\n",
       "</symbol>\n",
       "<symbol id=\"icon-file-text2\" viewBox=\"0 0 32 32\">\n",
       "<path d=\"M28.681 7.159c-0.694-0.947-1.662-2.053-2.724-3.116s-2.169-2.030-3.116-2.724c-1.612-1.182-2.393-1.319-2.841-1.319h-15.5c-1.378 0-2.5 1.121-2.5 2.5v27c0 1.378 1.122 2.5 2.5 2.5h23c1.378 0 2.5-1.122 2.5-2.5v-19.5c0-0.448-0.137-1.23-1.319-2.841zM24.543 5.457c0.959 0.959 1.712 1.825 2.268 2.543h-4.811v-4.811c0.718 0.556 1.584 1.309 2.543 2.268zM28 29.5c0 0.271-0.229 0.5-0.5 0.5h-23c-0.271 0-0.5-0.229-0.5-0.5v-27c0-0.271 0.229-0.5 0.5-0.5 0 0 15.499-0 15.5 0v7c0 0.552 0.448 1 1 1h7v19.5z\"></path>\n",
       "<path d=\"M23 26h-14c-0.552 0-1-0.448-1-1s0.448-1 1-1h14c0.552 0 1 0.448 1 1s-0.448 1-1 1z\"></path>\n",
       "<path d=\"M23 22h-14c-0.552 0-1-0.448-1-1s0.448-1 1-1h14c0.552 0 1 0.448 1 1s-0.448 1-1 1z\"></path>\n",
       "<path d=\"M23 18h-14c-0.552 0-1-0.448-1-1s0.448-1 1-1h14c0.552 0 1 0.448 1 1s-0.448 1-1 1z\"></path>\n",
       "</symbol>\n",
       "</defs>\n",
       "</svg>\n",
       "<style>/* CSS stylesheet for displaying xarray objects in jupyterlab.\n",
       " *\n",
       " */\n",
       "\n",
       ":root {\n",
       "  --xr-font-color0: var(--jp-content-font-color0, rgba(0, 0, 0, 1));\n",
       "  --xr-font-color2: var(--jp-content-font-color2, rgba(0, 0, 0, 0.54));\n",
       "  --xr-font-color3: var(--jp-content-font-color3, rgba(0, 0, 0, 0.38));\n",
       "  --xr-border-color: var(--jp-border-color2, #e0e0e0);\n",
       "  --xr-disabled-color: var(--jp-layout-color3, #bdbdbd);\n",
       "  --xr-background-color: var(--jp-layout-color0, white);\n",
       "  --xr-background-color-row-even: var(--jp-layout-color1, white);\n",
       "  --xr-background-color-row-odd: var(--jp-layout-color2, #eeeeee);\n",
       "}\n",
       "\n",
       "html[theme=dark],\n",
       "body.vscode-dark {\n",
       "  --xr-font-color0: rgba(255, 255, 255, 1);\n",
       "  --xr-font-color2: rgba(255, 255, 255, 0.54);\n",
       "  --xr-font-color3: rgba(255, 255, 255, 0.38);\n",
       "  --xr-border-color: #1F1F1F;\n",
       "  --xr-disabled-color: #515151;\n",
       "  --xr-background-color: #111111;\n",
       "  --xr-background-color-row-even: #111111;\n",
       "  --xr-background-color-row-odd: #313131;\n",
       "}\n",
       "\n",
       ".xr-wrap {\n",
       "  display: block !important;\n",
       "  min-width: 300px;\n",
       "  max-width: 700px;\n",
       "}\n",
       "\n",
       ".xr-text-repr-fallback {\n",
       "  /* fallback to plain text repr when CSS is not injected (untrusted notebook) */\n",
       "  display: none;\n",
       "}\n",
       "\n",
       ".xr-header {\n",
       "  padding-top: 6px;\n",
       "  padding-bottom: 6px;\n",
       "  margin-bottom: 4px;\n",
       "  border-bottom: solid 1px var(--xr-border-color);\n",
       "}\n",
       "\n",
       ".xr-header > div,\n",
       ".xr-header > ul {\n",
       "  display: inline;\n",
       "  margin-top: 0;\n",
       "  margin-bottom: 0;\n",
       "}\n",
       "\n",
       ".xr-obj-type,\n",
       ".xr-array-name {\n",
       "  margin-left: 2px;\n",
       "  margin-right: 10px;\n",
       "}\n",
       "\n",
       ".xr-obj-type {\n",
       "  color: var(--xr-font-color2);\n",
       "}\n",
       "\n",
       ".xr-sections {\n",
       "  padding-left: 0 !important;\n",
       "  display: grid;\n",
       "  grid-template-columns: 150px auto auto 1fr 20px 20px;\n",
       "}\n",
       "\n",
       ".xr-section-item {\n",
       "  display: contents;\n",
       "}\n",
       "\n",
       ".xr-section-item input {\n",
       "  display: none;\n",
       "}\n",
       "\n",
       ".xr-section-item input + label {\n",
       "  color: var(--xr-disabled-color);\n",
       "}\n",
       "\n",
       ".xr-section-item input:enabled + label {\n",
       "  cursor: pointer;\n",
       "  color: var(--xr-font-color2);\n",
       "}\n",
       "\n",
       ".xr-section-item input:enabled + label:hover {\n",
       "  color: var(--xr-font-color0);\n",
       "}\n",
       "\n",
       ".xr-section-summary {\n",
       "  grid-column: 1;\n",
       "  color: var(--xr-font-color2);\n",
       "  font-weight: 500;\n",
       "}\n",
       "\n",
       ".xr-section-summary > span {\n",
       "  display: inline-block;\n",
       "  padding-left: 0.5em;\n",
       "}\n",
       "\n",
       ".xr-section-summary-in:disabled + label {\n",
       "  color: var(--xr-font-color2);\n",
       "}\n",
       "\n",
       ".xr-section-summary-in + label:before {\n",
       "  display: inline-block;\n",
       "  content: '►';\n",
       "  font-size: 11px;\n",
       "  width: 15px;\n",
       "  text-align: center;\n",
       "}\n",
       "\n",
       ".xr-section-summary-in:disabled + label:before {\n",
       "  color: var(--xr-disabled-color);\n",
       "}\n",
       "\n",
       ".xr-section-summary-in:checked + label:before {\n",
       "  content: '▼';\n",
       "}\n",
       "\n",
       ".xr-section-summary-in:checked + label > span {\n",
       "  display: none;\n",
       "}\n",
       "\n",
       ".xr-section-summary,\n",
       ".xr-section-inline-details {\n",
       "  padding-top: 4px;\n",
       "  padding-bottom: 4px;\n",
       "}\n",
       "\n",
       ".xr-section-inline-details {\n",
       "  grid-column: 2 / -1;\n",
       "}\n",
       "\n",
       ".xr-section-details {\n",
       "  display: none;\n",
       "  grid-column: 1 / -1;\n",
       "  margin-bottom: 5px;\n",
       "}\n",
       "\n",
       ".xr-section-summary-in:checked ~ .xr-section-details {\n",
       "  display: contents;\n",
       "}\n",
       "\n",
       ".xr-array-wrap {\n",
       "  grid-column: 1 / -1;\n",
       "  display: grid;\n",
       "  grid-template-columns: 20px auto;\n",
       "}\n",
       "\n",
       ".xr-array-wrap > label {\n",
       "  grid-column: 1;\n",
       "  vertical-align: top;\n",
       "}\n",
       "\n",
       ".xr-preview {\n",
       "  color: var(--xr-font-color3);\n",
       "}\n",
       "\n",
       ".xr-array-preview,\n",
       ".xr-array-data {\n",
       "  padding: 0 5px !important;\n",
       "  grid-column: 2;\n",
       "}\n",
       "\n",
       ".xr-array-data,\n",
       ".xr-array-in:checked ~ .xr-array-preview {\n",
       "  display: none;\n",
       "}\n",
       "\n",
       ".xr-array-in:checked ~ .xr-array-data,\n",
       ".xr-array-preview {\n",
       "  display: inline-block;\n",
       "}\n",
       "\n",
       ".xr-dim-list {\n",
       "  display: inline-block !important;\n",
       "  list-style: none;\n",
       "  padding: 0 !important;\n",
       "  margin: 0;\n",
       "}\n",
       "\n",
       ".xr-dim-list li {\n",
       "  display: inline-block;\n",
       "  padding: 0;\n",
       "  margin: 0;\n",
       "}\n",
       "\n",
       ".xr-dim-list:before {\n",
       "  content: '(';\n",
       "}\n",
       "\n",
       ".xr-dim-list:after {\n",
       "  content: ')';\n",
       "}\n",
       "\n",
       ".xr-dim-list li:not(:last-child):after {\n",
       "  content: ',';\n",
       "  padding-right: 5px;\n",
       "}\n",
       "\n",
       ".xr-has-index {\n",
       "  font-weight: bold;\n",
       "}\n",
       "\n",
       ".xr-var-list,\n",
       ".xr-var-item {\n",
       "  display: contents;\n",
       "}\n",
       "\n",
       ".xr-var-item > div,\n",
       ".xr-var-item label,\n",
       ".xr-var-item > .xr-var-name span {\n",
       "  background-color: var(--xr-background-color-row-even);\n",
       "  margin-bottom: 0;\n",
       "}\n",
       "\n",
       ".xr-var-item > .xr-var-name:hover span {\n",
       "  padding-right: 5px;\n",
       "}\n",
       "\n",
       ".xr-var-list > li:nth-child(odd) > div,\n",
       ".xr-var-list > li:nth-child(odd) > label,\n",
       ".xr-var-list > li:nth-child(odd) > .xr-var-name span {\n",
       "  background-color: var(--xr-background-color-row-odd);\n",
       "}\n",
       "\n",
       ".xr-var-name {\n",
       "  grid-column: 1;\n",
       "}\n",
       "\n",
       ".xr-var-dims {\n",
       "  grid-column: 2;\n",
       "}\n",
       "\n",
       ".xr-var-dtype {\n",
       "  grid-column: 3;\n",
       "  text-align: right;\n",
       "  color: var(--xr-font-color2);\n",
       "}\n",
       "\n",
       ".xr-var-preview {\n",
       "  grid-column: 4;\n",
       "}\n",
       "\n",
       ".xr-var-name,\n",
       ".xr-var-dims,\n",
       ".xr-var-dtype,\n",
       ".xr-preview,\n",
       ".xr-attrs dt {\n",
       "  white-space: nowrap;\n",
       "  overflow: hidden;\n",
       "  text-overflow: ellipsis;\n",
       "  padding-right: 10px;\n",
       "}\n",
       "\n",
       ".xr-var-name:hover,\n",
       ".xr-var-dims:hover,\n",
       ".xr-var-dtype:hover,\n",
       ".xr-attrs dt:hover {\n",
       "  overflow: visible;\n",
       "  width: auto;\n",
       "  z-index: 1;\n",
       "}\n",
       "\n",
       ".xr-var-attrs,\n",
       ".xr-var-data {\n",
       "  display: none;\n",
       "  background-color: var(--xr-background-color) !important;\n",
       "  padding-bottom: 5px !important;\n",
       "}\n",
       "\n",
       ".xr-var-attrs-in:checked ~ .xr-var-attrs,\n",
       ".xr-var-data-in:checked ~ .xr-var-data {\n",
       "  display: block;\n",
       "}\n",
       "\n",
       ".xr-var-data > table {\n",
       "  float: right;\n",
       "}\n",
       "\n",
       ".xr-var-name span,\n",
       ".xr-var-data,\n",
       ".xr-attrs {\n",
       "  padding-left: 25px !important;\n",
       "}\n",
       "\n",
       ".xr-attrs,\n",
       ".xr-var-attrs,\n",
       ".xr-var-data {\n",
       "  grid-column: 1 / -1;\n",
       "}\n",
       "\n",
       "dl.xr-attrs {\n",
       "  padding: 0;\n",
       "  margin: 0;\n",
       "  display: grid;\n",
       "  grid-template-columns: 125px auto;\n",
       "}\n",
       "\n",
       ".xr-attrs dt,\n",
       ".xr-attrs dd {\n",
       "  padding: 0;\n",
       "  margin: 0;\n",
       "  float: left;\n",
       "  padding-right: 10px;\n",
       "  width: auto;\n",
       "}\n",
       "\n",
       ".xr-attrs dt {\n",
       "  font-weight: normal;\n",
       "  grid-column: 1;\n",
       "}\n",
       "\n",
       ".xr-attrs dt:hover span {\n",
       "  display: inline-block;\n",
       "  background: var(--xr-background-color);\n",
       "  padding-right: 10px;\n",
       "}\n",
       "\n",
       ".xr-attrs dd {\n",
       "  grid-column: 2;\n",
       "  white-space: pre-wrap;\n",
       "  word-break: break-all;\n",
       "}\n",
       "\n",
       ".xr-icon-database,\n",
       ".xr-icon-file-text2 {\n",
       "  display: inline-block;\n",
       "  vertical-align: middle;\n",
       "  width: 1em;\n",
       "  height: 1.5em !important;\n",
       "  stroke-width: 0;\n",
       "  stroke: currentColor;\n",
       "  fill: currentColor;\n",
       "}\n",
       "</style><pre class='xr-text-repr-fallback'>&lt;xarray.DataArray (chan: 30, time: 3993600)&gt;\n",
       "array([[ 1.03490817e+02,  1.02325274e+02,  1.02034585e+02, ...,\n",
       "         7.62017973e+01,  7.65762482e+01,  7.81624184e+01],\n",
       "       [-2.53231481e+01, -2.45619316e+01, -2.35856280e+01, ...,\n",
       "        -9.53712616e+00, -1.11396399e+01, -1.19877532e+01],\n",
       "       [-2.22231507e+02, -2.20809918e+02, -2.19633252e+02, ...,\n",
       "        -3.01371724e+02, -2.98492504e+02, -2.96520942e+02],\n",
       "       ...,\n",
       "       [ 1.90737774e-02,  1.90737774e-02,  1.90737774e-02, ...,\n",
       "         1.90737774e-02,  1.90737774e-02,  1.90737774e-02],\n",
       "       [-1.80003543e-03,  5.49529674e-04, -1.85845376e-03, ...,\n",
       "         5.27331904e-03,  7.48420410e-03,  6.60043106e-03],\n",
       "       [-4.96788240e-02, -1.62523203e-02,  1.07018834e-02, ...,\n",
       "        -1.21763133e-02, -8.83197844e-02, -6.33738217e-02]])\n",
       "Coordinates:\n",
       "  * time     (time) float64 0.0 0.003906 0.007812 ... 1.56e+04 1.56e+04 1.56e+04\n",
       "  * chan     (chan) object &#x27;Fp2-C4&#x27; &#x27;C4-T4&#x27; &#x27;T4-O2&#x27; ... &#x27;CPAP&#x27; &#x27;PRESSION&#x27; &#x27;-&#x27;\n",
       "    stage    &lt;U2 &#x27;N2&#x27;</pre><div class='xr-wrap' style='display:none'><div class='xr-header'><div class='xr-obj-type'>xarray.DataArray</div><div class='xr-array-name'></div><ul class='xr-dim-list'><li><span class='xr-has-index'>chan</span>: 30</li><li><span class='xr-has-index'>time</span>: 3993600</li></ul></div><ul class='xr-sections'><li class='xr-section-item'><div class='xr-array-wrap'><input id='section-2ea20a12-e416-4c3f-86a0-2c5b5feccc6b' class='xr-array-in' type='checkbox' checked><label for='section-2ea20a12-e416-4c3f-86a0-2c5b5feccc6b' title='Show/hide data repr'><svg class='icon xr-icon-database'><use xlink:href='#icon-database'></use></svg></label><div class='xr-array-preview xr-preview'><span>103.5 102.3 102.0 102.9 102.8 ... -0.0625 -0.01218 -0.08832 -0.06337</span></div><div class='xr-array-data'><pre>array([[ 1.03490817e+02,  1.02325274e+02,  1.02034585e+02, ...,\n",
       "         7.62017973e+01,  7.65762482e+01,  7.81624184e+01],\n",
       "       [-2.53231481e+01, -2.45619316e+01, -2.35856280e+01, ...,\n",
       "        -9.53712616e+00, -1.11396399e+01, -1.19877532e+01],\n",
       "       [-2.22231507e+02, -2.20809918e+02, -2.19633252e+02, ...,\n",
       "        -3.01371724e+02, -2.98492504e+02, -2.96520942e+02],\n",
       "       ...,\n",
       "       [ 1.90737774e-02,  1.90737774e-02,  1.90737774e-02, ...,\n",
       "         1.90737774e-02,  1.90737774e-02,  1.90737774e-02],\n",
       "       [-1.80003543e-03,  5.49529674e-04, -1.85845376e-03, ...,\n",
       "         5.27331904e-03,  7.48420410e-03,  6.60043106e-03],\n",
       "       [-4.96788240e-02, -1.62523203e-02,  1.07018834e-02, ...,\n",
       "        -1.21763133e-02, -8.83197844e-02, -6.33738217e-02]])</pre></div></div></li><li class='xr-section-item'><input id='section-81057802-52db-4946-94e5-240c05b812a2' class='xr-section-summary-in' type='checkbox'  checked><label for='section-81057802-52db-4946-94e5-240c05b812a2' class='xr-section-summary' >Coordinates: <span>(3)</span></label><div class='xr-section-inline-details'></div><div class='xr-section-details'><ul class='xr-var-list'><li class='xr-var-item'><div class='xr-var-name'><span class='xr-has-index'>time</span></div><div class='xr-var-dims'>(time)</div><div class='xr-var-dtype'>float64</div><div class='xr-var-preview xr-preview'>0.0 0.003906 ... 1.56e+04 1.56e+04</div><input id='attrs-6eba2b5f-df60-45a6-a652-dea482702791' class='xr-var-attrs-in' type='checkbox' disabled><label for='attrs-6eba2b5f-df60-45a6-a652-dea482702791' title='Show/Hide attributes'><svg class='icon xr-icon-file-text2'><use xlink:href='#icon-file-text2'></use></svg></label><input id='data-895cf092-1adf-4795-ae6c-8f5c7bc55c24' class='xr-var-data-in' type='checkbox'><label for='data-895cf092-1adf-4795-ae6c-8f5c7bc55c24' title='Show/Hide data repr'><svg class='icon xr-icon-database'><use xlink:href='#icon-database'></use></svg></label><div class='xr-var-attrs'><dl class='xr-attrs'></dl></div><div class='xr-var-data'><pre>array([0.000000e+00, 3.906250e-03, 7.812500e-03, ..., 1.559999e+04,\n",
       "       1.559999e+04, 1.560000e+04])</pre></div></li><li class='xr-var-item'><div class='xr-var-name'><span class='xr-has-index'>chan</span></div><div class='xr-var-dims'>(chan)</div><div class='xr-var-dtype'>object</div><div class='xr-var-preview xr-preview'>&#x27;Fp2-C4&#x27; &#x27;C4-T4&#x27; ... &#x27;PRESSION&#x27; &#x27;-&#x27;</div><input id='attrs-69c80976-0c2f-456b-97a7-ffde022bb13e' class='xr-var-attrs-in' type='checkbox' disabled><label for='attrs-69c80976-0c2f-456b-97a7-ffde022bb13e' title='Show/Hide attributes'><svg class='icon xr-icon-file-text2'><use xlink:href='#icon-file-text2'></use></svg></label><input id='data-b79d021b-2ddc-4b18-a65d-6bb045bd39b8' class='xr-var-data-in' type='checkbox'><label for='data-b79d021b-2ddc-4b18-a65d-6bb045bd39b8' title='Show/Hide data repr'><svg class='icon xr-icon-database'><use xlink:href='#icon-database'></use></svg></label><div class='xr-var-attrs'><dl class='xr-attrs'></dl></div><div class='xr-var-data'><pre>array([&#x27;Fp2-C4&#x27;, &#x27;C4-T4&#x27;, &#x27;T4-O2&#x27;, &#x27;Fz-Cz&#x27;, &#x27;Cz-Pz&#x27;, &#x27;Fp1-C3&#x27;, &#x27;C3-T3&#x27;,\n",
       "       &#x27;T3-O1&#x27;, &#x27;EOGDt-A1&#x27;, &#x27;EOGG-A2&#x27;, &#x27;ECG&#x27;, &#x27;Menton&#x27;, &#x27;EOGDt&#x27;, &#x27;EOGG&#x27;,\n",
       "       &#x27;JBdt&#x27;, &#x27;JBg&#x27;, &#x27;THERM&#x27;, &#x27;SAT&#x27;, &#x27;THO&#x27;, &#x27;ABD&#x27;, &#x27;PTT&#x27;, &#x27;FC&#x27;, &#x27;Pouls&#x27;,\n",
       "       &#x27;POS&#x27;, &#x27;Micro&#x27;, &#x27;PCO2&#x27;, &#x27;DEBIT&#x27;, &#x27;CPAP&#x27;, &#x27;PRESSION&#x27;, &#x27;-&#x27;], dtype=object)</pre></div></li><li class='xr-var-item'><div class='xr-var-name'><span>stage</span></div><div class='xr-var-dims'>()</div><div class='xr-var-dtype'>&lt;U2</div><div class='xr-var-preview xr-preview'>&#x27;N2&#x27;</div><input id='attrs-3c95b0eb-fb9b-44ac-b117-100c984b7da3' class='xr-var-attrs-in' type='checkbox' disabled><label for='attrs-3c95b0eb-fb9b-44ac-b117-100c984b7da3' title='Show/Hide attributes'><svg class='icon xr-icon-file-text2'><use xlink:href='#icon-file-text2'></use></svg></label><input id='data-08a55267-6bb7-4760-83a5-3cda10aa02f9' class='xr-var-data-in' type='checkbox'><label for='data-08a55267-6bb7-4760-83a5-3cda10aa02f9' title='Show/Hide data repr'><svg class='icon xr-icon-database'><use xlink:href='#icon-database'></use></svg></label><div class='xr-var-attrs'><dl class='xr-attrs'></dl></div><div class='xr-var-data'><pre>array(&#x27;N2&#x27;, dtype=&#x27;&lt;U2&#x27;)</pre></div></li></ul></div></li><li class='xr-section-item'><input id='section-cd7fe605-26af-43de-8903-44519b594d8b' class='xr-section-summary-in' type='checkbox' disabled ><label for='section-cd7fe605-26af-43de-8903-44519b594d8b' class='xr-section-summary'  title='Expand/collapse section'>Attributes: <span>(0)</span></label><div class='xr-section-inline-details'></div><div class='xr-section-details'><dl class='xr-attrs'></dl></div></li></ul></div></div>"
      ],
      "text/plain": [
       "<xarray.DataArray (chan: 30, time: 3993600)>\n",
       "array([[ 1.03490817e+02,  1.02325274e+02,  1.02034585e+02, ...,\n",
       "         7.62017973e+01,  7.65762482e+01,  7.81624184e+01],\n",
       "       [-2.53231481e+01, -2.45619316e+01, -2.35856280e+01, ...,\n",
       "        -9.53712616e+00, -1.11396399e+01, -1.19877532e+01],\n",
       "       [-2.22231507e+02, -2.20809918e+02, -2.19633252e+02, ...,\n",
       "        -3.01371724e+02, -2.98492504e+02, -2.96520942e+02],\n",
       "       ...,\n",
       "       [ 1.90737774e-02,  1.90737774e-02,  1.90737774e-02, ...,\n",
       "         1.90737774e-02,  1.90737774e-02,  1.90737774e-02],\n",
       "       [-1.80003543e-03,  5.49529674e-04, -1.85845376e-03, ...,\n",
       "         5.27331904e-03,  7.48420410e-03,  6.60043106e-03],\n",
       "       [-4.96788240e-02, -1.62523203e-02,  1.07018834e-02, ...,\n",
       "        -1.21763133e-02, -8.83197844e-02, -6.33738217e-02]])\n",
       "Coordinates:\n",
       "  * time     (time) float64 0.0 0.003906 0.007812 ... 1.56e+04 1.56e+04 1.56e+04\n",
       "  * chan     (chan) object 'Fp2-C4' 'C4-T4' 'T4-O2' ... 'CPAP' 'PRESSION' '-'\n",
       "    stage    <U2 'N2'"
      ]
     },
     "execution_count": 100,
     "metadata": {},
     "output_type": "execute_result"
    }
   ],
   "source": [
    "da = da.loc[stage_to_study,:,:].dropna(dim='time')\n",
    "da"
   ]
  },
  {
   "cell_type": "markdown",
   "id": "865bf1c7-ef25-4170-9711-7532883e633b",
   "metadata": {},
   "source": [
    "## PARAMS"
   ]
  },
  {
   "cell_type": "code",
   "execution_count": 101,
   "id": "646b898f-6452-4157-a34f-c42e2088d267",
   "metadata": {},
   "outputs": [],
   "source": [
    "chans = list(da.coords['chan'].values)"
   ]
  },
  {
   "cell_type": "code",
   "execution_count": 102,
   "id": "8c67e06c-b2e0-4495-a747-57cb49dde48a",
   "metadata": {},
   "outputs": [],
   "source": [
    "save = True"
   ]
  },
  {
   "cell_type": "code",
   "execution_count": 103,
   "id": "3bfdffcc-2c27-44d5-af24-ca319839cead",
   "metadata": {},
   "outputs": [],
   "source": [
    "save_presentation = False"
   ]
  },
  {
   "cell_type": "markdown",
   "id": "44f24199-4f33-4ec7-9b0f-0f740100631f",
   "metadata": {},
   "source": [
    "## TOOLS"
   ]
  },
  {
   "cell_type": "code",
   "execution_count": 104,
   "id": "6b3e6ad0-445d-42d7-80a0-b6da649828e4",
   "metadata": {},
   "outputs": [],
   "source": [
    "def stretch_data(resp_features, nb_point_by_cycle, data, srate):\n",
    "\n",
    "    # params\n",
    "    cycle_times = resp_features[['inspi_time', 'expi_time']].values\n",
    "    mean_cycle_duration = np.mean(resp_features[['insp_duration', 'exp_duration']].values, axis=0)\n",
    "    mean_inspi_ratio = mean_cycle_duration[0]/mean_cycle_duration.sum()\n",
    "    times = np.arange(0,np.size(data))/srate\n",
    "\n",
    "    clipped_times, times_to_cycles, cycles, cycle_points, data_stretch_linear = deform_to_cycle_template(\n",
    "            data, times, cycle_times, nb_point_by_cycle=nb_point_by_cycle, inspi_ratio=0.4)\n",
    "\n",
    "    nb_cycle = data_stretch_linear.shape[0]//nb_point_by_cycle\n",
    "    phase = np.arange(nb_point_by_cycle)/nb_point_by_cycle\n",
    "    data_stretch = data_stretch_linear.reshape(int(nb_cycle), int(nb_point_by_cycle))\n",
    "\n",
    "    return data_stretch"
   ]
  },
  {
   "cell_type": "code",
   "execution_count": 105,
   "id": "2ede847f-ca4e-4437-bfac-5226028601cf",
   "metadata": {},
   "outputs": [],
   "source": [
    "def plot_cycle_points(resp, cycles, t , srate=srate, save_presentation=save_presentation, rsp_chan=rsp_chan[patient]):\n",
    "    plt.figure()\n",
    "    plt.plot(resp_sig)\n",
    "    plt.plot(cycles[:,0], resp_sig[cycles[:,0]], 'o')\n",
    "    plt.plot(cycles[:,1], resp_sig[cycles[:,1]], 'o')\n",
    "    plt.xlim(t[0]*srate, t[1]*srate)\n",
    "    # plt.ylim(-20,20)\n",
    "    plt.title(f'Resp signal from {rsp_chan} : cycle detection')\n",
    "    if save_presentation:\n",
    "        plt.savefig('../presentation/rsp_cycle_detection')\n",
    "    plt.show()"
   ]
  },
  {
   "cell_type": "markdown",
   "id": "c232686d-cadc-439a-b0d6-8c70db4234fe",
   "metadata": {},
   "source": [
    "## DATA SEL"
   ]
  },
  {
   "cell_type": "code",
   "execution_count": 106,
   "id": "bb03a6e8-5d94-4e3c-b271-3aa4ec8d0eeb",
   "metadata": {},
   "outputs": [],
   "source": [
    "resp_sig = da.loc[rsp_chan[patient],:].values\n",
    "da_eeg = da.loc[eeg_chans,:]"
   ]
  },
  {
   "cell_type": "markdown",
   "id": "60991034-2148-4d6c-a9f3-947283afedfb",
   "metadata": {},
   "source": [
    "## CYCLE DETECTION"
   ]
  },
  {
   "cell_type": "code",
   "execution_count": 107,
   "id": "66faa952-f32b-4279-b2ec-b4f654470085",
   "metadata": {},
   "outputs": [],
   "source": [
    "cycles = detect_respiration_cycles(resp_sig, sampling_rate=srate, t_start = 0., output = 'index',\n",
    "\n",
    "                                    # preprocessing\n",
    "                                    inspiration_sign = rsp_detect_sign[patient],\n",
    "                                    high_pass_filter = None,\n",
    "                                    constrain_frequency = None,\n",
    "                                    median_windows_filter = None,\n",
    "                                    \n",
    "                                    # baseline\n",
    "                                    baseline_with_average = True,\n",
    "                                    manual_baseline = 0.,\n",
    "                                    \n",
    "                                    # clean\n",
    "                                    eliminate_time_shortest_ratio = 2,\n",
    "                                    eliminate_amplitude_shortest_ratio = 10,\n",
    "                                    eliminate_mode = 'OR', # 'AND'\n",
    "                                    \n",
    "                                    )"
   ]
  },
  {
   "cell_type": "code",
   "execution_count": 108,
   "id": "02b6060f-6022-4bcd-ae23-5da0b68934f4",
   "metadata": {},
   "outputs": [
    {
     "data": {
      "image/png": "[encoded data removed]",
      "text/plain": [
       "<Figure size 432x288 with 1 Axes>"
      ]
     },
     "metadata": {
      "needs_background": "light"
     },
     "output_type": "display_data"
    },
    {
     "data": {
      "image/png": "[encoded data removed]",
      "text/plain": [
       "<Figure size 432x288 with 1 Axes>"
      ]
     },
     "metadata": {
      "needs_background": "light"
     },
     "output_type": "display_data"
    },
    {
     "data": {
      "image/png": "[encoded data removed]",
      "text/plain": [
       "<Figure size 432x288 with 1 Axes>"
      ]
     },
     "metadata": {
      "needs_background": "light"
     },
     "output_type": "display_data"
    },
    {
     "data": {
      "image/png": "[encoded data removed]",
      "text/plain": [
       "<Figure size 432x288 with 1 Axes>"
      ]
     },
     "metadata": {
      "needs_background": "light"
     },
     "output_type": "display_data"
    },
    {
     "data": {
      "image/png": "[encoded data removed]",
      "text/plain": [
       "<Figure size 432x288 with 1 Axes>"
      ]
     },
     "metadata": {
      "needs_background": "light"
     },
     "output_type": "display_data"
    },
    {
     "data": {
      "image/png": "[encoded data removed]",
      "text/plain": [
       "<Figure size 432x288 with 1 Axes>"
      ]
     },
     "metadata": {
      "needs_background": "light"
     },
     "output_type": "display_data"
    },
    {
     "data": {
      "image/png": "[encoded data removed]",
      "text/plain": [
       "<Figure size 432x288 with 1 Axes>"
      ]
     },
     "metadata": {
      "needs_background": "light"
     },
     "output_type": "display_data"
    },
    {
     "data": {
      "image/png": "[encoded data removed]",
      "text/plain": [
       "<Figure size 432x288 with 1 Axes>"
      ]
     },
     "metadata": {
      "needs_background": "light"
     },
     "output_type": "display_data"
    },
    {
     "data": {
      "image/png": "[encoded data removed]",
      "text/plain": [
       "<Figure size 432x288 with 1 Axes>"
      ]
     },
     "metadata": {
      "needs_background": "light"
     },
     "output_type": "display_data"
    },
    {
     "data": {
      "image/png": "[encoded data removed]",
      "text/plain": [
       "<Figure size 432x288 with 1 Axes>"
      ]
     },
     "metadata": {
      "needs_background": "light"
     },
     "output_type": "display_data"
    }
   ],
   "source": [
    "for start in range(0,250,25):\n",
    "    plot_cycle_points(resp=resp_sig, cycles=cycles, t=(start,start+25))"
   ]
  },
  {
   "cell_type": "markdown",
   "id": "80e5c4fe-b359-4a4b-a7f1-6b46785f8681",
   "metadata": {},
   "source": [
    "## RESP FEATURES FROM CYCLES & RESP"
   ]
  },
  {
   "cell_type": "code",
   "execution_count": 109,
   "id": "72c1f2f3-e511-467a-ba28-665e57f56e9c",
   "metadata": {},
   "outputs": [
    {
     "name": "stderr",
     "output_type": "stream",
     "text": [
      "/crnldata/cmo/Etudiants/Valentin_G/Sleep_EEG_Respi/scripts/respiration_features.py:52: FutureWarning: The default dtype for empty Series will be 'object' instead of 'float64' in a future version. Specify a dtype explicitly to silence this warning.\n",
      "  df[k] = pd.Series(index = index)\n",
      "/crnldata/cmo/Etudiants/Valentin_G/Sleep_EEG_Respi/scripts/respiration_features.py:52: FutureWarning: The default dtype for empty Series will be 'object' instead of 'float64' in a future version. Specify a dtype explicitly to silence this warning.\n",
      "  df[k] = pd.Series(index = index)\n",
      "/crnldata/cmo/Etudiants/Valentin_G/Sleep_EEG_Respi/scripts/respiration_features.py:52: FutureWarning: The default dtype for empty Series will be 'object' instead of 'float64' in a future version. Specify a dtype explicitly to silence this warning.\n",
      "  df[k] = pd.Series(index = index)\n",
      "/crnldata/cmo/Etudiants/Valentin_G/Sleep_EEG_Respi/scripts/respiration_features.py:52: FutureWarning: The default dtype for empty Series will be 'object' instead of 'float64' in a future version. Specify a dtype explicitly to silence this warning.\n",
      "  df[k] = pd.Series(index = index)\n",
      "/crnldata/cmo/Etudiants/Valentin_G/Sleep_EEG_Respi/scripts/respiration_features.py:52: FutureWarning: The default dtype for empty Series will be 'object' instead of 'float64' in a future version. Specify a dtype explicitly to silence this warning.\n",
      "  df[k] = pd.Series(index = index)\n"
     ]
    }
   ],
   "source": [
    "resp_features = get_all_respiration_features(resp_sig=resp_sig, sampling_rate=srate, cycles=cycles, t_start = 0.)"
   ]
  },
  {
   "cell_type": "code",
   "execution_count": 110,
   "id": "554c03a4-ea5e-4859-a35e-76f29346da68",
   "metadata": {},
   "outputs": [
    {
     "data": {
      "text/html": [
       "<div>\n",
       "<style scoped>\n",
       "    .dataframe tbody tr th:only-of-type {\n",
       "        vertical-align: middle;\n",
       "    }\n",
       "\n",
       "    .dataframe tbody tr th {\n",
       "        vertical-align: top;\n",
       "    }\n",
       "\n",
       "    .dataframe thead th {\n",
       "        text-align: right;\n",
       "    }\n",
       "</style>\n",
       "<table border=\"1\" class=\"dataframe\">\n",
       "  <thead>\n",
       "    <tr style=\"text-align: right;\">\n",
       "      <th></th>\n",
       "      <th>cycle_num</th>\n",
       "      <th>inspi_index</th>\n",
       "      <th>expi_index</th>\n",
       "      <th>inspi_time</th>\n",
       "      <th>expi_time</th>\n",
       "      <th>cycle_duration</th>\n",
       "      <th>insp_duration</th>\n",
       "      <th>exp_duration</th>\n",
       "      <th>cycle_freq</th>\n",
       "      <th>insp_volume</th>\n",
       "      <th>exp_volume</th>\n",
       "      <th>total_amplitude</th>\n",
       "      <th>insp_amplitude</th>\n",
       "      <th>exp_amplitude</th>\n",
       "    </tr>\n",
       "  </thead>\n",
       "  <tbody>\n",
       "    <tr>\n",
       "      <th>0</th>\n",
       "      <td>0</td>\n",
       "      <td>502</td>\n",
       "      <td>638</td>\n",
       "      <td>1.960938</td>\n",
       "      <td>2.492188</td>\n",
       "      <td>2.300781</td>\n",
       "      <td>0.531250</td>\n",
       "      <td>1.769531</td>\n",
       "      <td>0.434635</td>\n",
       "      <td>-0.712757</td>\n",
       "      <td>-21.404711</td>\n",
       "      <td>26.782671</td>\n",
       "      <td>9.556361</td>\n",
       "      <td>17.226310</td>\n",
       "    </tr>\n",
       "    <tr>\n",
       "      <th>1</th>\n",
       "      <td>1</td>\n",
       "      <td>1091</td>\n",
       "      <td>1337</td>\n",
       "      <td>4.261719</td>\n",
       "      <td>5.222656</td>\n",
       "      <td>3.925781</td>\n",
       "      <td>0.960938</td>\n",
       "      <td>2.964844</td>\n",
       "      <td>0.254726</td>\n",
       "      <td>-0.318032</td>\n",
       "      <td>-34.979099</td>\n",
       "      <td>29.261412</td>\n",
       "      <td>9.633845</td>\n",
       "      <td>19.627568</td>\n",
       "    </tr>\n",
       "    <tr>\n",
       "      <th>2</th>\n",
       "      <td>2</td>\n",
       "      <td>2096</td>\n",
       "      <td>2294</td>\n",
       "      <td>8.187500</td>\n",
       "      <td>8.960938</td>\n",
       "      <td>3.671875</td>\n",
       "      <td>0.773438</td>\n",
       "      <td>2.898438</td>\n",
       "      <td>0.272340</td>\n",
       "      <td>-1.317231</td>\n",
       "      <td>-28.144509</td>\n",
       "      <td>26.516870</td>\n",
       "      <td>9.520142</td>\n",
       "      <td>16.996728</td>\n",
       "    </tr>\n",
       "    <tr>\n",
       "      <th>3</th>\n",
       "      <td>3</td>\n",
       "      <td>3036</td>\n",
       "      <td>3209</td>\n",
       "      <td>11.859375</td>\n",
       "      <td>12.535156</td>\n",
       "      <td>2.988281</td>\n",
       "      <td>0.675781</td>\n",
       "      <td>2.312500</td>\n",
       "      <td>0.334641</td>\n",
       "      <td>-1.664070</td>\n",
       "      <td>-28.940093</td>\n",
       "      <td>27.503615</td>\n",
       "      <td>9.589456</td>\n",
       "      <td>17.914159</td>\n",
       "    </tr>\n",
       "    <tr>\n",
       "      <th>4</th>\n",
       "      <td>4</td>\n",
       "      <td>3801</td>\n",
       "      <td>4026</td>\n",
       "      <td>14.847656</td>\n",
       "      <td>15.726562</td>\n",
       "      <td>3.261719</td>\n",
       "      <td>0.878906</td>\n",
       "      <td>2.382812</td>\n",
       "      <td>0.306587</td>\n",
       "      <td>-0.435582</td>\n",
       "      <td>-27.918868</td>\n",
       "      <td>27.620656</td>\n",
       "      <td>9.562507</td>\n",
       "      <td>18.058149</td>\n",
       "    </tr>\n",
       "    <tr>\n",
       "      <th>...</th>\n",
       "      <td>...</td>\n",
       "      <td>...</td>\n",
       "      <td>...</td>\n",
       "      <td>...</td>\n",
       "      <td>...</td>\n",
       "      <td>...</td>\n",
       "      <td>...</td>\n",
       "      <td>...</td>\n",
       "      <td>...</td>\n",
       "      <td>...</td>\n",
       "      <td>...</td>\n",
       "      <td>...</td>\n",
       "      <td>...</td>\n",
       "      <td>...</td>\n",
       "    </tr>\n",
       "    <tr>\n",
       "      <th>3845</th>\n",
       "      <td>3845</td>\n",
       "      <td>3987371</td>\n",
       "      <td>3987529</td>\n",
       "      <td>15575.667969</td>\n",
       "      <td>15576.285156</td>\n",
       "      <td>4.050781</td>\n",
       "      <td>0.617188</td>\n",
       "      <td>3.433594</td>\n",
       "      <td>0.246866</td>\n",
       "      <td>-0.880711</td>\n",
       "      <td>-35.183029</td>\n",
       "      <td>24.271641</td>\n",
       "      <td>9.631189</td>\n",
       "      <td>14.640451</td>\n",
       "    </tr>\n",
       "    <tr>\n",
       "      <th>3846</th>\n",
       "      <td>3846</td>\n",
       "      <td>3988408</td>\n",
       "      <td>3988635</td>\n",
       "      <td>15579.718750</td>\n",
       "      <td>15580.605469</td>\n",
       "      <td>4.281250</td>\n",
       "      <td>0.886719</td>\n",
       "      <td>3.394531</td>\n",
       "      <td>0.233577</td>\n",
       "      <td>-1.600163</td>\n",
       "      <td>-34.972517</td>\n",
       "      <td>24.607675</td>\n",
       "      <td>9.518833</td>\n",
       "      <td>15.088842</td>\n",
       "    </tr>\n",
       "    <tr>\n",
       "      <th>3847</th>\n",
       "      <td>3847</td>\n",
       "      <td>3989504</td>\n",
       "      <td>3989735</td>\n",
       "      <td>15584.000000</td>\n",
       "      <td>15584.902344</td>\n",
       "      <td>3.902344</td>\n",
       "      <td>0.902344</td>\n",
       "      <td>3.000000</td>\n",
       "      <td>0.256256</td>\n",
       "      <td>-0.188974</td>\n",
       "      <td>-30.390894</td>\n",
       "      <td>24.939192</td>\n",
       "      <td>9.508444</td>\n",
       "      <td>15.430748</td>\n",
       "    </tr>\n",
       "    <tr>\n",
       "      <th>3848</th>\n",
       "      <td>3848</td>\n",
       "      <td>3990503</td>\n",
       "      <td>3990704</td>\n",
       "      <td>15587.902344</td>\n",
       "      <td>15588.687500</td>\n",
       "      <td>3.253906</td>\n",
       "      <td>0.785156</td>\n",
       "      <td>2.468750</td>\n",
       "      <td>0.307323</td>\n",
       "      <td>-0.245339</td>\n",
       "      <td>-29.493009</td>\n",
       "      <td>24.651770</td>\n",
       "      <td>9.491951</td>\n",
       "      <td>15.159819</td>\n",
       "    </tr>\n",
       "    <tr>\n",
       "      <th>3849</th>\n",
       "      <td>3849</td>\n",
       "      <td>3991336</td>\n",
       "      <td>3991874</td>\n",
       "      <td>15591.156250</td>\n",
       "      <td>15593.257812</td>\n",
       "      <td>3.980469</td>\n",
       "      <td>2.101562</td>\n",
       "      <td>1.878906</td>\n",
       "      <td>0.251227</td>\n",
       "      <td>-11.342335</td>\n",
       "      <td>-23.401297</td>\n",
       "      <td>25.489988</td>\n",
       "      <td>9.715152</td>\n",
       "      <td>15.774835</td>\n",
       "    </tr>\n",
       "  </tbody>\n",
       "</table>\n",
       "<p>3850 rows × 14 columns</p>\n",
       "</div>"
      ],
      "text/plain": [
       "      cycle_num  inspi_index  expi_index    inspi_time     expi_time  \\\n",
       "0             0          502         638      1.960938      2.492188   \n",
       "1             1         1091        1337      4.261719      5.222656   \n",
       "2             2         2096        2294      8.187500      8.960938   \n",
       "3             3         3036        3209     11.859375     12.535156   \n",
       "4             4         3801        4026     14.847656     15.726562   \n",
       "...         ...          ...         ...           ...           ...   \n",
       "3845       3845      3987371     3987529  15575.667969  15576.285156   \n",
       "3846       3846      3988408     3988635  15579.718750  15580.605469   \n",
       "3847       3847      3989504     3989735  15584.000000  15584.902344   \n",
       "3848       3848      3990503     3990704  15587.902344  15588.687500   \n",
       "3849       3849      3991336     3991874  15591.156250  15593.257812   \n",
       "\n",
       "      cycle_duration  insp_duration  exp_duration  cycle_freq  insp_volume  \\\n",
       "0           2.300781       0.531250      1.769531    0.434635    -0.712757   \n",
       "1           3.925781       0.960938      2.964844    0.254726    -0.318032   \n",
       "2           3.671875       0.773438      2.898438    0.272340    -1.317231   \n",
       "3           2.988281       0.675781      2.312500    0.334641    -1.664070   \n",
       "4           3.261719       0.878906      2.382812    0.306587    -0.435582   \n",
       "...              ...            ...           ...         ...          ...   \n",
       "3845        4.050781       0.617188      3.433594    0.246866    -0.880711   \n",
       "3846        4.281250       0.886719      3.394531    0.233577    -1.600163   \n",
       "3847        3.902344       0.902344      3.000000    0.256256    -0.188974   \n",
       "3848        3.253906       0.785156      2.468750    0.307323    -0.245339   \n",
       "3849        3.980469       2.101562      1.878906    0.251227   -11.342335   \n",
       "\n",
       "      exp_volume  total_amplitude  insp_amplitude  exp_amplitude  \n",
       "0     -21.404711        26.782671        9.556361      17.226310  \n",
       "1     -34.979099        29.261412        9.633845      19.627568  \n",
       "2     -28.144509        26.516870        9.520142      16.996728  \n",
       "3     -28.940093        27.503615        9.589456      17.914159  \n",
       "4     -27.918868        27.620656        9.562507      18.058149  \n",
       "...          ...              ...             ...            ...  \n",
       "3845  -35.183029        24.271641        9.631189      14.640451  \n",
       "3846  -34.972517        24.607675        9.518833      15.088842  \n",
       "3847  -30.390894        24.939192        9.508444      15.430748  \n",
       "3848  -29.493009        24.651770        9.491951      15.159819  \n",
       "3849  -23.401297        25.489988        9.715152      15.774835  \n",
       "\n",
       "[3850 rows x 14 columns]"
      ]
     },
     "execution_count": 110,
     "metadata": {},
     "output_type": "execute_result"
    }
   ],
   "source": [
    "resp_features"
   ]
  },
  {
   "cell_type": "code",
   "execution_count": 111,
   "id": "c33b661e-67a4-424a-9339-a72b3fbb12c3",
   "metadata": {},
   "outputs": [
    {
     "data": {
      "text/plain": [
       "cycle_duration    4.050176\n",
       "insp_duration     1.269613\n",
       "exp_duration      2.780562\n",
       "cycle_freq        0.251213\n",
       "dtype: float64"
      ]
     },
     "execution_count": 111,
     "metadata": {},
     "output_type": "execute_result"
    }
   ],
   "source": [
    "resp_features[['cycle_duration','insp_duration','exp_duration','cycle_freq']].mean()"
   ]
  },
  {
   "cell_type": "markdown",
   "id": "7b067e92-84d2-46c3-886a-95cdf4e9e2d3",
   "metadata": {},
   "source": [
    "## STRETCHING NEURO DATA TO RESP CYCLES"
   ]
  },
  {
   "cell_type": "code",
   "execution_count": null,
   "id": "7562f382-e647-499a-a488-ec2461d8f907",
   "metadata": {},
   "outputs": [],
   "source": [
    "if stretch:\n",
    "    da_stretched = None\n",
    "    for chan in eeg_chans:\n",
    "        print(chan)\n",
    "        data_stretch = stretch_data(resp_features=resp_features, nb_point_by_cycle=1000, data=da.loc[chan,:].values, srate=srate)\n",
    "        if da_stretched is None:\n",
    "            da_stretched = gt.init_da({'chan':eeg_chans, 'cycle':np.arange(0,data_stretch.shape[0],1), 'point':np.arange(0,data_stretch.shape[1],1)})\n",
    "        da_stretched.loc[chan, : , :] = data_stretch"
   ]
  },
  {
   "cell_type": "code",
   "execution_count": null,
   "id": "cc42c442-55d9-4775-b5f3-156166912cd4",
   "metadata": {},
   "outputs": [],
   "source": [
    "if save:\n",
    "    resp_features.to_excel(f'../df_analyse/resp_features_{patient}.xlsx')\n",
    "    if stretch:\n",
    "        da_stretched.to_netcdf(f'../dataarray/da_neuro_stretched_{patient}.nc')"
   ]
  },
  {
   "cell_type": "code",
   "execution_count": null,
   "id": "428e35ec-ea9d-4638-b451-af0460225617",
   "metadata": {},
   "outputs": [],
   "source": [
    "if stretch:\n",
    "    da_stretched"
   ]
  },
  {
   "cell_type": "code",
   "execution_count": null,
   "id": "3632d06b-f06a-4d57-ae0b-2234aad90bc9",
   "metadata": {},
   "outputs": [],
   "source": [
    "if stretch:\n",
    "    da_stretched.loc['Fp2-C4',:,:].plot.pcolormesh(x='point')"
   ]
  },
  {
   "cell_type": "code",
   "execution_count": null,
   "id": "a8006bb9-4ab3-4633-bba0-cde002eb6a7b",
   "metadata": {},
   "outputs": [],
   "source": [
    "if stretch:\n",
    "    for chan in eeg_chans:\n",
    "        plt.figure()\n",
    "        da_stretched.loc[chan,:,:].mean('cycle').plot.line(x='point')\n",
    "        plt.show()"
   ]
  },
  {
   "cell_type": "code",
   "execution_count": null,
   "id": "e33ef6d7-a68a-401b-ba74-f9babe5139b4",
   "metadata": {},
   "outputs": [],
   "source": []
  }
 ],
 "metadata": {
  "kernelspec": {
   "display_name": "Python 3 (ipykernel)",
   "language": "python",
   "name": "python3"
  },
  "language_info": {
   "codemirror_mode": {
    "name": "ipython",
    "version": 3
   },
   "file_extension": ".py",
   "mimetype": "text/x-python",
   "name": "python",
   "nbconvert_exporter": "python",
   "pygments_lexer": "ipython3",
   "version": "3.8.12"
  }
 },
 "nbformat": 4,
 "nbformat_minor": 5
}
