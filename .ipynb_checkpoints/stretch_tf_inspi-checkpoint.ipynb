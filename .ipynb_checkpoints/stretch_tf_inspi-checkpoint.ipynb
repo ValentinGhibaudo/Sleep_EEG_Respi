{
 "cells": [
  {
   "cell_type": "code",
   "execution_count": 1,
   "id": "0069514f-5a31-4402-b987-d3d39ca2d9a4",
   "metadata": {},
   "outputs": [],
   "source": [
    "%load_ext autoreload\n",
    "%autoreload 2"
   ]
  },
  {
   "cell_type": "code",
   "execution_count": 2,
   "id": "dfc6bc4f-14ec-4aca-a635-6d51f7a8f632",
   "metadata": {},
   "outputs": [],
   "source": [
    "import numpy as np\n",
    "import pandas as pd\n",
    "from scipy import signal\n",
    "import matplotlib.pyplot as plt\n",
    "import xarray as xr\n",
    "import ghibtools as gh\n",
    "import tqdm\n",
    "from params import *\n",
    "from deform_tools import deform_to_cycle_template\n",
    "\n",
    "%matplotlib inline"
   ]
  },
  {
   "cell_type": "code",
   "execution_count": 3,
   "id": "10f4dd60-f3e1-4e4c-a0c6-7839f2547910",
   "metadata": {},
   "outputs": [],
   "source": [
    "save = False"
   ]
  },
  {
   "cell_type": "code",
   "execution_count": 4,
   "id": "5a2848d0-5a42-4adc-be89-b55adfec8404",
   "metadata": {},
   "outputs": [],
   "source": [
    "ratio = 0.3"
   ]
  },
  {
   "cell_type": "code",
   "execution_count": 5,
   "id": "e05bc6d8-5c42-4062-aa9e-05794ca020cc",
   "metadata": {},
   "outputs": [],
   "source": [
    "frontal_spindles_only = False"
   ]
  },
  {
   "cell_type": "code",
   "execution_count": 6,
   "id": "07bedfa3-cdac-47b2-8e44-e4a9e06a4c70",
   "metadata": {},
   "outputs": [],
   "source": [
    "def tf_cycle_stretch_expi(da, rsp_features, nb_point_by_cycle=1000, expi_ratio = ratio):\n",
    "    # da = 3d da ('raw',freqs * time)\n",
    "    da_stretch_cycle = None\n",
    "    for mode in ['raw','normal']:\n",
    "        clipped_times, times_to_cycles, cycles, cycle_points, deformed_data = deform_to_cycle_template(data = da.loc[mode,:,:].values.T,\n",
    "                                                                                                       times = da.coords['time'].values , \n",
    "                                                                                                       cycle_times=rsp_features[['start_time','transition_time']].values, \n",
    "                                                                                                       nb_point_by_cycle=nb_point_by_cycle,\n",
    "                                                                                                       inspi_ratio = expi_ratio)\n",
    "        deformed = deformed_data.T    \n",
    "\n",
    "        for cycle in cycles:\n",
    "            data_of_the_cycle = deformed[:,cycle*nb_point_by_cycle:(cycle+1)*nb_point_by_cycle]\n",
    "            if da_stretch_cycle is None:\n",
    "                da_stretch_cycle = gh.init_da({'normalisation':['raw','normal'],'cycle' : cycles, 'freqs': da.coords['freqs'].values , 'point':np.arange(0,nb_point_by_cycle,1)})\n",
    "            da_stretch_cycle.loc[mode, cycle, : , :] = data_of_the_cycle\n",
    "    new_rsp_features = rsp_features[rsp_features.index.isin(list(cycles))]\n",
    "    return da_stretch_cycle, new_rsp_features"
   ]
  },
  {
   "cell_type": "code",
   "execution_count": 7,
   "id": "2f528522-0e09-4615-b470-e6f2767395c3",
   "metadata": {
    "tags": []
   },
   "outputs": [],
   "source": [
    "def inspi_to_expi_rsp_features(patient):\n",
    "    rsp_features = pd.read_excel(f'../df_analyse/resp_features_new_{patient}.xlsx', index_col = [0])\n",
    "    spindles = pd.read_excel(f'../df_analyse/spindles_{patient}.xlsx', index_col = [0])\n",
    "    spindles = spindles[spindles['stage'] == 'N2']\n",
    "    if frontal_spindles_only:\n",
    "        spindles = spindles[spindles['Channel'].isin(['Fp1-C3','Fp2-C4'])] # ONLY FRONTAL SPINDLES !!\n",
    "    \n",
    "    rows = []\n",
    "    for i in rsp_features.index:\n",
    "        if i != rsp_features.index[-1]:\n",
    "            start = rsp_features.loc[i,'inspi_time']\n",
    "            transition = rsp_features.loc[i, 'expi_time']\n",
    "            stop = rsp_features.loc[i+1, 'inspi_time']\n",
    "\n",
    "            start_idx = rsp_features.loc[i,'inspi_index']\n",
    "            transition_idx = rsp_features.loc[i, 'expi_index']\n",
    "            stop_idx = rsp_features.loc[i+1, 'inspi_index']\n",
    "\n",
    "            patient = rsp_features.loc[i,'patient']\n",
    "\n",
    "            expi_duration = stop - transition\n",
    "            inspi_duration = transition - start\n",
    "            cycle_duration = stop - start\n",
    "            ratio_transition = inspi_duration / cycle_duration\n",
    "            \n",
    "            n_spindles_in_cycle = spindles[(spindles['Peak'] >= start) & (spindles['Peak'] < stop)].shape[0]\n",
    "            if n_spindles_in_cycle == 0:\n",
    "                encoding = 0\n",
    "            else:\n",
    "                encoding = 1\n",
    "            \n",
    "            if cycle_duration < 20:\n",
    "                rows.append([patient, start_idx, transition_idx, stop_idx, start , transition , stop, expi_duration, inspi_duration,  cycle_duration, ratio_transition, encoding, n_spindles_in_cycle])\n",
    "    df_expi_rsp_features = pd.DataFrame(rows, columns = ['patient','start_idx','transition_idx','stop_idx','start_time','transition_time','stop_time','expi_duration','inspi_duration', 'cycle_duration','ratio_transition','spindled','n_spindles'])\n",
    "    return df_expi_rsp_features"
   ]
  },
  {
   "cell_type": "code",
   "execution_count": 8,
   "id": "539ced97-fca1-4085-856b-0847b0f90881",
   "metadata": {},
   "outputs": [],
   "source": [
    "def get_midx_stretched_da(patient, df_all_expi_features):\n",
    "    da = xr.load_dataarray(f'../dataarray/da_tf_frontal_{patient}.nc')\n",
    "    rsp_features_patient = df_all_expi_features[df_all_expi_features['patient'] == patient]\n",
    "    print(patient, rsp_features_patient['spindled'].value_counts())\n",
    "    da_stretch_cycle, new_rsp_features = tf_cycle_stretch_expi(da = da , rsp_features = rsp_features_patient)\n",
    "    da_stretch_midx = gh.midx_da(da = da_stretch_cycle , dim = 'cycle', midx_labels = ('c','spindling','n_spindles'), midx_coords = [new_rsp_features.index, list(new_rsp_features.loc[:,'spindled']), list(new_rsp_features.loc[:,'n_spindles'])])\n",
    "    mean_cycle_da = da_stretch_midx.groupby('spindling').mean()\n",
    "    all_cycles = mean_cycle_da.mean('spindling')\n",
    "    unspindled = mean_cycle_da.sel(spindling=0).drop('spindling')\n",
    "    spindled = mean_cycle_da.sel(spindling=1).drop('spindling')\n",
    "    diff = spindled - unspindled\n",
    "    da_return = xr.concat([all_cycles, spindled, unspindled, diff], dim = 'spindle_mode').assign_coords({'spindle_mode':['all','spindled','unspindled','diff']})\n",
    "    return da_return"
   ]
  },
  {
   "cell_type": "code",
   "execution_count": null,
   "id": "67e465a2-023f-4827-b75b-2b89a84f46a2",
   "metadata": {},
   "outputs": [],
   "source": [
    "concat = []\n",
    "for patient in patients:\n",
    "    concat.append(inspi_to_expi_rsp_features(patient))\n",
    "df_all_expi_features = pd.concat(concat)"
   ]
  },
  {
   "cell_type": "code",
   "execution_count": null,
   "id": "3b6b03af-0cfd-449f-9f2e-bf9ed89e1c27",
   "metadata": {},
   "outputs": [],
   "source": [
    "df_all_expi_features"
   ]
  },
  {
   "cell_type": "code",
   "execution_count": null,
   "id": "bb0bd46b-c341-4757-b925-56309e612099",
   "metadata": {},
   "outputs": [],
   "source": [
    "df_all_expi_features.describe()"
   ]
  },
  {
   "cell_type": "code",
   "execution_count": null,
   "id": "7e02b2c4-b5b7-4bec-a2c3-457538b56c46",
   "metadata": {},
   "outputs": [],
   "source": [
    "df_all_expi_features['n_spindles'].value_counts()"
   ]
  },
  {
   "cell_type": "code",
   "execution_count": null,
   "id": "6d7afa99-acfa-44e3-8ffc-16fcca149622",
   "metadata": {},
   "outputs": [],
   "source": [
    "concat= []\n",
    "for patient in patients:\n",
    "    concat.append(get_midx_stretched_da(patient, df_all_expi_features))\n",
    "da_all = xr.concat(concat, dim = 'participant').assign_coords({'participant':patients})"
   ]
  },
  {
   "cell_type": "code",
   "execution_count": null,
   "id": "dc7dea22-f092-41e0-af28-239dfd92700e",
   "metadata": {},
   "outputs": [],
   "source": [
    "da_all = xr.concat(concat, dim = 'participant').assign_coords({'participant':patients})"
   ]
  },
  {
   "cell_type": "code",
   "execution_count": null,
   "id": "fb92754a-d1b9-4e18-ac1a-7d332690c514",
   "metadata": {},
   "outputs": [],
   "source": [
    "da_all"
   ]
  },
  {
   "cell_type": "code",
   "execution_count": null,
   "id": "49369de9-182f-488b-a2cd-d0c8d9b9c3a8",
   "metadata": {},
   "outputs": [],
   "source": [
    "da_all.mean('participant').sel(normalisation = 'normal').loc['diff',11:16,:].mean('freqs').plot.line(x='point')"
   ]
  },
  {
   "cell_type": "code",
   "execution_count": null,
   "id": "9a2b5756-6e5d-47b6-b297-8ddb37ddf175",
   "metadata": {},
   "outputs": [],
   "source": [
    "da = da_all.sel(normalisation = 'normal')"
   ]
  },
  {
   "cell_type": "code",
   "execution_count": null,
   "id": "44922f6d-ee9f-4eef-82ab-489c39105eb7",
   "metadata": {},
   "outputs": [],
   "source": [
    "xvline = ratio * 1000\n",
    "inspi_label_pos = xvline / 2\n",
    "expi_label_pos = 1000 - ((1000-xvline)/2)"
   ]
  },
  {
   "cell_type": "code",
   "execution_count": null,
   "id": "0b280371-1669-4df7-b265-0135995d7352",
   "metadata": {},
   "outputs": [],
   "source": [
    "if frontal_spindles_only:\n",
    "    save_title_append = '_frontal_spindle_only'\n",
    "else:\n",
    "    save_title_append = None"
   ]
  },
  {
   "cell_type": "code",
   "execution_count": null,
   "id": "fb0bde73-79ab-446d-8b15-d73b54d39dbd",
   "metadata": {},
   "outputs": [],
   "source": [
    "for mode in da.coords['spindle_mode'].values:\n",
    "    fig, axs = plt.subplots(ncols = 5, nrows = 2, constrained_layout = True, figsize = (20,8))\n",
    "    fig.suptitle(f'Mean normalized respiration cycle Phase-Frequency Plot : cycles = {mode} (inspi start)', fontsize = 20, y = 1.05)\n",
    "    for row, sublists in enumerate([ patients[:5] , patients[5:] ]): \n",
    "        for col, patient in enumerate(sublists):\n",
    "            ax = axs[row, col]\n",
    "            min_freq = 11\n",
    "            max_freq = 17\n",
    "            data = da.loc[patient, mode , min_freq:max_freq,:].values\n",
    "            ax.pcolormesh(da.coords['point'], da.coords['freqs'].loc[min_freq:max_freq], data)\n",
    "            ax.set_title(patient)\n",
    "            ax.set_ylabel('Freq [Hz]')\n",
    "            ax.set_xlabel('Respiration Cycle Phase')\n",
    "            ax.vlines(x = xvline, ymin = min_freq, ymax=max_freq, color = 'r')\n",
    "            ax.set_xticks([inspi_label_pos,xvline,expi_label_pos])\n",
    "            ax.set_xticklabels(['inspi','i-e transition','expi'], rotation=45, fontsize=10)\n",
    "    if save:\n",
    "        plt.savefig(f'../presentation_4/stretch_tf_by_patient_{mode}_inspi_start{save_title_append}', bbox_inches = 'tight')\n",
    "    plt.show()"
   ]
  },
  {
   "cell_type": "code",
   "execution_count": null,
   "id": "ce42b951-1c3e-4102-8809-5fc9be4043b2",
   "metadata": {},
   "outputs": [],
   "source": [
    "fig, axs = plt.subplots(ncols = 4, constrained_layout = True, figsize = (20,5))\n",
    "fig.suptitle('Mean Patient * respiration cycles normalized Phase-Frequency Plot (inspi start)', fontsize = 20, y = 1.05)\n",
    "min_freq = 11\n",
    "max_freq = 16\n",
    "\n",
    "for col, mode in enumerate(da.coords['spindle_mode'].values):\n",
    "    ax = axs[col]\n",
    "    data = da.loc[:, mode , min_freq:max_freq,:].mean('participant').values\n",
    "    ax.pcolormesh( da.coords['point'] , da.coords['freqs'].loc[min_freq:max_freq] , data)\n",
    "    ax.set_title(mode)\n",
    "    ax.set_ylabel('Freq [Hz]')\n",
    "    ax.set_xlabel('Respiration Cycle Phase')\n",
    "    ax.vlines(x = xvline, ymin = min_freq, ymax=max_freq, color = 'r')\n",
    "    ax.set_xticks([inspi_label_pos,xvline,expi_label_pos])\n",
    "    ax.set_xticklabels(['inspi','i-e transition','expi'], rotation=45, fontsize=10)\n",
    "if save:\n",
    "    plt.savefig(f'../presentation_4/stretch_tf_mean_patient_modes_inspi_start{save_title_append}', bbox_inches = 'tight')\n",
    "plt.show()"
   ]
  },
  {
   "cell_type": "code",
   "execution_count": null,
   "id": "52cc4da2-1209-479b-8303-8e279e1bc6e6",
   "metadata": {},
   "outputs": [],
   "source": [
    "fig, ax = plt.subplots(constrained_layout = True, figsize = (10,7))\n",
    "min_freq = 12\n",
    "max_freq = 13\n",
    "data = da.loc[:, 'diff' , min_freq:max_freq,:].mean(['participant','freqs']).values\n",
    "ax.plot(da.coords['point'], data)\n",
    "ax.set_title('Mean Patient * Spindled respiration cycles normalized Sigma Power')\n",
    "ax.set_ylabel('Sigma Power')\n",
    "ax.set_xlabel('Respiration Cycle Phase')\n",
    "ax.vlines(x = xvline, ymin = min(data), ymax=max(data), color = 'r')\n",
    "ax.set_xticks([inspi_label_pos,xvline,expi_label_pos])\n",
    "ax.set_xticklabels(['inspi','i-e transition','expi'], rotation=45, fontsize=10)\n",
    "if save:\n",
    "    plt.savefig(f'../presentation_4/stretch_sigma_power_mean_patient_inspi_start{save_title_append}', bbox_inches = 'tight')\n",
    "plt.show()"
   ]
  },
  {
   "cell_type": "code",
   "execution_count": null,
   "id": "5fb0c8da-5836-462d-b790-66a592c9fbc2",
   "metadata": {},
   "outputs": [],
   "source": []
  },
  {
   "cell_type": "code",
   "execution_count": null,
   "id": "79ce5ffc-94fb-43ae-bf3c-e891db74a2df",
   "metadata": {},
   "outputs": [],
   "source": []
  }
 ],
 "metadata": {
  "kernelspec": {
   "display_name": "Python 3 (ipykernel)",
   "language": "python",
   "name": "python3"
  },
  "language_info": {
   "codemirror_mode": {
    "name": "ipython",
    "version": 3
   },
   "file_extension": ".py",
   "mimetype": "text/x-python",
   "name": "python",
   "nbconvert_exporter": "python",
   "pygments_lexer": "ipython3",
   "version": "3.8.12"
  }
 },
 "nbformat": 4,
 "nbformat_minor": 5
}
