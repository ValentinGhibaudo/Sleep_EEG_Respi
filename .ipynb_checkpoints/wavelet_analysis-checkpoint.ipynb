{
 "cells": [
  {
   "cell_type": "code",
   "execution_count": 1,
   "id": "bd09a373-3758-40e3-96db-746b6b594868",
   "metadata": {
    "tags": []
   },
   "outputs": [],
   "source": [
    "%load_ext autoreload\n",
    "%autoreload 2"
   ]
  },
  {
   "cell_type": "code",
   "execution_count": 2,
   "id": "613fab06-5808-452d-8a59-2108bc502721",
   "metadata": {
    "tags": []
   },
   "outputs": [],
   "source": [
    "import numpy as np\n",
    "import pandas as pd\n",
    "from scipy import signal\n",
    "import matplotlib.pyplot as plt\n",
    "import xarray as xr\n",
    "import ghibtools as gh\n",
    "from params import *\n",
    "\n",
    "%matplotlib inline"
   ]
  },
  {
   "cell_type": "markdown",
   "id": "b1bfb853-30d6-48c3-b53b-23e3f1b53501",
   "metadata": {},
   "source": [
    "## PARAMS"
   ]
  },
  {
   "cell_type": "code",
   "execution_count": 3,
   "id": "401dbecc-d63f-48d8-8fee-8baea4d4c73b",
   "metadata": {},
   "outputs": [],
   "source": [
    "save = True"
   ]
  },
  {
   "cell_type": "code",
   "execution_count": 4,
   "id": "8b2a0383-dc6f-4a11-8fe1-1908a355e1c7",
   "metadata": {
    "tags": []
   },
   "outputs": [],
   "source": [
    "f_start = 10\n",
    "f_stop = 20\n",
    "n_steps = 40\n",
    "\n",
    "cycle_start = 7\n",
    "cycle_stop = 14"
   ]
  },
  {
   "cell_type": "markdown",
   "id": "d447562c-2047-4d7b-9ea7-d4fde16907d9",
   "metadata": {},
   "source": [
    "GO"
   ]
  },
  {
   "cell_type": "code",
   "execution_count": 5,
   "id": "745db4bf-fa17-42dc-85be-95d90bf40f0c",
   "metadata": {
    "tags": []
   },
   "outputs": [],
   "source": [
    "def data_to_tf(patient, srate=srate, f_start = f_start , f_stop=f_stop, n_steps=n_steps, save=save):\n",
    "    data_file = f'../dataarray/da_N2N3_{patient}.nc'\n",
    "    da = xr.load_dataarray(data_file)\n",
    "        \n",
    "    chans = ['Fp1-C3','Fp2-C4'] \n",
    "\n",
    "    sig = da.loc[chans, :].mean('chan').values\n",
    "    print(sig.size / srate)\n",
    "    tf_matrix =  gh.tf(sig=sig, srate=srate, f_start=f_start , f_stop=f_stop, n_steps=n_steps, cycle_start=cycle_start, cycle_stop=cycle_stop)   \n",
    "    \n",
    "    if save:\n",
    "        tf_matrix.to_netcdf(f'../dataarray/da_tf_frontal_{patient}.nc')\n",
    "        \n",
    "    # return da_tf"
   ]
  },
  {
   "cell_type": "code",
   "execution_count": 6,
   "id": "c432b60b-fd30-42c0-b7d1-e0dd8191779c",
   "metadata": {
    "tags": []
   },
   "outputs": [
    {
     "name": "stdout",
     "output_type": "stream",
     "text": [
      "P1\n",
      "10530.0\n",
      "P2\n",
      "18570.0\n",
      "P3\n",
      "16350.0\n",
      "P4\n",
      "13080.0\n",
      "P5\n",
      "14550.0\n",
      "P6\n",
      "13860.0\n",
      "P7\n",
      "14730.0\n",
      "P9\n",
      "15600.0\n",
      "P10\n",
      "15180.0\n"
     ]
    }
   ],
   "source": [
    "for patient in patients:\n",
    "    print(patient)\n",
    "    data_to_tf(patient)\n",
    "    # del da_tf"
   ]
  },
  {
   "cell_type": "code",
   "execution_count": null,
   "id": "705213a4-b0ea-4f8c-9092-00e6c466eec8",
   "metadata": {},
   "outputs": [],
   "source": []
  }
 ],
 "metadata": {
  "kernelspec": {
   "display_name": "Python 3 (ipykernel)",
   "language": "python",
   "name": "python3"
  },
  "language_info": {
   "codemirror_mode": {
    "name": "ipython",
    "version": 3
   },
   "file_extension": ".py",
   "mimetype": "text/x-python",
   "name": "python",
   "nbconvert_exporter": "python",
   "pygments_lexer": "ipython3",
   "version": "3.8.12"
  }
 },
 "nbformat": 4,
 "nbformat_minor": 5
}
