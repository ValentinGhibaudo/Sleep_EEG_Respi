{
 "cells": [
  {
   "cell_type": "code",
   "execution_count": 1,
   "id": "bd09a373-3758-40e3-96db-746b6b594868",
   "metadata": {
    "execution": {
     "iopub.execute_input": "2022-05-25T10:17:35.067968Z",
     "iopub.status.busy": "2022-05-25T10:17:35.067844Z",
     "iopub.status.idle": "2022-05-25T10:17:35.077955Z",
     "shell.execute_reply": "2022-05-25T10:17:35.077550Z",
     "shell.execute_reply.started": "2022-05-25T10:17:35.067955Z"
    },
    "tags": []
   },
   "outputs": [],
   "source": [
    "%load_ext autoreload\n",
    "%autoreload 2"
   ]
  },
  {
   "cell_type": "code",
   "execution_count": 2,
   "id": "613fab06-5808-452d-8a59-2108bc502721",
   "metadata": {
    "execution": {
     "iopub.execute_input": "2022-05-25T10:17:35.078481Z",
     "iopub.status.busy": "2022-05-25T10:17:35.078384Z",
     "iopub.status.idle": "2022-05-25T10:17:36.695556Z",
     "shell.execute_reply": "2022-05-25T10:17:36.695128Z",
     "shell.execute_reply.started": "2022-05-25T10:17:35.078468Z"
    },
    "tags": []
   },
   "outputs": [],
   "source": [
    "import numpy as np\n",
    "import pandas as pd\n",
    "from scipy import signal\n",
    "import matplotlib.pyplot as plt\n",
    "import xarray as xr\n",
    "import ghibtools as gh\n",
    "import tqdm\n",
    "from params import *\n",
    "\n",
    "%matplotlib inline"
   ]
  },
  {
   "cell_type": "markdown",
   "id": "b1bfb853-30d6-48c3-b53b-23e3f1b53501",
   "metadata": {},
   "source": [
    "## PARAMS"
   ]
  },
  {
   "cell_type": "code",
   "execution_count": 3,
   "id": "688f193c-d796-412e-8b55-e596a1a1d97d",
   "metadata": {
    "execution": {
     "iopub.execute_input": "2022-05-25T10:17:36.696502Z",
     "iopub.status.busy": "2022-05-25T10:17:36.696357Z",
     "iopub.status.idle": "2022-05-25T10:17:36.713362Z",
     "shell.execute_reply": "2022-05-25T10:17:36.712948Z",
     "shell.execute_reply.started": "2022-05-25T10:17:36.696488Z"
    },
    "tags": []
   },
   "outputs": [],
   "source": [
    "eeg_chans = ['Fp2-C4','C4-T4','T4-O2','Fz-Cz','Cz-Pz','Fp1-C3','C3-T3','T3-O1']\n",
    "srate = 256"
   ]
  },
  {
   "cell_type": "code",
   "execution_count": 4,
   "id": "09af1994-4bb9-45b9-b925-644486de2a7d",
   "metadata": {
    "execution": {
     "iopub.execute_input": "2022-05-25T10:17:36.713972Z",
     "iopub.status.busy": "2022-05-25T10:17:36.713870Z",
     "iopub.status.idle": "2022-05-25T10:17:36.729808Z",
     "shell.execute_reply": "2022-05-25T10:17:36.729391Z",
     "shell.execute_reply.started": "2022-05-25T10:17:36.713959Z"
    }
   },
   "outputs": [],
   "source": [
    "run_all = True"
   ]
  },
  {
   "cell_type": "code",
   "execution_count": 5,
   "id": "6949dd2e-0666-4ae1-aa40-be8b3c61d56f",
   "metadata": {
    "execution": {
     "iopub.execute_input": "2022-05-25T10:17:36.730401Z",
     "iopub.status.busy": "2022-05-25T10:17:36.730274Z",
     "iopub.status.idle": "2022-05-25T10:17:36.752229Z",
     "shell.execute_reply": "2022-05-25T10:17:36.751799Z",
     "shell.execute_reply.started": "2022-05-25T10:17:36.730389Z"
    }
   },
   "outputs": [],
   "source": [
    "tf_mode = 'moi'\n",
    "# tf_mode = 'cmo\""
   ]
  },
  {
   "cell_type": "code",
   "execution_count": 11,
   "id": "8b2a0383-dc6f-4a11-8fe1-1908a355e1c7",
   "metadata": {
    "execution": {
     "iopub.execute_input": "2022-05-25T10:19:07.922472Z",
     "iopub.status.busy": "2022-05-25T10:19:07.922291Z",
     "iopub.status.idle": "2022-05-25T10:19:07.947389Z",
     "shell.execute_reply": "2022-05-25T10:19:07.946926Z",
     "shell.execute_reply.started": "2022-05-25T10:19:07.922457Z"
    },
    "tags": []
   },
   "outputs": [],
   "source": [
    "f_start = 10\n",
    "f_stop = 20\n",
    "n_steps = 40\n",
    "\n",
    "cycle_start = f_start\n",
    "cycle_stop = f_stop"
   ]
  },
  {
   "cell_type": "markdown",
   "id": "8a5ebbc1-9020-43a5-8435-127a337d63c4",
   "metadata": {},
   "source": [
    "TOOLS"
   ]
  },
  {
   "cell_type": "markdown",
   "id": "d447562c-2047-4d7b-9ea7-d4fde16907d9",
   "metadata": {},
   "source": [
    "GO"
   ]
  },
  {
   "cell_type": "code",
   "execution_count": 10,
   "id": "745db4bf-fa17-42dc-85be-95d90bf40f0c",
   "metadata": {
    "execution": {
     "iopub.execute_input": "2022-05-25T10:18:55.022378Z",
     "iopub.status.busy": "2022-05-25T10:18:55.021802Z",
     "iopub.status.idle": "2022-05-25T10:18:55.067216Z",
     "shell.execute_reply": "2022-05-25T10:18:55.066323Z",
     "shell.execute_reply.started": "2022-05-25T10:18:55.022311Z"
    },
    "tags": []
   },
   "outputs": [
    {
     "ename": "NameError",
     "evalue": "name 'f0' is not defined",
     "output_type": "error",
     "traceback": [
      "\u001b[0;31m---------------------------------------------------------------------------\u001b[0m",
      "\u001b[0;31mNameError\u001b[0m                                 Traceback (most recent call last)",
      "\u001b[0;32m/tmp/ipykernel_160011/3803696967.py\u001b[0m in \u001b[0;36m<module>\u001b[0;34m\u001b[0m\n\u001b[0;32m----> 1\u001b[0;31m \u001b[0;32mdef\u001b[0m \u001b[0mdata_to_tf\u001b[0m\u001b[0;34m(\u001b[0m\u001b[0mpatient\u001b[0m\u001b[0;34m,\u001b[0m \u001b[0mf_start\u001b[0m \u001b[0;34m=\u001b[0m \u001b[0mf_start\u001b[0m \u001b[0;34m,\u001b[0m \u001b[0mf_stop\u001b[0m\u001b[0;34m=\u001b[0m\u001b[0mf_stop\u001b[0m\u001b[0;34m,\u001b[0m \u001b[0mn_steps\u001b[0m\u001b[0;34m=\u001b[0m\u001b[0mn_steps\u001b[0m\u001b[0;34m,\u001b[0m \u001b[0mf0\u001b[0m \u001b[0;34m=\u001b[0m \u001b[0mf0\u001b[0m \u001b[0;34m,\u001b[0m \u001b[0msave\u001b[0m\u001b[0;34m=\u001b[0m\u001b[0;32mTrue\u001b[0m\u001b[0;34m)\u001b[0m\u001b[0;34m:\u001b[0m\u001b[0;34m\u001b[0m\u001b[0;34m\u001b[0m\u001b[0m\n\u001b[0m\u001b[1;32m      2\u001b[0m     \u001b[0mdata_file\u001b[0m \u001b[0;34m=\u001b[0m \u001b[0;34mf'../dataarray/da_staged_{patient}.nc'\u001b[0m\u001b[0;34m\u001b[0m\u001b[0;34m\u001b[0m\u001b[0m\n\u001b[1;32m      3\u001b[0m     \u001b[0mda\u001b[0m \u001b[0;34m=\u001b[0m \u001b[0mxr\u001b[0m\u001b[0;34m.\u001b[0m\u001b[0mload_dataarray\u001b[0m\u001b[0;34m(\u001b[0m\u001b[0mdata_file\u001b[0m\u001b[0;34m)\u001b[0m\u001b[0;34m\u001b[0m\u001b[0;34m\u001b[0m\u001b[0m\n\u001b[1;32m      4\u001b[0m     \u001b[0mda\u001b[0m \u001b[0;34m=\u001b[0m \u001b[0mda\u001b[0m\u001b[0;34m.\u001b[0m\u001b[0msel\u001b[0m\u001b[0;34m(\u001b[0m\u001b[0mstage\u001b[0m \u001b[0;34m=\u001b[0m \u001b[0mstage_to_study\u001b[0m\u001b[0;34m)\u001b[0m\u001b[0;34m.\u001b[0m\u001b[0mdropna\u001b[0m\u001b[0;34m(\u001b[0m\u001b[0mdim\u001b[0m\u001b[0;34m=\u001b[0m\u001b[0;34m'time'\u001b[0m\u001b[0;34m)\u001b[0m\u001b[0;34m\u001b[0m\u001b[0;34m\u001b[0m\u001b[0m\n\u001b[1;32m      5\u001b[0m     \u001b[0mchans\u001b[0m \u001b[0;34m=\u001b[0m \u001b[0mlist\u001b[0m\u001b[0;34m(\u001b[0m\u001b[0mda\u001b[0m\u001b[0;34m.\u001b[0m\u001b[0mcoords\u001b[0m\u001b[0;34m[\u001b[0m\u001b[0;34m'chan'\u001b[0m\u001b[0;34m]\u001b[0m\u001b[0;34m.\u001b[0m\u001b[0mvalues\u001b[0m\u001b[0;34m)\u001b[0m\u001b[0;34m\u001b[0m\u001b[0;34m\u001b[0m\u001b[0m\n",
      "\u001b[0;31mNameError\u001b[0m: name 'f0' is not defined"
     ]
    }
   ],
   "source": [
    "def data_to_tf(patient, f_start = f_start , f_stop=f_stop, n_steps=n_steps, save=True):\n",
    "    data_file = f'../dataarray/da_staged_{patient}.nc'\n",
    "    da = xr.load_dataarray(data_file)\n",
    "    da = da.sel(stage = stage_to_study).dropna(dim='time')\n",
    "    chans = list(da.coords['chan'].values)\n",
    "    \n",
    "    concat = []\n",
    "        \n",
    "    for chan in eeg_chans:\n",
    "        sig = da.loc[chan, :].dropna(dim='time').values\n",
    "        tf_matrix =  gh.tf(sig=sig, f_start=f_start , f_stop=f_stop, n_steps=n_steps, cycle_start=cycle_start, cycle_stop=cycle_stop)    \n",
    "        concat.append(tf_matrix)\n",
    "        \n",
    "    da_tf = xr.concat(concat, dim = 'chan')\n",
    "    da_tf = da_tf.assign_coords({'chan':eeg_chans})\n",
    "    \n",
    "    if save:\n",
    "        da_tf.to_netcdf(f'../dataarray/da_tf_{patient}.nc')\n",
    "    return da_tf"
   ]
  },
  {
   "cell_type": "code",
   "execution_count": null,
   "id": "fb46284d-915f-4a10-af4b-8cc0f6ecf525",
   "metadata": {
    "execution": {
     "iopub.status.busy": "2022-05-25T10:17:36.943906Z",
     "iopub.status.idle": "2022-05-25T10:17:36.944150Z",
     "shell.execute_reply": "2022-05-25T10:17:36.944067Z",
     "shell.execute_reply.started": "2022-05-25T10:17:36.944058Z"
    }
   },
   "outputs": [],
   "source": [
    "def tf_to_stretch_cycled(da_tf, patient, save=True):\n",
    "    resp_features = pd.read_excel(f'../df_analyse/resp_features_{patient}.xlsx')\n",
    "\n",
    "    concat = []\n",
    "    for chan in eeg_chans:\n",
    "        da_stretch_cycle = gh.tf_cycle_stretch(da=da_tf, chan=chan, rsp_features=resp_features, nb_point_by_cycle=1000, inspi_ratio = 0.4, save_path = f'../df_analyse/resp_features_new_{patient}.xlsx')\n",
    "        concat.append(da_stretch_cycle)\n",
    "        \n",
    "    da_tf_stretched = xr.concat(concat, dim = 'chan')\n",
    "    da_tf_stretched = da_tf_stretched.assign_coords({'chan':eeg_chans})\n",
    "    if save:\n",
    "        da_tf_stretched.to_netcdf(f'../dataarray/da_tf_stretched_{patient}.nc')\n",
    "    return da_tf_stretched"
   ]
  },
  {
   "cell_type": "code",
   "execution_count": null,
   "id": "c432b60b-fd30-42c0-b7d1-e0dd8191779c",
   "metadata": {
    "execution": {
     "iopub.status.busy": "2022-05-25T10:17:36.944755Z",
     "iopub.status.idle": "2022-05-25T10:17:36.944915Z",
     "shell.execute_reply": "2022-05-25T10:17:36.944837Z",
     "shell.execute_reply.started": "2022-05-25T10:17:36.944828Z"
    },
    "tags": []
   },
   "outputs": [],
   "source": [
    "if run_all:\n",
    "    for patient in patients:\n",
    "        print(patient)\n",
    "        da_tf = data_to_tf(patient)\n",
    "        da_tf_stretched = tf_to_stretch_cycled(da_tf , patient)\n",
    "        del da_tf\n",
    "        del da_tf_stretched"
   ]
  }
 ],
 "metadata": {
  "kernelspec": {
   "display_name": "Python 3 (ipykernel)",
   "language": "python",
   "name": "python3"
  },
  "language_info": {
   "codemirror_mode": {
    "name": "ipython",
    "version": 3
   },
   "file_extension": ".py",
   "mimetype": "text/x-python",
   "name": "python",
   "nbconvert_exporter": "python",
   "pygments_lexer": "ipython3",
   "version": "3.8.10"
  }
 },
 "nbformat": 4,
 "nbformat_minor": 5
}
