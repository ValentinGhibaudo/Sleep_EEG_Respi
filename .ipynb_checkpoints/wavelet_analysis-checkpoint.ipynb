{
 "cells": [
  {
   "cell_type": "code",
   "execution_count": 1,
   "id": "bd09a373-3758-40e3-96db-746b6b594868",
   "metadata": {},
   "outputs": [],
   "source": [
    "%load_ext autoreload\n",
    "%autoreload 2"
   ]
  },
  {
   "cell_type": "code",
   "execution_count": null,
   "id": "613fab06-5808-452d-8a59-2108bc502721",
   "metadata": {},
   "outputs": [],
   "source": [
    "import numpy as np\n",
    "import pandas as pd\n",
    "from scipy import signal\n",
    "import matplotlib.pyplot as plt\n",
    "import xarray as xr\n",
    "from bibliotheque import *\n",
    "from signal_tools import *\n",
    "\n",
    "%matplotlib inline"
   ]
  },
  {
   "cell_type": "markdown",
   "id": "36ed47c0-a6e6-449c-a23f-cbda9f517255",
   "metadata": {},
   "source": [
    "PATH"
   ]
  },
  {
   "cell_type": "code",
   "execution_count": null,
   "id": "961455f2-c3a3-4d44-8e00-a6c19fe0f927",
   "metadata": {},
   "outputs": [],
   "source": [
    "root = '/crnldata/'"
   ]
  },
  {
   "cell_type": "code",
   "execution_count": null,
   "id": "b2152021-a034-4836-935a-e805e27160e9",
   "metadata": {},
   "outputs": [],
   "source": [
    "data_file = root + 'cmo/Etudiants/Valentin_G/Sleep_EEG_Respi/dataarray/da_staged.nc'"
   ]
  },
  {
   "cell_type": "markdown",
   "id": "b1bfb853-30d6-48c3-b53b-23e3f1b53501",
   "metadata": {},
   "source": [
    "PARAMS"
   ]
  },
  {
   "cell_type": "code",
   "execution_count": null,
   "id": "688f193c-d796-412e-8b55-e596a1a1d97d",
   "metadata": {},
   "outputs": [],
   "source": [
    "eeg_chans = ['Fp2-C4','C4-T4','T4-O2','Fz-Cz','Cz-Pz','Fp1-C3','C3-T3','T3-O1']\n",
    "respi_chan = 'DEBIT'\n",
    "ecg_chan = 'ECG'\n",
    "eog_chans = ['EOGDt-A2','EOGG-A1']\n",
    "sel_chans = ['Fp2-C4','C4-T4','T4-O2','Fz-Cz','Cz-Pz','Fp1-C3','C3-T3','T3-O1','DEBIT','ECG']\n",
    "stages = ['W','R','N1','N2','N3']"
   ]
  },
  {
   "cell_type": "code",
   "execution_count": null,
   "id": "f42fceb3-5206-4d78-87dd-24e8cc215c5e",
   "metadata": {},
   "outputs": [],
   "source": [
    "step = 40\n",
    "start_freq = 10\n",
    "stop_freq = 20"
   ]
  },
  {
   "cell_type": "code",
   "execution_count": null,
   "id": "09af1994-4bb9-45b9-b925-644486de2a7d",
   "metadata": {},
   "outputs": [],
   "source": [
    "srate = 256\n",
    "range_freqs = 10\n",
    "\n",
    "amp = 1\n",
    "time_cmw = np.arange(-2,2,1/srate)\n",
    "range_freqs = np.linspace(start_freq,stop_freq,step)\n",
    "n_cycles = np.linspace(5,10,step)\n",
    "m = 0\n",
    "\n",
    "cmw_family_params = {'amp':amp, 'time':time_cmw, 'n_cycles':n_cycles, 'm':m, 'range':range_freqs}\n",
    "\n",
    "save = False"
   ]
  },
  {
   "cell_type": "markdown",
   "id": "8a5ebbc1-9020-43a5-8435-127a337d63c4",
   "metadata": {},
   "source": [
    "TOOLS"
   ]
  },
  {
   "cell_type": "markdown",
   "id": "d447562c-2047-4d7b-9ea7-d4fde16907d9",
   "metadata": {},
   "source": [
    "GO"
   ]
  },
  {
   "cell_type": "code",
   "execution_count": null,
   "id": "2533d45a-6221-497c-8ba1-a5b77cfcf92a",
   "metadata": {},
   "outputs": [],
   "source": [
    "if save:\n",
    "    da = xr.load_dataarray(data_file)\n",
    "    da = da.sel(stage = 'N2').dropna(dim='time')\n",
    "    chans = list(da.coords['chan'].values)\n",
    "    \n",
    "    concat = []\n",
    "    for chan in eeg_chans:\n",
    "        print(chan)\n",
    "        sig = da.loc[chan, :].dropna(dim='time').values\n",
    "        time_sig = time_vector(sig=sig, srate=srate)\n",
    "        da_features = extract_features_from_cmw_family(sig, time_sig, cmw_family_params)\n",
    "        concat.append(da_features)\n",
    "    da_all_features = xr.concat(concat, dim = 'chan')\n",
    "    da_all_features = da_all_features.assign_coords({'chan':eeg_chans})\n",
    "    \n",
    "    da_all_features.to_netcdf(root + 'cmo/Etudiants/Valentin_G/Sleep_EEG_Respi/dataarray/da_features_all.nc')\n",
    "else:\n",
    "    da_all_features = xr.load_dataarray(root + 'cmo/Etudiants/Valentin_G/Sleep_EEG_Respi/dataarray/da_features_all.nc')"
   ]
  },
  {
   "cell_type": "code",
   "execution_count": null,
   "id": "64bad616-9fe8-41ba-9c3b-3212add7a090",
   "metadata": {},
   "outputs": [],
   "source": [
    "da_all_features"
   ]
  },
  {
   "cell_type": "code",
   "execution_count": null,
   "id": "01436f58-ebfd-48cd-893e-b7e2ca23b9b9",
   "metadata": {},
   "outputs": [],
   "source": [
    "da_all_features.loc['Fp2-C4',range_freqs[5],63:67].plot()"
   ]
  },
  {
   "cell_type": "code",
   "execution_count": null,
   "id": "bac5d4a4-d713-4fac-851f-4a6910ac7bfa",
   "metadata": {},
   "outputs": [],
   "source": [
    "if save:\n",
    "    resp_features = pd.read_excel(root + 'cmo/Etudiants/Valentin_G/Sleep_EEG_Respi/df_analyse/resp_features.xlsx')\n",
    "    da_tf_stretched = None\n",
    "    for chan in eeg_chans:\n",
    "        print(chan)\n",
    "        for fi in range_freqs:\n",
    "            sig = da_all_features.loc[chan, fi, :].values\n",
    "            sig_stretched = stretch_data(resp_features=resp_features, nb_point_by_cycle=1000, data=sig, srate=srate)\n",
    "            if da_tf_stretched is None:\n",
    "                da_tf_stretched = init_da({'chan':eeg_chans, 'cycle':np.arange(0,sig_stretched.shape[0],1), 'freq':range_freqs, 'point':np.arange(0,sig_stretched.shape[1],1)})\n",
    "            da_tf_stretched.loc[chan, : , fi, :] = sig_stretched      \n",
    "    da_tf_stretched.to_netcdf(root + 'cmo/Etudiants/Valentin_G/Sleep_EEG_Respi/dataarray/da_tf_stretched.nc')\n",
    "else:\n",
    "    da_tf_stretched = xr.load_dataarray(root + 'cmo/Etudiants/Valentin_G/Sleep_EEG_Respi/dataarray/da_tf_stretched.nc')"
   ]
  },
  {
   "cell_type": "code",
   "execution_count": null,
   "id": "99068bc8-e04c-49d5-b49e-77a232887b86",
   "metadata": {},
   "outputs": [],
   "source": [
    "da_tf_stretched.to_netcdf(root + 'cmo/Etudiants/Valentin_G/Sleep_EEG_Respi/dataarray/da_tf_stretched.nc')"
   ]
  },
  {
   "cell_type": "code",
   "execution_count": null,
   "id": "a0e9c3d4-ebca-49ab-806a-a226a59320a3",
   "metadata": {},
   "outputs": [],
   "source": [
    "da_tf_stretched.loc['Fp2-C4',:,:,:].mean('cycle').plot()"
   ]
  },
  {
   "cell_type": "code",
   "execution_count": null,
   "id": "3828b59d-7e4d-4821-95ca-c00155175de5",
   "metadata": {},
   "outputs": [],
   "source": []
  }
 ],
 "metadata": {
  "kernelspec": {
   "display_name": "Python 3 (ipykernel)",
   "language": "python",
   "name": "python3"
  },
  "language_info": {
   "codemirror_mode": {
    "name": "ipython",
    "version": 3
   },
   "file_extension": ".py",
   "mimetype": "text/x-python",
   "name": "python",
   "nbconvert_exporter": "python",
   "pygments_lexer": "ipython3",
   "version": "3.8.12"
  }
 },
 "nbformat": 4,
 "nbformat_minor": 5
}
