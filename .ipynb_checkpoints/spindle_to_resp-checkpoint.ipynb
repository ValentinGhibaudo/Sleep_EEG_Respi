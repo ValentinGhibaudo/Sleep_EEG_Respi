{
 "cells": [
  {
   "cell_type": "code",
   "execution_count": 1,
   "id": "1ff12acc-13ad-4592-8597-0b8a034fc216",
   "metadata": {
    "execution": {
     "iopub.execute_input": "2022-06-07T15:08:19.761586Z",
     "iopub.status.busy": "2022-06-07T15:08:19.761416Z",
     "iopub.status.idle": "2022-06-07T15:08:19.772111Z",
     "shell.execute_reply": "2022-06-07T15:08:19.771682Z",
     "shell.execute_reply.started": "2022-06-07T15:08:19.761570Z"
    },
    "tags": []
   },
   "outputs": [],
   "source": [
    "%load_ext autoreload\n",
    "%autoreload 2"
   ]
  },
  {
   "cell_type": "code",
   "execution_count": 2,
   "id": "e0d64622-9275-4792-8b6b-f378184a5140",
   "metadata": {
    "execution": {
     "iopub.execute_input": "2022-06-07T15:08:19.772717Z",
     "iopub.status.busy": "2022-06-07T15:08:19.772617Z",
     "iopub.status.idle": "2022-06-07T15:08:21.438508Z",
     "shell.execute_reply": "2022-06-07T15:08:21.438089Z",
     "shell.execute_reply.started": "2022-06-07T15:08:19.772704Z"
    },
    "tags": []
   },
   "outputs": [],
   "source": [
    "import numpy as np\n",
    "import pandas as pd\n",
    "import matplotlib.pyplot as plt\n",
    "from params import *\n",
    "import tqdm\n",
    "import ghibtools as gh\n",
    "import seaborn as sns\n",
    "import pingouin as pg\n",
    "%matplotlib inline"
   ]
  },
  {
   "cell_type": "code",
   "execution_count": 3,
   "id": "7baef168-5240-4870-9dab-fcab8158c17a",
   "metadata": {
    "execution": {
     "iopub.execute_input": "2022-06-07T15:08:21.439276Z",
     "iopub.status.busy": "2022-06-07T15:08:21.439097Z",
     "iopub.status.idle": "2022-06-07T15:08:21.457087Z",
     "shell.execute_reply": "2022-06-07T15:08:21.456680Z",
     "shell.execute_reply.started": "2022-06-07T15:08:21.439258Z"
    },
    "tags": []
   },
   "outputs": [
    {
     "name": "stdout",
     "output_type": "stream",
     "text": [
      "P10\n"
     ]
    }
   ],
   "source": [
    "print(patient)"
   ]
  },
  {
   "cell_type": "markdown",
   "id": "a34eeddf-fc23-44c6-9eed-4aebacf2082f",
   "metadata": {},
   "source": [
    "## SAVING CHOSE"
   ]
  },
  {
   "cell_type": "code",
   "execution_count": 4,
   "id": "6af95f5d-7a87-4dc6-a507-8f18cdb0a6ce",
   "metadata": {
    "execution": {
     "iopub.execute_input": "2022-06-07T15:08:21.457911Z",
     "iopub.status.busy": "2022-06-07T15:08:21.457751Z",
     "iopub.status.idle": "2022-06-07T15:08:21.474728Z",
     "shell.execute_reply": "2022-06-07T15:08:21.474286Z",
     "shell.execute_reply.started": "2022-06-07T15:08:21.457889Z"
    },
    "tags": []
   },
   "outputs": [],
   "source": [
    "save_cycles_with_spindle = False"
   ]
  },
  {
   "cell_type": "markdown",
   "id": "144e4cd7-851c-40b9-a10f-9ee4d585959a",
   "metadata": {},
   "source": [
    "## PARAMS"
   ]
  },
  {
   "cell_type": "code",
   "execution_count": 5,
   "id": "77d7c170-89ca-4a68-9920-15daec743ef9",
   "metadata": {
    "execution": {
     "iopub.execute_input": "2022-06-07T15:08:21.475536Z",
     "iopub.status.busy": "2022-06-07T15:08:21.475411Z",
     "iopub.status.idle": "2022-06-07T15:08:21.493153Z",
     "shell.execute_reply": "2022-06-07T15:08:21.492726Z",
     "shell.execute_reply.started": "2022-06-07T15:08:21.475521Z"
    },
    "tags": []
   },
   "outputs": [],
   "source": [
    "nbins = 2"
   ]
  },
  {
   "cell_type": "markdown",
   "id": "9dde465b-1a96-47b6-9a74-e85a37a1b13c",
   "metadata": {},
   "source": [
    "## LOAD RESP FEATURES & SPINDLES FEATURES"
   ]
  },
  {
   "cell_type": "code",
   "execution_count": 6,
   "id": "3983d501-da40-495a-a417-58c4861843ef",
   "metadata": {
    "execution": {
     "iopub.execute_input": "2022-06-07T15:08:21.493854Z",
     "iopub.status.busy": "2022-06-07T15:08:21.493720Z",
     "iopub.status.idle": "2022-06-07T15:08:21.512212Z",
     "shell.execute_reply": "2022-06-07T15:08:21.511833Z",
     "shell.execute_reply.started": "2022-06-07T15:08:21.493827Z"
    },
    "tags": []
   },
   "outputs": [],
   "source": [
    "def load_df(patient , stage_to_study=stage_to_study):\n",
    "    spindle_file = f'../df_analyse/spindles_{patient}.xlsx'\n",
    "    rsp_cycle_file = f'../df_analyse/resp_features_new_{patient}.xlsx'\n",
    "    df_cycles = pd.read_excel(rsp_cycle_file, index_col = 0)\n",
    "    spindles = pd.read_excel(spindle_file).drop(columns = 'Unnamed: 0')\n",
    "    spindles = spindles[spindles['stage'] == stage_to_study]\n",
    "    end_cycles = []\n",
    "    for cycle in range(df_cycles.shape[0]):\n",
    "        end_resp = df_cycles.loc[cycle, 'inspi_time'] + df_cycles.loc[cycle, 'cycle_duration']\n",
    "        end_cycles.append(end_resp)\n",
    "    df_cycles['end_time'] = end_cycles\n",
    "    df_cycles\n",
    "    \n",
    "    return df_cycles , spindles"
   ]
  },
  {
   "cell_type": "code",
   "execution_count": 7,
   "id": "ac99b18f-ef58-40ce-839a-2965acab715b",
   "metadata": {
    "execution": {
     "iopub.execute_input": "2022-06-07T15:08:21.512882Z",
     "iopub.status.busy": "2022-06-07T15:08:21.512750Z",
     "iopub.status.idle": "2022-06-07T15:08:22.323069Z",
     "shell.execute_reply": "2022-06-07T15:08:22.322589Z",
     "shell.execute_reply.started": "2022-06-07T15:08:21.512855Z"
    },
    "tags": []
   },
   "outputs": [],
   "source": [
    "df_cycles , spindles = load_df(patient)"
   ]
  },
  {
   "cell_type": "code",
   "execution_count": 8,
   "id": "03e7e72b-7951-42ba-a540-92f4a943327c",
   "metadata": {
    "execution": {
     "iopub.execute_input": "2022-06-07T15:08:22.323988Z",
     "iopub.status.busy": "2022-06-07T15:08:22.323733Z",
     "iopub.status.idle": "2022-06-07T15:08:22.357527Z",
     "shell.execute_reply": "2022-06-07T15:08:22.357049Z",
     "shell.execute_reply.started": "2022-06-07T15:08:22.323951Z"
    },
    "tags": []
   },
   "outputs": [
    {
     "data": {
      "text/html": [
       "<div>\n",
       "<style scoped>\n",
       "    .dataframe tbody tr th:only-of-type {\n",
       "        vertical-align: middle;\n",
       "    }\n",
       "\n",
       "    .dataframe tbody tr th {\n",
       "        vertical-align: top;\n",
       "    }\n",
       "\n",
       "    .dataframe thead th {\n",
       "        text-align: right;\n",
       "    }\n",
       "</style>\n",
       "<table border=\"1\" class=\"dataframe\">\n",
       "  <thead>\n",
       "    <tr style=\"text-align: right;\">\n",
       "      <th></th>\n",
       "      <th>Unnamed: 0</th>\n",
       "      <th>patient</th>\n",
       "      <th>cycle_num</th>\n",
       "      <th>inspi_index</th>\n",
       "      <th>expi_index</th>\n",
       "      <th>inspi_time</th>\n",
       "      <th>expi_time</th>\n",
       "      <th>cycle_duration</th>\n",
       "      <th>insp_duration</th>\n",
       "      <th>exp_duration</th>\n",
       "      <th>cycle_freq</th>\n",
       "      <th>insp_volume</th>\n",
       "      <th>exp_volume</th>\n",
       "      <th>total_amplitude</th>\n",
       "      <th>insp_amplitude</th>\n",
       "      <th>exp_amplitude</th>\n",
       "      <th>end_time</th>\n",
       "    </tr>\n",
       "  </thead>\n",
       "  <tbody>\n",
       "    <tr>\n",
       "      <th>0</th>\n",
       "      <td>0</td>\n",
       "      <td>P10</td>\n",
       "      <td>0</td>\n",
       "      <td>9</td>\n",
       "      <td>315</td>\n",
       "      <td>0.035156</td>\n",
       "      <td>1.230469</td>\n",
       "      <td>3.218750</td>\n",
       "      <td>1.195312</td>\n",
       "      <td>2.023438</td>\n",
       "      <td>0.310680</td>\n",
       "      <td>70.149251</td>\n",
       "      <td>35.250572</td>\n",
       "      <td>101.332140</td>\n",
       "      <td>70.477427</td>\n",
       "      <td>30.854713</td>\n",
       "      <td>3.253906</td>\n",
       "    </tr>\n",
       "    <tr>\n",
       "      <th>1</th>\n",
       "      <td>1</td>\n",
       "      <td>P10</td>\n",
       "      <td>1</td>\n",
       "      <td>833</td>\n",
       "      <td>1149</td>\n",
       "      <td>3.253906</td>\n",
       "      <td>4.488281</td>\n",
       "      <td>3.484375</td>\n",
       "      <td>1.234375</td>\n",
       "      <td>2.250000</td>\n",
       "      <td>0.286996</td>\n",
       "      <td>76.714018</td>\n",
       "      <td>41.101259</td>\n",
       "      <td>109.483597</td>\n",
       "      <td>78.546267</td>\n",
       "      <td>30.937330</td>\n",
       "      <td>6.738281</td>\n",
       "    </tr>\n",
       "    <tr>\n",
       "      <th>2</th>\n",
       "      <td>2</td>\n",
       "      <td>P10</td>\n",
       "      <td>2</td>\n",
       "      <td>1725</td>\n",
       "      <td>2081</td>\n",
       "      <td>6.738281</td>\n",
       "      <td>8.128906</td>\n",
       "      <td>3.496094</td>\n",
       "      <td>1.390625</td>\n",
       "      <td>2.105469</td>\n",
       "      <td>0.286034</td>\n",
       "      <td>80.284087</td>\n",
       "      <td>37.333431</td>\n",
       "      <td>99.036470</td>\n",
       "      <td>68.051436</td>\n",
       "      <td>30.985034</td>\n",
       "      <td>10.234375</td>\n",
       "    </tr>\n",
       "    <tr>\n",
       "      <th>3</th>\n",
       "      <td>3</td>\n",
       "      <td>P10</td>\n",
       "      <td>3</td>\n",
       "      <td>2620</td>\n",
       "      <td>2982</td>\n",
       "      <td>10.234375</td>\n",
       "      <td>11.648438</td>\n",
       "      <td>3.363281</td>\n",
       "      <td>1.414062</td>\n",
       "      <td>1.949219</td>\n",
       "      <td>0.297329</td>\n",
       "      <td>73.256394</td>\n",
       "      <td>33.306419</td>\n",
       "      <td>93.975076</td>\n",
       "      <td>63.056873</td>\n",
       "      <td>30.918203</td>\n",
       "      <td>13.597656</td>\n",
       "    </tr>\n",
       "    <tr>\n",
       "      <th>4</th>\n",
       "      <td>4</td>\n",
       "      <td>P10</td>\n",
       "      <td>4</td>\n",
       "      <td>3481</td>\n",
       "      <td>3791</td>\n",
       "      <td>13.597656</td>\n",
       "      <td>14.808594</td>\n",
       "      <td>3.449219</td>\n",
       "      <td>1.210938</td>\n",
       "      <td>2.238281</td>\n",
       "      <td>0.289921</td>\n",
       "      <td>75.739948</td>\n",
       "      <td>40.251144</td>\n",
       "      <td>109.223979</td>\n",
       "      <td>78.179055</td>\n",
       "      <td>31.044925</td>\n",
       "      <td>17.046875</td>\n",
       "    </tr>\n",
       "    <tr>\n",
       "      <th>...</th>\n",
       "      <td>...</td>\n",
       "      <td>...</td>\n",
       "      <td>...</td>\n",
       "      <td>...</td>\n",
       "      <td>...</td>\n",
       "      <td>...</td>\n",
       "      <td>...</td>\n",
       "      <td>...</td>\n",
       "      <td>...</td>\n",
       "      <td>...</td>\n",
       "      <td>...</td>\n",
       "      <td>...</td>\n",
       "      <td>...</td>\n",
       "      <td>...</td>\n",
       "      <td>...</td>\n",
       "      <td>...</td>\n",
       "      <td>...</td>\n",
       "    </tr>\n",
       "    <tr>\n",
       "      <th>1684</th>\n",
       "      <td>1687</td>\n",
       "      <td>P10</td>\n",
       "      <td>1687</td>\n",
       "      <td>1813931</td>\n",
       "      <td>1814254</td>\n",
       "      <td>7085.667969</td>\n",
       "      <td>7086.929688</td>\n",
       "      <td>2.914062</td>\n",
       "      <td>1.261719</td>\n",
       "      <td>1.652344</td>\n",
       "      <td>0.343164</td>\n",
       "      <td>79.005229</td>\n",
       "      <td>7.133767</td>\n",
       "      <td>112.294064</td>\n",
       "      <td>81.305451</td>\n",
       "      <td>30.988612</td>\n",
       "      <td>7088.582031</td>\n",
       "    </tr>\n",
       "    <tr>\n",
       "      <th>1685</th>\n",
       "      <td>1688</td>\n",
       "      <td>P10</td>\n",
       "      <td>1688</td>\n",
       "      <td>1814677</td>\n",
       "      <td>1814990</td>\n",
       "      <td>7088.582031</td>\n",
       "      <td>7089.804688</td>\n",
       "      <td>3.496094</td>\n",
       "      <td>1.222656</td>\n",
       "      <td>2.273438</td>\n",
       "      <td>0.286034</td>\n",
       "      <td>80.071477</td>\n",
       "      <td>18.720356</td>\n",
       "      <td>114.306694</td>\n",
       "      <td>83.273309</td>\n",
       "      <td>31.033386</td>\n",
       "      <td>7092.078125</td>\n",
       "    </tr>\n",
       "    <tr>\n",
       "      <th>1686</th>\n",
       "      <td>1689</td>\n",
       "      <td>P10</td>\n",
       "      <td>1689</td>\n",
       "      <td>1815572</td>\n",
       "      <td>1815900</td>\n",
       "      <td>7092.078125</td>\n",
       "      <td>7093.359375</td>\n",
       "      <td>3.144531</td>\n",
       "      <td>1.281250</td>\n",
       "      <td>1.863281</td>\n",
       "      <td>0.318012</td>\n",
       "      <td>88.749161</td>\n",
       "      <td>10.335936</td>\n",
       "      <td>125.269604</td>\n",
       "      <td>94.430902</td>\n",
       "      <td>30.838703</td>\n",
       "      <td>7095.222656</td>\n",
       "    </tr>\n",
       "    <tr>\n",
       "      <th>1687</th>\n",
       "      <td>1690</td>\n",
       "      <td>P10</td>\n",
       "      <td>1690</td>\n",
       "      <td>1816377</td>\n",
       "      <td>1816681</td>\n",
       "      <td>7095.222656</td>\n",
       "      <td>7096.410156</td>\n",
       "      <td>3.453125</td>\n",
       "      <td>1.187500</td>\n",
       "      <td>2.265625</td>\n",
       "      <td>0.289593</td>\n",
       "      <td>84.251904</td>\n",
       "      <td>17.570151</td>\n",
       "      <td>119.336883</td>\n",
       "      <td>88.696413</td>\n",
       "      <td>30.640469</td>\n",
       "      <td>7098.675781</td>\n",
       "    </tr>\n",
       "    <tr>\n",
       "      <th>1688</th>\n",
       "      <td>1691</td>\n",
       "      <td>P10</td>\n",
       "      <td>1691</td>\n",
       "      <td>1817261</td>\n",
       "      <td>1817586</td>\n",
       "      <td>7098.675781</td>\n",
       "      <td>7099.945312</td>\n",
       "      <td>3.367188</td>\n",
       "      <td>1.269531</td>\n",
       "      <td>2.097656</td>\n",
       "      <td>0.296984</td>\n",
       "      <td>82.172224</td>\n",
       "      <td>20.448784</td>\n",
       "      <td>120.132235</td>\n",
       "      <td>89.417430</td>\n",
       "      <td>30.714805</td>\n",
       "      <td>7102.042969</td>\n",
       "    </tr>\n",
       "  </tbody>\n",
       "</table>\n",
       "<p>1689 rows × 17 columns</p>\n",
       "</div>"
      ],
      "text/plain": [
       "      Unnamed: 0 patient  cycle_num  inspi_index  expi_index   inspi_time  \\\n",
       "0              0     P10          0            9         315     0.035156   \n",
       "1              1     P10          1          833        1149     3.253906   \n",
       "2              2     P10          2         1725        2081     6.738281   \n",
       "3              3     P10          3         2620        2982    10.234375   \n",
       "4              4     P10          4         3481        3791    13.597656   \n",
       "...          ...     ...        ...          ...         ...          ...   \n",
       "1684        1687     P10       1687      1813931     1814254  7085.667969   \n",
       "1685        1688     P10       1688      1814677     1814990  7088.582031   \n",
       "1686        1689     P10       1689      1815572     1815900  7092.078125   \n",
       "1687        1690     P10       1690      1816377     1816681  7095.222656   \n",
       "1688        1691     P10       1691      1817261     1817586  7098.675781   \n",
       "\n",
       "        expi_time  cycle_duration  insp_duration  exp_duration  cycle_freq  \\\n",
       "0        1.230469        3.218750       1.195312      2.023438    0.310680   \n",
       "1        4.488281        3.484375       1.234375      2.250000    0.286996   \n",
       "2        8.128906        3.496094       1.390625      2.105469    0.286034   \n",
       "3       11.648438        3.363281       1.414062      1.949219    0.297329   \n",
       "4       14.808594        3.449219       1.210938      2.238281    0.289921   \n",
       "...           ...             ...            ...           ...         ...   \n",
       "1684  7086.929688        2.914062       1.261719      1.652344    0.343164   \n",
       "1685  7089.804688        3.496094       1.222656      2.273438    0.286034   \n",
       "1686  7093.359375        3.144531       1.281250      1.863281    0.318012   \n",
       "1687  7096.410156        3.453125       1.187500      2.265625    0.289593   \n",
       "1688  7099.945312        3.367188       1.269531      2.097656    0.296984   \n",
       "\n",
       "      insp_volume  exp_volume  total_amplitude  insp_amplitude  exp_amplitude  \\\n",
       "0       70.149251   35.250572       101.332140       70.477427      30.854713   \n",
       "1       76.714018   41.101259       109.483597       78.546267      30.937330   \n",
       "2       80.284087   37.333431        99.036470       68.051436      30.985034   \n",
       "3       73.256394   33.306419        93.975076       63.056873      30.918203   \n",
       "4       75.739948   40.251144       109.223979       78.179055      31.044925   \n",
       "...           ...         ...              ...             ...            ...   \n",
       "1684    79.005229    7.133767       112.294064       81.305451      30.988612   \n",
       "1685    80.071477   18.720356       114.306694       83.273309      31.033386   \n",
       "1686    88.749161   10.335936       125.269604       94.430902      30.838703   \n",
       "1687    84.251904   17.570151       119.336883       88.696413      30.640469   \n",
       "1688    82.172224   20.448784       120.132235       89.417430      30.714805   \n",
       "\n",
       "         end_time  \n",
       "0        3.253906  \n",
       "1        6.738281  \n",
       "2       10.234375  \n",
       "3       13.597656  \n",
       "4       17.046875  \n",
       "...           ...  \n",
       "1684  7088.582031  \n",
       "1685  7092.078125  \n",
       "1686  7095.222656  \n",
       "1687  7098.675781  \n",
       "1688  7102.042969  \n",
       "\n",
       "[1689 rows x 17 columns]"
      ]
     },
     "execution_count": 8,
     "metadata": {},
     "output_type": "execute_result"
    }
   ],
   "source": [
    "df_cycles"
   ]
  },
  {
   "cell_type": "code",
   "execution_count": 9,
   "id": "cf0120fa-c491-4148-b7dd-c71b934403bc",
   "metadata": {
    "execution": {
     "iopub.execute_input": "2022-06-07T15:08:22.358100Z",
     "iopub.status.busy": "2022-06-07T15:08:22.357996Z",
     "iopub.status.idle": "2022-06-07T15:08:22.384425Z",
     "shell.execute_reply": "2022-06-07T15:08:22.384089Z",
     "shell.execute_reply.started": "2022-06-07T15:08:22.358086Z"
    },
    "tags": []
   },
   "outputs": [
    {
     "data": {
      "text/html": [
       "<div>\n",
       "<style scoped>\n",
       "    .dataframe tbody tr th:only-of-type {\n",
       "        vertical-align: middle;\n",
       "    }\n",
       "\n",
       "    .dataframe tbody tr th {\n",
       "        vertical-align: top;\n",
       "    }\n",
       "\n",
       "    .dataframe thead th {\n",
       "        text-align: right;\n",
       "    }\n",
       "</style>\n",
       "<table border=\"1\" class=\"dataframe\">\n",
       "  <thead>\n",
       "    <tr style=\"text-align: right;\">\n",
       "      <th></th>\n",
       "      <th>patient</th>\n",
       "      <th>stage</th>\n",
       "      <th>Start</th>\n",
       "      <th>Peak</th>\n",
       "      <th>End</th>\n",
       "      <th>Duration</th>\n",
       "      <th>Amplitude</th>\n",
       "      <th>RMS</th>\n",
       "      <th>AbsPower</th>\n",
       "      <th>RelPower</th>\n",
       "      <th>Frequency</th>\n",
       "      <th>Oscillations</th>\n",
       "      <th>Symmetry</th>\n",
       "      <th>Channel</th>\n",
       "      <th>IdxChannel</th>\n",
       "    </tr>\n",
       "  </thead>\n",
       "  <tbody>\n",
       "    <tr>\n",
       "      <th>180</th>\n",
       "      <td>P10</td>\n",
       "      <td>N2</td>\n",
       "      <td>4.253906</td>\n",
       "      <td>4.722656</td>\n",
       "      <td>5.363281</td>\n",
       "      <td>1.109375</td>\n",
       "      <td>48.304384</td>\n",
       "      <td>9.593304</td>\n",
       "      <td>1.896777</td>\n",
       "      <td>0.420378</td>\n",
       "      <td>12.280584</td>\n",
       "      <td>13</td>\n",
       "      <td>0.421053</td>\n",
       "      <td>Fp2-C4</td>\n",
       "      <td>0</td>\n",
       "    </tr>\n",
       "    <tr>\n",
       "      <th>181</th>\n",
       "      <td>P10</td>\n",
       "      <td>N2</td>\n",
       "      <td>23.078125</td>\n",
       "      <td>23.281250</td>\n",
       "      <td>23.609375</td>\n",
       "      <td>0.531250</td>\n",
       "      <td>28.306916</td>\n",
       "      <td>7.323837</td>\n",
       "      <td>1.813016</td>\n",
       "      <td>0.390438</td>\n",
       "      <td>12.538347</td>\n",
       "      <td>7</td>\n",
       "      <td>0.379562</td>\n",
       "      <td>Fp2-C4</td>\n",
       "      <td>0</td>\n",
       "    </tr>\n",
       "    <tr>\n",
       "      <th>182</th>\n",
       "      <td>P10</td>\n",
       "      <td>N2</td>\n",
       "      <td>33.667969</td>\n",
       "      <td>33.980469</td>\n",
       "      <td>34.273438</td>\n",
       "      <td>0.605469</td>\n",
       "      <td>36.242581</td>\n",
       "      <td>8.118359</td>\n",
       "      <td>1.796433</td>\n",
       "      <td>0.261610</td>\n",
       "      <td>11.926052</td>\n",
       "      <td>7</td>\n",
       "      <td>0.512821</td>\n",
       "      <td>Fp2-C4</td>\n",
       "      <td>0</td>\n",
       "    </tr>\n",
       "    <tr>\n",
       "      <th>183</th>\n",
       "      <td>P10</td>\n",
       "      <td>N2</td>\n",
       "      <td>51.339844</td>\n",
       "      <td>51.832031</td>\n",
       "      <td>52.167969</td>\n",
       "      <td>0.828125</td>\n",
       "      <td>28.222252</td>\n",
       "      <td>6.654932</td>\n",
       "      <td>1.767579</td>\n",
       "      <td>0.464829</td>\n",
       "      <td>12.585936</td>\n",
       "      <td>11</td>\n",
       "      <td>0.591549</td>\n",
       "      <td>Fp2-C4</td>\n",
       "      <td>0</td>\n",
       "    </tr>\n",
       "    <tr>\n",
       "      <th>184</th>\n",
       "      <td>P10</td>\n",
       "      <td>N2</td>\n",
       "      <td>117.804688</td>\n",
       "      <td>118.375000</td>\n",
       "      <td>118.816406</td>\n",
       "      <td>1.011719</td>\n",
       "      <td>53.490489</td>\n",
       "      <td>11.261966</td>\n",
       "      <td>1.922048</td>\n",
       "      <td>0.320993</td>\n",
       "      <td>12.951341</td>\n",
       "      <td>13</td>\n",
       "      <td>0.561538</td>\n",
       "      <td>Fp2-C4</td>\n",
       "      <td>0</td>\n",
       "    </tr>\n",
       "    <tr>\n",
       "      <th>...</th>\n",
       "      <td>...</td>\n",
       "      <td>...</td>\n",
       "      <td>...</td>\n",
       "      <td>...</td>\n",
       "      <td>...</td>\n",
       "      <td>...</td>\n",
       "      <td>...</td>\n",
       "      <td>...</td>\n",
       "      <td>...</td>\n",
       "      <td>...</td>\n",
       "      <td>...</td>\n",
       "      <td>...</td>\n",
       "      <td>...</td>\n",
       "      <td>...</td>\n",
       "      <td>...</td>\n",
       "    </tr>\n",
       "    <tr>\n",
       "      <th>2847</th>\n",
       "      <td>P10</td>\n",
       "      <td>N2</td>\n",
       "      <td>7449.910156</td>\n",
       "      <td>7450.089844</td>\n",
       "      <td>7450.464844</td>\n",
       "      <td>0.554688</td>\n",
       "      <td>31.118556</td>\n",
       "      <td>6.772215</td>\n",
       "      <td>1.478077</td>\n",
       "      <td>0.236618</td>\n",
       "      <td>13.017753</td>\n",
       "      <td>6</td>\n",
       "      <td>0.321678</td>\n",
       "      <td>T3-O1</td>\n",
       "      <td>7</td>\n",
       "    </tr>\n",
       "    <tr>\n",
       "      <th>2848</th>\n",
       "      <td>P10</td>\n",
       "      <td>N2</td>\n",
       "      <td>7509.289062</td>\n",
       "      <td>7509.449219</td>\n",
       "      <td>7509.812500</td>\n",
       "      <td>0.523438</td>\n",
       "      <td>25.437377</td>\n",
       "      <td>5.836279</td>\n",
       "      <td>1.679451</td>\n",
       "      <td>0.396657</td>\n",
       "      <td>13.624334</td>\n",
       "      <td>7</td>\n",
       "      <td>0.303704</td>\n",
       "      <td>T3-O1</td>\n",
       "      <td>7</td>\n",
       "    </tr>\n",
       "    <tr>\n",
       "      <th>2849</th>\n",
       "      <td>P10</td>\n",
       "      <td>N2</td>\n",
       "      <td>8001.078125</td>\n",
       "      <td>8001.460938</td>\n",
       "      <td>8001.707031</td>\n",
       "      <td>0.628906</td>\n",
       "      <td>31.801027</td>\n",
       "      <td>7.156477</td>\n",
       "      <td>1.765386</td>\n",
       "      <td>0.385709</td>\n",
       "      <td>13.726640</td>\n",
       "      <td>8</td>\n",
       "      <td>0.604938</td>\n",
       "      <td>T3-O1</td>\n",
       "      <td>7</td>\n",
       "    </tr>\n",
       "    <tr>\n",
       "      <th>2850</th>\n",
       "      <td>P10</td>\n",
       "      <td>N2</td>\n",
       "      <td>8584.031250</td>\n",
       "      <td>8584.339844</td>\n",
       "      <td>8584.675781</td>\n",
       "      <td>0.644531</td>\n",
       "      <td>34.620598</td>\n",
       "      <td>8.311678</td>\n",
       "      <td>1.893966</td>\n",
       "      <td>0.429671</td>\n",
       "      <td>13.607499</td>\n",
       "      <td>9</td>\n",
       "      <td>0.475904</td>\n",
       "      <td>T3-O1</td>\n",
       "      <td>7</td>\n",
       "    </tr>\n",
       "    <tr>\n",
       "      <th>2851</th>\n",
       "      <td>P10</td>\n",
       "      <td>N2</td>\n",
       "      <td>8902.546875</td>\n",
       "      <td>8902.996094</td>\n",
       "      <td>8903.078125</td>\n",
       "      <td>0.531250</td>\n",
       "      <td>24.391288</td>\n",
       "      <td>5.639737</td>\n",
       "      <td>1.570673</td>\n",
       "      <td>0.293893</td>\n",
       "      <td>12.839775</td>\n",
       "      <td>6</td>\n",
       "      <td>0.839416</td>\n",
       "      <td>T3-O1</td>\n",
       "      <td>7</td>\n",
       "    </tr>\n",
       "  </tbody>\n",
       "</table>\n",
       "<p>2672 rows × 15 columns</p>\n",
       "</div>"
      ],
      "text/plain": [
       "     patient stage        Start         Peak          End  Duration  \\\n",
       "180      P10    N2     4.253906     4.722656     5.363281  1.109375   \n",
       "181      P10    N2    23.078125    23.281250    23.609375  0.531250   \n",
       "182      P10    N2    33.667969    33.980469    34.273438  0.605469   \n",
       "183      P10    N2    51.339844    51.832031    52.167969  0.828125   \n",
       "184      P10    N2   117.804688   118.375000   118.816406  1.011719   \n",
       "...      ...   ...          ...          ...          ...       ...   \n",
       "2847     P10    N2  7449.910156  7450.089844  7450.464844  0.554688   \n",
       "2848     P10    N2  7509.289062  7509.449219  7509.812500  0.523438   \n",
       "2849     P10    N2  8001.078125  8001.460938  8001.707031  0.628906   \n",
       "2850     P10    N2  8584.031250  8584.339844  8584.675781  0.644531   \n",
       "2851     P10    N2  8902.546875  8902.996094  8903.078125  0.531250   \n",
       "\n",
       "      Amplitude        RMS  AbsPower  RelPower  Frequency  Oscillations  \\\n",
       "180   48.304384   9.593304  1.896777  0.420378  12.280584            13   \n",
       "181   28.306916   7.323837  1.813016  0.390438  12.538347             7   \n",
       "182   36.242581   8.118359  1.796433  0.261610  11.926052             7   \n",
       "183   28.222252   6.654932  1.767579  0.464829  12.585936            11   \n",
       "184   53.490489  11.261966  1.922048  0.320993  12.951341            13   \n",
       "...         ...        ...       ...       ...        ...           ...   \n",
       "2847  31.118556   6.772215  1.478077  0.236618  13.017753             6   \n",
       "2848  25.437377   5.836279  1.679451  0.396657  13.624334             7   \n",
       "2849  31.801027   7.156477  1.765386  0.385709  13.726640             8   \n",
       "2850  34.620598   8.311678  1.893966  0.429671  13.607499             9   \n",
       "2851  24.391288   5.639737  1.570673  0.293893  12.839775             6   \n",
       "\n",
       "      Symmetry Channel  IdxChannel  \n",
       "180   0.421053  Fp2-C4           0  \n",
       "181   0.379562  Fp2-C4           0  \n",
       "182   0.512821  Fp2-C4           0  \n",
       "183   0.591549  Fp2-C4           0  \n",
       "184   0.561538  Fp2-C4           0  \n",
       "...        ...     ...         ...  \n",
       "2847  0.321678   T3-O1           7  \n",
       "2848  0.303704   T3-O1           7  \n",
       "2849  0.604938   T3-O1           7  \n",
       "2850  0.475904   T3-O1           7  \n",
       "2851  0.839416   T3-O1           7  \n",
       "\n",
       "[2672 rows x 15 columns]"
      ]
     },
     "execution_count": 9,
     "metadata": {},
     "output_type": "execute_result"
    }
   ],
   "source": [
    "spindles"
   ]
  },
  {
   "cell_type": "markdown",
   "id": "b0937f81-38fb-4da6-bd9e-68f5e26dd1e5",
   "metadata": {
    "tags": []
   },
   "source": [
    "## COMPUTE WHICH CYCLE CONTAINS SPINDLES"
   ]
  },
  {
   "cell_type": "code",
   "execution_count": 10,
   "id": "7105f63a-452c-45ae-b9fe-4b2ee5d92bb1",
   "metadata": {
    "execution": {
     "iopub.execute_input": "2022-06-07T15:08:22.386018Z",
     "iopub.status.busy": "2022-06-07T15:08:22.385846Z",
     "iopub.status.idle": "2022-06-07T15:08:22.405066Z",
     "shell.execute_reply": "2022-06-07T15:08:22.404493Z",
     "shell.execute_reply.started": "2022-06-07T15:08:22.386004Z"
    },
    "tags": []
   },
   "outputs": [],
   "source": [
    "def which_cycle_find_spindle(spindles = spindles, df_cycles = df_cycles, patient=patient):\n",
    "    spindles_times = spindles['Peak'].values\n",
    "\n",
    "    count = []\n",
    "\n",
    "    for cycle in range(df_cycles.shape[0]):\n",
    "\n",
    "        start = df_cycles.loc[cycle,'inspi_time']\n",
    "        stop = df_cycles.loc[cycle,'end_time']\n",
    "        \n",
    "        for spindle_time in spindles_times:\n",
    "            if spindle_time >= start and spindle_time < stop:\n",
    "                count.append(cycle)\n",
    "    cycles_with_spindle = pd.Series(count).unique()\n",
    "\n",
    "    return cycles_with_spindle"
   ]
  },
  {
   "cell_type": "code",
   "execution_count": 11,
   "id": "19757d25-1da7-4573-a408-2fa6fed44a12",
   "metadata": {
    "execution": {
     "iopub.execute_input": "2022-06-07T15:08:22.405826Z",
     "iopub.status.busy": "2022-06-07T15:08:22.405682Z",
     "iopub.status.idle": "2022-06-07T15:08:22.715823Z",
     "shell.execute_reply": "2022-06-07T15:08:22.715376Z",
     "shell.execute_reply.started": "2022-06-07T15:08:22.405811Z"
    },
    "tags": []
   },
   "outputs": [],
   "source": [
    "cycles_spindled = which_cycle_find_spindle(spindles = spindles, df_cycles = df_cycles)"
   ]
  },
  {
   "cell_type": "code",
   "execution_count": 12,
   "id": "aa472d41-3f24-464d-b40a-7ee71eaf9964",
   "metadata": {
    "execution": {
     "iopub.execute_input": "2022-06-07T15:08:22.716611Z",
     "iopub.status.busy": "2022-06-07T15:08:22.716460Z",
     "iopub.status.idle": "2022-06-07T15:08:22.733735Z",
     "shell.execute_reply": "2022-06-07T15:08:22.733362Z",
     "shell.execute_reply.started": "2022-06-07T15:08:22.716585Z"
    },
    "tags": []
   },
   "outputs": [],
   "source": [
    "if save_cycles_with_spindle:\n",
    "    print(f'saving {patient}')\n",
    "    np.save(f'../df_analyse/cycles_spindled_{patient}', cycles_spindled)"
   ]
  },
  {
   "cell_type": "code",
   "execution_count": 13,
   "id": "1f1bb004-bd9d-4419-b820-153190e7beb7",
   "metadata": {
    "execution": {
     "iopub.execute_input": "2022-06-07T15:08:22.734422Z",
     "iopub.status.busy": "2022-06-07T15:08:22.734287Z",
     "iopub.status.idle": "2022-06-07T15:08:22.753141Z",
     "shell.execute_reply": "2022-06-07T15:08:22.752708Z",
     "shell.execute_reply.started": "2022-06-07T15:08:22.734408Z"
    },
    "tags": []
   },
   "outputs": [
    {
     "data": {
      "text/plain": [
       "755"
      ]
     },
     "execution_count": 13,
     "metadata": {},
     "output_type": "execute_result"
    }
   ],
   "source": [
    "cycles_spindled.size"
   ]
  },
  {
   "cell_type": "markdown",
   "id": "395f597b-9c24-4c86-a8cc-924234a0afa0",
   "metadata": {
    "tags": []
   },
   "source": [
    "## COMPUTE WHICH RESP PHASE CONTAINS SPINDLES"
   ]
  },
  {
   "cell_type": "code",
   "execution_count": 14,
   "id": "0d269a92-a4a4-4fc5-88ed-28217a37d92a",
   "metadata": {
    "execution": {
     "iopub.execute_input": "2022-06-07T15:08:22.753943Z",
     "iopub.status.busy": "2022-06-07T15:08:22.753725Z",
     "iopub.status.idle": "2022-06-07T15:08:22.774504Z",
     "shell.execute_reply": "2022-06-07T15:08:22.774049Z",
     "shell.execute_reply.started": "2022-06-07T15:08:22.753928Z"
    }
   },
   "outputs": [],
   "source": [
    "def count_spindles_phase_resp(nbins, patient, spindles = spindles, df_cycles = df_cycles, cycle_spindled = cycles_spindled, show=False):\n",
    "    spindles_times = spindles['Peak']\n",
    "    \n",
    "    count = []\n",
    "\n",
    "    for cycle in cycle_spindled:\n",
    "        \n",
    "        start = df_cycles.loc[cycle,'inspi_time']\n",
    "        stop = df_cycles.loc[cycle,'end_time']\n",
    "\n",
    "        phases_timings = np.linspace(start, stop, nbins + 1)\n",
    "        \n",
    "        spindles_of_the_cycle = spindles_times[(spindles_times >= start) & (spindles_times <= stop)].values\n",
    "        \n",
    "        for spindle_time in spindles_of_the_cycle:\n",
    "            for i, phase_start in enumerate(phases_timings):\n",
    "                if phase_start != phases_timings[-1]:\n",
    "                    phase_stop = phases_timings[i + 1]\n",
    "                    if spindle_time >= phase_start and spindle_time < phase_stop:\n",
    "                        count.append(i)\n",
    "                        \n",
    "    phase_count = pd.Series(count).value_counts(normalize = False).reindex(np.arange(0,nbins))\n",
    "    phase_count = phase_count.to_frame().T\n",
    "    phase_count.insert(0 , 'norm' , 'no')\n",
    "    phase_count_norm = pd.Series(count).value_counts(normalize = True).reindex(np.arange(0,nbins))\n",
    "    phase_count_norm = phase_count_norm.to_frame().T\n",
    "    phase_count_norm.insert(0 , 'norm' , 'yes')\n",
    "    \n",
    "    df_concat = pd.concat([phase_count, phase_count_norm], axis = 0)\n",
    "    \n",
    "    df_concat.insert(0 , 'patient', patient)\n",
    "\n",
    "    return df_concat"
   ]
  },
  {
   "cell_type": "code",
   "execution_count": 15,
   "id": "aa55602f-1e07-4854-8c78-299c55c0981f",
   "metadata": {
    "execution": {
     "iopub.execute_input": "2022-06-07T15:08:22.775232Z",
     "iopub.status.busy": "2022-06-07T15:08:22.775095Z",
     "iopub.status.idle": "2022-06-07T15:08:23.021115Z",
     "shell.execute_reply": "2022-06-07T15:08:23.020739Z",
     "shell.execute_reply.started": "2022-06-07T15:08:22.775218Z"
    }
   },
   "outputs": [
    {
     "data": {
      "text/html": [
       "<div>\n",
       "<style scoped>\n",
       "    .dataframe tbody tr th:only-of-type {\n",
       "        vertical-align: middle;\n",
       "    }\n",
       "\n",
       "    .dataframe tbody tr th {\n",
       "        vertical-align: top;\n",
       "    }\n",
       "\n",
       "    .dataframe thead th {\n",
       "        text-align: right;\n",
       "    }\n",
       "</style>\n",
       "<table border=\"1\" class=\"dataframe\">\n",
       "  <thead>\n",
       "    <tr style=\"text-align: right;\">\n",
       "      <th></th>\n",
       "      <th>patient</th>\n",
       "      <th>norm</th>\n",
       "      <th>0</th>\n",
       "      <th>1</th>\n",
       "    </tr>\n",
       "  </thead>\n",
       "  <tbody>\n",
       "    <tr>\n",
       "      <th>0</th>\n",
       "      <td>P10</td>\n",
       "      <td>no</td>\n",
       "      <td>859.000000</td>\n",
       "      <td>1020.000000</td>\n",
       "    </tr>\n",
       "    <tr>\n",
       "      <th>0</th>\n",
       "      <td>P10</td>\n",
       "      <td>yes</td>\n",
       "      <td>0.457158</td>\n",
       "      <td>0.542842</td>\n",
       "    </tr>\n",
       "  </tbody>\n",
       "</table>\n",
       "</div>"
      ],
      "text/plain": [
       "  patient norm           0            1\n",
       "0     P10   no  859.000000  1020.000000\n",
       "0     P10  yes    0.457158     0.542842"
      ]
     },
     "execution_count": 15,
     "metadata": {},
     "output_type": "execute_result"
    }
   ],
   "source": [
    "count_spindles_phase_resp(nbins, patient)"
   ]
  },
  {
   "cell_type": "markdown",
   "id": "78d9ef1f-fc3e-40a4-befb-9ca961bbf807",
   "metadata": {
    "tags": []
   },
   "source": [
    "## LOOP ON PATIENTS AND STAGES"
   ]
  },
  {
   "cell_type": "code",
   "execution_count": 16,
   "id": "44c2a6b7-881a-49ec-b40f-ddcb67539ebb",
   "metadata": {
    "execution": {
     "iopub.execute_input": "2022-06-07T15:08:23.021981Z",
     "iopub.status.busy": "2022-06-07T15:08:23.021829Z",
     "iopub.status.idle": "2022-06-07T15:08:23.040436Z",
     "shell.execute_reply": "2022-06-07T15:08:23.039988Z",
     "shell.execute_reply.started": "2022-06-07T15:08:23.021961Z"
    }
   },
   "outputs": [],
   "source": [
    "def all_in_one(patient, nbins=nbins, stage='N2'):\n",
    "    df_cycles , spindles = load_df(patient, stage_to_study=stage)\n",
    "    cycles_spindled = which_cycle_find_spindle(spindles = spindles, df_cycles = df_cycles, patient=patient)\n",
    "    count = count_spindles_phase_resp(nbins=nbins, patient=patient, spindles = spindles, df_cycles = df_cycles, cycle_spindled = cycles_spindled, show=False)\n",
    "    count.insert(1 , 'stage' , stage)\n",
    "    return count"
   ]
  },
  {
   "cell_type": "code",
   "execution_count": 17,
   "id": "093f801a-3aa9-4f5e-8e67-5b9806937e94",
   "metadata": {
    "execution": {
     "iopub.execute_input": "2022-06-07T15:08:23.041178Z",
     "iopub.status.busy": "2022-06-07T15:08:23.041016Z",
     "iopub.status.idle": "2022-06-07T15:08:24.374035Z",
     "shell.execute_reply": "2022-06-07T15:08:24.373568Z",
     "shell.execute_reply.started": "2022-06-07T15:08:23.041144Z"
    }
   },
   "outputs": [
    {
     "data": {
      "text/html": [
       "<div>\n",
       "<style scoped>\n",
       "    .dataframe tbody tr th:only-of-type {\n",
       "        vertical-align: middle;\n",
       "    }\n",
       "\n",
       "    .dataframe tbody tr th {\n",
       "        vertical-align: top;\n",
       "    }\n",
       "\n",
       "    .dataframe thead th {\n",
       "        text-align: right;\n",
       "    }\n",
       "</style>\n",
       "<table border=\"1\" class=\"dataframe\">\n",
       "  <thead>\n",
       "    <tr style=\"text-align: right;\">\n",
       "      <th></th>\n",
       "      <th>patient</th>\n",
       "      <th>stage</th>\n",
       "      <th>norm</th>\n",
       "      <th>0</th>\n",
       "      <th>1</th>\n",
       "    </tr>\n",
       "  </thead>\n",
       "  <tbody>\n",
       "    <tr>\n",
       "      <th>0</th>\n",
       "      <td>P1</td>\n",
       "      <td>N2</td>\n",
       "      <td>no</td>\n",
       "      <td>1028.000000</td>\n",
       "      <td>1171.000000</td>\n",
       "    </tr>\n",
       "    <tr>\n",
       "      <th>0</th>\n",
       "      <td>P1</td>\n",
       "      <td>N2</td>\n",
       "      <td>yes</td>\n",
       "      <td>0.467485</td>\n",
       "      <td>0.532515</td>\n",
       "    </tr>\n",
       "  </tbody>\n",
       "</table>\n",
       "</div>"
      ],
      "text/plain": [
       "  patient stage norm            0            1\n",
       "0      P1    N2   no  1028.000000  1171.000000\n",
       "0      P1    N2  yes     0.467485     0.532515"
      ]
     },
     "execution_count": 17,
     "metadata": {},
     "output_type": "execute_result"
    }
   ],
   "source": [
    "all_in_one(patient='P1',nbins = 2, stage = 'N2')"
   ]
  },
  {
   "cell_type": "code",
   "execution_count": 18,
   "id": "d8792455-fecd-4a1e-9da2-372fb8345721",
   "metadata": {
    "execution": {
     "iopub.execute_input": "2022-06-07T15:08:24.374608Z",
     "iopub.status.busy": "2022-06-07T15:08:24.374506Z",
     "iopub.status.idle": "2022-06-07T15:08:57.914756Z",
     "shell.execute_reply": "2022-06-07T15:08:57.914379Z",
     "shell.execute_reply.started": "2022-06-07T15:08:24.374595Z"
    }
   },
   "outputs": [
    {
     "name": "stdout",
     "output_type": "stream",
     "text": [
      "P1\n",
      "P2\n",
      "P3\n",
      "P4\n",
      "P5\n",
      "P6\n",
      "P7\n",
      "P8\n",
      "P9\n"
     ]
    },
    {
     "name": "stderr",
     "output_type": "stream",
     "text": [
      "/tmp/ipykernel_48684/607658360.py:14: FutureWarning: The default dtype for empty Series will be 'object' instead of 'float64' in a future version. Specify a dtype explicitly to silence this warning.\n",
      "  cycles_with_spindle = pd.Series(count).unique()\n",
      "/tmp/ipykernel_48684/1370126485.py:22: FutureWarning: The default dtype for empty Series will be 'object' instead of 'float64' in a future version. Specify a dtype explicitly to silence this warning.\n",
      "  phase_count = pd.Series(count).value_counts(normalize = False).reindex(np.arange(0,nbins))\n",
      "/tmp/ipykernel_48684/1370126485.py:25: FutureWarning: The default dtype for empty Series will be 'object' instead of 'float64' in a future version. Specify a dtype explicitly to silence this warning.\n",
      "  phase_count_norm = pd.Series(count).value_counts(normalize = True).reindex(np.arange(0,nbins))\n"
     ]
    },
    {
     "name": "stdout",
     "output_type": "stream",
     "text": [
      "P10\n"
     ]
    },
    {
     "name": "stderr",
     "output_type": "stream",
     "text": [
      "/tmp/ipykernel_48684/607658360.py:14: FutureWarning: The default dtype for empty Series will be 'object' instead of 'float64' in a future version. Specify a dtype explicitly to silence this warning.\n",
      "  cycles_with_spindle = pd.Series(count).unique()\n",
      "/tmp/ipykernel_48684/1370126485.py:22: FutureWarning: The default dtype for empty Series will be 'object' instead of 'float64' in a future version. Specify a dtype explicitly to silence this warning.\n",
      "  phase_count = pd.Series(count).value_counts(normalize = False).reindex(np.arange(0,nbins))\n",
      "/tmp/ipykernel_48684/1370126485.py:25: FutureWarning: The default dtype for empty Series will be 'object' instead of 'float64' in a future version. Specify a dtype explicitly to silence this warning.\n",
      "  phase_count_norm = pd.Series(count).value_counts(normalize = True).reindex(np.arange(0,nbins))\n"
     ]
    }
   ],
   "source": [
    "concat = []\n",
    "for p in  ['P1','P2','P3','P4','P5','P6','P7','P8','P9','P10']:\n",
    "    print(p)\n",
    "    for stage in compute_stages:\n",
    "        concat.append(all_in_one(patient=p, stage=stage))\n",
    "df = pd.concat(concat)"
   ]
  },
  {
   "cell_type": "code",
   "execution_count": 19,
   "id": "a96ba4e6-bef0-4ec8-a078-76d7874992ef",
   "metadata": {
    "execution": {
     "iopub.execute_input": "2022-06-07T15:08:57.915346Z",
     "iopub.status.busy": "2022-06-07T15:08:57.915242Z",
     "iopub.status.idle": "2022-06-07T15:08:57.940954Z",
     "shell.execute_reply": "2022-06-07T15:08:57.940472Z",
     "shell.execute_reply.started": "2022-06-07T15:08:57.915333Z"
    }
   },
   "outputs": [
    {
     "data": {
      "text/html": [
       "<div>\n",
       "<style scoped>\n",
       "    .dataframe tbody tr th:only-of-type {\n",
       "        vertical-align: middle;\n",
       "    }\n",
       "\n",
       "    .dataframe tbody tr th {\n",
       "        vertical-align: top;\n",
       "    }\n",
       "\n",
       "    .dataframe thead th {\n",
       "        text-align: right;\n",
       "    }\n",
       "</style>\n",
       "<table border=\"1\" class=\"dataframe\">\n",
       "  <thead>\n",
       "    <tr style=\"text-align: right;\">\n",
       "      <th></th>\n",
       "      <th>patient</th>\n",
       "      <th>stage</th>\n",
       "      <th>norm</th>\n",
       "      <th>0</th>\n",
       "      <th>1</th>\n",
       "    </tr>\n",
       "  </thead>\n",
       "  <tbody>\n",
       "    <tr>\n",
       "      <th>0</th>\n",
       "      <td>P1</td>\n",
       "      <td>W</td>\n",
       "      <td>no</td>\n",
       "      <td>25.000000</td>\n",
       "      <td>36.000000</td>\n",
       "    </tr>\n",
       "    <tr>\n",
       "      <th>0</th>\n",
       "      <td>P1</td>\n",
       "      <td>W</td>\n",
       "      <td>yes</td>\n",
       "      <td>0.409836</td>\n",
       "      <td>0.590164</td>\n",
       "    </tr>\n",
       "    <tr>\n",
       "      <th>0</th>\n",
       "      <td>P1</td>\n",
       "      <td>R</td>\n",
       "      <td>no</td>\n",
       "      <td>NaN</td>\n",
       "      <td>3.000000</td>\n",
       "    </tr>\n",
       "    <tr>\n",
       "      <th>0</th>\n",
       "      <td>P1</td>\n",
       "      <td>R</td>\n",
       "      <td>yes</td>\n",
       "      <td>NaN</td>\n",
       "      <td>1.000000</td>\n",
       "    </tr>\n",
       "    <tr>\n",
       "      <th>0</th>\n",
       "      <td>P1</td>\n",
       "      <td>N2</td>\n",
       "      <td>no</td>\n",
       "      <td>1028.000000</td>\n",
       "      <td>1171.000000</td>\n",
       "    </tr>\n",
       "    <tr>\n",
       "      <th>...</th>\n",
       "      <td>...</td>\n",
       "      <td>...</td>\n",
       "      <td>...</td>\n",
       "      <td>...</td>\n",
       "      <td>...</td>\n",
       "    </tr>\n",
       "    <tr>\n",
       "      <th>0</th>\n",
       "      <td>P10</td>\n",
       "      <td>R</td>\n",
       "      <td>yes</td>\n",
       "      <td>0.375000</td>\n",
       "      <td>0.625000</td>\n",
       "    </tr>\n",
       "    <tr>\n",
       "      <th>0</th>\n",
       "      <td>P10</td>\n",
       "      <td>N2</td>\n",
       "      <td>no</td>\n",
       "      <td>859.000000</td>\n",
       "      <td>1020.000000</td>\n",
       "    </tr>\n",
       "    <tr>\n",
       "      <th>0</th>\n",
       "      <td>P10</td>\n",
       "      <td>N2</td>\n",
       "      <td>yes</td>\n",
       "      <td>0.457158</td>\n",
       "      <td>0.542842</td>\n",
       "    </tr>\n",
       "    <tr>\n",
       "      <th>0</th>\n",
       "      <td>P10</td>\n",
       "      <td>N3</td>\n",
       "      <td>no</td>\n",
       "      <td>NaN</td>\n",
       "      <td>NaN</td>\n",
       "    </tr>\n",
       "    <tr>\n",
       "      <th>0</th>\n",
       "      <td>P10</td>\n",
       "      <td>N3</td>\n",
       "      <td>yes</td>\n",
       "      <td>NaN</td>\n",
       "      <td>NaN</td>\n",
       "    </tr>\n",
       "  </tbody>\n",
       "</table>\n",
       "<p>80 rows × 5 columns</p>\n",
       "</div>"
      ],
      "text/plain": [
       "   patient stage norm            0            1\n",
       "0       P1     W   no    25.000000    36.000000\n",
       "0       P1     W  yes     0.409836     0.590164\n",
       "0       P1     R   no          NaN     3.000000\n",
       "0       P1     R  yes          NaN     1.000000\n",
       "0       P1    N2   no  1028.000000  1171.000000\n",
       "..     ...   ...  ...          ...          ...\n",
       "0      P10     R  yes     0.375000     0.625000\n",
       "0      P10    N2   no   859.000000  1020.000000\n",
       "0      P10    N2  yes     0.457158     0.542842\n",
       "0      P10    N3   no          NaN          NaN\n",
       "0      P10    N3  yes          NaN          NaN\n",
       "\n",
       "[80 rows x 5 columns]"
      ]
     },
     "execution_count": 19,
     "metadata": {},
     "output_type": "execute_result"
    }
   ],
   "source": [
    "df"
   ]
  },
  {
   "cell_type": "code",
   "execution_count": 20,
   "id": "c34b4df8-3351-4e1a-84fe-529aa81807e3",
   "metadata": {
    "execution": {
     "iopub.execute_input": "2022-06-07T15:08:57.941590Z",
     "iopub.status.busy": "2022-06-07T15:08:57.941486Z",
     "iopub.status.idle": "2022-06-07T15:09:27.778644Z",
     "shell.execute_reply": "2022-06-07T15:09:27.778233Z",
     "shell.execute_reply.started": "2022-06-07T15:08:57.941577Z"
    },
    "tags": []
   },
   "outputs": [
    {
     "name": "stdout",
     "output_type": "stream",
     "text": [
      "P1\n",
      "P2\n",
      "P3\n",
      "P4\n",
      "P5\n",
      "P6\n",
      "P7\n",
      "P8\n",
      "P9\n"
     ]
    },
    {
     "name": "stderr",
     "output_type": "stream",
     "text": [
      "/tmp/ipykernel_48684/607658360.py:14: FutureWarning: The default dtype for empty Series will be 'object' instead of 'float64' in a future version. Specify a dtype explicitly to silence this warning.\n",
      "  cycles_with_spindle = pd.Series(count).unique()\n",
      "/tmp/ipykernel_48684/1370126485.py:22: FutureWarning: The default dtype for empty Series will be 'object' instead of 'float64' in a future version. Specify a dtype explicitly to silence this warning.\n",
      "  phase_count = pd.Series(count).value_counts(normalize = False).reindex(np.arange(0,nbins))\n",
      "/tmp/ipykernel_48684/1370126485.py:25: FutureWarning: The default dtype for empty Series will be 'object' instead of 'float64' in a future version. Specify a dtype explicitly to silence this warning.\n",
      "  phase_count_norm = pd.Series(count).value_counts(normalize = True).reindex(np.arange(0,nbins))\n"
     ]
    },
    {
     "name": "stdout",
     "output_type": "stream",
     "text": [
      "P10\n"
     ]
    },
    {
     "name": "stderr",
     "output_type": "stream",
     "text": [
      "/tmp/ipykernel_48684/607658360.py:14: FutureWarning: The default dtype for empty Series will be 'object' instead of 'float64' in a future version. Specify a dtype explicitly to silence this warning.\n",
      "  cycles_with_spindle = pd.Series(count).unique()\n",
      "/tmp/ipykernel_48684/1370126485.py:22: FutureWarning: The default dtype for empty Series will be 'object' instead of 'float64' in a future version. Specify a dtype explicitly to silence this warning.\n",
      "  phase_count = pd.Series(count).value_counts(normalize = False).reindex(np.arange(0,nbins))\n",
      "/tmp/ipykernel_48684/1370126485.py:25: FutureWarning: The default dtype for empty Series will be 'object' instead of 'float64' in a future version. Specify a dtype explicitly to silence this warning.\n",
      "  phase_count_norm = pd.Series(count).value_counts(normalize = True).reindex(np.arange(0,nbins))\n"
     ]
    }
   ],
   "source": [
    "concat = []\n",
    "for p in  ['P1','P2','P3','P4','P5','P6','P7','P8','P9','P10']:\n",
    "    print(p)\n",
    "    for stage in compute_stages:\n",
    "        concat.append(all_in_one(patient=p,nbins = 3, stage=stage))\n",
    "df_3 = pd.concat(concat)"
   ]
  },
  {
   "cell_type": "code",
   "execution_count": 21,
   "id": "896bd4f4-14d6-4639-9788-1ebab2a3c11c",
   "metadata": {
    "execution": {
     "iopub.execute_input": "2022-06-07T15:09:27.779371Z",
     "iopub.status.busy": "2022-06-07T15:09:27.779171Z",
     "iopub.status.idle": "2022-06-07T15:09:27.801078Z",
     "shell.execute_reply": "2022-06-07T15:09:27.800616Z",
     "shell.execute_reply.started": "2022-06-07T15:09:27.779357Z"
    },
    "tags": []
   },
   "outputs": [],
   "source": [
    "to_plot_3 = df_3[(df_3['norm'] == 'yes') & (df_3['stage'] == 'N2') ]"
   ]
  },
  {
   "cell_type": "code",
   "execution_count": 22,
   "id": "bd44cbea-ab4c-4c14-8721-f01820f68aea",
   "metadata": {
    "execution": {
     "iopub.execute_input": "2022-06-07T15:09:27.801678Z",
     "iopub.status.busy": "2022-06-07T15:09:27.801572Z",
     "iopub.status.idle": "2022-06-07T15:09:27.971085Z",
     "shell.execute_reply": "2022-06-07T15:09:27.970682Z",
     "shell.execute_reply.started": "2022-06-07T15:09:27.801665Z"
    },
    "tags": []
   },
   "outputs": [
    {
     "data": {
      "text/plain": [
       "<AxesSubplot:xlabel='patient,norm,stage'>"
      ]
     },
     "execution_count": 22,
     "metadata": {},
     "output_type": "execute_result"
    },
    {
     "data": {
      "image/png": "[encoded data removed]",
      "text/plain": [
       "<Figure size 432x288 with 1 Axes>"
      ]
     },
     "metadata": {
      "needs_background": "light"
     },
     "output_type": "display_data"
    }
   ],
   "source": [
    "to_plot_3.set_index(['patient','norm','stage']).plot.bar()"
   ]
  },
  {
   "cell_type": "code",
   "execution_count": 23,
   "id": "f702fdf5-b693-418c-967f-0e2e134b932b",
   "metadata": {
    "execution": {
     "iopub.execute_input": "2022-06-07T15:09:27.972062Z",
     "iopub.status.busy": "2022-06-07T15:09:27.971755Z",
     "iopub.status.idle": "2022-06-07T15:09:28.023258Z",
     "shell.execute_reply": "2022-06-07T15:09:28.022692Z",
     "shell.execute_reply.started": "2022-06-07T15:09:27.972041Z"
    }
   },
   "outputs": [
    {
     "data": {
      "text/html": [
       "<div>\n",
       "<style scoped>\n",
       "    .dataframe tbody tr th:only-of-type {\n",
       "        vertical-align: middle;\n",
       "    }\n",
       "\n",
       "    .dataframe tbody tr th {\n",
       "        vertical-align: top;\n",
       "    }\n",
       "\n",
       "    .dataframe thead th {\n",
       "        text-align: right;\n",
       "    }\n",
       "</style>\n",
       "<table border=\"1\" class=\"dataframe\">\n",
       "  <thead>\n",
       "    <tr style=\"text-align: right;\">\n",
       "      <th></th>\n",
       "      <th>patient</th>\n",
       "      <th>stage</th>\n",
       "      <th>norm</th>\n",
       "      <th>phase</th>\n",
       "      <th>count</th>\n",
       "    </tr>\n",
       "  </thead>\n",
       "  <tbody>\n",
       "    <tr>\n",
       "      <th>0</th>\n",
       "      <td>P1</td>\n",
       "      <td>W</td>\n",
       "      <td>no</td>\n",
       "      <td>0</td>\n",
       "      <td>25.000000</td>\n",
       "    </tr>\n",
       "    <tr>\n",
       "      <th>1</th>\n",
       "      <td>P1</td>\n",
       "      <td>W</td>\n",
       "      <td>no</td>\n",
       "      <td>1</td>\n",
       "      <td>36.000000</td>\n",
       "    </tr>\n",
       "    <tr>\n",
       "      <th>2</th>\n",
       "      <td>P1</td>\n",
       "      <td>W</td>\n",
       "      <td>yes</td>\n",
       "      <td>0</td>\n",
       "      <td>0.409836</td>\n",
       "    </tr>\n",
       "    <tr>\n",
       "      <th>3</th>\n",
       "      <td>P1</td>\n",
       "      <td>W</td>\n",
       "      <td>yes</td>\n",
       "      <td>1</td>\n",
       "      <td>0.590164</td>\n",
       "    </tr>\n",
       "    <tr>\n",
       "      <th>4</th>\n",
       "      <td>P1</td>\n",
       "      <td>R</td>\n",
       "      <td>no</td>\n",
       "      <td>0</td>\n",
       "      <td>NaN</td>\n",
       "    </tr>\n",
       "    <tr>\n",
       "      <th>...</th>\n",
       "      <td>...</td>\n",
       "      <td>...</td>\n",
       "      <td>...</td>\n",
       "      <td>...</td>\n",
       "      <td>...</td>\n",
       "    </tr>\n",
       "    <tr>\n",
       "      <th>155</th>\n",
       "      <td>P10</td>\n",
       "      <td>N2</td>\n",
       "      <td>yes</td>\n",
       "      <td>1</td>\n",
       "      <td>0.542842</td>\n",
       "    </tr>\n",
       "    <tr>\n",
       "      <th>156</th>\n",
       "      <td>P10</td>\n",
       "      <td>N3</td>\n",
       "      <td>no</td>\n",
       "      <td>0</td>\n",
       "      <td>NaN</td>\n",
       "    </tr>\n",
       "    <tr>\n",
       "      <th>157</th>\n",
       "      <td>P10</td>\n",
       "      <td>N3</td>\n",
       "      <td>no</td>\n",
       "      <td>1</td>\n",
       "      <td>NaN</td>\n",
       "    </tr>\n",
       "    <tr>\n",
       "      <th>158</th>\n",
       "      <td>P10</td>\n",
       "      <td>N3</td>\n",
       "      <td>yes</td>\n",
       "      <td>0</td>\n",
       "      <td>NaN</td>\n",
       "    </tr>\n",
       "    <tr>\n",
       "      <th>159</th>\n",
       "      <td>P10</td>\n",
       "      <td>N3</td>\n",
       "      <td>yes</td>\n",
       "      <td>1</td>\n",
       "      <td>NaN</td>\n",
       "    </tr>\n",
       "  </tbody>\n",
       "</table>\n",
       "<p>160 rows × 5 columns</p>\n",
       "</div>"
      ],
      "text/plain": [
       "    patient stage norm  phase      count\n",
       "0        P1     W   no      0  25.000000\n",
       "1        P1     W   no      1  36.000000\n",
       "2        P1     W  yes      0   0.409836\n",
       "3        P1     W  yes      1   0.590164\n",
       "4        P1     R   no      0        NaN\n",
       "..      ...   ...  ...    ...        ...\n",
       "155     P10    N2  yes      1   0.542842\n",
       "156     P10    N3   no      0        NaN\n",
       "157     P10    N3   no      1        NaN\n",
       "158     P10    N3  yes      0        NaN\n",
       "159     P10    N3  yes      1        NaN\n",
       "\n",
       "[160 rows x 5 columns]"
      ]
     },
     "execution_count": 23,
     "metadata": {},
     "output_type": "execute_result"
    }
   ],
   "source": [
    "def to_tidy(df, nbins=2, indexes = ['patient','stage','norm']):\n",
    "    df = df.set_index(indexes)\n",
    "    rows = []\n",
    "    for patient in patients:\n",
    "        for stage in compute_stages:\n",
    "            for norm in ['no','yes']:\n",
    "                for bin_i in range(nbins):\n",
    "\n",
    "                    count_bin_i = df.loc[(patient, stage, norm), bin_i]\n",
    "                    row = [patient, stage, norm, bin_i, count_bin_i]\n",
    "                    rows.append(row)\n",
    "                \n",
    "    df_tidy = pd.DataFrame(rows, columns = ['patient' , 'stage', 'norm', 'phase' , 'count'])\n",
    "    return df_tidy\n",
    "\n",
    "df_tidy = to_tidy(df)\n",
    "df_tidy"
   ]
  },
  {
   "cell_type": "code",
   "execution_count": 24,
   "id": "0d2ecf42-0c88-4673-bfcb-3cebae2579d2",
   "metadata": {
    "execution": {
     "iopub.execute_input": "2022-06-07T15:09:28.024309Z",
     "iopub.status.busy": "2022-06-07T15:09:28.024091Z",
     "iopub.status.idle": "2022-06-07T15:09:28.048482Z",
     "shell.execute_reply": "2022-06-07T15:09:28.047995Z",
     "shell.execute_reply.started": "2022-06-07T15:09:28.024286Z"
    }
   },
   "outputs": [
    {
     "data": {
      "text/html": [
       "<div>\n",
       "<style scoped>\n",
       "    .dataframe tbody tr th:only-of-type {\n",
       "        vertical-align: middle;\n",
       "    }\n",
       "\n",
       "    .dataframe tbody tr th {\n",
       "        vertical-align: top;\n",
       "    }\n",
       "\n",
       "    .dataframe thead th {\n",
       "        text-align: right;\n",
       "    }\n",
       "</style>\n",
       "<table border=\"1\" class=\"dataframe\">\n",
       "  <thead>\n",
       "    <tr style=\"text-align: right;\">\n",
       "      <th></th>\n",
       "      <th></th>\n",
       "      <th></th>\n",
       "      <th>count</th>\n",
       "    </tr>\n",
       "    <tr>\n",
       "      <th>stage</th>\n",
       "      <th>norm</th>\n",
       "      <th>phase</th>\n",
       "      <th></th>\n",
       "    </tr>\n",
       "  </thead>\n",
       "  <tbody>\n",
       "    <tr>\n",
       "      <th rowspan=\"4\" valign=\"top\">N2</th>\n",
       "      <th rowspan=\"2\" valign=\"top\">no</th>\n",
       "      <th>0</th>\n",
       "      <td>1065.000000</td>\n",
       "    </tr>\n",
       "    <tr>\n",
       "      <th>1</th>\n",
       "      <td>1230.700000</td>\n",
       "    </tr>\n",
       "    <tr>\n",
       "      <th rowspan=\"2\" valign=\"top\">yes</th>\n",
       "      <th>0</th>\n",
       "      <td>0.467880</td>\n",
       "    </tr>\n",
       "    <tr>\n",
       "      <th>1</th>\n",
       "      <td>0.532120</td>\n",
       "    </tr>\n",
       "    <tr>\n",
       "      <th rowspan=\"4\" valign=\"top\">N3</th>\n",
       "      <th rowspan=\"2\" valign=\"top\">no</th>\n",
       "      <th>0</th>\n",
       "      <td>17.600000</td>\n",
       "    </tr>\n",
       "    <tr>\n",
       "      <th>1</th>\n",
       "      <td>16.750000</td>\n",
       "    </tr>\n",
       "    <tr>\n",
       "      <th rowspan=\"2\" valign=\"top\">yes</th>\n",
       "      <th>0</th>\n",
       "      <td>0.398883</td>\n",
       "    </tr>\n",
       "    <tr>\n",
       "      <th>1</th>\n",
       "      <td>0.750698</td>\n",
       "    </tr>\n",
       "    <tr>\n",
       "      <th rowspan=\"4\" valign=\"top\">R</th>\n",
       "      <th rowspan=\"2\" valign=\"top\">no</th>\n",
       "      <th>0</th>\n",
       "      <td>11.250000</td>\n",
       "    </tr>\n",
       "    <tr>\n",
       "      <th>1</th>\n",
       "      <td>12.400000</td>\n",
       "    </tr>\n",
       "    <tr>\n",
       "      <th rowspan=\"2\" valign=\"top\">yes</th>\n",
       "      <th>0</th>\n",
       "      <td>0.478024</td>\n",
       "    </tr>\n",
       "    <tr>\n",
       "      <th>1</th>\n",
       "      <td>0.617581</td>\n",
       "    </tr>\n",
       "    <tr>\n",
       "      <th rowspan=\"4\" valign=\"top\">W</th>\n",
       "      <th rowspan=\"2\" valign=\"top\">no</th>\n",
       "      <th>0</th>\n",
       "      <td>46.200000</td>\n",
       "    </tr>\n",
       "    <tr>\n",
       "      <th>1</th>\n",
       "      <td>47.100000</td>\n",
       "    </tr>\n",
       "    <tr>\n",
       "      <th rowspan=\"2\" valign=\"top\">yes</th>\n",
       "      <th>0</th>\n",
       "      <td>0.491606</td>\n",
       "    </tr>\n",
       "    <tr>\n",
       "      <th>1</th>\n",
       "      <td>0.508394</td>\n",
       "    </tr>\n",
       "  </tbody>\n",
       "</table>\n",
       "</div>"
      ],
      "text/plain": [
       "                        count\n",
       "stage norm phase             \n",
       "N2    no   0      1065.000000\n",
       "           1      1230.700000\n",
       "      yes  0         0.467880\n",
       "           1         0.532120\n",
       "N3    no   0        17.600000\n",
       "           1        16.750000\n",
       "      yes  0         0.398883\n",
       "           1         0.750698\n",
       "R     no   0        11.250000\n",
       "           1        12.400000\n",
       "      yes  0         0.478024\n",
       "           1         0.617581\n",
       "W     no   0        46.200000\n",
       "           1        47.100000\n",
       "      yes  0         0.491606\n",
       "           1         0.508394"
      ]
     },
     "execution_count": 24,
     "metadata": {},
     "output_type": "execute_result"
    }
   ],
   "source": [
    "df_tidy.groupby(['stage','norm','phase']).mean()"
   ]
  },
  {
   "cell_type": "code",
   "execution_count": 25,
   "id": "cb8a1c4d-829f-4ddc-a243-939f6aae77c9",
   "metadata": {
    "execution": {
     "iopub.execute_input": "2022-06-07T15:09:28.049131Z",
     "iopub.status.busy": "2022-06-07T15:09:28.048990Z",
     "iopub.status.idle": "2022-06-07T15:09:28.072136Z",
     "shell.execute_reply": "2022-06-07T15:09:28.071760Z",
     "shell.execute_reply.started": "2022-06-07T15:09:28.049117Z"
    }
   },
   "outputs": [
    {
     "data": {
      "text/html": [
       "<div>\n",
       "<style scoped>\n",
       "    .dataframe tbody tr th:only-of-type {\n",
       "        vertical-align: middle;\n",
       "    }\n",
       "\n",
       "    .dataframe tbody tr th {\n",
       "        vertical-align: top;\n",
       "    }\n",
       "\n",
       "    .dataframe thead th {\n",
       "        text-align: right;\n",
       "    }\n",
       "</style>\n",
       "<table border=\"1\" class=\"dataframe\">\n",
       "  <thead>\n",
       "    <tr style=\"text-align: right;\">\n",
       "      <th></th>\n",
       "      <th></th>\n",
       "      <th></th>\n",
       "      <th>count</th>\n",
       "    </tr>\n",
       "    <tr>\n",
       "      <th>stage</th>\n",
       "      <th>norm</th>\n",
       "      <th>phase</th>\n",
       "      <th></th>\n",
       "    </tr>\n",
       "  </thead>\n",
       "  <tbody>\n",
       "    <tr>\n",
       "      <th rowspan=\"4\" valign=\"top\">N2</th>\n",
       "      <th rowspan=\"2\" valign=\"top\">no</th>\n",
       "      <th>0</th>\n",
       "      <td>628.026539</td>\n",
       "    </tr>\n",
       "    <tr>\n",
       "      <th>1</th>\n",
       "      <td>712.710951</td>\n",
       "    </tr>\n",
       "    <tr>\n",
       "      <th rowspan=\"2\" valign=\"top\">yes</th>\n",
       "      <th>0</th>\n",
       "      <td>0.022772</td>\n",
       "    </tr>\n",
       "    <tr>\n",
       "      <th>1</th>\n",
       "      <td>0.022772</td>\n",
       "    </tr>\n",
       "    <tr>\n",
       "      <th rowspan=\"4\" valign=\"top\">N3</th>\n",
       "      <th rowspan=\"2\" valign=\"top\">no</th>\n",
       "      <th>0</th>\n",
       "      <td>12.074767</td>\n",
       "    </tr>\n",
       "    <tr>\n",
       "      <th>1</th>\n",
       "      <td>17.621010</td>\n",
       "    </tr>\n",
       "    <tr>\n",
       "      <th rowspan=\"2\" valign=\"top\">yes</th>\n",
       "      <th>0</th>\n",
       "      <td>0.086560</td>\n",
       "    </tr>\n",
       "    <tr>\n",
       "      <th>1</th>\n",
       "      <td>0.216563</td>\n",
       "    </tr>\n",
       "    <tr>\n",
       "      <th rowspan=\"4\" valign=\"top\">R</th>\n",
       "      <th rowspan=\"2\" valign=\"top\">no</th>\n",
       "      <th>0</th>\n",
       "      <td>14.577380</td>\n",
       "    </tr>\n",
       "    <tr>\n",
       "      <th>1</th>\n",
       "      <td>16.681327</td>\n",
       "    </tr>\n",
       "    <tr>\n",
       "      <th rowspan=\"2\" valign=\"top\">yes</th>\n",
       "      <th>0</th>\n",
       "      <td>0.149593</td>\n",
       "    </tr>\n",
       "    <tr>\n",
       "      <th>1</th>\n",
       "      <td>0.240891</td>\n",
       "    </tr>\n",
       "    <tr>\n",
       "      <th rowspan=\"4\" valign=\"top\">W</th>\n",
       "      <th rowspan=\"2\" valign=\"top\">no</th>\n",
       "      <th>0</th>\n",
       "      <td>31.097696</td>\n",
       "    </tr>\n",
       "    <tr>\n",
       "      <th>1</th>\n",
       "      <td>24.803450</td>\n",
       "    </tr>\n",
       "    <tr>\n",
       "      <th rowspan=\"2\" valign=\"top\">yes</th>\n",
       "      <th>0</th>\n",
       "      <td>0.093384</td>\n",
       "    </tr>\n",
       "    <tr>\n",
       "      <th>1</th>\n",
       "      <td>0.093384</td>\n",
       "    </tr>\n",
       "  </tbody>\n",
       "</table>\n",
       "</div>"
      ],
      "text/plain": [
       "                       count\n",
       "stage norm phase            \n",
       "N2    no   0      628.026539\n",
       "           1      712.710951\n",
       "      yes  0        0.022772\n",
       "           1        0.022772\n",
       "N3    no   0       12.074767\n",
       "           1       17.621010\n",
       "      yes  0        0.086560\n",
       "           1        0.216563\n",
       "R     no   0       14.577380\n",
       "           1       16.681327\n",
       "      yes  0        0.149593\n",
       "           1        0.240891\n",
       "W     no   0       31.097696\n",
       "           1       24.803450\n",
       "      yes  0        0.093384\n",
       "           1        0.093384"
      ]
     },
     "execution_count": 25,
     "metadata": {},
     "output_type": "execute_result"
    }
   ],
   "source": [
    "df_tidy.groupby(['stage','norm','phase']).std()"
   ]
  },
  {
   "cell_type": "code",
   "execution_count": 26,
   "id": "3220b03d-a75f-4ed6-9326-630582c5b7ee",
   "metadata": {
    "execution": {
     "iopub.execute_input": "2022-06-07T15:09:28.072930Z",
     "iopub.status.busy": "2022-06-07T15:09:28.072630Z",
     "iopub.status.idle": "2022-06-07T15:09:28.799332Z",
     "shell.execute_reply": "2022-06-07T15:09:28.798964Z",
     "shell.execute_reply.started": "2022-06-07T15:09:28.072916Z"
    }
   },
   "outputs": [
    {
     "data": {
      "image/png": "[encoded data removed]",
      "text/plain": [
       "<Figure size 1440x720 with 4 Axes>"
      ]
     },
     "metadata": {
      "needs_background": "light"
     },
     "output_type": "display_data"
    }
   ],
   "source": [
    "fig ,axs = plt.subplots(nrows = 2, ncols = 2, figsize = (20,10), constrained_layout =True)\n",
    "\n",
    "for row , norm in enumerate(['no', 'yes']):\n",
    "    for col, mode in enumerate(['box','distribution']):\n",
    "        ax = axs[row, col]\n",
    "        gh.auto_stats(df=df_tidy[(df_tidy['stage'] == 'N2') & (df_tidy['norm'] == norm)] , predictor = 'phase', outcome = 'count' , design = 'within', ax=ax, mode = mode)"
   ]
  },
  {
   "cell_type": "code",
   "execution_count": 27,
   "id": "aefb7012-b9fb-493e-927d-ddd2938a4c17",
   "metadata": {
    "execution": {
     "iopub.execute_input": "2022-06-07T15:09:28.800097Z",
     "iopub.status.busy": "2022-06-07T15:09:28.799808Z",
     "iopub.status.idle": "2022-06-07T15:09:28.821766Z",
     "shell.execute_reply": "2022-06-07T15:09:28.821312Z",
     "shell.execute_reply.started": "2022-06-07T15:09:28.800083Z"
    }
   },
   "outputs": [],
   "source": [
    "bin_1_prop = df_tidy[(df_tidy['stage'] == 'N2') & (df_tidy['norm'] == 'yes') & (df_tidy['phase'] == 1)]['count'].values\n",
    "bin_0_prop = df_tidy[(df_tidy['stage'] == 'N2') & (df_tidy['norm'] == 'yes') & (df_tidy['phase'] == 0)]['count'].values"
   ]
  },
  {
   "cell_type": "code",
   "execution_count": 28,
   "id": "53a12fe7-3304-4fa1-be2c-fff485da3ddd",
   "metadata": {
    "execution": {
     "iopub.execute_input": "2022-06-07T15:09:28.822339Z",
     "iopub.status.busy": "2022-06-07T15:09:28.822239Z",
     "iopub.status.idle": "2022-06-07T15:09:28.847171Z",
     "shell.execute_reply": "2022-06-07T15:09:28.846748Z",
     "shell.execute_reply.started": "2022-06-07T15:09:28.822326Z"
    },
    "tags": []
   },
   "outputs": [
    {
     "data": {
      "text/html": [
       "<div>\n",
       "<style scoped>\n",
       "    .dataframe tbody tr th:only-of-type {\n",
       "        vertical-align: middle;\n",
       "    }\n",
       "\n",
       "    .dataframe tbody tr th {\n",
       "        vertical-align: top;\n",
       "    }\n",
       "\n",
       "    .dataframe thead th {\n",
       "        text-align: right;\n",
       "    }\n",
       "</style>\n",
       "<table border=\"1\" class=\"dataframe\">\n",
       "  <thead>\n",
       "    <tr style=\"text-align: right;\">\n",
       "      <th></th>\n",
       "      <th>T</th>\n",
       "      <th>dof</th>\n",
       "      <th>alternative</th>\n",
       "      <th>p-val</th>\n",
       "      <th>CI95%</th>\n",
       "      <th>cohen-d</th>\n",
       "      <th>BF10</th>\n",
       "      <th>power</th>\n",
       "    </tr>\n",
       "  </thead>\n",
       "  <tbody>\n",
       "    <tr>\n",
       "      <th>T-test</th>\n",
       "      <td>4.460383</td>\n",
       "      <td>9</td>\n",
       "      <td>two-sided</td>\n",
       "      <td>0.001576</td>\n",
       "      <td>[0.52, 0.55]</td>\n",
       "      <td>1.410497</td>\n",
       "      <td>27.991</td>\n",
       "      <td>0.976612</td>\n",
       "    </tr>\n",
       "  </tbody>\n",
       "</table>\n",
       "</div>"
      ],
      "text/plain": [
       "               T  dof alternative     p-val         CI95%   cohen-d    BF10  \\\n",
       "T-test  4.460383    9   two-sided  0.001576  [0.52, 0.55]  1.410497  27.991   \n",
       "\n",
       "           power  \n",
       "T-test  0.976612  "
      ]
     },
     "execution_count": 28,
     "metadata": {},
     "output_type": "execute_result"
    }
   ],
   "source": [
    "ttest = pg.ttest(x = bin_1_prop, y = 0.5)\n",
    "ttest"
   ]
  },
  {
   "cell_type": "code",
   "execution_count": 29,
   "id": "e290978c-8061-4a3a-b93a-ad8468b2b10e",
   "metadata": {
    "execution": {
     "iopub.execute_input": "2022-06-07T15:09:28.847946Z",
     "iopub.status.busy": "2022-06-07T15:09:28.847753Z",
     "iopub.status.idle": "2022-06-07T15:09:28.872077Z",
     "shell.execute_reply": "2022-06-07T15:09:28.871751Z",
     "shell.execute_reply.started": "2022-06-07T15:09:28.847932Z"
    }
   },
   "outputs": [
    {
     "data": {
      "text/html": [
       "<div>\n",
       "<style scoped>\n",
       "    .dataframe tbody tr th:only-of-type {\n",
       "        vertical-align: middle;\n",
       "    }\n",
       "\n",
       "    .dataframe tbody tr th {\n",
       "        vertical-align: top;\n",
       "    }\n",
       "\n",
       "    .dataframe thead th {\n",
       "        text-align: right;\n",
       "    }\n",
       "</style>\n",
       "<table border=\"1\" class=\"dataframe\">\n",
       "  <thead>\n",
       "    <tr style=\"text-align: right;\">\n",
       "      <th></th>\n",
       "      <th>T</th>\n",
       "      <th>dof</th>\n",
       "      <th>alternative</th>\n",
       "      <th>p-val</th>\n",
       "      <th>CI95%</th>\n",
       "      <th>cohen-d</th>\n",
       "      <th>BF10</th>\n",
       "      <th>power</th>\n",
       "    </tr>\n",
       "  </thead>\n",
       "  <tbody>\n",
       "    <tr>\n",
       "      <th>T-test</th>\n",
       "      <td>-4.460383</td>\n",
       "      <td>9</td>\n",
       "      <td>two-sided</td>\n",
       "      <td>0.001576</td>\n",
       "      <td>[0.45, 0.48]</td>\n",
       "      <td>1.410497</td>\n",
       "      <td>27.991</td>\n",
       "      <td>0.976612</td>\n",
       "    </tr>\n",
       "  </tbody>\n",
       "</table>\n",
       "</div>"
      ],
      "text/plain": [
       "               T  dof alternative     p-val         CI95%   cohen-d    BF10  \\\n",
       "T-test -4.460383    9   two-sided  0.001576  [0.45, 0.48]  1.410497  27.991   \n",
       "\n",
       "           power  \n",
       "T-test  0.976612  "
      ]
     },
     "execution_count": 29,
     "metadata": {},
     "output_type": "execute_result"
    }
   ],
   "source": [
    "pg.ttest(x = bin_0_prop, y = 0.5)"
   ]
  },
  {
   "cell_type": "code",
   "execution_count": 30,
   "id": "059c2bcf-3f0b-470b-9404-55626952bca5",
   "metadata": {
    "execution": {
     "iopub.execute_input": "2022-06-07T15:09:28.872743Z",
     "iopub.status.busy": "2022-06-07T15:09:28.872599Z",
     "iopub.status.idle": "2022-06-07T15:09:29.080123Z",
     "shell.execute_reply": "2022-06-07T15:09:29.079704Z",
     "shell.execute_reply.started": "2022-06-07T15:09:28.872716Z"
    },
    "tags": []
   },
   "outputs": [
    {
     "data": {
      "image/png": "[encoded data removed]",
      "text/plain": [
       "<Figure size 1440x720 with 1 Axes>"
      ]
     },
     "metadata": {
      "needs_background": "light"
     },
     "output_type": "display_data"
    }
   ],
   "source": [
    "fig, ax = plt.subplots(figsize = (20,10))\n",
    "sns.barplot(data = df_tidy[(df_tidy['stage'] == 'N2') & (df_tidy['norm'] == 'yes')], x='patient', y ='count', hue = 'phase', ax=ax)\n",
    "p = ttest.loc['T-test', 'p-val'].round(4)\n",
    "cohen = ttest.loc['T-test', 'cohen-d'].round(4)\n",
    "ax.set_title(f'T-test against 0.5 : p={p} ; cohen-d = {cohen}')\n",
    "for p in ax.patches:\n",
    "    ax.annotate(str(round(p.get_height(), 2)), (p.get_x() * 1.005, p.get_height() * 1.005))\n",
    "# plt.savefig('../presentation_2/bar_2_bins')"
   ]
  },
  {
   "cell_type": "code",
   "execution_count": 31,
   "id": "30c04f05-e608-4ea7-b9f5-0092711ca50f",
   "metadata": {
    "execution": {
     "iopub.execute_input": "2022-06-07T15:09:29.080708Z",
     "iopub.status.busy": "2022-06-07T15:09:29.080607Z",
     "iopub.status.idle": "2022-06-07T15:09:29.099121Z",
     "shell.execute_reply": "2022-06-07T15:09:29.098815Z",
     "shell.execute_reply.started": "2022-06-07T15:09:29.080695Z"
    },
    "tags": []
   },
   "outputs": [
    {
     "name": "stdout",
     "output_type": "stream",
     "text": [
      "0.46748522055479763\n",
      "0.4324734446130501\n",
      "0.43462359036879\n",
      "0.48175182481751827\n",
      "0.45273420941076725\n",
      "0.490272373540856\n",
      "0.4813215693636193\n",
      "0.49625\n",
      "0.4847250509164969\n",
      "0.4571580627993614\n",
      "0.5325147794452023\n",
      "0.56752655538695\n",
      "0.5653764096312099\n",
      "0.5182481751824818\n",
      "0.5472657905892327\n",
      "0.5097276264591439\n",
      "0.5186784306363807\n",
      "0.50375\n",
      "0.515274949083503\n",
      "0.5428419372006387\n"
     ]
    }
   ],
   "source": [
    "for p in ax.patches:\n",
    "    print(p.get_height())"
   ]
  },
  {
   "cell_type": "code",
   "execution_count": 32,
   "id": "23c05e18-719c-4194-96d6-1c527fa599a5",
   "metadata": {
    "execution": {
     "iopub.execute_input": "2022-06-07T15:09:29.099841Z",
     "iopub.status.busy": "2022-06-07T15:09:29.099735Z",
     "iopub.status.idle": "2022-06-07T15:09:30.115475Z",
     "shell.execute_reply": "2022-06-07T15:09:30.115024Z",
     "shell.execute_reply.started": "2022-06-07T15:09:29.099827Z"
    }
   },
   "outputs": [
    {
     "data": {
      "text/plain": [
       "<seaborn.axisgrid.FacetGrid at 0x7f2efc846e80>"
      ]
     },
     "execution_count": 32,
     "metadata": {},
     "output_type": "execute_result"
    },
    {
     "data": {
      "image/png": "[encoded data removed]",
      "text/plain": [
       "<Figure size 1482.38x360 with 4 Axes>"
      ]
     },
     "metadata": {
      "needs_background": "light"
     },
     "output_type": "display_data"
    }
   ],
   "source": [
    "sns.catplot(data = df_tidy[df_tidy['norm'] == 'no'], x='patient', y ='count', hue = 'phase', col = 'stage')"
   ]
  },
  {
   "cell_type": "code",
   "execution_count": 33,
   "id": "a8d02471-9f5d-4797-aa98-0e14bd11e598",
   "metadata": {
    "execution": {
     "iopub.execute_input": "2022-06-07T15:09:30.116117Z",
     "iopub.status.busy": "2022-06-07T15:09:30.116006Z",
     "iopub.status.idle": "2022-06-07T15:09:31.253576Z",
     "shell.execute_reply": "2022-06-07T15:09:31.253153Z",
     "shell.execute_reply.started": "2022-06-07T15:09:30.116103Z"
    }
   },
   "outputs": [
    {
     "data": {
      "text/plain": [
       "<seaborn.axisgrid.FacetGrid at 0x7f2efc8d3dc0>"
      ]
     },
     "execution_count": 33,
     "metadata": {},
     "output_type": "execute_result"
    },
    {
     "data": {
      "image/png": "[encoded data removed]",
      "text/plain": [
       "<Figure size 1482.38x360 with 4 Axes>"
      ]
     },
     "metadata": {
      "needs_background": "light"
     },
     "output_type": "display_data"
    }
   ],
   "source": [
    "sns.catplot(data = df_tidy[df_tidy['norm'] == 'yes'], x='patient', y ='count', hue = 'phase', col = 'stage')"
   ]
  },
  {
   "cell_type": "code",
   "execution_count": 62,
   "id": "719d2cce-17d3-4e24-81b4-c8d17048483c",
   "metadata": {
    "execution": {
     "iopub.execute_input": "2022-06-07T15:09:56.466002Z",
     "iopub.status.busy": "2022-06-07T15:09:56.465895Z",
     "iopub.status.idle": "2022-06-07T15:10:07.929248Z",
     "shell.execute_reply": "2022-06-07T15:10:07.928674Z",
     "shell.execute_reply.started": "2022-06-07T15:09:56.465989Z"
    },
    "tags": []
   },
   "outputs": [
    {
     "name": "stdout",
     "output_type": "stream",
     "text": [
      "P1\n",
      "P2\n",
      "P3\n",
      "P4\n",
      "P5\n",
      "P6\n",
      "P7\n",
      "P8\n",
      "P9\n",
      "P10\n"
     ]
    }
   ],
   "source": [
    "concat = []\n",
    "for p in  patients:\n",
    "    print(p)\n",
    "    concat.append(all_in_one(p, nbins = 18))\n"
   ]
  },
  {
   "cell_type": "code",
   "execution_count": 63,
   "id": "a085eb81-bfa5-4011-a016-acb2df5a512b",
   "metadata": {
    "execution": {
     "iopub.execute_input": "2022-06-07T15:10:11.497821Z",
     "iopub.status.busy": "2022-06-07T15:10:11.497291Z",
     "iopub.status.idle": "2022-06-07T15:10:11.526283Z",
     "shell.execute_reply": "2022-06-07T15:10:11.525826Z",
     "shell.execute_reply.started": "2022-06-07T15:10:11.497759Z"
    },
    "tags": []
   },
   "outputs": [],
   "source": [
    "df_18 = pd.concat(concat)"
   ]
  },
  {
   "cell_type": "code",
   "execution_count": 71,
   "id": "fcbafece-7513-4cdc-8d74-f4280535350e",
   "metadata": {
    "execution": {
     "iopub.execute_input": "2022-06-07T15:16:06.170038Z",
     "iopub.status.busy": "2022-06-07T15:16:06.169890Z",
     "iopub.status.idle": "2022-06-07T15:16:07.297941Z",
     "shell.execute_reply": "2022-06-07T15:16:07.297386Z",
     "shell.execute_reply.started": "2022-06-07T15:16:06.170022Z"
    },
    "tags": []
   },
   "outputs": [
    {
     "name": "stdout",
     "output_type": "stream",
     "text": [
      "P1\n"
     ]
    },
    {
     "data": {
      "image/png": "[encoded data removed]",
      "text/plain": [
       "<Figure size 576x288 with 1 Axes>"
      ]
     },
     "metadata": {
      "needs_background": "light"
     },
     "output_type": "display_data"
    },
    {
     "name": "stdout",
     "output_type": "stream",
     "text": [
      "P2\n"
     ]
    },
    {
     "data": {
      "image/png": "[encoded data removed]",
      "text/plain": [
       "<Figure size 576x288 with 1 Axes>"
      ]
     },
     "metadata": {
      "needs_background": "light"
     },
     "output_type": "display_data"
    },
    {
     "name": "stdout",
     "output_type": "stream",
     "text": [
      "P3\n"
     ]
    },
    {
     "data": {
      "image/png": "[encoded data removed]",
      "text/plain": [
       "<Figure size 576x288 with 1 Axes>"
      ]
     },
     "metadata": {
      "needs_background": "light"
     },
     "output_type": "display_data"
    },
    {
     "name": "stdout",
     "output_type": "stream",
     "text": [
      "P4\n"
     ]
    },
    {
     "data": {
      "image/png": "[encoded data removed]",
      "text/plain": [
       "<Figure size 576x288 with 1 Axes>"
      ]
     },
     "metadata": {
      "needs_background": "light"
     },
     "output_type": "display_data"
    },
    {
     "name": "stdout",
     "output_type": "stream",
     "text": [
      "P5\n"
     ]
    },
    {
     "data": {
      "image/png": "[encoded data removed]",
      "text/plain": [
       "<Figure size 576x288 with 1 Axes>"
      ]
     },
     "metadata": {
      "needs_background": "light"
     },
     "output_type": "display_data"
    },
    {
     "name": "stdout",
     "output_type": "stream",
     "text": [
      "P6\n"
     ]
    },
    {
     "data": {
      "image/png": "[encoded data removed]",
      "text/plain": [
       "<Figure size 576x288 with 1 Axes>"
      ]
     },
     "metadata": {
      "needs_background": "light"
     },
     "output_type": "display_data"
    },
    {
     "name": "stdout",
     "output_type": "stream",
     "text": [
      "P7\n"
     ]
    },
    {
     "data": {
      "image/png": "[encoded data removed]",
      "text/plain": [
       "<Figure size 576x288 with 1 Axes>"
      ]
     },
     "metadata": {
      "needs_background": "light"
     },
     "output_type": "display_data"
    },
    {
     "name": "stdout",
     "output_type": "stream",
     "text": [
      "P8\n"
     ]
    },
    {
     "data": {
      "image/png": "[encoded data removed]",
      "text/plain": [
       "<Figure size 576x288 with 1 Axes>"
      ]
     },
     "metadata": {
      "needs_background": "light"
     },
     "output_type": "display_data"
    },
    {
     "name": "stdout",
     "output_type": "stream",
     "text": [
      "P9\n"
     ]
    },
    {
     "data": {
      "image/png": "[encoded data removed]",
      "text/plain": [
       "<Figure size 576x288 with 1 Axes>"
      ]
     },
     "metadata": {
      "needs_background": "light"
     },
     "output_type": "display_data"
    },
    {
     "name": "stdout",
     "output_type": "stream",
     "text": [
      "P10\n"
     ]
    },
    {
     "data": {
      "image/png": "[encoded data removed]",
      "text/plain": [
       "<Figure size 576x288 with 1 Axes>"
      ]
     },
     "metadata": {
      "needs_background": "light"
     },
     "output_type": "display_data"
    }
   ],
   "source": [
    "for patient in patients:\n",
    "    print(patient)\n",
    "    gh.Modulation_Index(df_18[df_18['norm'] == 'yes'].set_index('patient').drop(columns = ['stage','norm']).loc[patient,:].values, show = True)\n",
    "    plt.show()"
   ]
  },
  {
   "cell_type": "code",
   "execution_count": 36,
   "id": "b2c3c4da-ca7c-4c48-aa32-484e9140df76",
   "metadata": {
    "execution": {
     "iopub.execute_input": "2022-06-07T15:09:42.716740Z",
     "iopub.status.busy": "2022-06-07T15:09:42.716632Z",
     "iopub.status.idle": "2022-06-07T15:09:42.869936Z",
     "shell.execute_reply": "2022-06-07T15:09:42.869463Z",
     "shell.execute_reply.started": "2022-06-07T15:09:42.716726Z"
    }
   },
   "outputs": [
    {
     "name": "stderr",
     "output_type": "stream",
     "text": [
      "/tmp/ipykernel_48684/3312757182.py:1: FutureWarning: Dropping of nuisance columns in DataFrame reductions (with 'numeric_only=None') is deprecated; in a future version this will raise TypeError.  Select only valid columns before calling the reduction.\n",
      "  df_20.mean().plot.bar()\n"
     ]
    },
    {
     "data": {
      "text/plain": [
       "<AxesSubplot:>"
      ]
     },
     "execution_count": 36,
     "metadata": {},
     "output_type": "execute_result"
    },
    {
     "data": {
      "image/png": "[encoded data removed]",
      "text/plain": [
       "<Figure size 432x288 with 1 Axes>"
      ]
     },
     "metadata": {
      "needs_background": "light"
     },
     "output_type": "display_data"
    }
   ],
   "source": [
    "df_20.mean().plot.bar()"
   ]
  },
  {
   "cell_type": "code",
   "execution_count": 37,
   "id": "431f469e-5cab-4260-b8d2-9523b4e36a27",
   "metadata": {
    "execution": {
     "iopub.execute_input": "2022-06-07T15:09:42.873142Z",
     "iopub.status.busy": "2022-06-07T15:09:42.873020Z",
     "iopub.status.idle": "2022-06-07T15:09:42.906279Z",
     "shell.execute_reply": "2022-06-07T15:09:42.905898Z",
     "shell.execute_reply.started": "2022-06-07T15:09:42.873128Z"
    }
   },
   "outputs": [
    {
     "data": {
      "text/html": [
       "<div>\n",
       "<style scoped>\n",
       "    .dataframe tbody tr th:only-of-type {\n",
       "        vertical-align: middle;\n",
       "    }\n",
       "\n",
       "    .dataframe tbody tr th {\n",
       "        vertical-align: top;\n",
       "    }\n",
       "\n",
       "    .dataframe thead th {\n",
       "        text-align: right;\n",
       "    }\n",
       "</style>\n",
       "<table border=\"1\" class=\"dataframe\">\n",
       "  <thead>\n",
       "    <tr style=\"text-align: right;\">\n",
       "      <th></th>\n",
       "      <th>patient</th>\n",
       "      <th>stage</th>\n",
       "      <th>norm</th>\n",
       "      <th>0</th>\n",
       "      <th>1</th>\n",
       "      <th>2</th>\n",
       "      <th>3</th>\n",
       "      <th>4</th>\n",
       "      <th>5</th>\n",
       "      <th>6</th>\n",
       "      <th>...</th>\n",
       "      <th>10</th>\n",
       "      <th>11</th>\n",
       "      <th>12</th>\n",
       "      <th>13</th>\n",
       "      <th>14</th>\n",
       "      <th>15</th>\n",
       "      <th>16</th>\n",
       "      <th>17</th>\n",
       "      <th>18</th>\n",
       "      <th>19</th>\n",
       "    </tr>\n",
       "  </thead>\n",
       "  <tbody>\n",
       "    <tr>\n",
       "      <th>0</th>\n",
       "      <td>P1</td>\n",
       "      <td>N2</td>\n",
       "      <td>no</td>\n",
       "      <td>116.000000</td>\n",
       "      <td>98.000000</td>\n",
       "      <td>121.000000</td>\n",
       "      <td>95.000000</td>\n",
       "      <td>98.000000</td>\n",
       "      <td>106.000000</td>\n",
       "      <td>101.000000</td>\n",
       "      <td>...</td>\n",
       "      <td>110.000000</td>\n",
       "      <td>114.000000</td>\n",
       "      <td>117.000000</td>\n",
       "      <td>108.000000</td>\n",
       "      <td>114.000000</td>\n",
       "      <td>116.000000</td>\n",
       "      <td>153.000000</td>\n",
       "      <td>125.000000</td>\n",
       "      <td>112.000000</td>\n",
       "      <td>102.000000</td>\n",
       "    </tr>\n",
       "    <tr>\n",
       "      <th>0</th>\n",
       "      <td>P1</td>\n",
       "      <td>N2</td>\n",
       "      <td>yes</td>\n",
       "      <td>0.052751</td>\n",
       "      <td>0.044566</td>\n",
       "      <td>0.055025</td>\n",
       "      <td>0.043201</td>\n",
       "      <td>0.044566</td>\n",
       "      <td>0.048204</td>\n",
       "      <td>0.045930</td>\n",
       "      <td>...</td>\n",
       "      <td>0.050023</td>\n",
       "      <td>0.051842</td>\n",
       "      <td>0.053206</td>\n",
       "      <td>0.049113</td>\n",
       "      <td>0.051842</td>\n",
       "      <td>0.052751</td>\n",
       "      <td>0.069577</td>\n",
       "      <td>0.056844</td>\n",
       "      <td>0.050932</td>\n",
       "      <td>0.046385</td>\n",
       "    </tr>\n",
       "    <tr>\n",
       "      <th>0</th>\n",
       "      <td>P2</td>\n",
       "      <td>N2</td>\n",
       "      <td>no</td>\n",
       "      <td>116.000000</td>\n",
       "      <td>103.000000</td>\n",
       "      <td>104.000000</td>\n",
       "      <td>120.000000</td>\n",
       "      <td>119.000000</td>\n",
       "      <td>126.000000</td>\n",
       "      <td>116.000000</td>\n",
       "      <td>...</td>\n",
       "      <td>182.000000</td>\n",
       "      <td>181.000000</td>\n",
       "      <td>146.000000</td>\n",
       "      <td>153.000000</td>\n",
       "      <td>151.000000</td>\n",
       "      <td>144.000000</td>\n",
       "      <td>137.000000</td>\n",
       "      <td>139.000000</td>\n",
       "      <td>146.000000</td>\n",
       "      <td>117.000000</td>\n",
       "    </tr>\n",
       "    <tr>\n",
       "      <th>0</th>\n",
       "      <td>P2</td>\n",
       "      <td>N2</td>\n",
       "      <td>yes</td>\n",
       "      <td>0.044006</td>\n",
       "      <td>0.039074</td>\n",
       "      <td>0.039454</td>\n",
       "      <td>0.045524</td>\n",
       "      <td>0.045144</td>\n",
       "      <td>0.047800</td>\n",
       "      <td>0.044006</td>\n",
       "      <td>...</td>\n",
       "      <td>0.069044</td>\n",
       "      <td>0.068665</td>\n",
       "      <td>0.055387</td>\n",
       "      <td>0.058042</td>\n",
       "      <td>0.057284</td>\n",
       "      <td>0.054628</td>\n",
       "      <td>0.051973</td>\n",
       "      <td>0.052731</td>\n",
       "      <td>0.055387</td>\n",
       "      <td>0.044385</td>\n",
       "    </tr>\n",
       "    <tr>\n",
       "      <th>0</th>\n",
       "      <td>P3</td>\n",
       "      <td>N2</td>\n",
       "      <td>no</td>\n",
       "      <td>162.000000</td>\n",
       "      <td>145.000000</td>\n",
       "      <td>104.000000</td>\n",
       "      <td>112.000000</td>\n",
       "      <td>140.000000</td>\n",
       "      <td>130.000000</td>\n",
       "      <td>129.000000</td>\n",
       "      <td>...</td>\n",
       "      <td>158.000000</td>\n",
       "      <td>175.000000</td>\n",
       "      <td>207.000000</td>\n",
       "      <td>205.000000</td>\n",
       "      <td>209.000000</td>\n",
       "      <td>195.000000</td>\n",
       "      <td>159.000000</td>\n",
       "      <td>185.000000</td>\n",
       "      <td>204.000000</td>\n",
       "      <td>158.000000</td>\n",
       "    </tr>\n",
       "    <tr>\n",
       "      <th>0</th>\n",
       "      <td>P3</td>\n",
       "      <td>N2</td>\n",
       "      <td>yes</td>\n",
       "      <td>0.049375</td>\n",
       "      <td>0.044194</td>\n",
       "      <td>0.031698</td>\n",
       "      <td>0.034136</td>\n",
       "      <td>0.042670</td>\n",
       "      <td>0.039622</td>\n",
       "      <td>0.039317</td>\n",
       "      <td>...</td>\n",
       "      <td>0.048156</td>\n",
       "      <td>0.053337</td>\n",
       "      <td>0.063091</td>\n",
       "      <td>0.062481</td>\n",
       "      <td>0.063700</td>\n",
       "      <td>0.059433</td>\n",
       "      <td>0.048461</td>\n",
       "      <td>0.056385</td>\n",
       "      <td>0.062176</td>\n",
       "      <td>0.048156</td>\n",
       "    </tr>\n",
       "    <tr>\n",
       "      <th>0</th>\n",
       "      <td>P4</td>\n",
       "      <td>N2</td>\n",
       "      <td>no</td>\n",
       "      <td>118.000000</td>\n",
       "      <td>112.000000</td>\n",
       "      <td>130.000000</td>\n",
       "      <td>116.000000</td>\n",
       "      <td>128.000000</td>\n",
       "      <td>134.000000</td>\n",
       "      <td>105.000000</td>\n",
       "      <td>...</td>\n",
       "      <td>114.000000</td>\n",
       "      <td>139.000000</td>\n",
       "      <td>148.000000</td>\n",
       "      <td>132.000000</td>\n",
       "      <td>152.000000</td>\n",
       "      <td>120.000000</td>\n",
       "      <td>131.000000</td>\n",
       "      <td>116.000000</td>\n",
       "      <td>107.000000</td>\n",
       "      <td>119.000000</td>\n",
       "    </tr>\n",
       "    <tr>\n",
       "      <th>0</th>\n",
       "      <td>P4</td>\n",
       "      <td>N2</td>\n",
       "      <td>yes</td>\n",
       "      <td>0.047851</td>\n",
       "      <td>0.045418</td>\n",
       "      <td>0.052717</td>\n",
       "      <td>0.047040</td>\n",
       "      <td>0.051906</td>\n",
       "      <td>0.054339</td>\n",
       "      <td>0.042579</td>\n",
       "      <td>...</td>\n",
       "      <td>0.046229</td>\n",
       "      <td>0.056367</td>\n",
       "      <td>0.060016</td>\n",
       "      <td>0.053528</td>\n",
       "      <td>0.061638</td>\n",
       "      <td>0.048662</td>\n",
       "      <td>0.053122</td>\n",
       "      <td>0.047040</td>\n",
       "      <td>0.043390</td>\n",
       "      <td>0.048256</td>\n",
       "    </tr>\n",
       "    <tr>\n",
       "      <th>0</th>\n",
       "      <td>P5</td>\n",
       "      <td>N2</td>\n",
       "      <td>no</td>\n",
       "      <td>78.000000</td>\n",
       "      <td>121.000000</td>\n",
       "      <td>117.000000</td>\n",
       "      <td>111.000000</td>\n",
       "      <td>103.000000</td>\n",
       "      <td>113.000000</td>\n",
       "      <td>101.000000</td>\n",
       "      <td>...</td>\n",
       "      <td>111.000000</td>\n",
       "      <td>115.000000</td>\n",
       "      <td>144.000000</td>\n",
       "      <td>125.000000</td>\n",
       "      <td>137.000000</td>\n",
       "      <td>130.000000</td>\n",
       "      <td>155.000000</td>\n",
       "      <td>146.000000</td>\n",
       "      <td>112.000000</td>\n",
       "      <td>116.000000</td>\n",
       "    </tr>\n",
       "    <tr>\n",
       "      <th>0</th>\n",
       "      <td>P5</td>\n",
       "      <td>N2</td>\n",
       "      <td>yes</td>\n",
       "      <td>0.033065</td>\n",
       "      <td>0.051293</td>\n",
       "      <td>0.049597</td>\n",
       "      <td>0.047054</td>\n",
       "      <td>0.043663</td>\n",
       "      <td>0.047902</td>\n",
       "      <td>0.042815</td>\n",
       "      <td>...</td>\n",
       "      <td>0.047054</td>\n",
       "      <td>0.048749</td>\n",
       "      <td>0.061043</td>\n",
       "      <td>0.052989</td>\n",
       "      <td>0.058075</td>\n",
       "      <td>0.055108</td>\n",
       "      <td>0.065706</td>\n",
       "      <td>0.061891</td>\n",
       "      <td>0.047478</td>\n",
       "      <td>0.049173</td>\n",
       "    </tr>\n",
       "    <tr>\n",
       "      <th>0</th>\n",
       "      <td>P6</td>\n",
       "      <td>N2</td>\n",
       "      <td>no</td>\n",
       "      <td>48.000000</td>\n",
       "      <td>45.000000</td>\n",
       "      <td>45.000000</td>\n",
       "      <td>56.000000</td>\n",
       "      <td>39.000000</td>\n",
       "      <td>77.000000</td>\n",
       "      <td>51.000000</td>\n",
       "      <td>...</td>\n",
       "      <td>56.000000</td>\n",
       "      <td>61.000000</td>\n",
       "      <td>55.000000</td>\n",
       "      <td>38.000000</td>\n",
       "      <td>41.000000</td>\n",
       "      <td>56.000000</td>\n",
       "      <td>49.000000</td>\n",
       "      <td>53.000000</td>\n",
       "      <td>47.000000</td>\n",
       "      <td>68.000000</td>\n",
       "    </tr>\n",
       "    <tr>\n",
       "      <th>0</th>\n",
       "      <td>P6</td>\n",
       "      <td>N2</td>\n",
       "      <td>yes</td>\n",
       "      <td>0.046693</td>\n",
       "      <td>0.043774</td>\n",
       "      <td>0.043774</td>\n",
       "      <td>0.054475</td>\n",
       "      <td>0.037938</td>\n",
       "      <td>0.074903</td>\n",
       "      <td>0.049611</td>\n",
       "      <td>...</td>\n",
       "      <td>0.054475</td>\n",
       "      <td>0.059339</td>\n",
       "      <td>0.053502</td>\n",
       "      <td>0.036965</td>\n",
       "      <td>0.039883</td>\n",
       "      <td>0.054475</td>\n",
       "      <td>0.047665</td>\n",
       "      <td>0.051556</td>\n",
       "      <td>0.045720</td>\n",
       "      <td>0.066148</td>\n",
       "    </tr>\n",
       "    <tr>\n",
       "      <th>0</th>\n",
       "      <td>P7</td>\n",
       "      <td>N2</td>\n",
       "      <td>no</td>\n",
       "      <td>259.000000</td>\n",
       "      <td>307.000000</td>\n",
       "      <td>317.000000</td>\n",
       "      <td>248.000000</td>\n",
       "      <td>276.000000</td>\n",
       "      <td>264.000000</td>\n",
       "      <td>230.000000</td>\n",
       "      <td>...</td>\n",
       "      <td>255.000000</td>\n",
       "      <td>243.000000</td>\n",
       "      <td>280.000000</td>\n",
       "      <td>282.000000</td>\n",
       "      <td>257.000000</td>\n",
       "      <td>274.000000</td>\n",
       "      <td>282.000000</td>\n",
       "      <td>274.000000</td>\n",
       "      <td>308.000000</td>\n",
       "      <td>308.000000</td>\n",
       "    </tr>\n",
       "    <tr>\n",
       "      <th>0</th>\n",
       "      <td>P7</td>\n",
       "      <td>N2</td>\n",
       "      <td>yes</td>\n",
       "      <td>0.048620</td>\n",
       "      <td>0.057631</td>\n",
       "      <td>0.059508</td>\n",
       "      <td>0.046555</td>\n",
       "      <td>0.051812</td>\n",
       "      <td>0.049559</td>\n",
       "      <td>0.043176</td>\n",
       "      <td>...</td>\n",
       "      <td>0.047869</td>\n",
       "      <td>0.045617</td>\n",
       "      <td>0.052562</td>\n",
       "      <td>0.052938</td>\n",
       "      <td>0.048245</td>\n",
       "      <td>0.051436</td>\n",
       "      <td>0.052938</td>\n",
       "      <td>0.051436</td>\n",
       "      <td>0.057819</td>\n",
       "      <td>0.057819</td>\n",
       "    </tr>\n",
       "    <tr>\n",
       "      <th>0</th>\n",
       "      <td>P8</td>\n",
       "      <td>N2</td>\n",
       "      <td>no</td>\n",
       "      <td>40.000000</td>\n",
       "      <td>62.000000</td>\n",
       "      <td>40.000000</td>\n",
       "      <td>38.000000</td>\n",
       "      <td>29.000000</td>\n",
       "      <td>33.000000</td>\n",
       "      <td>49.000000</td>\n",
       "      <td>...</td>\n",
       "      <td>40.000000</td>\n",
       "      <td>47.000000</td>\n",
       "      <td>56.000000</td>\n",
       "      <td>33.000000</td>\n",
       "      <td>35.000000</td>\n",
       "      <td>48.000000</td>\n",
       "      <td>37.000000</td>\n",
       "      <td>41.000000</td>\n",
       "      <td>33.000000</td>\n",
       "      <td>33.000000</td>\n",
       "    </tr>\n",
       "    <tr>\n",
       "      <th>0</th>\n",
       "      <td>P8</td>\n",
       "      <td>N2</td>\n",
       "      <td>yes</td>\n",
       "      <td>0.050000</td>\n",
       "      <td>0.077500</td>\n",
       "      <td>0.050000</td>\n",
       "      <td>0.047500</td>\n",
       "      <td>0.036250</td>\n",
       "      <td>0.041250</td>\n",
       "      <td>0.061250</td>\n",
       "      <td>...</td>\n",
       "      <td>0.050000</td>\n",
       "      <td>0.058750</td>\n",
       "      <td>0.070000</td>\n",
       "      <td>0.041250</td>\n",
       "      <td>0.043750</td>\n",
       "      <td>0.060000</td>\n",
       "      <td>0.046250</td>\n",
       "      <td>0.051250</td>\n",
       "      <td>0.041250</td>\n",
       "      <td>0.041250</td>\n",
       "    </tr>\n",
       "    <tr>\n",
       "      <th>0</th>\n",
       "      <td>P9</td>\n",
       "      <td>N2</td>\n",
       "      <td>no</td>\n",
       "      <td>55.000000</td>\n",
       "      <td>41.000000</td>\n",
       "      <td>50.000000</td>\n",
       "      <td>46.000000</td>\n",
       "      <td>49.000000</td>\n",
       "      <td>58.000000</td>\n",
       "      <td>49.000000</td>\n",
       "      <td>...</td>\n",
       "      <td>50.000000</td>\n",
       "      <td>56.000000</td>\n",
       "      <td>68.000000</td>\n",
       "      <td>57.000000</td>\n",
       "      <td>42.000000</td>\n",
       "      <td>45.000000</td>\n",
       "      <td>34.000000</td>\n",
       "      <td>50.000000</td>\n",
       "      <td>59.000000</td>\n",
       "      <td>45.000000</td>\n",
       "    </tr>\n",
       "    <tr>\n",
       "      <th>0</th>\n",
       "      <td>P9</td>\n",
       "      <td>N2</td>\n",
       "      <td>yes</td>\n",
       "      <td>0.056008</td>\n",
       "      <td>0.041752</td>\n",
       "      <td>0.050916</td>\n",
       "      <td>0.046843</td>\n",
       "      <td>0.049898</td>\n",
       "      <td>0.059063</td>\n",
       "      <td>0.049898</td>\n",
       "      <td>...</td>\n",
       "      <td>0.050916</td>\n",
       "      <td>0.057026</td>\n",
       "      <td>0.069246</td>\n",
       "      <td>0.058045</td>\n",
       "      <td>0.042770</td>\n",
       "      <td>0.045825</td>\n",
       "      <td>0.034623</td>\n",
       "      <td>0.050916</td>\n",
       "      <td>0.060081</td>\n",
       "      <td>0.045825</td>\n",
       "    </tr>\n",
       "    <tr>\n",
       "      <th>0</th>\n",
       "      <td>P10</td>\n",
       "      <td>N2</td>\n",
       "      <td>no</td>\n",
       "      <td>95.000000</td>\n",
       "      <td>116.000000</td>\n",
       "      <td>88.000000</td>\n",
       "      <td>114.000000</td>\n",
       "      <td>76.000000</td>\n",
       "      <td>97.000000</td>\n",
       "      <td>74.000000</td>\n",
       "      <td>...</td>\n",
       "      <td>83.000000</td>\n",
       "      <td>86.000000</td>\n",
       "      <td>107.000000</td>\n",
       "      <td>88.000000</td>\n",
       "      <td>96.000000</td>\n",
       "      <td>112.000000</td>\n",
       "      <td>112.000000</td>\n",
       "      <td>110.000000</td>\n",
       "      <td>123.000000</td>\n",
       "      <td>103.000000</td>\n",
       "    </tr>\n",
       "    <tr>\n",
       "      <th>0</th>\n",
       "      <td>P10</td>\n",
       "      <td>N2</td>\n",
       "      <td>yes</td>\n",
       "      <td>0.050559</td>\n",
       "      <td>0.061735</td>\n",
       "      <td>0.046833</td>\n",
       "      <td>0.060671</td>\n",
       "      <td>0.040447</td>\n",
       "      <td>0.051623</td>\n",
       "      <td>0.039383</td>\n",
       "      <td>...</td>\n",
       "      <td>0.044172</td>\n",
       "      <td>0.045769</td>\n",
       "      <td>0.056945</td>\n",
       "      <td>0.046833</td>\n",
       "      <td>0.051091</td>\n",
       "      <td>0.059606</td>\n",
       "      <td>0.059606</td>\n",
       "      <td>0.058542</td>\n",
       "      <td>0.065460</td>\n",
       "      <td>0.054816</td>\n",
       "    </tr>\n",
       "  </tbody>\n",
       "</table>\n",
       "<p>20 rows × 23 columns</p>\n",
       "</div>"
      ],
      "text/plain": [
       "  patient stage norm           0           1           2           3  \\\n",
       "0      P1    N2   no  116.000000   98.000000  121.000000   95.000000   \n",
       "0      P1    N2  yes    0.052751    0.044566    0.055025    0.043201   \n",
       "0      P2    N2   no  116.000000  103.000000  104.000000  120.000000   \n",
       "0      P2    N2  yes    0.044006    0.039074    0.039454    0.045524   \n",
       "0      P3    N2   no  162.000000  145.000000  104.000000  112.000000   \n",
       "0      P3    N2  yes    0.049375    0.044194    0.031698    0.034136   \n",
       "0      P4    N2   no  118.000000  112.000000  130.000000  116.000000   \n",
       "0      P4    N2  yes    0.047851    0.045418    0.052717    0.047040   \n",
       "0      P5    N2   no   78.000000  121.000000  117.000000  111.000000   \n",
       "0      P5    N2  yes    0.033065    0.051293    0.049597    0.047054   \n",
       "0      P6    N2   no   48.000000   45.000000   45.000000   56.000000   \n",
       "0      P6    N2  yes    0.046693    0.043774    0.043774    0.054475   \n",
       "0      P7    N2   no  259.000000  307.000000  317.000000  248.000000   \n",
       "0      P7    N2  yes    0.048620    0.057631    0.059508    0.046555   \n",
       "0      P8    N2   no   40.000000   62.000000   40.000000   38.000000   \n",
       "0      P8    N2  yes    0.050000    0.077500    0.050000    0.047500   \n",
       "0      P9    N2   no   55.000000   41.000000   50.000000   46.000000   \n",
       "0      P9    N2  yes    0.056008    0.041752    0.050916    0.046843   \n",
       "0     P10    N2   no   95.000000  116.000000   88.000000  114.000000   \n",
       "0     P10    N2  yes    0.050559    0.061735    0.046833    0.060671   \n",
       "\n",
       "            4           5           6  ...          10          11  \\\n",
       "0   98.000000  106.000000  101.000000  ...  110.000000  114.000000   \n",
       "0    0.044566    0.048204    0.045930  ...    0.050023    0.051842   \n",
       "0  119.000000  126.000000  116.000000  ...  182.000000  181.000000   \n",
       "0    0.045144    0.047800    0.044006  ...    0.069044    0.068665   \n",
       "0  140.000000  130.000000  129.000000  ...  158.000000  175.000000   \n",
       "0    0.042670    0.039622    0.039317  ...    0.048156    0.053337   \n",
       "0  128.000000  134.000000  105.000000  ...  114.000000  139.000000   \n",
       "0    0.051906    0.054339    0.042579  ...    0.046229    0.056367   \n",
       "0  103.000000  113.000000  101.000000  ...  111.000000  115.000000   \n",
       "0    0.043663    0.047902    0.042815  ...    0.047054    0.048749   \n",
       "0   39.000000   77.000000   51.000000  ...   56.000000   61.000000   \n",
       "0    0.037938    0.074903    0.049611  ...    0.054475    0.059339   \n",
       "0  276.000000  264.000000  230.000000  ...  255.000000  243.000000   \n",
       "0    0.051812    0.049559    0.043176  ...    0.047869    0.045617   \n",
       "0   29.000000   33.000000   49.000000  ...   40.000000   47.000000   \n",
       "0    0.036250    0.041250    0.061250  ...    0.050000    0.058750   \n",
       "0   49.000000   58.000000   49.000000  ...   50.000000   56.000000   \n",
       "0    0.049898    0.059063    0.049898  ...    0.050916    0.057026   \n",
       "0   76.000000   97.000000   74.000000  ...   83.000000   86.000000   \n",
       "0    0.040447    0.051623    0.039383  ...    0.044172    0.045769   \n",
       "\n",
       "           12          13          14          15          16          17  \\\n",
       "0  117.000000  108.000000  114.000000  116.000000  153.000000  125.000000   \n",
       "0    0.053206    0.049113    0.051842    0.052751    0.069577    0.056844   \n",
       "0  146.000000  153.000000  151.000000  144.000000  137.000000  139.000000   \n",
       "0    0.055387    0.058042    0.057284    0.054628    0.051973    0.052731   \n",
       "0  207.000000  205.000000  209.000000  195.000000  159.000000  185.000000   \n",
       "0    0.063091    0.062481    0.063700    0.059433    0.048461    0.056385   \n",
       "0  148.000000  132.000000  152.000000  120.000000  131.000000  116.000000   \n",
       "0    0.060016    0.053528    0.061638    0.048662    0.053122    0.047040   \n",
       "0  144.000000  125.000000  137.000000  130.000000  155.000000  146.000000   \n",
       "0    0.061043    0.052989    0.058075    0.055108    0.065706    0.061891   \n",
       "0   55.000000   38.000000   41.000000   56.000000   49.000000   53.000000   \n",
       "0    0.053502    0.036965    0.039883    0.054475    0.047665    0.051556   \n",
       "0  280.000000  282.000000  257.000000  274.000000  282.000000  274.000000   \n",
       "0    0.052562    0.052938    0.048245    0.051436    0.052938    0.051436   \n",
       "0   56.000000   33.000000   35.000000   48.000000   37.000000   41.000000   \n",
       "0    0.070000    0.041250    0.043750    0.060000    0.046250    0.051250   \n",
       "0   68.000000   57.000000   42.000000   45.000000   34.000000   50.000000   \n",
       "0    0.069246    0.058045    0.042770    0.045825    0.034623    0.050916   \n",
       "0  107.000000   88.000000   96.000000  112.000000  112.000000  110.000000   \n",
       "0    0.056945    0.046833    0.051091    0.059606    0.059606    0.058542   \n",
       "\n",
       "           18          19  \n",
       "0  112.000000  102.000000  \n",
       "0    0.050932    0.046385  \n",
       "0  146.000000  117.000000  \n",
       "0    0.055387    0.044385  \n",
       "0  204.000000  158.000000  \n",
       "0    0.062176    0.048156  \n",
       "0  107.000000  119.000000  \n",
       "0    0.043390    0.048256  \n",
       "0  112.000000  116.000000  \n",
       "0    0.047478    0.049173  \n",
       "0   47.000000   68.000000  \n",
       "0    0.045720    0.066148  \n",
       "0  308.000000  308.000000  \n",
       "0    0.057819    0.057819  \n",
       "0   33.000000   33.000000  \n",
       "0    0.041250    0.041250  \n",
       "0   59.000000   45.000000  \n",
       "0    0.060081    0.045825  \n",
       "0  123.000000  103.000000  \n",
       "0    0.065460    0.054816  \n",
       "\n",
       "[20 rows x 23 columns]"
      ]
     },
     "execution_count": 37,
     "metadata": {},
     "output_type": "execute_result"
    }
   ],
   "source": [
    "df_20"
   ]
  },
  {
   "cell_type": "code",
   "execution_count": 38,
   "id": "68029901-4155-4e8d-aae1-4b18eb635c33",
   "metadata": {
    "execution": {
     "iopub.execute_input": "2022-06-07T15:09:42.906960Z",
     "iopub.status.busy": "2022-06-07T15:09:42.906851Z",
     "iopub.status.idle": "2022-06-07T15:09:42.926058Z",
     "shell.execute_reply": "2022-06-07T15:09:42.925692Z",
     "shell.execute_reply.started": "2022-06-07T15:09:42.906946Z"
    },
    "tags": []
   },
   "outputs": [],
   "source": [
    "def get_complex_vector(phase, amplitude, axis = 0):\n",
    "    #### phase in radian\n",
    "    #### amplitude 0/1 if spike or whaever positive values if continuous thing\n",
    "    if np.sum(amplitude<0) >0:\n",
    "        print('Caution ! Negative amplitude may disturb mesurement !')\n",
    "    # vectors = np.zeros(phase.shape, dtype ='complex64')\n",
    "    # vectors[:] = (amplitude*np.exp(1j*phase))\n",
    "    vectors = amplitude.astype('float32') * np.exp((1j*phase).astype('complex64'))\n",
    "    # print(vectors.dtype)\n",
    "    mean_vector = np.nanmean(vectors, axis = axis)\n",
    "    vectors = 0\n",
    "    length = abs(mean_vector)\n",
    "    angle = np.angle(mean_vector)\n",
    "    if np.isscalar(angle):\n",
    "        if angle<0:\n",
    "            angle += 2*np.pi\n",
    "    elif isinstance(angle, np.ndarray) :\n",
    "        angle[angle<0] += np.ones(np.sum(angle<0))*2*np.pi\n",
    "    else :\n",
    "        print('unknown data type')\n",
    "        exit()\n",
    "    return angle, length\n"
   ]
  },
  {
   "cell_type": "code",
   "execution_count": 39,
   "id": "af20d2d9-a8f8-4e9b-bb8e-05ba5b9d1208",
   "metadata": {
    "execution": {
     "iopub.execute_input": "2022-06-07T15:09:42.926779Z",
     "iopub.status.busy": "2022-06-07T15:09:42.926668Z",
     "iopub.status.idle": "2022-06-07T15:09:42.944651Z",
     "shell.execute_reply": "2022-06-07T15:09:42.944220Z",
     "shell.execute_reply.started": "2022-06-07T15:09:42.926764Z"
    },
    "tags": []
   },
   "outputs": [],
   "source": [
    "df_20_raw = df_20[df_20['norm'] == 'yes']"
   ]
  },
  {
   "cell_type": "code",
   "execution_count": 40,
   "id": "c780c200-c235-4f8e-a4fc-b2b14d6a616f",
   "metadata": {
    "execution": {
     "iopub.execute_input": "2022-06-07T15:09:42.945268Z",
     "iopub.status.busy": "2022-06-07T15:09:42.945168Z",
     "iopub.status.idle": "2022-06-07T15:09:42.978392Z",
     "shell.execute_reply": "2022-06-07T15:09:42.977993Z",
     "shell.execute_reply.started": "2022-06-07T15:09:42.945256Z"
    },
    "tags": []
   },
   "outputs": [
    {
     "name": "stderr",
     "output_type": "stream",
     "text": [
      "/tmp/ipykernel_48684/2944027958.py:1: FutureWarning: Dropping of nuisance columns in DataFrame reductions (with 'numeric_only=None') is deprecated; in a future version this will raise TypeError.  Select only valid columns before calling the reduction.\n",
      "  df_20_raw.mean()\n"
     ]
    },
    {
     "data": {
      "text/plain": [
       "0     0.047893\n",
       "1     0.050694\n",
       "2     0.047952\n",
       "3     0.047300\n",
       "4     0.044429\n",
       "5     0.051426\n",
       "6     0.045797\n",
       "7     0.046302\n",
       "8     0.041858\n",
       "9     0.044230\n",
       "10    0.050794\n",
       "11    0.054546\n",
       "12    0.059500\n",
       "13    0.051218\n",
       "14    0.051828\n",
       "15    0.054192\n",
       "16    0.052992\n",
       "17    0.053859\n",
       "18    0.052969\n",
       "19    0.050221\n",
       "dtype: float64"
      ]
     },
     "execution_count": 40,
     "metadata": {},
     "output_type": "execute_result"
    }
   ],
   "source": [
    "df_20_raw.mean()"
   ]
  },
  {
   "cell_type": "code",
   "execution_count": 41,
   "id": "01ff8e7c-22cc-4fa3-b0e0-e4381746686e",
   "metadata": {
    "execution": {
     "iopub.execute_input": "2022-06-07T15:09:42.978958Z",
     "iopub.status.busy": "2022-06-07T15:09:42.978858Z",
     "iopub.status.idle": "2022-06-07T15:09:43.008480Z",
     "shell.execute_reply": "2022-06-07T15:09:43.007952Z",
     "shell.execute_reply.started": "2022-06-07T15:09:42.978944Z"
    },
    "tags": []
   },
   "outputs": [
    {
     "data": {
      "text/html": [
       "<div>\n",
       "<style scoped>\n",
       "    .dataframe tbody tr th:only-of-type {\n",
       "        vertical-align: middle;\n",
       "    }\n",
       "\n",
       "    .dataframe tbody tr th {\n",
       "        vertical-align: top;\n",
       "    }\n",
       "\n",
       "    .dataframe thead th {\n",
       "        text-align: right;\n",
       "    }\n",
       "</style>\n",
       "<table border=\"1\" class=\"dataframe\">\n",
       "  <thead>\n",
       "    <tr style=\"text-align: right;\">\n",
       "      <th></th>\n",
       "      <th>patient</th>\n",
       "      <th>stage</th>\n",
       "      <th>norm</th>\n",
       "      <th>0</th>\n",
       "      <th>1</th>\n",
       "      <th>2</th>\n",
       "      <th>3</th>\n",
       "      <th>4</th>\n",
       "      <th>5</th>\n",
       "      <th>6</th>\n",
       "      <th>...</th>\n",
       "      <th>10</th>\n",
       "      <th>11</th>\n",
       "      <th>12</th>\n",
       "      <th>13</th>\n",
       "      <th>14</th>\n",
       "      <th>15</th>\n",
       "      <th>16</th>\n",
       "      <th>17</th>\n",
       "      <th>18</th>\n",
       "      <th>19</th>\n",
       "    </tr>\n",
       "  </thead>\n",
       "  <tbody>\n",
       "    <tr>\n",
       "      <th>0</th>\n",
       "      <td>P1</td>\n",
       "      <td>N2</td>\n",
       "      <td>yes</td>\n",
       "      <td>0.052751</td>\n",
       "      <td>0.044566</td>\n",
       "      <td>0.055025</td>\n",
       "      <td>0.043201</td>\n",
       "      <td>0.044566</td>\n",
       "      <td>0.048204</td>\n",
       "      <td>0.045930</td>\n",
       "      <td>...</td>\n",
       "      <td>0.050023</td>\n",
       "      <td>0.051842</td>\n",
       "      <td>0.053206</td>\n",
       "      <td>0.049113</td>\n",
       "      <td>0.051842</td>\n",
       "      <td>0.052751</td>\n",
       "      <td>0.069577</td>\n",
       "      <td>0.056844</td>\n",
       "      <td>0.050932</td>\n",
       "      <td>0.046385</td>\n",
       "    </tr>\n",
       "    <tr>\n",
       "      <th>0</th>\n",
       "      <td>P2</td>\n",
       "      <td>N2</td>\n",
       "      <td>yes</td>\n",
       "      <td>0.044006</td>\n",
       "      <td>0.039074</td>\n",
       "      <td>0.039454</td>\n",
       "      <td>0.045524</td>\n",
       "      <td>0.045144</td>\n",
       "      <td>0.047800</td>\n",
       "      <td>0.044006</td>\n",
       "      <td>...</td>\n",
       "      <td>0.069044</td>\n",
       "      <td>0.068665</td>\n",
       "      <td>0.055387</td>\n",
       "      <td>0.058042</td>\n",
       "      <td>0.057284</td>\n",
       "      <td>0.054628</td>\n",
       "      <td>0.051973</td>\n",
       "      <td>0.052731</td>\n",
       "      <td>0.055387</td>\n",
       "      <td>0.044385</td>\n",
       "    </tr>\n",
       "    <tr>\n",
       "      <th>0</th>\n",
       "      <td>P3</td>\n",
       "      <td>N2</td>\n",
       "      <td>yes</td>\n",
       "      <td>0.049375</td>\n",
       "      <td>0.044194</td>\n",
       "      <td>0.031698</td>\n",
       "      <td>0.034136</td>\n",
       "      <td>0.042670</td>\n",
       "      <td>0.039622</td>\n",
       "      <td>0.039317</td>\n",
       "      <td>...</td>\n",
       "      <td>0.048156</td>\n",
       "      <td>0.053337</td>\n",
       "      <td>0.063091</td>\n",
       "      <td>0.062481</td>\n",
       "      <td>0.063700</td>\n",
       "      <td>0.059433</td>\n",
       "      <td>0.048461</td>\n",
       "      <td>0.056385</td>\n",
       "      <td>0.062176</td>\n",
       "      <td>0.048156</td>\n",
       "    </tr>\n",
       "    <tr>\n",
       "      <th>0</th>\n",
       "      <td>P4</td>\n",
       "      <td>N2</td>\n",
       "      <td>yes</td>\n",
       "      <td>0.047851</td>\n",
       "      <td>0.045418</td>\n",
       "      <td>0.052717</td>\n",
       "      <td>0.047040</td>\n",
       "      <td>0.051906</td>\n",
       "      <td>0.054339</td>\n",
       "      <td>0.042579</td>\n",
       "      <td>...</td>\n",
       "      <td>0.046229</td>\n",
       "      <td>0.056367</td>\n",
       "      <td>0.060016</td>\n",
       "      <td>0.053528</td>\n",
       "      <td>0.061638</td>\n",
       "      <td>0.048662</td>\n",
       "      <td>0.053122</td>\n",
       "      <td>0.047040</td>\n",
       "      <td>0.043390</td>\n",
       "      <td>0.048256</td>\n",
       "    </tr>\n",
       "    <tr>\n",
       "      <th>0</th>\n",
       "      <td>P5</td>\n",
       "      <td>N2</td>\n",
       "      <td>yes</td>\n",
       "      <td>0.033065</td>\n",
       "      <td>0.051293</td>\n",
       "      <td>0.049597</td>\n",
       "      <td>0.047054</td>\n",
       "      <td>0.043663</td>\n",
       "      <td>0.047902</td>\n",
       "      <td>0.042815</td>\n",
       "      <td>...</td>\n",
       "      <td>0.047054</td>\n",
       "      <td>0.048749</td>\n",
       "      <td>0.061043</td>\n",
       "      <td>0.052989</td>\n",
       "      <td>0.058075</td>\n",
       "      <td>0.055108</td>\n",
       "      <td>0.065706</td>\n",
       "      <td>0.061891</td>\n",
       "      <td>0.047478</td>\n",
       "      <td>0.049173</td>\n",
       "    </tr>\n",
       "    <tr>\n",
       "      <th>0</th>\n",
       "      <td>P6</td>\n",
       "      <td>N2</td>\n",
       "      <td>yes</td>\n",
       "      <td>0.046693</td>\n",
       "      <td>0.043774</td>\n",
       "      <td>0.043774</td>\n",
       "      <td>0.054475</td>\n",
       "      <td>0.037938</td>\n",
       "      <td>0.074903</td>\n",
       "      <td>0.049611</td>\n",
       "      <td>...</td>\n",
       "      <td>0.054475</td>\n",
       "      <td>0.059339</td>\n",
       "      <td>0.053502</td>\n",
       "      <td>0.036965</td>\n",
       "      <td>0.039883</td>\n",
       "      <td>0.054475</td>\n",
       "      <td>0.047665</td>\n",
       "      <td>0.051556</td>\n",
       "      <td>0.045720</td>\n",
       "      <td>0.066148</td>\n",
       "    </tr>\n",
       "    <tr>\n",
       "      <th>0</th>\n",
       "      <td>P7</td>\n",
       "      <td>N2</td>\n",
       "      <td>yes</td>\n",
       "      <td>0.048620</td>\n",
       "      <td>0.057631</td>\n",
       "      <td>0.059508</td>\n",
       "      <td>0.046555</td>\n",
       "      <td>0.051812</td>\n",
       "      <td>0.049559</td>\n",
       "      <td>0.043176</td>\n",
       "      <td>...</td>\n",
       "      <td>0.047869</td>\n",
       "      <td>0.045617</td>\n",
       "      <td>0.052562</td>\n",
       "      <td>0.052938</td>\n",
       "      <td>0.048245</td>\n",
       "      <td>0.051436</td>\n",
       "      <td>0.052938</td>\n",
       "      <td>0.051436</td>\n",
       "      <td>0.057819</td>\n",
       "      <td>0.057819</td>\n",
       "    </tr>\n",
       "    <tr>\n",
       "      <th>0</th>\n",
       "      <td>P8</td>\n",
       "      <td>N2</td>\n",
       "      <td>yes</td>\n",
       "      <td>0.050000</td>\n",
       "      <td>0.077500</td>\n",
       "      <td>0.050000</td>\n",
       "      <td>0.047500</td>\n",
       "      <td>0.036250</td>\n",
       "      <td>0.041250</td>\n",
       "      <td>0.061250</td>\n",
       "      <td>...</td>\n",
       "      <td>0.050000</td>\n",
       "      <td>0.058750</td>\n",
       "      <td>0.070000</td>\n",
       "      <td>0.041250</td>\n",
       "      <td>0.043750</td>\n",
       "      <td>0.060000</td>\n",
       "      <td>0.046250</td>\n",
       "      <td>0.051250</td>\n",
       "      <td>0.041250</td>\n",
       "      <td>0.041250</td>\n",
       "    </tr>\n",
       "    <tr>\n",
       "      <th>0</th>\n",
       "      <td>P9</td>\n",
       "      <td>N2</td>\n",
       "      <td>yes</td>\n",
       "      <td>0.056008</td>\n",
       "      <td>0.041752</td>\n",
       "      <td>0.050916</td>\n",
       "      <td>0.046843</td>\n",
       "      <td>0.049898</td>\n",
       "      <td>0.059063</td>\n",
       "      <td>0.049898</td>\n",
       "      <td>...</td>\n",
       "      <td>0.050916</td>\n",
       "      <td>0.057026</td>\n",
       "      <td>0.069246</td>\n",
       "      <td>0.058045</td>\n",
       "      <td>0.042770</td>\n",
       "      <td>0.045825</td>\n",
       "      <td>0.034623</td>\n",
       "      <td>0.050916</td>\n",
       "      <td>0.060081</td>\n",
       "      <td>0.045825</td>\n",
       "    </tr>\n",
       "    <tr>\n",
       "      <th>0</th>\n",
       "      <td>P10</td>\n",
       "      <td>N2</td>\n",
       "      <td>yes</td>\n",
       "      <td>0.050559</td>\n",
       "      <td>0.061735</td>\n",
       "      <td>0.046833</td>\n",
       "      <td>0.060671</td>\n",
       "      <td>0.040447</td>\n",
       "      <td>0.051623</td>\n",
       "      <td>0.039383</td>\n",
       "      <td>...</td>\n",
       "      <td>0.044172</td>\n",
       "      <td>0.045769</td>\n",
       "      <td>0.056945</td>\n",
       "      <td>0.046833</td>\n",
       "      <td>0.051091</td>\n",
       "      <td>0.059606</td>\n",
       "      <td>0.059606</td>\n",
       "      <td>0.058542</td>\n",
       "      <td>0.065460</td>\n",
       "      <td>0.054816</td>\n",
       "    </tr>\n",
       "  </tbody>\n",
       "</table>\n",
       "<p>10 rows × 23 columns</p>\n",
       "</div>"
      ],
      "text/plain": [
       "  patient stage norm         0         1         2         3         4  \\\n",
       "0      P1    N2  yes  0.052751  0.044566  0.055025  0.043201  0.044566   \n",
       "0      P2    N2  yes  0.044006  0.039074  0.039454  0.045524  0.045144   \n",
       "0      P3    N2  yes  0.049375  0.044194  0.031698  0.034136  0.042670   \n",
       "0      P4    N2  yes  0.047851  0.045418  0.052717  0.047040  0.051906   \n",
       "0      P5    N2  yes  0.033065  0.051293  0.049597  0.047054  0.043663   \n",
       "0      P6    N2  yes  0.046693  0.043774  0.043774  0.054475  0.037938   \n",
       "0      P7    N2  yes  0.048620  0.057631  0.059508  0.046555  0.051812   \n",
       "0      P8    N2  yes  0.050000  0.077500  0.050000  0.047500  0.036250   \n",
       "0      P9    N2  yes  0.056008  0.041752  0.050916  0.046843  0.049898   \n",
       "0     P10    N2  yes  0.050559  0.061735  0.046833  0.060671  0.040447   \n",
       "\n",
       "          5         6  ...        10        11        12        13        14  \\\n",
       "0  0.048204  0.045930  ...  0.050023  0.051842  0.053206  0.049113  0.051842   \n",
       "0  0.047800  0.044006  ...  0.069044  0.068665  0.055387  0.058042  0.057284   \n",
       "0  0.039622  0.039317  ...  0.048156  0.053337  0.063091  0.062481  0.063700   \n",
       "0  0.054339  0.042579  ...  0.046229  0.056367  0.060016  0.053528  0.061638   \n",
       "0  0.047902  0.042815  ...  0.047054  0.048749  0.061043  0.052989  0.058075   \n",
       "0  0.074903  0.049611  ...  0.054475  0.059339  0.053502  0.036965  0.039883   \n",
       "0  0.049559  0.043176  ...  0.047869  0.045617  0.052562  0.052938  0.048245   \n",
       "0  0.041250  0.061250  ...  0.050000  0.058750  0.070000  0.041250  0.043750   \n",
       "0  0.059063  0.049898  ...  0.050916  0.057026  0.069246  0.058045  0.042770   \n",
       "0  0.051623  0.039383  ...  0.044172  0.045769  0.056945  0.046833  0.051091   \n",
       "\n",
       "         15        16        17        18        19  \n",
       "0  0.052751  0.069577  0.056844  0.050932  0.046385  \n",
       "0  0.054628  0.051973  0.052731  0.055387  0.044385  \n",
       "0  0.059433  0.048461  0.056385  0.062176  0.048156  \n",
       "0  0.048662  0.053122  0.047040  0.043390  0.048256  \n",
       "0  0.055108  0.065706  0.061891  0.047478  0.049173  \n",
       "0  0.054475  0.047665  0.051556  0.045720  0.066148  \n",
       "0  0.051436  0.052938  0.051436  0.057819  0.057819  \n",
       "0  0.060000  0.046250  0.051250  0.041250  0.041250  \n",
       "0  0.045825  0.034623  0.050916  0.060081  0.045825  \n",
       "0  0.059606  0.059606  0.058542  0.065460  0.054816  \n",
       "\n",
       "[10 rows x 23 columns]"
      ]
     },
     "execution_count": 41,
     "metadata": {},
     "output_type": "execute_result"
    }
   ],
   "source": [
    "df_20_raw"
   ]
  },
  {
   "cell_type": "code",
   "execution_count": 42,
   "id": "1ce28d00-649c-4ab1-bca5-b1f3c176d030",
   "metadata": {
    "execution": {
     "iopub.execute_input": "2022-06-07T15:09:43.009648Z",
     "iopub.status.busy": "2022-06-07T15:09:43.009247Z",
     "iopub.status.idle": "2022-06-07T15:09:43.028857Z",
     "shell.execute_reply": "2022-06-07T15:09:43.028367Z",
     "shell.execute_reply.started": "2022-06-07T15:09:43.009626Z"
    },
    "tags": []
   },
   "outputs": [
    {
     "data": {
      "text/plain": [
       "array([0.03306485799067401, 0.05129292072912251, 0.04959728698601102,\n",
       "       0.04705383637134379, 0.043662568885120816, 0.047901653242899536,\n",
       "       0.04281475201356507, 0.03603221704111912, 0.051716829164900384,\n",
       "       0.04959728698601102, 0.04705383637134379, 0.048749470114455275,\n",
       "       0.06104281475201356, 0.052988554472233995, 0.05807545570156846,\n",
       "       0.05510809665112336, 0.06570580754557016, 0.06189063162356931,\n",
       "       0.04747774480712166, 0.04917337855023315], dtype=object)"
      ]
     },
     "execution_count": 42,
     "metadata": {},
     "output_type": "execute_result"
    }
   ],
   "source": [
    "df_20_raw.iloc[4,3:].values"
   ]
  },
  {
   "cell_type": "code",
   "execution_count": 43,
   "id": "7b455fc9-f4d1-487c-a186-4c58955fa466",
   "metadata": {
    "execution": {
     "iopub.execute_input": "2022-06-07T15:09:43.029748Z",
     "iopub.status.busy": "2022-06-07T15:09:43.029513Z",
     "iopub.status.idle": "2022-06-07T15:09:43.048529Z",
     "shell.execute_reply": "2022-06-07T15:09:43.048070Z",
     "shell.execute_reply.started": "2022-06-07T15:09:43.029729Z"
    },
    "tags": []
   },
   "outputs": [],
   "source": [
    "def phases_in_radian(nbins = 20):\n",
    "    phases = np.linspace(0 , 2*np.pi , 20)\n",
    "    return phases"
   ]
  },
  {
   "cell_type": "code",
   "execution_count": 44,
   "id": "a219cdeb-478d-435a-a1ab-b45f3773700d",
   "metadata": {
    "execution": {
     "iopub.execute_input": "2022-06-07T15:09:43.049362Z",
     "iopub.status.busy": "2022-06-07T15:09:43.049133Z",
     "iopub.status.idle": "2022-06-07T15:09:43.067967Z",
     "shell.execute_reply": "2022-06-07T15:09:43.067611Z",
     "shell.execute_reply.started": "2022-06-07T15:09:43.049343Z"
    },
    "tags": []
   },
   "outputs": [],
   "source": [
    "phases = phases_in_radian(nbins = 20)"
   ]
  },
  {
   "cell_type": "code",
   "execution_count": 45,
   "id": "c1d4fe82-64c1-42c1-882d-05795efef066",
   "metadata": {
    "execution": {
     "iopub.execute_input": "2022-06-07T15:09:43.068816Z",
     "iopub.status.busy": "2022-06-07T15:09:43.068628Z",
     "iopub.status.idle": "2022-06-07T15:09:43.090388Z",
     "shell.execute_reply": "2022-06-07T15:09:43.089821Z",
     "shell.execute_reply.started": "2022-06-07T15:09:43.068789Z"
    },
    "tags": []
   },
   "outputs": [
    {
     "data": {
      "text/plain": [
       "array([0.        , 0.33069396, 0.66138793, 0.99208189, 1.32277585,\n",
       "       1.65346982, 1.98416378, 2.31485774, 2.64555171, 2.97624567,\n",
       "       3.30693964, 3.6376336 , 3.96832756, 4.29902153, 4.62971549,\n",
       "       4.96040945, 5.29110342, 5.62179738, 5.95249134, 6.28318531])"
      ]
     },
     "execution_count": 45,
     "metadata": {},
     "output_type": "execute_result"
    }
   ],
   "source": [
    "phases"
   ]
  },
  {
   "cell_type": "code",
   "execution_count": 46,
   "id": "00b5a465-7bf6-4c04-9451-10e0eebdc9da",
   "metadata": {
    "execution": {
     "iopub.execute_input": "2022-06-07T15:09:43.091164Z",
     "iopub.status.busy": "2022-06-07T15:09:43.090983Z",
     "iopub.status.idle": "2022-06-07T15:09:43.111981Z",
     "shell.execute_reply": "2022-06-07T15:09:43.111503Z",
     "shell.execute_reply.started": "2022-06-07T15:09:43.091145Z"
    },
    "tags": []
   },
   "outputs": [
    {
     "data": {
      "text/plain": [
       "array([0.        , 0.33069396, 0.66138793, 0.99208189, 1.32277585,\n",
       "       1.65346982, 1.98416378, 2.31485774, 2.64555171, 2.97624567,\n",
       "       3.30693964, 3.6376336 , 3.96832756, 4.29902153, 4.62971549,\n",
       "       4.96040945, 5.29110342, 5.62179738, 5.95249134, 6.28318531])"
      ]
     },
     "execution_count": 46,
     "metadata": {},
     "output_type": "execute_result"
    }
   ],
   "source": [
    "np.linspace(0 , 2*np.pi , 20)"
   ]
  },
  {
   "cell_type": "code",
   "execution_count": 47,
   "id": "f32534bb-7ca7-4996-a2f8-1c9fb3164ba9",
   "metadata": {
    "execution": {
     "iopub.execute_input": "2022-06-07T15:09:43.112866Z",
     "iopub.status.busy": "2022-06-07T15:09:43.112709Z",
     "iopub.status.idle": "2022-06-07T15:09:43.133285Z",
     "shell.execute_reply": "2022-06-07T15:09:43.132796Z",
     "shell.execute_reply.started": "2022-06-07T15:09:43.112846Z"
    },
    "tags": []
   },
   "outputs": [
    {
     "data": {
      "text/plain": [
       "array([0.        , 0.31415927, 0.62831853, 0.9424778 , 1.25663706,\n",
       "       1.57079633, 1.88495559, 2.19911486, 2.51327412, 2.82743339,\n",
       "       3.14159265, 3.45575192, 3.76991118, 4.08407045, 4.39822972,\n",
       "       4.71238898, 5.02654825, 5.34070751, 5.65486678, 5.96902604])"
      ]
     },
     "execution_count": 47,
     "metadata": {},
     "output_type": "execute_result"
    }
   ],
   "source": [
    "np.arange(20) / 20 * 2 * np.pi"
   ]
  },
  {
   "cell_type": "code",
   "execution_count": 48,
   "id": "8b87c027-200b-47cc-bf70-948c277ed6ca",
   "metadata": {
    "execution": {
     "iopub.execute_input": "2022-06-07T15:09:43.134239Z",
     "iopub.status.busy": "2022-06-07T15:09:43.133964Z",
     "iopub.status.idle": "2022-06-07T15:09:43.153089Z",
     "shell.execute_reply": "2022-06-07T15:09:43.152705Z",
     "shell.execute_reply.started": "2022-06-07T15:09:43.134218Z"
    },
    "tags": []
   },
   "outputs": [
    {
     "data": {
      "text/plain": [
       "20"
      ]
     },
     "execution_count": 48,
     "metadata": {},
     "output_type": "execute_result"
    }
   ],
   "source": [
    "phases_in_radian().size"
   ]
  },
  {
   "cell_type": "code",
   "execution_count": 49,
   "id": "7e0ad130-a43a-4015-a751-a2f64d4873c0",
   "metadata": {
    "execution": {
     "iopub.execute_input": "2022-06-07T15:09:43.154510Z",
     "iopub.status.busy": "2022-06-07T15:09:43.154286Z",
     "iopub.status.idle": "2022-06-07T15:09:43.184176Z",
     "shell.execute_reply": "2022-06-07T15:09:43.183734Z",
     "shell.execute_reply.started": "2022-06-07T15:09:43.154489Z"
    },
    "tags": []
   },
   "outputs": [
    {
     "name": "stderr",
     "output_type": "stream",
     "text": [
      "/tmp/ipykernel_48684/3326889762.py:1: FutureWarning: Dropping of nuisance columns in DataFrame reductions (with 'numeric_only=None') is deprecated; in a future version this will raise TypeError.  Select only valid columns before calling the reduction.\n",
      "  angle, length = get_complex_vector(phase=np.arange(20) / 20 * 2 * np.pi, amplitude=df_20_raw.mean().values)\n"
     ]
    }
   ],
   "source": [
    "angle, length = get_complex_vector(phase=np.arange(20) / 20 * 2 * np.pi, amplitude=df_20_raw.mean().values)"
   ]
  },
  {
   "cell_type": "code",
   "execution_count": 50,
   "id": "8fe54043-f254-4800-a0ec-4ade6547432c",
   "metadata": {
    "execution": {
     "iopub.execute_input": "2022-06-07T15:09:43.184988Z",
     "iopub.status.busy": "2022-06-07T15:09:43.184845Z",
     "iopub.status.idle": "2022-06-07T15:09:43.204336Z",
     "shell.execute_reply": "2022-06-07T15:09:43.203929Z",
     "shell.execute_reply.started": "2022-06-07T15:09:43.184974Z"
    },
    "tags": []
   },
   "outputs": [
    {
     "data": {
      "text/plain": [
       "4.732656184826986"
      ]
     },
     "execution_count": 50,
     "metadata": {},
     "output_type": "execute_result"
    }
   ],
   "source": [
    "angle"
   ]
  },
  {
   "cell_type": "code",
   "execution_count": 51,
   "id": "b6fbd5e5-d28d-4c7c-91f7-2ef69380db79",
   "metadata": {
    "execution": {
     "iopub.execute_input": "2022-06-07T15:09:43.205098Z",
     "iopub.status.busy": "2022-06-07T15:09:43.204931Z",
     "iopub.status.idle": "2022-06-07T15:09:43.224185Z",
     "shell.execute_reply": "2022-06-07T15:09:43.223748Z",
     "shell.execute_reply.started": "2022-06-07T15:09:43.205077Z"
    },
    "tags": []
   },
   "outputs": [
    {
     "data": {
      "text/plain": [
       "0.0021149954"
      ]
     },
     "execution_count": 51,
     "metadata": {},
     "output_type": "execute_result"
    }
   ],
   "source": [
    "length"
   ]
  },
  {
   "cell_type": "code",
   "execution_count": 52,
   "id": "76e584e1-eaa6-4e89-9ac1-989a20d4af34",
   "metadata": {
    "execution": {
     "iopub.execute_input": "2022-06-07T15:09:43.224877Z",
     "iopub.status.busy": "2022-06-07T15:09:43.224740Z",
     "iopub.status.idle": "2022-06-07T15:09:43.422405Z",
     "shell.execute_reply": "2022-06-07T15:09:43.421923Z",
     "shell.execute_reply.started": "2022-06-07T15:09:43.224856Z"
    },
    "tags": []
   },
   "outputs": [
    {
     "name": "stderr",
     "output_type": "stream",
     "text": [
      "/tmp/ipykernel_48684/639391468.py:2: FutureWarning: Dropping of nuisance columns in DataFrame reductions (with 'numeric_only=None') is deprecated; in a future version this will raise TypeError.  Select only valid columns before calling the reduction.\n",
      "  df_20_raw.mean().round(3).plot.bar(ax=ax)\n"
     ]
    },
    {
     "data": {
      "text/plain": [
       "Text(0.5, 1.0, 'Mean phase_histogram with 20 bins')"
      ]
     },
     "execution_count": 52,
     "metadata": {},
     "output_type": "execute_result"
    },
    {
     "data": {
      "image/png": "[encoded data removed]",
      "text/plain": [
       "<Figure size 1440x720 with 1 Axes>"
      ]
     },
     "metadata": {
      "needs_background": "light"
     },
     "output_type": "display_data"
    }
   ],
   "source": [
    "fig , ax = plt.subplots(figsize = (20,10))\n",
    "df_20_raw.mean().round(3).plot.bar(ax=ax)\n",
    "ax.bar_label(ax.containers[0])\n",
    "ax.set_title('Mean phase_histogram with 20 bins')\n",
    "# plt.savefig('../presentation_2/mean_20_bins')"
   ]
  },
  {
   "cell_type": "code",
   "execution_count": 53,
   "id": "ab77ef58-f9b6-4112-ae8f-589dfd8235cd",
   "metadata": {
    "execution": {
     "iopub.execute_input": "2022-06-07T15:09:43.423120Z",
     "iopub.status.busy": "2022-06-07T15:09:43.422985Z",
     "iopub.status.idle": "2022-06-07T15:09:43.460911Z",
     "shell.execute_reply": "2022-06-07T15:09:43.460251Z",
     "shell.execute_reply.started": "2022-06-07T15:09:43.423086Z"
    }
   },
   "outputs": [
    {
     "name": "stderr",
     "output_type": "stream",
     "text": [
      "/tmp/ipykernel_48684/3326889762.py:1: FutureWarning: Dropping of nuisance columns in DataFrame reductions (with 'numeric_only=None') is deprecated; in a future version this will raise TypeError.  Select only valid columns before calling the reduction.\n",
      "  angle, length = get_complex_vector(phase=np.arange(20) / 20 * 2 * np.pi, amplitude=df_20_raw.mean().values)\n"
     ]
    }
   ],
   "source": [
    "angle, length = get_complex_vector(phase=np.arange(20) / 20 * 2 * np.pi, amplitude=df_20_raw.mean().values)"
   ]
  },
  {
   "cell_type": "code",
   "execution_count": 54,
   "id": "682c1e34-16c6-4704-846c-ed8cb86d20e8",
   "metadata": {
    "execution": {
     "iopub.execute_input": "2022-06-07T15:09:43.461851Z",
     "iopub.status.busy": "2022-06-07T15:09:43.461630Z",
     "iopub.status.idle": "2022-06-07T15:09:43.482317Z",
     "shell.execute_reply": "2022-06-07T15:09:43.481904Z",
     "shell.execute_reply.started": "2022-06-07T15:09:43.461835Z"
    }
   },
   "outputs": [
    {
     "data": {
      "text/plain": [
       "0.0021149954"
      ]
     },
     "execution_count": 54,
     "metadata": {},
     "output_type": "execute_result"
    }
   ],
   "source": [
    "length"
   ]
  },
  {
   "cell_type": "code",
   "execution_count": 55,
   "id": "adf46b36-135b-4e13-be41-b6b4de7a4590",
   "metadata": {
    "execution": {
     "iopub.execute_input": "2022-06-07T15:09:43.482979Z",
     "iopub.status.busy": "2022-06-07T15:09:43.482835Z",
     "iopub.status.idle": "2022-06-07T15:09:46.753523Z",
     "shell.execute_reply": "2022-06-07T15:09:46.753103Z",
     "shell.execute_reply.started": "2022-06-07T15:09:43.482951Z"
    },
    "tags": []
   },
   "outputs": [],
   "source": [
    "concat = []\n",
    "for patient in patients:\n",
    "    concat.append(pd.read_excel(f'../df_analyse/resp_features_{patient}.xlsx', index_col = 0))\n",
    "df_all_rsp_features = pd.concat(concat)"
   ]
  },
  {
   "cell_type": "code",
   "execution_count": 56,
   "id": "af05ca4a-bf64-470d-b3d5-ef5cc5b3c6dd",
   "metadata": {
    "execution": {
     "iopub.execute_input": "2022-06-07T15:09:46.754104Z",
     "iopub.status.busy": "2022-06-07T15:09:46.754004Z",
     "iopub.status.idle": "2022-06-07T15:09:46.787516Z",
     "shell.execute_reply": "2022-06-07T15:09:46.787115Z",
     "shell.execute_reply.started": "2022-06-07T15:09:46.754091Z"
    },
    "tags": []
   },
   "outputs": [
    {
     "data": {
      "text/html": [
       "<div>\n",
       "<style scoped>\n",
       "    .dataframe tbody tr th:only-of-type {\n",
       "        vertical-align: middle;\n",
       "    }\n",
       "\n",
       "    .dataframe tbody tr th {\n",
       "        vertical-align: top;\n",
       "    }\n",
       "\n",
       "    .dataframe thead th {\n",
       "        text-align: right;\n",
       "    }\n",
       "</style>\n",
       "<table border=\"1\" class=\"dataframe\">\n",
       "  <thead>\n",
       "    <tr style=\"text-align: right;\">\n",
       "      <th></th>\n",
       "      <th>patient</th>\n",
       "      <th>stage</th>\n",
       "      <th>norm</th>\n",
       "      <th>0</th>\n",
       "      <th>1</th>\n",
       "      <th>2</th>\n",
       "      <th>3</th>\n",
       "      <th>4</th>\n",
       "      <th>5</th>\n",
       "      <th>6</th>\n",
       "      <th>...</th>\n",
       "      <th>10</th>\n",
       "      <th>11</th>\n",
       "      <th>12</th>\n",
       "      <th>13</th>\n",
       "      <th>14</th>\n",
       "      <th>15</th>\n",
       "      <th>16</th>\n",
       "      <th>17</th>\n",
       "      <th>18</th>\n",
       "      <th>19</th>\n",
       "    </tr>\n",
       "  </thead>\n",
       "  <tbody>\n",
       "    <tr>\n",
       "      <th>0</th>\n",
       "      <td>P1</td>\n",
       "      <td>N2</td>\n",
       "      <td>no</td>\n",
       "      <td>116.000000</td>\n",
       "      <td>98.000000</td>\n",
       "      <td>121.000000</td>\n",
       "      <td>95.000000</td>\n",
       "      <td>98.000000</td>\n",
       "      <td>106.000000</td>\n",
       "      <td>101.000000</td>\n",
       "      <td>...</td>\n",
       "      <td>110.000000</td>\n",
       "      <td>114.000000</td>\n",
       "      <td>117.000000</td>\n",
       "      <td>108.000000</td>\n",
       "      <td>114.000000</td>\n",
       "      <td>116.000000</td>\n",
       "      <td>153.000000</td>\n",
       "      <td>125.000000</td>\n",
       "      <td>112.000000</td>\n",
       "      <td>102.000000</td>\n",
       "    </tr>\n",
       "    <tr>\n",
       "      <th>0</th>\n",
       "      <td>P1</td>\n",
       "      <td>N2</td>\n",
       "      <td>yes</td>\n",
       "      <td>0.052751</td>\n",
       "      <td>0.044566</td>\n",
       "      <td>0.055025</td>\n",
       "      <td>0.043201</td>\n",
       "      <td>0.044566</td>\n",
       "      <td>0.048204</td>\n",
       "      <td>0.045930</td>\n",
       "      <td>...</td>\n",
       "      <td>0.050023</td>\n",
       "      <td>0.051842</td>\n",
       "      <td>0.053206</td>\n",
       "      <td>0.049113</td>\n",
       "      <td>0.051842</td>\n",
       "      <td>0.052751</td>\n",
       "      <td>0.069577</td>\n",
       "      <td>0.056844</td>\n",
       "      <td>0.050932</td>\n",
       "      <td>0.046385</td>\n",
       "    </tr>\n",
       "    <tr>\n",
       "      <th>0</th>\n",
       "      <td>P2</td>\n",
       "      <td>N2</td>\n",
       "      <td>no</td>\n",
       "      <td>116.000000</td>\n",
       "      <td>103.000000</td>\n",
       "      <td>104.000000</td>\n",
       "      <td>120.000000</td>\n",
       "      <td>119.000000</td>\n",
       "      <td>126.000000</td>\n",
       "      <td>116.000000</td>\n",
       "      <td>...</td>\n",
       "      <td>182.000000</td>\n",
       "      <td>181.000000</td>\n",
       "      <td>146.000000</td>\n",
       "      <td>153.000000</td>\n",
       "      <td>151.000000</td>\n",
       "      <td>144.000000</td>\n",
       "      <td>137.000000</td>\n",
       "      <td>139.000000</td>\n",
       "      <td>146.000000</td>\n",
       "      <td>117.000000</td>\n",
       "    </tr>\n",
       "    <tr>\n",
       "      <th>0</th>\n",
       "      <td>P2</td>\n",
       "      <td>N2</td>\n",
       "      <td>yes</td>\n",
       "      <td>0.044006</td>\n",
       "      <td>0.039074</td>\n",
       "      <td>0.039454</td>\n",
       "      <td>0.045524</td>\n",
       "      <td>0.045144</td>\n",
       "      <td>0.047800</td>\n",
       "      <td>0.044006</td>\n",
       "      <td>...</td>\n",
       "      <td>0.069044</td>\n",
       "      <td>0.068665</td>\n",
       "      <td>0.055387</td>\n",
       "      <td>0.058042</td>\n",
       "      <td>0.057284</td>\n",
       "      <td>0.054628</td>\n",
       "      <td>0.051973</td>\n",
       "      <td>0.052731</td>\n",
       "      <td>0.055387</td>\n",
       "      <td>0.044385</td>\n",
       "    </tr>\n",
       "    <tr>\n",
       "      <th>0</th>\n",
       "      <td>P3</td>\n",
       "      <td>N2</td>\n",
       "      <td>no</td>\n",
       "      <td>162.000000</td>\n",
       "      <td>145.000000</td>\n",
       "      <td>104.000000</td>\n",
       "      <td>112.000000</td>\n",
       "      <td>140.000000</td>\n",
       "      <td>130.000000</td>\n",
       "      <td>129.000000</td>\n",
       "      <td>...</td>\n",
       "      <td>158.000000</td>\n",
       "      <td>175.000000</td>\n",
       "      <td>207.000000</td>\n",
       "      <td>205.000000</td>\n",
       "      <td>209.000000</td>\n",
       "      <td>195.000000</td>\n",
       "      <td>159.000000</td>\n",
       "      <td>185.000000</td>\n",
       "      <td>204.000000</td>\n",
       "      <td>158.000000</td>\n",
       "    </tr>\n",
       "    <tr>\n",
       "      <th>0</th>\n",
       "      <td>P3</td>\n",
       "      <td>N2</td>\n",
       "      <td>yes</td>\n",
       "      <td>0.049375</td>\n",
       "      <td>0.044194</td>\n",
       "      <td>0.031698</td>\n",
       "      <td>0.034136</td>\n",
       "      <td>0.042670</td>\n",
       "      <td>0.039622</td>\n",
       "      <td>0.039317</td>\n",
       "      <td>...</td>\n",
       "      <td>0.048156</td>\n",
       "      <td>0.053337</td>\n",
       "      <td>0.063091</td>\n",
       "      <td>0.062481</td>\n",
       "      <td>0.063700</td>\n",
       "      <td>0.059433</td>\n",
       "      <td>0.048461</td>\n",
       "      <td>0.056385</td>\n",
       "      <td>0.062176</td>\n",
       "      <td>0.048156</td>\n",
       "    </tr>\n",
       "    <tr>\n",
       "      <th>0</th>\n",
       "      <td>P4</td>\n",
       "      <td>N2</td>\n",
       "      <td>no</td>\n",
       "      <td>118.000000</td>\n",
       "      <td>112.000000</td>\n",
       "      <td>130.000000</td>\n",
       "      <td>116.000000</td>\n",
       "      <td>128.000000</td>\n",
       "      <td>134.000000</td>\n",
       "      <td>105.000000</td>\n",
       "      <td>...</td>\n",
       "      <td>114.000000</td>\n",
       "      <td>139.000000</td>\n",
       "      <td>148.000000</td>\n",
       "      <td>132.000000</td>\n",
       "      <td>152.000000</td>\n",
       "      <td>120.000000</td>\n",
       "      <td>131.000000</td>\n",
       "      <td>116.000000</td>\n",
       "      <td>107.000000</td>\n",
       "      <td>119.000000</td>\n",
       "    </tr>\n",
       "    <tr>\n",
       "      <th>0</th>\n",
       "      <td>P4</td>\n",
       "      <td>N2</td>\n",
       "      <td>yes</td>\n",
       "      <td>0.047851</td>\n",
       "      <td>0.045418</td>\n",
       "      <td>0.052717</td>\n",
       "      <td>0.047040</td>\n",
       "      <td>0.051906</td>\n",
       "      <td>0.054339</td>\n",
       "      <td>0.042579</td>\n",
       "      <td>...</td>\n",
       "      <td>0.046229</td>\n",
       "      <td>0.056367</td>\n",
       "      <td>0.060016</td>\n",
       "      <td>0.053528</td>\n",
       "      <td>0.061638</td>\n",
       "      <td>0.048662</td>\n",
       "      <td>0.053122</td>\n",
       "      <td>0.047040</td>\n",
       "      <td>0.043390</td>\n",
       "      <td>0.048256</td>\n",
       "    </tr>\n",
       "    <tr>\n",
       "      <th>0</th>\n",
       "      <td>P5</td>\n",
       "      <td>N2</td>\n",
       "      <td>no</td>\n",
       "      <td>78.000000</td>\n",
       "      <td>121.000000</td>\n",
       "      <td>117.000000</td>\n",
       "      <td>111.000000</td>\n",
       "      <td>103.000000</td>\n",
       "      <td>113.000000</td>\n",
       "      <td>101.000000</td>\n",
       "      <td>...</td>\n",
       "      <td>111.000000</td>\n",
       "      <td>115.000000</td>\n",
       "      <td>144.000000</td>\n",
       "      <td>125.000000</td>\n",
       "      <td>137.000000</td>\n",
       "      <td>130.000000</td>\n",
       "      <td>155.000000</td>\n",
       "      <td>146.000000</td>\n",
       "      <td>112.000000</td>\n",
       "      <td>116.000000</td>\n",
       "    </tr>\n",
       "    <tr>\n",
       "      <th>0</th>\n",
       "      <td>P5</td>\n",
       "      <td>N2</td>\n",
       "      <td>yes</td>\n",
       "      <td>0.033065</td>\n",
       "      <td>0.051293</td>\n",
       "      <td>0.049597</td>\n",
       "      <td>0.047054</td>\n",
       "      <td>0.043663</td>\n",
       "      <td>0.047902</td>\n",
       "      <td>0.042815</td>\n",
       "      <td>...</td>\n",
       "      <td>0.047054</td>\n",
       "      <td>0.048749</td>\n",
       "      <td>0.061043</td>\n",
       "      <td>0.052989</td>\n",
       "      <td>0.058075</td>\n",
       "      <td>0.055108</td>\n",
       "      <td>0.065706</td>\n",
       "      <td>0.061891</td>\n",
       "      <td>0.047478</td>\n",
       "      <td>0.049173</td>\n",
       "    </tr>\n",
       "    <tr>\n",
       "      <th>0</th>\n",
       "      <td>P6</td>\n",
       "      <td>N2</td>\n",
       "      <td>no</td>\n",
       "      <td>48.000000</td>\n",
       "      <td>45.000000</td>\n",
       "      <td>45.000000</td>\n",
       "      <td>56.000000</td>\n",
       "      <td>39.000000</td>\n",
       "      <td>77.000000</td>\n",
       "      <td>51.000000</td>\n",
       "      <td>...</td>\n",
       "      <td>56.000000</td>\n",
       "      <td>61.000000</td>\n",
       "      <td>55.000000</td>\n",
       "      <td>38.000000</td>\n",
       "      <td>41.000000</td>\n",
       "      <td>56.000000</td>\n",
       "      <td>49.000000</td>\n",
       "      <td>53.000000</td>\n",
       "      <td>47.000000</td>\n",
       "      <td>68.000000</td>\n",
       "    </tr>\n",
       "    <tr>\n",
       "      <th>0</th>\n",
       "      <td>P6</td>\n",
       "      <td>N2</td>\n",
       "      <td>yes</td>\n",
       "      <td>0.046693</td>\n",
       "      <td>0.043774</td>\n",
       "      <td>0.043774</td>\n",
       "      <td>0.054475</td>\n",
       "      <td>0.037938</td>\n",
       "      <td>0.074903</td>\n",
       "      <td>0.049611</td>\n",
       "      <td>...</td>\n",
       "      <td>0.054475</td>\n",
       "      <td>0.059339</td>\n",
       "      <td>0.053502</td>\n",
       "      <td>0.036965</td>\n",
       "      <td>0.039883</td>\n",
       "      <td>0.054475</td>\n",
       "      <td>0.047665</td>\n",
       "      <td>0.051556</td>\n",
       "      <td>0.045720</td>\n",
       "      <td>0.066148</td>\n",
       "    </tr>\n",
       "    <tr>\n",
       "      <th>0</th>\n",
       "      <td>P7</td>\n",
       "      <td>N2</td>\n",
       "      <td>no</td>\n",
       "      <td>259.000000</td>\n",
       "      <td>307.000000</td>\n",
       "      <td>317.000000</td>\n",
       "      <td>248.000000</td>\n",
       "      <td>276.000000</td>\n",
       "      <td>264.000000</td>\n",
       "      <td>230.000000</td>\n",
       "      <td>...</td>\n",
       "      <td>255.000000</td>\n",
       "      <td>243.000000</td>\n",
       "      <td>280.000000</td>\n",
       "      <td>282.000000</td>\n",
       "      <td>257.000000</td>\n",
       "      <td>274.000000</td>\n",
       "      <td>282.000000</td>\n",
       "      <td>274.000000</td>\n",
       "      <td>308.000000</td>\n",
       "      <td>308.000000</td>\n",
       "    </tr>\n",
       "    <tr>\n",
       "      <th>0</th>\n",
       "      <td>P7</td>\n",
       "      <td>N2</td>\n",
       "      <td>yes</td>\n",
       "      <td>0.048620</td>\n",
       "      <td>0.057631</td>\n",
       "      <td>0.059508</td>\n",
       "      <td>0.046555</td>\n",
       "      <td>0.051812</td>\n",
       "      <td>0.049559</td>\n",
       "      <td>0.043176</td>\n",
       "      <td>...</td>\n",
       "      <td>0.047869</td>\n",
       "      <td>0.045617</td>\n",
       "      <td>0.052562</td>\n",
       "      <td>0.052938</td>\n",
       "      <td>0.048245</td>\n",
       "      <td>0.051436</td>\n",
       "      <td>0.052938</td>\n",
       "      <td>0.051436</td>\n",
       "      <td>0.057819</td>\n",
       "      <td>0.057819</td>\n",
       "    </tr>\n",
       "    <tr>\n",
       "      <th>0</th>\n",
       "      <td>P8</td>\n",
       "      <td>N2</td>\n",
       "      <td>no</td>\n",
       "      <td>40.000000</td>\n",
       "      <td>62.000000</td>\n",
       "      <td>40.000000</td>\n",
       "      <td>38.000000</td>\n",
       "      <td>29.000000</td>\n",
       "      <td>33.000000</td>\n",
       "      <td>49.000000</td>\n",
       "      <td>...</td>\n",
       "      <td>40.000000</td>\n",
       "      <td>47.000000</td>\n",
       "      <td>56.000000</td>\n",
       "      <td>33.000000</td>\n",
       "      <td>35.000000</td>\n",
       "      <td>48.000000</td>\n",
       "      <td>37.000000</td>\n",
       "      <td>41.000000</td>\n",
       "      <td>33.000000</td>\n",
       "      <td>33.000000</td>\n",
       "    </tr>\n",
       "    <tr>\n",
       "      <th>0</th>\n",
       "      <td>P8</td>\n",
       "      <td>N2</td>\n",
       "      <td>yes</td>\n",
       "      <td>0.050000</td>\n",
       "      <td>0.077500</td>\n",
       "      <td>0.050000</td>\n",
       "      <td>0.047500</td>\n",
       "      <td>0.036250</td>\n",
       "      <td>0.041250</td>\n",
       "      <td>0.061250</td>\n",
       "      <td>...</td>\n",
       "      <td>0.050000</td>\n",
       "      <td>0.058750</td>\n",
       "      <td>0.070000</td>\n",
       "      <td>0.041250</td>\n",
       "      <td>0.043750</td>\n",
       "      <td>0.060000</td>\n",
       "      <td>0.046250</td>\n",
       "      <td>0.051250</td>\n",
       "      <td>0.041250</td>\n",
       "      <td>0.041250</td>\n",
       "    </tr>\n",
       "    <tr>\n",
       "      <th>0</th>\n",
       "      <td>P9</td>\n",
       "      <td>N2</td>\n",
       "      <td>no</td>\n",
       "      <td>55.000000</td>\n",
       "      <td>41.000000</td>\n",
       "      <td>50.000000</td>\n",
       "      <td>46.000000</td>\n",
       "      <td>49.000000</td>\n",
       "      <td>58.000000</td>\n",
       "      <td>49.000000</td>\n",
       "      <td>...</td>\n",
       "      <td>50.000000</td>\n",
       "      <td>56.000000</td>\n",
       "      <td>68.000000</td>\n",
       "      <td>57.000000</td>\n",
       "      <td>42.000000</td>\n",
       "      <td>45.000000</td>\n",
       "      <td>34.000000</td>\n",
       "      <td>50.000000</td>\n",
       "      <td>59.000000</td>\n",
       "      <td>45.000000</td>\n",
       "    </tr>\n",
       "    <tr>\n",
       "      <th>0</th>\n",
       "      <td>P9</td>\n",
       "      <td>N2</td>\n",
       "      <td>yes</td>\n",
       "      <td>0.056008</td>\n",
       "      <td>0.041752</td>\n",
       "      <td>0.050916</td>\n",
       "      <td>0.046843</td>\n",
       "      <td>0.049898</td>\n",
       "      <td>0.059063</td>\n",
       "      <td>0.049898</td>\n",
       "      <td>...</td>\n",
       "      <td>0.050916</td>\n",
       "      <td>0.057026</td>\n",
       "      <td>0.069246</td>\n",
       "      <td>0.058045</td>\n",
       "      <td>0.042770</td>\n",
       "      <td>0.045825</td>\n",
       "      <td>0.034623</td>\n",
       "      <td>0.050916</td>\n",
       "      <td>0.060081</td>\n",
       "      <td>0.045825</td>\n",
       "    </tr>\n",
       "    <tr>\n",
       "      <th>0</th>\n",
       "      <td>P10</td>\n",
       "      <td>N2</td>\n",
       "      <td>no</td>\n",
       "      <td>95.000000</td>\n",
       "      <td>116.000000</td>\n",
       "      <td>88.000000</td>\n",
       "      <td>114.000000</td>\n",
       "      <td>76.000000</td>\n",
       "      <td>97.000000</td>\n",
       "      <td>74.000000</td>\n",
       "      <td>...</td>\n",
       "      <td>83.000000</td>\n",
       "      <td>86.000000</td>\n",
       "      <td>107.000000</td>\n",
       "      <td>88.000000</td>\n",
       "      <td>96.000000</td>\n",
       "      <td>112.000000</td>\n",
       "      <td>112.000000</td>\n",
       "      <td>110.000000</td>\n",
       "      <td>123.000000</td>\n",
       "      <td>103.000000</td>\n",
       "    </tr>\n",
       "    <tr>\n",
       "      <th>0</th>\n",
       "      <td>P10</td>\n",
       "      <td>N2</td>\n",
       "      <td>yes</td>\n",
       "      <td>0.050559</td>\n",
       "      <td>0.061735</td>\n",
       "      <td>0.046833</td>\n",
       "      <td>0.060671</td>\n",
       "      <td>0.040447</td>\n",
       "      <td>0.051623</td>\n",
       "      <td>0.039383</td>\n",
       "      <td>...</td>\n",
       "      <td>0.044172</td>\n",
       "      <td>0.045769</td>\n",
       "      <td>0.056945</td>\n",
       "      <td>0.046833</td>\n",
       "      <td>0.051091</td>\n",
       "      <td>0.059606</td>\n",
       "      <td>0.059606</td>\n",
       "      <td>0.058542</td>\n",
       "      <td>0.065460</td>\n",
       "      <td>0.054816</td>\n",
       "    </tr>\n",
       "  </tbody>\n",
       "</table>\n",
       "<p>20 rows × 23 columns</p>\n",
       "</div>"
      ],
      "text/plain": [
       "  patient stage norm           0           1           2           3  \\\n",
       "0      P1    N2   no  116.000000   98.000000  121.000000   95.000000   \n",
       "0      P1    N2  yes    0.052751    0.044566    0.055025    0.043201   \n",
       "0      P2    N2   no  116.000000  103.000000  104.000000  120.000000   \n",
       "0      P2    N2  yes    0.044006    0.039074    0.039454    0.045524   \n",
       "0      P3    N2   no  162.000000  145.000000  104.000000  112.000000   \n",
       "0      P3    N2  yes    0.049375    0.044194    0.031698    0.034136   \n",
       "0      P4    N2   no  118.000000  112.000000  130.000000  116.000000   \n",
       "0      P4    N2  yes    0.047851    0.045418    0.052717    0.047040   \n",
       "0      P5    N2   no   78.000000  121.000000  117.000000  111.000000   \n",
       "0      P5    N2  yes    0.033065    0.051293    0.049597    0.047054   \n",
       "0      P6    N2   no   48.000000   45.000000   45.000000   56.000000   \n",
       "0      P6    N2  yes    0.046693    0.043774    0.043774    0.054475   \n",
       "0      P7    N2   no  259.000000  307.000000  317.000000  248.000000   \n",
       "0      P7    N2  yes    0.048620    0.057631    0.059508    0.046555   \n",
       "0      P8    N2   no   40.000000   62.000000   40.000000   38.000000   \n",
       "0      P8    N2  yes    0.050000    0.077500    0.050000    0.047500   \n",
       "0      P9    N2   no   55.000000   41.000000   50.000000   46.000000   \n",
       "0      P9    N2  yes    0.056008    0.041752    0.050916    0.046843   \n",
       "0     P10    N2   no   95.000000  116.000000   88.000000  114.000000   \n",
       "0     P10    N2  yes    0.050559    0.061735    0.046833    0.060671   \n",
       "\n",
       "            4           5           6  ...          10          11  \\\n",
       "0   98.000000  106.000000  101.000000  ...  110.000000  114.000000   \n",
       "0    0.044566    0.048204    0.045930  ...    0.050023    0.051842   \n",
       "0  119.000000  126.000000  116.000000  ...  182.000000  181.000000   \n",
       "0    0.045144    0.047800    0.044006  ...    0.069044    0.068665   \n",
       "0  140.000000  130.000000  129.000000  ...  158.000000  175.000000   \n",
       "0    0.042670    0.039622    0.039317  ...    0.048156    0.053337   \n",
       "0  128.000000  134.000000  105.000000  ...  114.000000  139.000000   \n",
       "0    0.051906    0.054339    0.042579  ...    0.046229    0.056367   \n",
       "0  103.000000  113.000000  101.000000  ...  111.000000  115.000000   \n",
       "0    0.043663    0.047902    0.042815  ...    0.047054    0.048749   \n",
       "0   39.000000   77.000000   51.000000  ...   56.000000   61.000000   \n",
       "0    0.037938    0.074903    0.049611  ...    0.054475    0.059339   \n",
       "0  276.000000  264.000000  230.000000  ...  255.000000  243.000000   \n",
       "0    0.051812    0.049559    0.043176  ...    0.047869    0.045617   \n",
       "0   29.000000   33.000000   49.000000  ...   40.000000   47.000000   \n",
       "0    0.036250    0.041250    0.061250  ...    0.050000    0.058750   \n",
       "0   49.000000   58.000000   49.000000  ...   50.000000   56.000000   \n",
       "0    0.049898    0.059063    0.049898  ...    0.050916    0.057026   \n",
       "0   76.000000   97.000000   74.000000  ...   83.000000   86.000000   \n",
       "0    0.040447    0.051623    0.039383  ...    0.044172    0.045769   \n",
       "\n",
       "           12          13          14          15          16          17  \\\n",
       "0  117.000000  108.000000  114.000000  116.000000  153.000000  125.000000   \n",
       "0    0.053206    0.049113    0.051842    0.052751    0.069577    0.056844   \n",
       "0  146.000000  153.000000  151.000000  144.000000  137.000000  139.000000   \n",
       "0    0.055387    0.058042    0.057284    0.054628    0.051973    0.052731   \n",
       "0  207.000000  205.000000  209.000000  195.000000  159.000000  185.000000   \n",
       "0    0.063091    0.062481    0.063700    0.059433    0.048461    0.056385   \n",
       "0  148.000000  132.000000  152.000000  120.000000  131.000000  116.000000   \n",
       "0    0.060016    0.053528    0.061638    0.048662    0.053122    0.047040   \n",
       "0  144.000000  125.000000  137.000000  130.000000  155.000000  146.000000   \n",
       "0    0.061043    0.052989    0.058075    0.055108    0.065706    0.061891   \n",
       "0   55.000000   38.000000   41.000000   56.000000   49.000000   53.000000   \n",
       "0    0.053502    0.036965    0.039883    0.054475    0.047665    0.051556   \n",
       "0  280.000000  282.000000  257.000000  274.000000  282.000000  274.000000   \n",
       "0    0.052562    0.052938    0.048245    0.051436    0.052938    0.051436   \n",
       "0   56.000000   33.000000   35.000000   48.000000   37.000000   41.000000   \n",
       "0    0.070000    0.041250    0.043750    0.060000    0.046250    0.051250   \n",
       "0   68.000000   57.000000   42.000000   45.000000   34.000000   50.000000   \n",
       "0    0.069246    0.058045    0.042770    0.045825    0.034623    0.050916   \n",
       "0  107.000000   88.000000   96.000000  112.000000  112.000000  110.000000   \n",
       "0    0.056945    0.046833    0.051091    0.059606    0.059606    0.058542   \n",
       "\n",
       "           18          19  \n",
       "0  112.000000  102.000000  \n",
       "0    0.050932    0.046385  \n",
       "0  146.000000  117.000000  \n",
       "0    0.055387    0.044385  \n",
       "0  204.000000  158.000000  \n",
       "0    0.062176    0.048156  \n",
       "0  107.000000  119.000000  \n",
       "0    0.043390    0.048256  \n",
       "0  112.000000  116.000000  \n",
       "0    0.047478    0.049173  \n",
       "0   47.000000   68.000000  \n",
       "0    0.045720    0.066148  \n",
       "0  308.000000  308.000000  \n",
       "0    0.057819    0.057819  \n",
       "0   33.000000   33.000000  \n",
       "0    0.041250    0.041250  \n",
       "0   59.000000   45.000000  \n",
       "0    0.060081    0.045825  \n",
       "0  123.000000  103.000000  \n",
       "0    0.065460    0.054816  \n",
       "\n",
       "[20 rows x 23 columns]"
      ]
     },
     "execution_count": 56,
     "metadata": {},
     "output_type": "execute_result"
    }
   ],
   "source": [
    "df_20"
   ]
  },
  {
   "cell_type": "code",
   "execution_count": 57,
   "id": "2bd6f07f-61e1-4af5-8eaa-cd4c8a1b6a8a",
   "metadata": {
    "execution": {
     "iopub.execute_input": "2022-06-07T15:09:46.788066Z",
     "iopub.status.busy": "2022-06-07T15:09:46.787968Z",
     "iopub.status.idle": "2022-06-07T15:09:46.818269Z",
     "shell.execute_reply": "2022-06-07T15:09:46.817851Z",
     "shell.execute_reply.started": "2022-06-07T15:09:46.788054Z"
    },
    "tags": []
   },
   "outputs": [],
   "source": [
    "df_to_study = df_20.set_index(['patient','stage','norm'])\n",
    "rows = []\n",
    "for patient in patients:\n",
    "    for norm in ['no','yes']:\n",
    "        angle, length = get_complex_vector(phase=phases_in_radian(), amplitude=df_to_study.loc[(patient, 'N2', norm) , :])\n",
    "        row = [patient , norm , angle, length]\n",
    "        rows.append(row)\n",
    "df_mi = pd.DataFrame(rows, columns = ['patient' , 'norm' , 'angle' , 'length'])\n",
    "    "
   ]
  },
  {
   "cell_type": "code",
   "execution_count": 58,
   "id": "c60ab15d-06b9-4a47-a431-02b31cfc0799",
   "metadata": {
    "execution": {
     "iopub.execute_input": "2022-06-07T15:09:46.818881Z",
     "iopub.status.busy": "2022-06-07T15:09:46.818782Z",
     "iopub.status.idle": "2022-06-07T15:09:46.840868Z",
     "shell.execute_reply": "2022-06-07T15:09:46.840190Z",
     "shell.execute_reply.started": "2022-06-07T15:09:46.818868Z"
    },
    "tags": []
   },
   "outputs": [
    {
     "data": {
      "text/html": [
       "<div>\n",
       "<style scoped>\n",
       "    .dataframe tbody tr th:only-of-type {\n",
       "        vertical-align: middle;\n",
       "    }\n",
       "\n",
       "    .dataframe tbody tr th {\n",
       "        vertical-align: top;\n",
       "    }\n",
       "\n",
       "    .dataframe thead th {\n",
       "        text-align: right;\n",
       "    }\n",
       "</style>\n",
       "<table border=\"1\" class=\"dataframe\">\n",
       "  <thead>\n",
       "    <tr style=\"text-align: right;\">\n",
       "      <th></th>\n",
       "      <th>patient</th>\n",
       "      <th>norm</th>\n",
       "      <th>angle</th>\n",
       "      <th>length</th>\n",
       "    </tr>\n",
       "  </thead>\n",
       "  <tbody>\n",
       "    <tr>\n",
       "      <th>0</th>\n",
       "      <td>P1</td>\n",
       "      <td>no</td>\n",
       "      <td>5.658145</td>\n",
       "      <td>9.797327</td>\n",
       "    </tr>\n",
       "    <tr>\n",
       "      <th>1</th>\n",
       "      <td>P1</td>\n",
       "      <td>yes</td>\n",
       "      <td>5.658145</td>\n",
       "      <td>0.004455</td>\n",
       "    </tr>\n",
       "    <tr>\n",
       "      <th>2</th>\n",
       "      <td>P2</td>\n",
       "      <td>no</td>\n",
       "      <td>4.758848</td>\n",
       "      <td>10.326506</td>\n",
       "    </tr>\n",
       "    <tr>\n",
       "      <th>3</th>\n",
       "      <td>P2</td>\n",
       "      <td>yes</td>\n",
       "      <td>4.758848</td>\n",
       "      <td>0.003917</td>\n",
       "    </tr>\n",
       "    <tr>\n",
       "      <th>4</th>\n",
       "      <td>P3</td>\n",
       "      <td>no</td>\n",
       "      <td>4.916801</td>\n",
       "      <td>17.267103</td>\n",
       "    </tr>\n",
       "    <tr>\n",
       "      <th>5</th>\n",
       "      <td>P3</td>\n",
       "      <td>yes</td>\n",
       "      <td>4.916801</td>\n",
       "      <td>0.005263</td>\n",
       "    </tr>\n",
       "    <tr>\n",
       "      <th>6</th>\n",
       "      <td>P4</td>\n",
       "      <td>no</td>\n",
       "      <td>5.623581</td>\n",
       "      <td>5.692597</td>\n",
       "    </tr>\n",
       "    <tr>\n",
       "      <th>7</th>\n",
       "      <td>P4</td>\n",
       "      <td>yes</td>\n",
       "      <td>5.623581</td>\n",
       "      <td>0.002308</td>\n",
       "    </tr>\n",
       "    <tr>\n",
       "      <th>8</th>\n",
       "      <td>P5</td>\n",
       "      <td>no</td>\n",
       "      <td>5.365995</td>\n",
       "      <td>10.258523</td>\n",
       "    </tr>\n",
       "    <tr>\n",
       "      <th>9</th>\n",
       "      <td>P5</td>\n",
       "      <td>yes</td>\n",
       "      <td>5.365995</td>\n",
       "      <td>0.004349</td>\n",
       "    </tr>\n",
       "    <tr>\n",
       "      <th>10</th>\n",
       "      <td>P6</td>\n",
       "      <td>no</td>\n",
       "      <td>0.398302</td>\n",
       "      <td>2.702308</td>\n",
       "    </tr>\n",
       "    <tr>\n",
       "      <th>11</th>\n",
       "      <td>P6</td>\n",
       "      <td>yes</td>\n",
       "      <td>0.398302</td>\n",
       "      <td>0.002629</td>\n",
       "    </tr>\n",
       "    <tr>\n",
       "      <th>12</th>\n",
       "      <td>P7</td>\n",
       "      <td>no</td>\n",
       "      <td>6.109015</td>\n",
       "      <td>29.178204</td>\n",
       "    </tr>\n",
       "    <tr>\n",
       "      <th>13</th>\n",
       "      <td>P7</td>\n",
       "      <td>yes</td>\n",
       "      <td>6.109015</td>\n",
       "      <td>0.005477</td>\n",
       "    </tr>\n",
       "    <tr>\n",
       "      <th>14</th>\n",
       "      <td>P8</td>\n",
       "      <td>no</td>\n",
       "      <td>6.033652</td>\n",
       "      <td>2.275620</td>\n",
       "    </tr>\n",
       "    <tr>\n",
       "      <th>15</th>\n",
       "      <td>P8</td>\n",
       "      <td>yes</td>\n",
       "      <td>6.033652</td>\n",
       "      <td>0.002845</td>\n",
       "    </tr>\n",
       "    <tr>\n",
       "      <th>16</th>\n",
       "      <td>P9</td>\n",
       "      <td>no</td>\n",
       "      <td>6.060818</td>\n",
       "      <td>1.897188</td>\n",
       "    </tr>\n",
       "    <tr>\n",
       "      <th>17</th>\n",
       "      <td>P9</td>\n",
       "      <td>yes</td>\n",
       "      <td>6.060819</td>\n",
       "      <td>0.001932</td>\n",
       "    </tr>\n",
       "    <tr>\n",
       "      <th>18</th>\n",
       "      <td>P10</td>\n",
       "      <td>no</td>\n",
       "      <td>5.910784</td>\n",
       "      <td>14.445973</td>\n",
       "    </tr>\n",
       "    <tr>\n",
       "      <th>19</th>\n",
       "      <td>P10</td>\n",
       "      <td>yes</td>\n",
       "      <td>5.910784</td>\n",
       "      <td>0.007688</td>\n",
       "    </tr>\n",
       "  </tbody>\n",
       "</table>\n",
       "</div>"
      ],
      "text/plain": [
       "   patient norm     angle     length\n",
       "0       P1   no  5.658145   9.797327\n",
       "1       P1  yes  5.658145   0.004455\n",
       "2       P2   no  4.758848  10.326506\n",
       "3       P2  yes  4.758848   0.003917\n",
       "4       P3   no  4.916801  17.267103\n",
       "5       P3  yes  4.916801   0.005263\n",
       "6       P4   no  5.623581   5.692597\n",
       "7       P4  yes  5.623581   0.002308\n",
       "8       P5   no  5.365995  10.258523\n",
       "9       P5  yes  5.365995   0.004349\n",
       "10      P6   no  0.398302   2.702308\n",
       "11      P6  yes  0.398302   0.002629\n",
       "12      P7   no  6.109015  29.178204\n",
       "13      P7  yes  6.109015   0.005477\n",
       "14      P8   no  6.033652   2.275620\n",
       "15      P8  yes  6.033652   0.002845\n",
       "16      P9   no  6.060818   1.897188\n",
       "17      P9  yes  6.060819   0.001932\n",
       "18     P10   no  5.910784  14.445973\n",
       "19     P10  yes  5.910784   0.007688"
      ]
     },
     "execution_count": 58,
     "metadata": {},
     "output_type": "execute_result"
    }
   ],
   "source": [
    "df_mi"
   ]
  },
  {
   "cell_type": "code",
   "execution_count": 59,
   "id": "fd04fb48-60b7-44c0-aa49-935965950c1a",
   "metadata": {
    "execution": {
     "iopub.execute_input": "2022-06-07T15:09:46.841783Z",
     "iopub.status.busy": "2022-06-07T15:09:46.841630Z",
     "iopub.status.idle": "2022-06-07T15:09:46.860309Z",
     "shell.execute_reply": "2022-06-07T15:09:46.859974Z",
     "shell.execute_reply.started": "2022-06-07T15:09:46.841767Z"
    },
    "tags": []
   },
   "outputs": [
    {
     "data": {
      "text/plain": [
       "['P1', 'P2', 'P3', 'P4', 'P5']"
      ]
     },
     "execution_count": 59,
     "metadata": {},
     "output_type": "execute_result"
    }
   ],
   "source": [
    "patients[:len(patients)//2]"
   ]
  },
  {
   "cell_type": "code",
   "execution_count": 60,
   "id": "05db0931-ca61-4697-bab9-4e4cf58a9fac",
   "metadata": {
    "execution": {
     "iopub.execute_input": "2022-06-07T15:09:46.860902Z",
     "iopub.status.busy": "2022-06-07T15:09:46.860775Z",
     "iopub.status.idle": "2022-06-07T15:09:47.936377Z",
     "shell.execute_reply": "2022-06-07T15:09:47.935960Z",
     "shell.execute_reply.started": "2022-06-07T15:09:46.860889Z"
    },
    "tags": []
   },
   "outputs": [
    {
     "data": {
      "image/png": "[encoded data removed]",
      "text/plain": [
       "<Figure size 2160x720 with 10 Axes>"
      ]
     },
     "metadata": {
      "needs_background": "light"
     },
     "output_type": "display_data"
    }
   ],
   "source": [
    "fig ,axs = plt.subplots(nrows = 2, ncols = 5, figsize = (30,10))\n",
    "fig.suptitle('Modulation index from Maxime Juventin', fontsize = 20)\n",
    "\n",
    "patient_1 = patients[:len(patients)//2]\n",
    "patient_2 = patients[len(patients)//2:]\n",
    "listes = [patient_1,patient_2]\n",
    "for row, liste in enumerate(listes):\n",
    "    for col, patient in enumerate(liste):\n",
    "        ax = axs[row,col]\n",
    "        df_20[df_20['norm'] == 'yes'].set_index(['patient','stage','norm']).loc[(patient,'N2','yes'), :].plot.bar(ax=ax)\n",
    "        length = df_mi.set_index(['patient','norm']).loc[(patient,'yes'),'length']\n",
    "        title = f'{patient} : MI = {round(float(length), 4)}'\n",
    "        ax.set_title(title)\n",
    "# plt.savefig('../presentation_2/MI_max_20bins')"
   ]
  },
  {
   "cell_type": "code",
   "execution_count": 61,
   "id": "03a78d35-6400-427c-9edd-82c18479d3f6",
   "metadata": {
    "execution": {
     "iopub.execute_input": "2022-06-07T15:09:47.936947Z",
     "iopub.status.busy": "2022-06-07T15:09:47.936847Z",
     "iopub.status.idle": "2022-06-07T15:09:47.966287Z",
     "shell.execute_reply": "2022-06-07T15:09:47.965995Z",
     "shell.execute_reply.started": "2022-06-07T15:09:47.936934Z"
    },
    "tags": []
   },
   "outputs": [
    {
     "name": "stderr",
     "output_type": "stream",
     "text": [
      "/tmp/ipykernel_48684/2665531414.py:1: FutureWarning: Dropping of nuisance columns in DataFrame reductions (with 'numeric_only=None') is deprecated; in a future version this will raise TypeError.  Select only valid columns before calling the reduction.\n",
      "  df_mi[df_mi['norm'] == 'yes'].mean()\n"
     ]
    },
    {
     "data": {
      "text/plain": [
       "angle     5.083594\n",
       "length    0.004086\n",
       "dtype: float64"
      ]
     },
     "execution_count": 61,
     "metadata": {},
     "output_type": "execute_result"
    }
   ],
   "source": [
    "df_mi[df_mi['norm'] == 'yes'].mean()"
   ]
  },
  {
   "cell_type": "code",
   "execution_count": null,
   "id": "cdb24a64-01f1-4776-96aa-01fee54f6dad",
   "metadata": {},
   "outputs": [],
   "source": []
  }
 ],
 "metadata": {
  "kernelspec": {
   "display_name": "Python 3 (ipykernel)",
   "language": "python",
   "name": "python3"
  },
  "language_info": {
   "codemirror_mode": {
    "name": "ipython",
    "version": 3
   },
   "file_extension": ".py",
   "mimetype": "text/x-python",
   "name": "python",
   "nbconvert_exporter": "python",
   "pygments_lexer": "ipython3",
   "version": "3.8.10"
  }
 },
 "nbformat": 4,
 "nbformat_minor": 5
}
