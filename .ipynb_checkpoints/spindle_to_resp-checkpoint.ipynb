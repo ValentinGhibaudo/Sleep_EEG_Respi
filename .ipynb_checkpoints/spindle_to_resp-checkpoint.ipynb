{
 "cells": [
  {
   "cell_type": "code",
   "execution_count": 1,
   "id": "1ff12acc-13ad-4592-8597-0b8a034fc216",
   "metadata": {
    "execution": {
     "iopub.execute_input": "2022-05-25T15:27:36.630097Z",
     "iopub.status.busy": "2022-05-25T15:27:36.629779Z",
     "iopub.status.idle": "2022-05-25T15:27:36.642903Z",
     "shell.execute_reply": "2022-05-25T15:27:36.642509Z",
     "shell.execute_reply.started": "2022-05-25T15:27:36.630069Z"
    },
    "tags": []
   },
   "outputs": [],
   "source": [
    "%load_ext autoreload\n",
    "%autoreload 2"
   ]
  },
  {
   "cell_type": "code",
   "execution_count": 2,
   "id": "e0d64622-9275-4792-8b6b-f378184a5140",
   "metadata": {
    "execution": {
     "iopub.execute_input": "2022-05-25T15:27:36.643512Z",
     "iopub.status.busy": "2022-05-25T15:27:36.643412Z",
     "iopub.status.idle": "2022-05-25T15:27:38.242443Z",
     "shell.execute_reply": "2022-05-25T15:27:38.242069Z",
     "shell.execute_reply.started": "2022-05-25T15:27:36.643499Z"
    },
    "tags": []
   },
   "outputs": [],
   "source": [
    "import numpy as np\n",
    "import pandas as pd\n",
    "import matplotlib.pyplot as plt\n",
    "from params import *\n",
    "import tqdm\n",
    "import ghibtools as gh\n",
    "import seaborn as sns\n",
    "import pingouin as pg\n",
    "%matplotlib inline"
   ]
  },
  {
   "cell_type": "code",
   "execution_count": 3,
   "id": "7baef168-5240-4870-9dab-fcab8158c17a",
   "metadata": {
    "execution": {
     "iopub.execute_input": "2022-05-25T15:27:38.243131Z",
     "iopub.status.busy": "2022-05-25T15:27:38.242993Z",
     "iopub.status.idle": "2022-05-25T15:27:38.259615Z",
     "shell.execute_reply": "2022-05-25T15:27:38.259205Z",
     "shell.execute_reply.started": "2022-05-25T15:27:38.243117Z"
    },
    "tags": []
   },
   "outputs": [
    {
     "name": "stdout",
     "output_type": "stream",
     "text": [
      "P10\n"
     ]
    }
   ],
   "source": [
    "print(patient)"
   ]
  },
  {
   "cell_type": "markdown",
   "id": "a34eeddf-fc23-44c6-9eed-4aebacf2082f",
   "metadata": {},
   "source": [
    "## SAVING CHOSE"
   ]
  },
  {
   "cell_type": "code",
   "execution_count": 4,
   "id": "6af95f5d-7a87-4dc6-a507-8f18cdb0a6ce",
   "metadata": {
    "execution": {
     "iopub.execute_input": "2022-05-25T15:27:38.260243Z",
     "iopub.status.busy": "2022-05-25T15:27:38.260108Z",
     "iopub.status.idle": "2022-05-25T15:27:38.276885Z",
     "shell.execute_reply": "2022-05-25T15:27:38.276484Z",
     "shell.execute_reply.started": "2022-05-25T15:27:38.260228Z"
    },
    "tags": []
   },
   "outputs": [],
   "source": [
    "save_cycles_with_spindle = False"
   ]
  },
  {
   "cell_type": "markdown",
   "id": "144e4cd7-851c-40b9-a10f-9ee4d585959a",
   "metadata": {},
   "source": [
    "## PARAMS"
   ]
  },
  {
   "cell_type": "code",
   "execution_count": 5,
   "id": "77d7c170-89ca-4a68-9920-15daec743ef9",
   "metadata": {
    "execution": {
     "iopub.execute_input": "2022-05-25T15:27:38.277674Z",
     "iopub.status.busy": "2022-05-25T15:27:38.277523Z",
     "iopub.status.idle": "2022-05-25T15:27:38.295377Z",
     "shell.execute_reply": "2022-05-25T15:27:38.294987Z",
     "shell.execute_reply.started": "2022-05-25T15:27:38.277659Z"
    },
    "tags": []
   },
   "outputs": [],
   "source": [
    "nbins = 2"
   ]
  },
  {
   "cell_type": "markdown",
   "id": "9dde465b-1a96-47b6-9a74-e85a37a1b13c",
   "metadata": {},
   "source": [
    "## LOAD RESP FEATURES & SPINDLES FEATURES"
   ]
  },
  {
   "cell_type": "code",
   "execution_count": 6,
   "id": "3983d501-da40-495a-a417-58c4861843ef",
   "metadata": {
    "execution": {
     "iopub.execute_input": "2022-05-25T15:27:38.296152Z",
     "iopub.status.busy": "2022-05-25T15:27:38.295964Z",
     "iopub.status.idle": "2022-05-25T15:27:38.314187Z",
     "shell.execute_reply": "2022-05-25T15:27:38.313795Z",
     "shell.execute_reply.started": "2022-05-25T15:27:38.296138Z"
    },
    "tags": []
   },
   "outputs": [],
   "source": [
    "def load_df(patient , stage_to_study=stage_to_study):\n",
    "    spindle_file = f'../df_analyse/spindles_{patient}.xlsx'\n",
    "    rsp_cycle_file = f'../df_analyse/resp_features_new_{patient}.xlsx'\n",
    "    df_cycles = pd.read_excel(rsp_cycle_file, index_col = 0)\n",
    "    spindles = pd.read_excel(spindle_file).drop(columns = 'Unnamed: 0')\n",
    "    spindles = spindles[spindles['stage'] == stage_to_study]\n",
    "    end_cycles = []\n",
    "    for cycle in range(df_cycles.shape[0]):\n",
    "        end_resp = df_cycles.loc[cycle, 'inspi_time'] + df_cycles.loc[cycle, 'cycle_duration']\n",
    "        end_cycles.append(end_resp)\n",
    "    df_cycles['end_time'] = end_cycles\n",
    "    df_cycles\n",
    "    \n",
    "    return df_cycles , spindles"
   ]
  },
  {
   "cell_type": "code",
   "execution_count": 7,
   "id": "ac99b18f-ef58-40ce-839a-2965acab715b",
   "metadata": {
    "execution": {
     "iopub.execute_input": "2022-05-25T15:27:38.314995Z",
     "iopub.status.busy": "2022-05-25T15:27:38.314842Z",
     "iopub.status.idle": "2022-05-25T15:27:38.594557Z",
     "shell.execute_reply": "2022-05-25T15:27:38.592618Z",
     "shell.execute_reply.started": "2022-05-25T15:27:38.314981Z"
    },
    "tags": []
   },
   "outputs": [
    {
     "ename": "KeyboardInterrupt",
     "evalue": "",
     "output_type": "error",
     "traceback": [
      "\u001b[0;31m---------------------------------------------------------------------------\u001b[0m",
      "\u001b[0;31mKeyboardInterrupt\u001b[0m                         Traceback (most recent call last)",
      "\u001b[0;32m/tmp/ipykernel_198824/1337195182.py\u001b[0m in \u001b[0;36m<module>\u001b[0;34m\u001b[0m\n\u001b[0;32m----> 1\u001b[0;31m \u001b[0mdf_cycles\u001b[0m \u001b[0;34m,\u001b[0m \u001b[0mspindles\u001b[0m \u001b[0;34m=\u001b[0m \u001b[0mload_df\u001b[0m\u001b[0;34m(\u001b[0m\u001b[0mpatient\u001b[0m\u001b[0;34m)\u001b[0m\u001b[0;34m\u001b[0m\u001b[0;34m\u001b[0m\u001b[0m\n\u001b[0m",
      "\u001b[0;32m/tmp/ipykernel_198824/3132886843.py\u001b[0m in \u001b[0;36mload_df\u001b[0;34m(patient, stage_to_study)\u001b[0m\n\u001b[1;32m      2\u001b[0m     \u001b[0mspindle_file\u001b[0m \u001b[0;34m=\u001b[0m \u001b[0;34mf'../df_analyse/spindles_{patient}.xlsx'\u001b[0m\u001b[0;34m\u001b[0m\u001b[0;34m\u001b[0m\u001b[0m\n\u001b[1;32m      3\u001b[0m     \u001b[0mrsp_cycle_file\u001b[0m \u001b[0;34m=\u001b[0m \u001b[0;34mf'../df_analyse/resp_features_new_{patient}.xlsx'\u001b[0m\u001b[0;34m\u001b[0m\u001b[0;34m\u001b[0m\u001b[0m\n\u001b[0;32m----> 4\u001b[0;31m     \u001b[0mdf_cycles\u001b[0m \u001b[0;34m=\u001b[0m \u001b[0mpd\u001b[0m\u001b[0;34m.\u001b[0m\u001b[0mread_excel\u001b[0m\u001b[0;34m(\u001b[0m\u001b[0mrsp_cycle_file\u001b[0m\u001b[0;34m,\u001b[0m \u001b[0mindex_col\u001b[0m \u001b[0;34m=\u001b[0m \u001b[0;36m0\u001b[0m\u001b[0;34m)\u001b[0m\u001b[0;34m\u001b[0m\u001b[0;34m\u001b[0m\u001b[0m\n\u001b[0m\u001b[1;32m      5\u001b[0m     \u001b[0mspindles\u001b[0m \u001b[0;34m=\u001b[0m \u001b[0mpd\u001b[0m\u001b[0;34m.\u001b[0m\u001b[0mread_excel\u001b[0m\u001b[0;34m(\u001b[0m\u001b[0mspindle_file\u001b[0m\u001b[0;34m)\u001b[0m\u001b[0;34m.\u001b[0m\u001b[0mdrop\u001b[0m\u001b[0;34m(\u001b[0m\u001b[0mcolumns\u001b[0m \u001b[0;34m=\u001b[0m \u001b[0;34m'Unnamed: 0'\u001b[0m\u001b[0;34m)\u001b[0m\u001b[0;34m\u001b[0m\u001b[0;34m\u001b[0m\u001b[0m\n\u001b[1;32m      6\u001b[0m     \u001b[0mspindles\u001b[0m \u001b[0;34m=\u001b[0m \u001b[0mspindles\u001b[0m\u001b[0;34m[\u001b[0m\u001b[0mspindles\u001b[0m\u001b[0;34m[\u001b[0m\u001b[0;34m'stage'\u001b[0m\u001b[0;34m]\u001b[0m \u001b[0;34m==\u001b[0m \u001b[0mstage_to_study\u001b[0m\u001b[0;34m]\u001b[0m\u001b[0;34m\u001b[0m\u001b[0;34m\u001b[0m\u001b[0m\n",
      "\u001b[0;32m~/.virtualenvs/py38/lib/python3.8/site-packages/pandas/util/_decorators.py\u001b[0m in \u001b[0;36mwrapper\u001b[0;34m(*args, **kwargs)\u001b[0m\n\u001b[1;32m    309\u001b[0m                     \u001b[0mstacklevel\u001b[0m\u001b[0;34m=\u001b[0m\u001b[0mstacklevel\u001b[0m\u001b[0;34m,\u001b[0m\u001b[0;34m\u001b[0m\u001b[0;34m\u001b[0m\u001b[0m\n\u001b[1;32m    310\u001b[0m                 )\n\u001b[0;32m--> 311\u001b[0;31m             \u001b[0;32mreturn\u001b[0m \u001b[0mfunc\u001b[0m\u001b[0;34m(\u001b[0m\u001b[0;34m*\u001b[0m\u001b[0margs\u001b[0m\u001b[0;34m,\u001b[0m \u001b[0;34m**\u001b[0m\u001b[0mkwargs\u001b[0m\u001b[0;34m)\u001b[0m\u001b[0;34m\u001b[0m\u001b[0;34m\u001b[0m\u001b[0m\n\u001b[0m\u001b[1;32m    312\u001b[0m \u001b[0;34m\u001b[0m\u001b[0m\n\u001b[1;32m    313\u001b[0m         \u001b[0;32mreturn\u001b[0m \u001b[0mwrapper\u001b[0m\u001b[0;34m\u001b[0m\u001b[0;34m\u001b[0m\u001b[0m\n",
      "\u001b[0;32m~/.virtualenvs/py38/lib/python3.8/site-packages/pandas/io/excel/_base.py\u001b[0m in \u001b[0;36mread_excel\u001b[0;34m(io, sheet_name, header, names, index_col, usecols, squeeze, dtype, engine, converters, true_values, false_values, skiprows, nrows, na_values, keep_default_na, na_filter, verbose, parse_dates, date_parser, thousands, decimal, comment, skipfooter, convert_float, mangle_dupe_cols, storage_options)\u001b[0m\n\u001b[1;32m    463\u001b[0m \u001b[0;34m\u001b[0m\u001b[0m\n\u001b[1;32m    464\u001b[0m     \u001b[0;32mtry\u001b[0m\u001b[0;34m:\u001b[0m\u001b[0;34m\u001b[0m\u001b[0;34m\u001b[0m\u001b[0m\n\u001b[0;32m--> 465\u001b[0;31m         data = io.parse(\n\u001b[0m\u001b[1;32m    466\u001b[0m             \u001b[0msheet_name\u001b[0m\u001b[0;34m=\u001b[0m\u001b[0msheet_name\u001b[0m\u001b[0;34m,\u001b[0m\u001b[0;34m\u001b[0m\u001b[0;34m\u001b[0m\u001b[0m\n\u001b[1;32m    467\u001b[0m             \u001b[0mheader\u001b[0m\u001b[0;34m=\u001b[0m\u001b[0mheader\u001b[0m\u001b[0;34m,\u001b[0m\u001b[0;34m\u001b[0m\u001b[0;34m\u001b[0m\u001b[0m\n",
      "\u001b[0;32m~/.virtualenvs/py38/lib/python3.8/site-packages/pandas/io/excel/_base.py\u001b[0m in \u001b[0;36mparse\u001b[0;34m(self, sheet_name, header, names, index_col, usecols, squeeze, converters, true_values, false_values, skiprows, nrows, na_values, parse_dates, date_parser, thousands, comment, skipfooter, convert_float, mangle_dupe_cols, **kwds)\u001b[0m\n\u001b[1;32m   1456\u001b[0m             \u001b[0mDataFrame\u001b[0m \u001b[0;32mfrom\u001b[0m \u001b[0mthe\u001b[0m \u001b[0mpassed\u001b[0m \u001b[0;32min\u001b[0m \u001b[0mExcel\u001b[0m \u001b[0mfile\u001b[0m\u001b[0;34m.\u001b[0m\u001b[0;34m\u001b[0m\u001b[0;34m\u001b[0m\u001b[0m\n\u001b[1;32m   1457\u001b[0m         \"\"\"\n\u001b[0;32m-> 1458\u001b[0;31m         return self._reader.parse(\n\u001b[0m\u001b[1;32m   1459\u001b[0m             \u001b[0msheet_name\u001b[0m\u001b[0;34m=\u001b[0m\u001b[0msheet_name\u001b[0m\u001b[0;34m,\u001b[0m\u001b[0;34m\u001b[0m\u001b[0;34m\u001b[0m\u001b[0m\n\u001b[1;32m   1460\u001b[0m             \u001b[0mheader\u001b[0m\u001b[0;34m=\u001b[0m\u001b[0mheader\u001b[0m\u001b[0;34m,\u001b[0m\u001b[0;34m\u001b[0m\u001b[0;34m\u001b[0m\u001b[0m\n",
      "\u001b[0;32m~/.virtualenvs/py38/lib/python3.8/site-packages/pandas/io/excel/_base.py\u001b[0m in \u001b[0;36mparse\u001b[0;34m(self, sheet_name, header, names, index_col, usecols, squeeze, dtype, true_values, false_values, skiprows, nrows, na_values, verbose, parse_dates, date_parser, thousands, decimal, comment, skipfooter, convert_float, mangle_dupe_cols, **kwds)\u001b[0m\n\u001b[1;32m    636\u001b[0m                 \u001b[0msheet\u001b[0m \u001b[0;34m=\u001b[0m \u001b[0mself\u001b[0m\u001b[0;34m.\u001b[0m\u001b[0mget_sheet_by_index\u001b[0m\u001b[0;34m(\u001b[0m\u001b[0masheetname\u001b[0m\u001b[0;34m)\u001b[0m\u001b[0;34m\u001b[0m\u001b[0;34m\u001b[0m\u001b[0m\n\u001b[1;32m    637\u001b[0m \u001b[0;34m\u001b[0m\u001b[0m\n\u001b[0;32m--> 638\u001b[0;31m             \u001b[0mdata\u001b[0m \u001b[0;34m=\u001b[0m \u001b[0mself\u001b[0m\u001b[0;34m.\u001b[0m\u001b[0mget_sheet_data\u001b[0m\u001b[0;34m(\u001b[0m\u001b[0msheet\u001b[0m\u001b[0;34m,\u001b[0m \u001b[0mconvert_float\u001b[0m\u001b[0;34m)\u001b[0m\u001b[0;34m\u001b[0m\u001b[0;34m\u001b[0m\u001b[0m\n\u001b[0m\u001b[1;32m    639\u001b[0m             \u001b[0;32mif\u001b[0m \u001b[0mhasattr\u001b[0m\u001b[0;34m(\u001b[0m\u001b[0msheet\u001b[0m\u001b[0;34m,\u001b[0m \u001b[0;34m\"close\"\u001b[0m\u001b[0;34m)\u001b[0m\u001b[0;34m:\u001b[0m\u001b[0;34m\u001b[0m\u001b[0;34m\u001b[0m\u001b[0m\n\u001b[1;32m    640\u001b[0m                 \u001b[0;31m# pyxlsb opens two TemporaryFiles\u001b[0m\u001b[0;34m\u001b[0m\u001b[0;34m\u001b[0m\u001b[0;34m\u001b[0m\u001b[0m\n",
      "\u001b[0;32m~/.virtualenvs/py38/lib/python3.8/site-packages/pandas/io/excel/_openpyxl.py\u001b[0m in \u001b[0;36mget_sheet_data\u001b[0;34m(self, sheet, convert_float)\u001b[0m\n\u001b[1;32m    573\u001b[0m         \u001b[0mdata\u001b[0m\u001b[0;34m:\u001b[0m \u001b[0mlist\u001b[0m\u001b[0;34m[\u001b[0m\u001b[0mlist\u001b[0m\u001b[0;34m[\u001b[0m\u001b[0mScalar\u001b[0m\u001b[0;34m]\u001b[0m\u001b[0;34m]\u001b[0m \u001b[0;34m=\u001b[0m \u001b[0;34m[\u001b[0m\u001b[0;34m]\u001b[0m\u001b[0;34m\u001b[0m\u001b[0;34m\u001b[0m\u001b[0m\n\u001b[1;32m    574\u001b[0m         \u001b[0mlast_row_with_data\u001b[0m \u001b[0;34m=\u001b[0m \u001b[0;34m-\u001b[0m\u001b[0;36m1\u001b[0m\u001b[0;34m\u001b[0m\u001b[0;34m\u001b[0m\u001b[0m\n\u001b[0;32m--> 575\u001b[0;31m         \u001b[0;32mfor\u001b[0m \u001b[0mrow_number\u001b[0m\u001b[0;34m,\u001b[0m \u001b[0mrow\u001b[0m \u001b[0;32min\u001b[0m \u001b[0menumerate\u001b[0m\u001b[0;34m(\u001b[0m\u001b[0msheet\u001b[0m\u001b[0;34m.\u001b[0m\u001b[0mrows\u001b[0m\u001b[0;34m)\u001b[0m\u001b[0;34m:\u001b[0m\u001b[0;34m\u001b[0m\u001b[0;34m\u001b[0m\u001b[0m\n\u001b[0m\u001b[1;32m    576\u001b[0m             \u001b[0mconverted_row\u001b[0m \u001b[0;34m=\u001b[0m \u001b[0;34m[\u001b[0m\u001b[0mself\u001b[0m\u001b[0;34m.\u001b[0m\u001b[0m_convert_cell\u001b[0m\u001b[0;34m(\u001b[0m\u001b[0mcell\u001b[0m\u001b[0;34m,\u001b[0m \u001b[0mconvert_float\u001b[0m\u001b[0;34m)\u001b[0m \u001b[0;32mfor\u001b[0m \u001b[0mcell\u001b[0m \u001b[0;32min\u001b[0m \u001b[0mrow\u001b[0m\u001b[0;34m]\u001b[0m\u001b[0;34m\u001b[0m\u001b[0;34m\u001b[0m\u001b[0m\n\u001b[1;32m    577\u001b[0m             \u001b[0;32mwhile\u001b[0m \u001b[0mconverted_row\u001b[0m \u001b[0;32mand\u001b[0m \u001b[0mconverted_row\u001b[0m\u001b[0;34m[\u001b[0m\u001b[0;34m-\u001b[0m\u001b[0;36m1\u001b[0m\u001b[0;34m]\u001b[0m \u001b[0;34m==\u001b[0m \u001b[0;34m\"\"\u001b[0m\u001b[0;34m:\u001b[0m\u001b[0;34m\u001b[0m\u001b[0;34m\u001b[0m\u001b[0m\n",
      "\u001b[0;32m~/.virtualenvs/py38/lib/python3.8/site-packages/openpyxl/worksheet/_read_only.py\u001b[0m in \u001b[0;36m_cells_by_row\u001b[0;34m(self, min_col, min_row, max_col, max_row, values_only)\u001b[0m\n\u001b[1;32m     77\u001b[0m                                  \u001b[0mdata_only\u001b[0m\u001b[0;34m=\u001b[0m\u001b[0mself\u001b[0m\u001b[0;34m.\u001b[0m\u001b[0mparent\u001b[0m\u001b[0;34m.\u001b[0m\u001b[0mdata_only\u001b[0m\u001b[0;34m,\u001b[0m \u001b[0mepoch\u001b[0m\u001b[0;34m=\u001b[0m\u001b[0mself\u001b[0m\u001b[0;34m.\u001b[0m\u001b[0mparent\u001b[0m\u001b[0;34m.\u001b[0m\u001b[0mepoch\u001b[0m\u001b[0;34m,\u001b[0m\u001b[0;34m\u001b[0m\u001b[0;34m\u001b[0m\u001b[0m\n\u001b[1;32m     78\u001b[0m                                  date_formats=self.parent._date_formats)\n\u001b[0;32m---> 79\u001b[0;31m         \u001b[0;32mfor\u001b[0m \u001b[0midx\u001b[0m\u001b[0;34m,\u001b[0m \u001b[0mrow\u001b[0m \u001b[0;32min\u001b[0m \u001b[0mparser\u001b[0m\u001b[0;34m.\u001b[0m\u001b[0mparse\u001b[0m\u001b[0;34m(\u001b[0m\u001b[0;34m)\u001b[0m\u001b[0;34m:\u001b[0m\u001b[0;34m\u001b[0m\u001b[0;34m\u001b[0m\u001b[0m\n\u001b[0m\u001b[1;32m     80\u001b[0m             \u001b[0;32mif\u001b[0m \u001b[0mmax_row\u001b[0m \u001b[0;32mis\u001b[0m \u001b[0;32mnot\u001b[0m \u001b[0;32mNone\u001b[0m \u001b[0;32mand\u001b[0m \u001b[0midx\u001b[0m \u001b[0;34m>\u001b[0m \u001b[0mmax_row\u001b[0m\u001b[0;34m:\u001b[0m\u001b[0;34m\u001b[0m\u001b[0;34m\u001b[0m\u001b[0m\n\u001b[1;32m     81\u001b[0m                 \u001b[0;32mbreak\u001b[0m\u001b[0;34m\u001b[0m\u001b[0;34m\u001b[0m\u001b[0m\n",
      "\u001b[0;32m~/.virtualenvs/py38/lib/python3.8/site-packages/openpyxl/worksheet/_reader.py\u001b[0m in \u001b[0;36mparse\u001b[0;34m(self)\u001b[0m\n\u001b[1;32m    142\u001b[0m         \u001b[0mit\u001b[0m \u001b[0;34m=\u001b[0m \u001b[0miterparse\u001b[0m\u001b[0;34m(\u001b[0m\u001b[0mself\u001b[0m\u001b[0;34m.\u001b[0m\u001b[0msource\u001b[0m\u001b[0;34m)\u001b[0m \u001b[0;31m# add a finaliser to close the source when this becomes possible\u001b[0m\u001b[0;34m\u001b[0m\u001b[0;34m\u001b[0m\u001b[0m\n\u001b[1;32m    143\u001b[0m \u001b[0;34m\u001b[0m\u001b[0m\n\u001b[0;32m--> 144\u001b[0;31m         \u001b[0;32mfor\u001b[0m \u001b[0m_\u001b[0m\u001b[0;34m,\u001b[0m \u001b[0melement\u001b[0m \u001b[0;32min\u001b[0m \u001b[0mit\u001b[0m\u001b[0;34m:\u001b[0m\u001b[0;34m\u001b[0m\u001b[0;34m\u001b[0m\u001b[0m\n\u001b[0m\u001b[1;32m    145\u001b[0m             \u001b[0mtag_name\u001b[0m \u001b[0;34m=\u001b[0m \u001b[0melement\u001b[0m\u001b[0;34m.\u001b[0m\u001b[0mtag\u001b[0m\u001b[0;34m\u001b[0m\u001b[0;34m\u001b[0m\u001b[0m\n\u001b[1;32m    146\u001b[0m             \u001b[0;32mif\u001b[0m \u001b[0mtag_name\u001b[0m \u001b[0;32min\u001b[0m \u001b[0mdispatcher\u001b[0m\u001b[0;34m:\u001b[0m\u001b[0;34m\u001b[0m\u001b[0;34m\u001b[0m\u001b[0m\n",
      "\u001b[0;32m/usr/lib/python3.8/xml/etree/ElementTree.py\u001b[0m in \u001b[0;36miterator\u001b[0;34m()\u001b[0m\n\u001b[1;32m   1230\u001b[0m                 \u001b[0;32mif\u001b[0m \u001b[0;32mnot\u001b[0m \u001b[0mdata\u001b[0m\u001b[0;34m:\u001b[0m\u001b[0;34m\u001b[0m\u001b[0;34m\u001b[0m\u001b[0m\n\u001b[1;32m   1231\u001b[0m                     \u001b[0;32mbreak\u001b[0m\u001b[0;34m\u001b[0m\u001b[0;34m\u001b[0m\u001b[0m\n\u001b[0;32m-> 1232\u001b[0;31m                 \u001b[0mpullparser\u001b[0m\u001b[0;34m.\u001b[0m\u001b[0mfeed\u001b[0m\u001b[0;34m(\u001b[0m\u001b[0mdata\u001b[0m\u001b[0;34m)\u001b[0m\u001b[0;34m\u001b[0m\u001b[0;34m\u001b[0m\u001b[0m\n\u001b[0m\u001b[1;32m   1233\u001b[0m             \u001b[0mroot\u001b[0m \u001b[0;34m=\u001b[0m \u001b[0mpullparser\u001b[0m\u001b[0;34m.\u001b[0m\u001b[0m_close_and_return_root\u001b[0m\u001b[0;34m(\u001b[0m\u001b[0;34m)\u001b[0m\u001b[0;34m\u001b[0m\u001b[0;34m\u001b[0m\u001b[0m\n\u001b[1;32m   1234\u001b[0m             \u001b[0;32myield\u001b[0m \u001b[0;32mfrom\u001b[0m \u001b[0mpullparser\u001b[0m\u001b[0;34m.\u001b[0m\u001b[0mread_events\u001b[0m\u001b[0;34m(\u001b[0m\u001b[0;34m)\u001b[0m\u001b[0;34m\u001b[0m\u001b[0;34m\u001b[0m\u001b[0m\n",
      "\u001b[0;32m/usr/lib/python3.8/xml/etree/ElementTree.py\u001b[0m in \u001b[0;36mfeed\u001b[0;34m(self, data)\u001b[0m\n\u001b[1;32m   1272\u001b[0m         \u001b[0;32mif\u001b[0m \u001b[0mdata\u001b[0m\u001b[0;34m:\u001b[0m\u001b[0;34m\u001b[0m\u001b[0;34m\u001b[0m\u001b[0m\n\u001b[1;32m   1273\u001b[0m             \u001b[0;32mtry\u001b[0m\u001b[0;34m:\u001b[0m\u001b[0;34m\u001b[0m\u001b[0;34m\u001b[0m\u001b[0m\n\u001b[0;32m-> 1274\u001b[0;31m                 \u001b[0mself\u001b[0m\u001b[0;34m.\u001b[0m\u001b[0m_parser\u001b[0m\u001b[0;34m.\u001b[0m\u001b[0mfeed\u001b[0m\u001b[0;34m(\u001b[0m\u001b[0mdata\u001b[0m\u001b[0;34m)\u001b[0m\u001b[0;34m\u001b[0m\u001b[0;34m\u001b[0m\u001b[0m\n\u001b[0m\u001b[1;32m   1275\u001b[0m             \u001b[0;32mexcept\u001b[0m \u001b[0mSyntaxError\u001b[0m \u001b[0;32mas\u001b[0m \u001b[0mexc\u001b[0m\u001b[0;34m:\u001b[0m\u001b[0;34m\u001b[0m\u001b[0;34m\u001b[0m\u001b[0m\n\u001b[1;32m   1276\u001b[0m                 \u001b[0mself\u001b[0m\u001b[0;34m.\u001b[0m\u001b[0m_events_queue\u001b[0m\u001b[0;34m.\u001b[0m\u001b[0mappend\u001b[0m\u001b[0;34m(\u001b[0m\u001b[0mexc\u001b[0m\u001b[0;34m)\u001b[0m\u001b[0;34m\u001b[0m\u001b[0;34m\u001b[0m\u001b[0m\n",
      "\u001b[0;32m/usr/lib/python3.8/xml/etree/ElementTree.py\u001b[0m in \u001b[0;36mfeed\u001b[0;34m(self, data)\u001b[0m\n\u001b[1;32m   1691\u001b[0m         \u001b[0;34m\"\"\"Feed encoded data to parser.\"\"\"\u001b[0m\u001b[0;34m\u001b[0m\u001b[0;34m\u001b[0m\u001b[0m\n\u001b[1;32m   1692\u001b[0m         \u001b[0;32mtry\u001b[0m\u001b[0;34m:\u001b[0m\u001b[0;34m\u001b[0m\u001b[0;34m\u001b[0m\u001b[0m\n\u001b[0;32m-> 1693\u001b[0;31m             \u001b[0mself\u001b[0m\u001b[0;34m.\u001b[0m\u001b[0mparser\u001b[0m\u001b[0;34m.\u001b[0m\u001b[0mParse\u001b[0m\u001b[0;34m(\u001b[0m\u001b[0mdata\u001b[0m\u001b[0;34m,\u001b[0m \u001b[0;36m0\u001b[0m\u001b[0;34m)\u001b[0m\u001b[0;34m\u001b[0m\u001b[0;34m\u001b[0m\u001b[0m\n\u001b[0m\u001b[1;32m   1694\u001b[0m         \u001b[0;32mexcept\u001b[0m \u001b[0mself\u001b[0m\u001b[0;34m.\u001b[0m\u001b[0m_error\u001b[0m \u001b[0;32mas\u001b[0m \u001b[0mv\u001b[0m\u001b[0;34m:\u001b[0m\u001b[0;34m\u001b[0m\u001b[0;34m\u001b[0m\u001b[0m\n\u001b[1;32m   1695\u001b[0m             \u001b[0mself\u001b[0m\u001b[0;34m.\u001b[0m\u001b[0m_raiseerror\u001b[0m\u001b[0;34m(\u001b[0m\u001b[0mv\u001b[0m\u001b[0;34m)\u001b[0m\u001b[0;34m\u001b[0m\u001b[0;34m\u001b[0m\u001b[0m\n",
      "\u001b[0;32m../Modules/pyexpat.c\u001b[0m in \u001b[0;36mStartElement\u001b[0;34m()\u001b[0m\n",
      "\u001b[0;32m/usr/lib/python3.8/xml/etree/ElementTree.py\u001b[0m in \u001b[0;36m_start\u001b[0;34m(self, tag, attr_list)\u001b[0m\n\u001b[1;32m   1619\u001b[0m         \u001b[0;32mreturn\u001b[0m \u001b[0mself\u001b[0m\u001b[0;34m.\u001b[0m\u001b[0mtarget\u001b[0m\u001b[0;34m.\u001b[0m\u001b[0mend_ns\u001b[0m\u001b[0;34m(\u001b[0m\u001b[0mprefix\u001b[0m \u001b[0;32mor\u001b[0m \u001b[0;34m''\u001b[0m\u001b[0;34m)\u001b[0m\u001b[0;34m\u001b[0m\u001b[0;34m\u001b[0m\u001b[0m\n\u001b[1;32m   1620\u001b[0m \u001b[0;34m\u001b[0m\u001b[0m\n\u001b[0;32m-> 1621\u001b[0;31m     \u001b[0;32mdef\u001b[0m \u001b[0m_start\u001b[0m\u001b[0;34m(\u001b[0m\u001b[0mself\u001b[0m\u001b[0;34m,\u001b[0m \u001b[0mtag\u001b[0m\u001b[0;34m,\u001b[0m \u001b[0mattr_list\u001b[0m\u001b[0;34m)\u001b[0m\u001b[0;34m:\u001b[0m\u001b[0;34m\u001b[0m\u001b[0;34m\u001b[0m\u001b[0m\n\u001b[0m\u001b[1;32m   1622\u001b[0m         \u001b[0;31m# Handler for expat's StartElementHandler. Since ordered_attributes\u001b[0m\u001b[0;34m\u001b[0m\u001b[0;34m\u001b[0m\u001b[0;34m\u001b[0m\u001b[0m\n\u001b[1;32m   1623\u001b[0m         \u001b[0;31m# is set, the attributes are reported as a list of alternating\u001b[0m\u001b[0;34m\u001b[0m\u001b[0;34m\u001b[0m\u001b[0;34m\u001b[0m\u001b[0m\n",
      "\u001b[0;31mKeyboardInterrupt\u001b[0m: "
     ]
    }
   ],
   "source": [
    "df_cycles , spindles = load_df(patient)"
   ]
  },
  {
   "cell_type": "code",
   "execution_count": null,
   "id": "03e7e72b-7951-42ba-a540-92f4a943327c",
   "metadata": {
    "execution": {
     "iopub.status.busy": "2022-05-25T15:27:38.594951Z",
     "iopub.status.idle": "2022-05-25T15:27:38.595121Z",
     "shell.execute_reply": "2022-05-25T15:27:38.595038Z",
     "shell.execute_reply.started": "2022-05-25T15:27:38.595028Z"
    },
    "tags": []
   },
   "outputs": [],
   "source": [
    "df_cycles"
   ]
  },
  {
   "cell_type": "code",
   "execution_count": null,
   "id": "cf0120fa-c491-4148-b7dd-c71b934403bc",
   "metadata": {
    "execution": {
     "iopub.status.busy": "2022-05-25T15:27:38.595981Z",
     "iopub.status.idle": "2022-05-25T15:27:38.596313Z",
     "shell.execute_reply": "2022-05-25T15:27:38.596225Z",
     "shell.execute_reply.started": "2022-05-25T15:27:38.596214Z"
    },
    "tags": []
   },
   "outputs": [],
   "source": [
    "spindles"
   ]
  },
  {
   "cell_type": "markdown",
   "id": "b0937f81-38fb-4da6-bd9e-68f5e26dd1e5",
   "metadata": {
    "tags": []
   },
   "source": [
    "## COMPUTE WHICH CYCLE CONTAINS SPINDLES"
   ]
  },
  {
   "cell_type": "code",
   "execution_count": null,
   "id": "7105f63a-452c-45ae-b9fe-4b2ee5d92bb1",
   "metadata": {
    "execution": {
     "iopub.status.busy": "2022-05-25T15:27:38.597002Z",
     "iopub.status.idle": "2022-05-25T15:27:38.597229Z",
     "shell.execute_reply": "2022-05-25T15:27:38.597148Z",
     "shell.execute_reply.started": "2022-05-25T15:27:38.597113Z"
    },
    "tags": []
   },
   "outputs": [],
   "source": [
    "def which_cycle_find_spindle(spindles = spindles, df_cycles = df_cycles, patient=patient):\n",
    "    spindles_times = spindles['Peak'].values\n",
    "\n",
    "    count = []\n",
    "\n",
    "    for cycle in range(df_cycles.shape[0]):\n",
    "\n",
    "        start = df_cycles.loc[cycle,'inspi_time']\n",
    "        stop = df_cycles.loc[cycle,'end_time']\n",
    "        \n",
    "        for spindle_time in spindles_times:\n",
    "            if spindle_time >= start and spindle_time < stop:\n",
    "                count.append(cycle)\n",
    "    cycles_with_spindle = pd.Series(count).unique()\n",
    "\n",
    "    return cycles_with_spindle"
   ]
  },
  {
   "cell_type": "code",
   "execution_count": null,
   "id": "19757d25-1da7-4573-a408-2fa6fed44a12",
   "metadata": {
    "execution": {
     "iopub.status.busy": "2022-05-25T15:27:38.597965Z",
     "iopub.status.idle": "2022-05-25T15:27:38.598200Z",
     "shell.execute_reply": "2022-05-25T15:27:38.598115Z",
     "shell.execute_reply.started": "2022-05-25T15:27:38.598104Z"
    },
    "tags": []
   },
   "outputs": [],
   "source": [
    "cycles_spindled = which_cycle_find_spindle(spindles = spindles, df_cycles = df_cycles)"
   ]
  },
  {
   "cell_type": "code",
   "execution_count": null,
   "id": "aa472d41-3f24-464d-b40a-7ee71eaf9964",
   "metadata": {
    "execution": {
     "iopub.status.busy": "2022-05-25T15:27:38.598706Z",
     "iopub.status.idle": "2022-05-25T15:27:38.598870Z",
     "shell.execute_reply": "2022-05-25T15:27:38.598789Z",
     "shell.execute_reply.started": "2022-05-25T15:27:38.598780Z"
    },
    "tags": []
   },
   "outputs": [],
   "source": [
    "if save_cycles_with_spindle:\n",
    "    print(f'saving {patient}')\n",
    "    np.save(f'../df_analyse/cycles_spindled_{patient}', cycles_spindled)"
   ]
  },
  {
   "cell_type": "code",
   "execution_count": null,
   "id": "1f1bb004-bd9d-4419-b820-153190e7beb7",
   "metadata": {
    "execution": {
     "iopub.status.busy": "2022-05-25T15:27:38.599327Z",
     "iopub.status.idle": "2022-05-25T15:27:38.599491Z",
     "shell.execute_reply": "2022-05-25T15:27:38.599410Z",
     "shell.execute_reply.started": "2022-05-25T15:27:38.599401Z"
    },
    "tags": []
   },
   "outputs": [],
   "source": [
    "cycles_spindled.size"
   ]
  },
  {
   "cell_type": "markdown",
   "id": "395f597b-9c24-4c86-a8cc-924234a0afa0",
   "metadata": {
    "tags": []
   },
   "source": [
    "## COMPUTE WHICH RESP PHASE CONTAINS SPINDLES"
   ]
  },
  {
   "cell_type": "code",
   "execution_count": null,
   "id": "0d269a92-a4a4-4fc5-88ed-28217a37d92a",
   "metadata": {
    "execution": {
     "iopub.status.busy": "2022-05-25T15:27:38.600120Z",
     "iopub.status.idle": "2022-05-25T15:27:38.600343Z",
     "shell.execute_reply": "2022-05-25T15:27:38.600223Z",
     "shell.execute_reply.started": "2022-05-25T15:27:38.600208Z"
    }
   },
   "outputs": [],
   "source": [
    "def count_spindles_phase_resp(nbins, patient, spindles = spindles, df_cycles = df_cycles, cycle_spindled = cycles_spindled, show=False):\n",
    "    spindles_times = spindles['Peak']\n",
    "    \n",
    "    count = []\n",
    "\n",
    "    for cycle in cycle_spindled:\n",
    "        \n",
    "        start = df_cycles.loc[cycle,'inspi_time']\n",
    "        stop = df_cycles.loc[cycle,'end_time']\n",
    "\n",
    "        phases_timings = np.linspace(start, stop, nbins + 1)\n",
    "        \n",
    "        spindles_of_the_cycle = spindles_times[(spindles_times >= start) & (spindles_times <= stop)].values\n",
    "        \n",
    "        for spindle_time in spindles_of_the_cycle:\n",
    "            for i, phase_start in enumerate(phases_timings):\n",
    "                if phase_start != phases_timings[-1]:\n",
    "                    phase_stop = phases_timings[i + 1]\n",
    "                    if spindle_time >= phase_start and spindle_time < phase_stop:\n",
    "                        count.append(i)\n",
    "                        \n",
    "    phase_count = pd.Series(count).value_counts(normalize = False).reindex(np.arange(0,nbins))\n",
    "    phase_count = phase_count.to_frame().T\n",
    "    phase_count.insert(0 , 'norm' , 'no')\n",
    "    phase_count_norm = pd.Series(count).value_counts(normalize = True).reindex(np.arange(0,nbins))\n",
    "    phase_count_norm = phase_count_norm.to_frame().T\n",
    "    phase_count_norm.insert(0 , 'norm' , 'yes')\n",
    "    \n",
    "    df_concat = pd.concat([phase_count, phase_count_norm], axis = 0)\n",
    "    \n",
    "    df_concat.insert(0 , 'patient', patient)\n",
    "\n",
    "    return df_concat"
   ]
  },
  {
   "cell_type": "code",
   "execution_count": null,
   "id": "aa55602f-1e07-4854-8c78-299c55c0981f",
   "metadata": {
    "execution": {
     "iopub.status.busy": "2022-05-25T15:27:38.601042Z",
     "iopub.status.idle": "2022-05-25T15:27:38.601217Z",
     "shell.execute_reply": "2022-05-25T15:27:38.601137Z",
     "shell.execute_reply.started": "2022-05-25T15:27:38.601127Z"
    }
   },
   "outputs": [],
   "source": [
    "count_spindles_phase_resp(nbins, patient)"
   ]
  },
  {
   "cell_type": "markdown",
   "id": "78d9ef1f-fc3e-40a4-befb-9ca961bbf807",
   "metadata": {
    "tags": []
   },
   "source": [
    "## LOOP ON PATIENTS AND STAGES"
   ]
  },
  {
   "cell_type": "code",
   "execution_count": null,
   "id": "44c2a6b7-881a-49ec-b40f-ddcb67539ebb",
   "metadata": {
    "execution": {
     "iopub.status.busy": "2022-05-25T15:27:38.601608Z",
     "iopub.status.idle": "2022-05-25T15:27:38.601770Z",
     "shell.execute_reply": "2022-05-25T15:27:38.601688Z",
     "shell.execute_reply.started": "2022-05-25T15:27:38.601679Z"
    }
   },
   "outputs": [],
   "source": [
    "def all_in_one(patient, nbins=nbins, stage='N2'):\n",
    "    df_cycles , spindles = load_df(patient, stage_to_study=stage)\n",
    "    cycles_spindled = which_cycle_find_spindle(spindles = spindles, df_cycles = df_cycles, patient=patient)\n",
    "    count = count_spindles_phase_resp(nbins=nbins, patient=patient, spindles = spindles, df_cycles = df_cycles, cycle_spindled = cycles_spindled, show=False)\n",
    "    count.insert(1 , 'stage' , stage)\n",
    "    return count"
   ]
  },
  {
   "cell_type": "code",
   "execution_count": null,
   "id": "093f801a-3aa9-4f5e-8e67-5b9806937e94",
   "metadata": {
    "execution": {
     "iopub.status.busy": "2022-05-25T15:27:38.602305Z",
     "iopub.status.idle": "2022-05-25T15:27:38.602594Z",
     "shell.execute_reply": "2022-05-25T15:27:38.602470Z",
     "shell.execute_reply.started": "2022-05-25T15:27:38.602456Z"
    }
   },
   "outputs": [],
   "source": [
    "all_in_one(patient='P1',nbins = 2, stage = 'N2')"
   ]
  },
  {
   "cell_type": "code",
   "execution_count": null,
   "id": "d8792455-fecd-4a1e-9da2-372fb8345721",
   "metadata": {
    "execution": {
     "iopub.status.busy": "2022-05-25T15:27:38.603406Z",
     "iopub.status.idle": "2022-05-25T15:27:38.603618Z",
     "shell.execute_reply": "2022-05-25T15:27:38.603538Z",
     "shell.execute_reply.started": "2022-05-25T15:27:38.603528Z"
    }
   },
   "outputs": [],
   "source": [
    "concat = []\n",
    "for p in  ['P1','P2','P3','P4','P5','P6','P7','P8','P9','P10']:\n",
    "    print(p)\n",
    "    for stage in compute_stages:\n",
    "        concat.append(all_in_one(patient=p, stage=stage))\n",
    "df = pd.concat(concat)"
   ]
  },
  {
   "cell_type": "code",
   "execution_count": null,
   "id": "a96ba4e6-bef0-4ec8-a078-76d7874992ef",
   "metadata": {
    "execution": {
     "iopub.status.busy": "2022-05-25T15:27:38.604155Z",
     "iopub.status.idle": "2022-05-25T15:27:38.604316Z",
     "shell.execute_reply": "2022-05-25T15:27:38.604237Z",
     "shell.execute_reply.started": "2022-05-25T15:27:38.604228Z"
    }
   },
   "outputs": [],
   "source": [
    "df"
   ]
  },
  {
   "cell_type": "code",
   "execution_count": null,
   "id": "f702fdf5-b693-418c-967f-0e2e134b932b",
   "metadata": {
    "execution": {
     "iopub.status.busy": "2022-05-25T15:27:38.605027Z",
     "iopub.status.idle": "2022-05-25T15:27:38.605187Z",
     "shell.execute_reply": "2022-05-25T15:27:38.605109Z",
     "shell.execute_reply.started": "2022-05-25T15:27:38.605100Z"
    }
   },
   "outputs": [],
   "source": [
    "def to_tidy(df, nbins=2, indexes = ['patient','stage','norm']):\n",
    "    df = df.set_index(indexes)\n",
    "    rows = []\n",
    "    for patient in patients:\n",
    "        for stage in compute_stages:\n",
    "            for norm in ['no','yes']:\n",
    "                for bin_i in range(nbins):\n",
    "\n",
    "                    count_bin_i = df.loc[(patient, stage, norm), bin_i]\n",
    "                    row = [patient, stage, norm, bin_i, count_bin_i]\n",
    "                    rows.append(row)\n",
    "                \n",
    "    df_tidy = pd.DataFrame(rows, columns = ['patient' , 'stage', 'norm', 'phase' , 'count'])\n",
    "    return df_tidy\n",
    "\n",
    "df_tidy = to_tidy(df)\n",
    "df_tidy"
   ]
  },
  {
   "cell_type": "code",
   "execution_count": null,
   "id": "0d2ecf42-0c88-4673-bfcb-3cebae2579d2",
   "metadata": {
    "execution": {
     "iopub.status.busy": "2022-05-25T15:27:38.606159Z",
     "iopub.status.idle": "2022-05-25T15:27:38.606377Z",
     "shell.execute_reply": "2022-05-25T15:27:38.606278Z",
     "shell.execute_reply.started": "2022-05-25T15:27:38.606268Z"
    }
   },
   "outputs": [],
   "source": [
    "df_tidy.groupby(['stage','norm','phase']).mean()"
   ]
  },
  {
   "cell_type": "code",
   "execution_count": null,
   "id": "cb8a1c4d-829f-4ddc-a243-939f6aae77c9",
   "metadata": {
    "execution": {
     "iopub.status.busy": "2022-05-25T15:27:38.606903Z",
     "iopub.status.idle": "2022-05-25T15:27:38.607060Z",
     "shell.execute_reply": "2022-05-25T15:27:38.606984Z",
     "shell.execute_reply.started": "2022-05-25T15:27:38.606975Z"
    }
   },
   "outputs": [],
   "source": [
    "df_tidy.groupby(['stage','norm','phase']).std()"
   ]
  },
  {
   "cell_type": "code",
   "execution_count": null,
   "id": "3220b03d-a75f-4ed6-9326-630582c5b7ee",
   "metadata": {
    "execution": {
     "iopub.status.busy": "2022-05-25T15:27:38.607724Z",
     "iopub.status.idle": "2022-05-25T15:27:38.607894Z",
     "shell.execute_reply": "2022-05-25T15:27:38.607807Z",
     "shell.execute_reply.started": "2022-05-25T15:27:38.607798Z"
    }
   },
   "outputs": [],
   "source": [
    "fig ,axs = plt.subplots(nrows = 2, ncols = 2, figsize = (20,10), constrained_layout =True)\n",
    "\n",
    "for row , norm in enumerate(['no', 'yes']):\n",
    "    for col, mode in enumerate(['box','distribution']):\n",
    "        ax = axs[row, col]\n",
    "        gh.auto_stats(df=df_tidy[(df_tidy['stage'] == 'N2') & (df_tidy['norm'] == norm)] , predictor = 'phase', outcome = 'count' , design = 'within', ax=ax, mode = mode)"
   ]
  },
  {
   "cell_type": "code",
   "execution_count": null,
   "id": "aefb7012-b9fb-493e-927d-ddd2938a4c17",
   "metadata": {
    "execution": {
     "iopub.status.busy": "2022-05-25T15:27:38.608467Z",
     "iopub.status.idle": "2022-05-25T15:27:38.608646Z",
     "shell.execute_reply": "2022-05-25T15:27:38.608565Z",
     "shell.execute_reply.started": "2022-05-25T15:27:38.608555Z"
    }
   },
   "outputs": [],
   "source": [
    "bin_1_prop = df_tidy[(df_tidy['stage'] == 'N2') & (df_tidy['norm'] == 'yes') & (df_tidy['phase'] == 1)]['count'].values\n",
    "bin_0_prop = df_tidy[(df_tidy['stage'] == 'N2') & (df_tidy['norm'] == 'yes') & (df_tidy['phase'] == 0)]['count'].values"
   ]
  },
  {
   "cell_type": "code",
   "execution_count": null,
   "id": "53a12fe7-3304-4fa1-be2c-fff485da3ddd",
   "metadata": {
    "execution": {
     "iopub.status.busy": "2022-05-25T15:27:38.609161Z",
     "iopub.status.idle": "2022-05-25T15:27:38.609547Z",
     "shell.execute_reply": "2022-05-25T15:27:38.609443Z",
     "shell.execute_reply.started": "2022-05-25T15:27:38.609410Z"
    },
    "tags": []
   },
   "outputs": [],
   "source": [
    "ttest = pg.ttest(x = bin_1_prop, y = 0.5)\n",
    "ttest"
   ]
  },
  {
   "cell_type": "code",
   "execution_count": null,
   "id": "e290978c-8061-4a3a-b93a-ad8468b2b10e",
   "metadata": {
    "execution": {
     "iopub.status.busy": "2022-05-25T15:27:38.610079Z",
     "iopub.status.idle": "2022-05-25T15:27:38.610323Z",
     "shell.execute_reply": "2022-05-25T15:27:38.610242Z",
     "shell.execute_reply.started": "2022-05-25T15:27:38.610233Z"
    }
   },
   "outputs": [],
   "source": [
    "pg.ttest(x = bin_0_prop, y = 0.5)"
   ]
  },
  {
   "cell_type": "code",
   "execution_count": null,
   "id": "059c2bcf-3f0b-470b-9404-55626952bca5",
   "metadata": {
    "execution": {
     "iopub.status.busy": "2022-05-25T15:27:38.610805Z",
     "iopub.status.idle": "2022-05-25T15:27:38.611116Z",
     "shell.execute_reply": "2022-05-25T15:27:38.611032Z",
     "shell.execute_reply.started": "2022-05-25T15:27:38.611006Z"
    },
    "tags": []
   },
   "outputs": [],
   "source": [
    "fig, ax = plt.subplots(figsize = (20,10))\n",
    "sns.barplot(data = df_tidy[(df_tidy['stage'] == 'N2') & (df_tidy['norm'] == 'yes')], x='patient', y ='count', hue = 'phase', ax=ax)\n",
    "p = ttest.loc['T-test', 'p-val'].round(4)\n",
    "cohen = ttest.loc['T-test', 'cohen-d'].round(4)\n",
    "ax.set_title(f'T-test against 0.5 : p={p} ; cohen-d = {cohen}')\n",
    "for p in ax.patches:\n",
    "    ax.annotate(str(round(p.get_height(), 2)), (p.get_x() * 1.005, p.get_height() * 1.005))\n",
    "# plt.savefig('../presentation_2/bar_2_bins')"
   ]
  },
  {
   "cell_type": "code",
   "execution_count": null,
   "id": "30c04f05-e608-4ea7-b9f5-0092711ca50f",
   "metadata": {
    "execution": {
     "iopub.status.busy": "2022-05-25T15:27:38.611576Z",
     "iopub.status.idle": "2022-05-25T15:27:38.611759Z",
     "shell.execute_reply": "2022-05-25T15:27:38.611678Z",
     "shell.execute_reply.started": "2022-05-25T15:27:38.611669Z"
    },
    "tags": []
   },
   "outputs": [],
   "source": [
    "for p in ax.patches:\n",
    "    print(p.get_height())"
   ]
  },
  {
   "cell_type": "code",
   "execution_count": null,
   "id": "23c05e18-719c-4194-96d6-1c527fa599a5",
   "metadata": {
    "execution": {
     "iopub.status.busy": "2022-05-25T15:27:38.612322Z",
     "iopub.status.idle": "2022-05-25T15:27:38.612502Z",
     "shell.execute_reply": "2022-05-25T15:27:38.612421Z",
     "shell.execute_reply.started": "2022-05-25T15:27:38.612411Z"
    }
   },
   "outputs": [],
   "source": [
    "sns.catplot(data = df_tidy[df_tidy['norm'] == 'no'], x='patient', y ='count', hue = 'phase', col = 'stage')"
   ]
  },
  {
   "cell_type": "code",
   "execution_count": null,
   "id": "a8d02471-9f5d-4797-aa98-0e14bd11e598",
   "metadata": {
    "execution": {
     "iopub.status.busy": "2022-05-25T15:27:38.613039Z",
     "iopub.status.idle": "2022-05-25T15:27:38.613206Z",
     "shell.execute_reply": "2022-05-25T15:27:38.613126Z",
     "shell.execute_reply.started": "2022-05-25T15:27:38.613117Z"
    }
   },
   "outputs": [],
   "source": [
    "sns.catplot(data = df_tidy[df_tidy['norm'] == 'yes'], x='patient', y ='count', hue = 'phase', col = 'stage')"
   ]
  },
  {
   "cell_type": "code",
   "execution_count": null,
   "id": "719d2cce-17d3-4e24-81b4-c8d17048483c",
   "metadata": {
    "execution": {
     "iopub.status.busy": "2022-05-25T15:27:38.613711Z",
     "iopub.status.idle": "2022-05-25T15:27:38.613869Z",
     "shell.execute_reply": "2022-05-25T15:27:38.613792Z",
     "shell.execute_reply.started": "2022-05-25T15:27:38.613783Z"
    }
   },
   "outputs": [],
   "source": [
    "concat = []\n",
    "for p in  patients:\n",
    "    print(p)\n",
    "    concat.append(all_in_one(p, nbins = 20))\n"
   ]
  },
  {
   "cell_type": "code",
   "execution_count": null,
   "id": "a085eb81-bfa5-4011-a016-acb2df5a512b",
   "metadata": {
    "execution": {
     "iopub.status.busy": "2022-05-25T15:27:38.614519Z",
     "iopub.status.idle": "2022-05-25T15:27:38.614804Z",
     "shell.execute_reply": "2022-05-25T15:27:38.614682Z",
     "shell.execute_reply.started": "2022-05-25T15:27:38.614668Z"
    }
   },
   "outputs": [],
   "source": [
    "df_20 = pd.concat(concat)"
   ]
  },
  {
   "cell_type": "code",
   "execution_count": null,
   "id": "b2c3c4da-ca7c-4c48-aa32-484e9140df76",
   "metadata": {
    "execution": {
     "iopub.status.busy": "2022-05-25T15:27:38.615469Z",
     "iopub.status.idle": "2022-05-25T15:27:38.615650Z",
     "shell.execute_reply": "2022-05-25T15:27:38.615568Z",
     "shell.execute_reply.started": "2022-05-25T15:27:38.615558Z"
    }
   },
   "outputs": [],
   "source": [
    "df_20.mean().plot.bar()"
   ]
  },
  {
   "cell_type": "code",
   "execution_count": null,
   "id": "431f469e-5cab-4260-b8d2-9523b4e36a27",
   "metadata": {
    "execution": {
     "iopub.status.busy": "2022-05-25T15:27:38.616117Z",
     "iopub.status.idle": "2022-05-25T15:27:38.616279Z",
     "shell.execute_reply": "2022-05-25T15:27:38.616200Z",
     "shell.execute_reply.started": "2022-05-25T15:27:38.616191Z"
    }
   },
   "outputs": [],
   "source": [
    "df_20"
   ]
  },
  {
   "cell_type": "code",
   "execution_count": null,
   "id": "68029901-4155-4e8d-aae1-4b18eb635c33",
   "metadata": {
    "execution": {
     "iopub.status.busy": "2022-05-25T15:27:38.616980Z",
     "iopub.status.idle": "2022-05-25T15:27:38.617162Z",
     "shell.execute_reply": "2022-05-25T15:27:38.617081Z",
     "shell.execute_reply.started": "2022-05-25T15:27:38.617071Z"
    }
   },
   "outputs": [],
   "source": [
    "def get_complex_vector(phase, amplitude, axis = 0):\n",
    "    #### phase in radian\n",
    "    #### amplitude 0/1 if spike or whaever positive values if continuous thing\n",
    "    if np.sum(amplitude<0) >0:\n",
    "        print('Caution ! Negative amplitude may disturb mesurement !')\n",
    "    # vectors = np.zeros(phase.shape, dtype ='complex64')\n",
    "    # vectors[:] = (amplitude*np.exp(1j*phase))\n",
    "    vectors = amplitude.astype('float32') * np.exp((1j*phase).astype('complex64'))\n",
    "    # print(vectors.dtype)\n",
    "    mean_vector = np.nanmean(vectors, axis = axis)\n",
    "    vectors = 0\n",
    "    length = abs(mean_vector)\n",
    "    angle = np.angle(mean_vector)\n",
    "    if np.isscalar(angle):\n",
    "        if angle<0:\n",
    "            angle += 2*np.pi\n",
    "    elif isinstance(angle, np.ndarray) :\n",
    "        angle[angle<0] += np.ones(np.sum(angle<0))*2*np.pi\n",
    "    else :\n",
    "        print('unknown data type')\n",
    "        exit()\n",
    "    return angle, length\n"
   ]
  },
  {
   "cell_type": "code",
   "execution_count": null,
   "id": "af20d2d9-a8f8-4e9b-bb8e-05ba5b9d1208",
   "metadata": {
    "execution": {
     "iopub.status.busy": "2022-05-25T15:27:38.617524Z",
     "iopub.status.idle": "2022-05-25T15:27:38.617683Z",
     "shell.execute_reply": "2022-05-25T15:27:38.617604Z",
     "shell.execute_reply.started": "2022-05-25T15:27:38.617595Z"
    }
   },
   "outputs": [],
   "source": [
    "df_20_raw = df_20[df_20['norm'] == 'no']"
   ]
  },
  {
   "cell_type": "code",
   "execution_count": null,
   "id": "c780c200-c235-4f8e-a4fc-b2b14d6a616f",
   "metadata": {
    "execution": {
     "iopub.status.busy": "2022-05-25T15:27:38.618211Z",
     "iopub.status.idle": "2022-05-25T15:27:38.618452Z",
     "shell.execute_reply": "2022-05-25T15:27:38.618372Z",
     "shell.execute_reply.started": "2022-05-25T15:27:38.618363Z"
    }
   },
   "outputs": [],
   "source": [
    "df_20_raw.mean()"
   ]
  },
  {
   "cell_type": "code",
   "execution_count": null,
   "id": "1ce28d00-649c-4ab1-bca5-b1f3c176d030",
   "metadata": {
    "execution": {
     "iopub.status.busy": "2022-05-25T15:27:38.618910Z",
     "iopub.status.idle": "2022-05-25T15:27:38.619071Z",
     "shell.execute_reply": "2022-05-25T15:27:38.618992Z",
     "shell.execute_reply.started": "2022-05-25T15:27:38.618983Z"
    }
   },
   "outputs": [],
   "source": [
    "df_20_raw.iloc[4,3:].values"
   ]
  },
  {
   "cell_type": "code",
   "execution_count": null,
   "id": "7b455fc9-f4d1-487c-a186-4c58955fa466",
   "metadata": {
    "execution": {
     "iopub.status.busy": "2022-05-25T15:27:38.619834Z",
     "iopub.status.idle": "2022-05-25T15:27:38.620124Z",
     "shell.execute_reply": "2022-05-25T15:27:38.620039Z",
     "shell.execute_reply.started": "2022-05-25T15:27:38.620029Z"
    }
   },
   "outputs": [],
   "source": [
    "def phases_in_radian(nbins = 20):\n",
    "    phases = np.linspace(0 , 2*np.pi , 20)\n",
    "    return phases"
   ]
  },
  {
   "cell_type": "code",
   "execution_count": null,
   "id": "a219cdeb-478d-435a-a1ab-b45f3773700d",
   "metadata": {
    "execution": {
     "iopub.status.busy": "2022-05-25T15:27:38.620812Z",
     "iopub.status.idle": "2022-05-25T15:27:38.621045Z",
     "shell.execute_reply": "2022-05-25T15:27:38.620962Z",
     "shell.execute_reply.started": "2022-05-25T15:27:38.620937Z"
    }
   },
   "outputs": [],
   "source": [
    "phases = phases_in_radian(nbins = 20)"
   ]
  },
  {
   "cell_type": "code",
   "execution_count": null,
   "id": "c1d4fe82-64c1-42c1-882d-05795efef066",
   "metadata": {
    "execution": {
     "iopub.status.busy": "2022-05-25T15:27:38.621537Z",
     "iopub.status.idle": "2022-05-25T15:27:38.621747Z",
     "shell.execute_reply": "2022-05-25T15:27:38.621636Z",
     "shell.execute_reply.started": "2022-05-25T15:27:38.621622Z"
    }
   },
   "outputs": [],
   "source": [
    "phases"
   ]
  },
  {
   "cell_type": "code",
   "execution_count": null,
   "id": "00b5a465-7bf6-4c04-9451-10e0eebdc9da",
   "metadata": {
    "execution": {
     "iopub.status.busy": "2022-05-25T15:27:38.622462Z",
     "iopub.status.idle": "2022-05-25T15:27:38.622651Z",
     "shell.execute_reply": "2022-05-25T15:27:38.622570Z",
     "shell.execute_reply.started": "2022-05-25T15:27:38.622560Z"
    }
   },
   "outputs": [],
   "source": [
    "np.linspace(0 , 2*np.pi , 20)"
   ]
  },
  {
   "cell_type": "code",
   "execution_count": null,
   "id": "f32534bb-7ca7-4996-a2f8-1c9fb3164ba9",
   "metadata": {
    "execution": {
     "iopub.status.busy": "2022-05-25T15:27:38.623238Z",
     "iopub.status.idle": "2022-05-25T15:27:38.623419Z",
     "shell.execute_reply": "2022-05-25T15:27:38.623339Z",
     "shell.execute_reply.started": "2022-05-25T15:27:38.623329Z"
    }
   },
   "outputs": [],
   "source": [
    "np.arange(20) / 20 * 2 * np.pi"
   ]
  },
  {
   "cell_type": "code",
   "execution_count": null,
   "id": "8b87c027-200b-47cc-bf70-948c277ed6ca",
   "metadata": {
    "execution": {
     "iopub.status.busy": "2022-05-25T15:27:38.623946Z",
     "iopub.status.idle": "2022-05-25T15:27:38.624184Z",
     "shell.execute_reply": "2022-05-25T15:27:38.624101Z",
     "shell.execute_reply.started": "2022-05-25T15:27:38.624091Z"
    }
   },
   "outputs": [],
   "source": [
    "phases_in_radian().size"
   ]
  },
  {
   "cell_type": "code",
   "execution_count": null,
   "id": "7e0ad130-a43a-4015-a751-a2f64d4873c0",
   "metadata": {
    "execution": {
     "iopub.status.busy": "2022-05-25T15:27:38.624695Z",
     "iopub.status.idle": "2022-05-25T15:27:38.624854Z",
     "shell.execute_reply": "2022-05-25T15:27:38.624777Z",
     "shell.execute_reply.started": "2022-05-25T15:27:38.624768Z"
    }
   },
   "outputs": [],
   "source": [
    "angle, length = get_complex_vector(phase=np.arange(20) / 20 * 2 * np.pi, amplitude=df_20_raw.mean().values)"
   ]
  },
  {
   "cell_type": "code",
   "execution_count": null,
   "id": "8fe54043-f254-4800-a0ec-4ade6547432c",
   "metadata": {
    "execution": {
     "iopub.status.busy": "2022-05-25T15:27:38.625448Z",
     "iopub.status.idle": "2022-05-25T15:27:38.625608Z",
     "shell.execute_reply": "2022-05-25T15:27:38.625529Z",
     "shell.execute_reply.started": "2022-05-25T15:27:38.625520Z"
    }
   },
   "outputs": [],
   "source": [
    "angle"
   ]
  },
  {
   "cell_type": "code",
   "execution_count": null,
   "id": "b6fbd5e5-d28d-4c7c-91f7-2ef69380db79",
   "metadata": {
    "execution": {
     "iopub.status.busy": "2022-05-25T15:27:38.626349Z",
     "iopub.status.idle": "2022-05-25T15:27:38.626579Z",
     "shell.execute_reply": "2022-05-25T15:27:38.626496Z",
     "shell.execute_reply.started": "2022-05-25T15:27:38.626486Z"
    }
   },
   "outputs": [],
   "source": [
    "length"
   ]
  },
  {
   "cell_type": "code",
   "execution_count": null,
   "id": "f403bf42-47b0-4528-af0c-c7fedec07b90",
   "metadata": {},
   "outputs": [],
   "source": []
  },
  {
   "cell_type": "code",
   "execution_count": null,
   "id": "4b1290d7-0804-4036-a024-8c8f3559d1aa",
   "metadata": {
    "execution": {
     "iopub.status.busy": "2022-05-25T15:27:38.627015Z",
     "iopub.status.idle": "2022-05-25T15:27:38.627203Z",
     "shell.execute_reply": "2022-05-25T15:27:38.627097Z",
     "shell.execute_reply.started": "2022-05-25T15:27:38.627088Z"
    }
   },
   "outputs": [],
   "source": [
    "np.ones(df_20_raw.mean().values)"
   ]
  },
  {
   "cell_type": "code",
   "execution_count": null,
   "id": "83e983de-ce7a-4bd5-b992-d54c6d50225b",
   "metadata": {
    "execution": {
     "iopub.status.busy": "2022-05-25T15:27:38.627813Z",
     "iopub.status.idle": "2022-05-25T15:27:38.628078Z",
     "shell.execute_reply": "2022-05-25T15:27:38.627993Z",
     "shell.execute_reply.started": "2022-05-25T15:27:38.627967Z"
    }
   },
   "outputs": [],
   "source": [
    "angle"
   ]
  },
  {
   "cell_type": "code",
   "execution_count": null,
   "id": "764eb66f-a7f1-47de-8add-0287bd8e505c",
   "metadata": {
    "execution": {
     "iopub.status.busy": "2022-05-25T15:27:38.628783Z",
     "iopub.status.idle": "2022-05-25T15:27:38.629026Z",
     "shell.execute_reply": "2022-05-25T15:27:38.628895Z",
     "shell.execute_reply.started": "2022-05-25T15:27:38.628886Z"
    }
   },
   "outputs": [],
   "source": [
    "length"
   ]
  },
  {
   "cell_type": "code",
   "execution_count": null,
   "id": "76e584e1-eaa6-4e89-9ac1-989a20d4af34",
   "metadata": {
    "execution": {
     "iopub.status.busy": "2022-05-25T15:27:38.629617Z",
     "iopub.status.idle": "2022-05-25T15:27:38.629780Z",
     "shell.execute_reply": "2022-05-25T15:27:38.629698Z",
     "shell.execute_reply.started": "2022-05-25T15:27:38.629689Z"
    }
   },
   "outputs": [],
   "source": [
    "fig , ax = plt.subplots(figsize = (20,10))\n",
    "df_20_raw.mean().round(3).plot.bar(ax=ax)\n",
    "ax.bar_label(ax.containers[0])"
   ]
  },
  {
   "cell_type": "code",
   "execution_count": null,
   "id": "adf46b36-135b-4e13-be41-b6b4de7a4590",
   "metadata": {
    "execution": {
     "iopub.status.busy": "2022-05-25T15:27:38.630361Z",
     "iopub.status.idle": "2022-05-25T15:27:38.630521Z",
     "shell.execute_reply": "2022-05-25T15:27:38.630443Z",
     "shell.execute_reply.started": "2022-05-25T15:27:38.630435Z"
    }
   },
   "outputs": [],
   "source": [
    "concat = []\n",
    "for patient in patients:\n",
    "    concat.append(pd.read_excel(f'../df_analyse/resp_features_{patient}.xlsx', index_col = [0])\n",
    "df_all_rsp_features = pd.concat(concat)"
   ]
  },
  {
   "cell_type": "code",
   "execution_count": null,
   "id": "61069fc5-9c9e-476c-91fa-83a7f6d801f3",
   "metadata": {},
   "outputs": [],
   "source": []
  },
  {
   "cell_type": "code",
   "execution_count": null,
   "id": "af05ca4a-bf64-470d-b3d5-ef5cc5b3c6dd",
   "metadata": {
    "execution": {
     "iopub.status.busy": "2022-05-25T15:27:38.631279Z",
     "iopub.status.idle": "2022-05-25T15:27:38.631503Z",
     "shell.execute_reply": "2022-05-25T15:27:38.631403Z",
     "shell.execute_reply.started": "2022-05-25T15:27:38.631372Z"
    }
   },
   "outputs": [],
   "source": [
    "df_20"
   ]
  },
  {
   "cell_type": "code",
   "execution_count": null,
   "id": "2bd6f07f-61e1-4af5-8eaa-cd4c8a1b6a8a",
   "metadata": {
    "execution": {
     "iopub.status.busy": "2022-05-25T15:27:38.632027Z",
     "iopub.status.idle": "2022-05-25T15:27:38.632187Z",
     "shell.execute_reply": "2022-05-25T15:27:38.632109Z",
     "shell.execute_reply.started": "2022-05-25T15:27:38.632100Z"
    }
   },
   "outputs": [],
   "source": [
    "df_to_study = df_20.set_index(['patient','stage','norm'])\n",
    "rows = []\n",
    "for patient in patients:\n",
    "    for norm in ['no','yes']:\n",
    "        angle, length = get_complex_vector(phase=phases_in_radian(), amplitude=df_to_study.loc[(patient, 'N2', norm) , :])\n",
    "        row = [patient , norm , angle, length]\n",
    "        rows.append(row)\n",
    "df_mi = pd.DataFrame(rows, columns = ['patient' , 'norm' , 'angle' , 'length'])\n",
    "    "
   ]
  },
  {
   "cell_type": "code",
   "execution_count": null,
   "id": "c60ab15d-06b9-4a47-a431-02b31cfc0799",
   "metadata": {
    "execution": {
     "iopub.status.busy": "2022-05-25T15:27:38.632864Z",
     "iopub.status.idle": "2022-05-25T15:27:38.633065Z",
     "shell.execute_reply": "2022-05-25T15:27:38.632984Z",
     "shell.execute_reply.started": "2022-05-25T15:27:38.632960Z"
    }
   },
   "outputs": [],
   "source": [
    "df_mi"
   ]
  },
  {
   "cell_type": "code",
   "execution_count": null,
   "id": "05db0931-ca61-4697-bab9-4e4cf58a9fac",
   "metadata": {
    "execution": {
     "iopub.status.busy": "2022-05-25T15:27:38.633950Z",
     "iopub.status.idle": "2022-05-25T15:27:38.634221Z",
     "shell.execute_reply": "2022-05-25T15:27:38.634129Z",
     "shell.execute_reply.started": "2022-05-25T15:27:38.634118Z"
    }
   },
   "outputs": [],
   "source": [
    "fig ,axs = plt.subplots(nrows = 10, figsize = (5,50))\n",
    "for row, patient in enumerate(patients):\n",
    "    ax = axs[row]\n",
    "    df_20[df_20['norm'] == 'no'].set_index(['patient','stage','norm']).loc[(patient,'N2','no'), :].plot.bar(ax=ax)\n",
    "    angle = df_mi.set_index(['patient','norm']).loc[(patient,'no'),'angle'].round(2)\n",
    "    length = df_mi.set_index(['patient','norm']).loc[(patient,'no'),'length'].round(2)\n",
    "    title = f'{angle} , {length}'\n",
    "    ax.set_title(title)"
   ]
  },
  {
   "cell_type": "code",
   "execution_count": null,
   "id": "b059f0d3-e423-4597-b470-1ae7ada1ba19",
   "metadata": {
    "execution": {
     "iopub.status.busy": "2022-05-25T15:27:38.634814Z",
     "iopub.status.idle": "2022-05-25T15:27:38.635063Z",
     "shell.execute_reply": "2022-05-25T15:27:38.634956Z",
     "shell.execute_reply.started": "2022-05-25T15:27:38.634942Z"
    }
   },
   "outputs": [],
   "source": [
    "circular_hist(ax[0], angles0)"
   ]
  },
  {
   "cell_type": "code",
   "execution_count": null,
   "id": "03a78d35-6400-427c-9edd-82c18479d3f6",
   "metadata": {},
   "outputs": [],
   "source": []
  }
 ],
 "metadata": {
  "kernelspec": {
   "display_name": "Python 3 (ipykernel)",
   "language": "python",
   "name": "python3"
  },
  "language_info": {
   "codemirror_mode": {
    "name": "ipython",
    "version": 3
   },
   "file_extension": ".py",
   "mimetype": "text/x-python",
   "name": "python",
   "nbconvert_exporter": "python",
   "pygments_lexer": "ipython3",
   "version": "3.8.10"
  }
 },
 "nbformat": 4,
 "nbformat_minor": 5
}
