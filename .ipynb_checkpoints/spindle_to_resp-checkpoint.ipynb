{
 "cells": [
  {
   "cell_type": "code",
   "execution_count": 1,
   "id": "1ff12acc-13ad-4592-8597-0b8a034fc216",
   "metadata": {
    "tags": []
   },
   "outputs": [],
   "source": [
    "%load_ext autoreload\n",
    "%autoreload 2"
   ]
  },
  {
   "cell_type": "code",
   "execution_count": 2,
   "id": "e0d64622-9275-4792-8b6b-f378184a5140",
   "metadata": {
    "tags": []
   },
   "outputs": [],
   "source": [
    "import numpy as np\n",
    "import pandas as pd\n",
    "import matplotlib.pyplot as plt\n",
    "from params import *\n",
    "import tqdm\n",
    "import ghibtools as gh\n",
    "import seaborn as sns\n",
    "import pingouin as pg\n",
    "from pycircstat import watson_williams\n",
    "%matplotlib inline"
   ]
  },
  {
   "cell_type": "markdown",
   "id": "edd3ade2-0cbb-4183-b983-241e4be89674",
   "metadata": {},
   "source": [
    "## PARAMS"
   ]
  },
  {
   "cell_type": "code",
   "execution_count": 3,
   "id": "4eff06e2-7baf-4863-8d50-3c871262d444",
   "metadata": {},
   "outputs": [],
   "source": [
    "# savefig = True\n",
    "savefig = False\n",
    "\n",
    "# save_type = 'png'\n",
    "# save_type = 'eps'\n",
    "save_type = 'tiff'"
   ]
  },
  {
   "cell_type": "code",
   "execution_count": 4,
   "id": "8d36dfd3",
   "metadata": {},
   "outputs": [],
   "source": [
    "# only_fronto_central = False\n",
    "only_fronto_central = True"
   ]
  },
  {
   "cell_type": "markdown",
   "id": "9dde465b-1a96-47b6-9a74-e85a37a1b13c",
   "metadata": {},
   "source": [
    "## TOOLS"
   ]
  },
  {
   "cell_type": "code",
   "execution_count": 5,
   "id": "933cc3fe-5101-4827-a76a-863d7800853f",
   "metadata": {},
   "outputs": [],
   "source": [
    "def load_resp(patient):\n",
    "    rsp = pd.read_excel(f'../df_analyse/resp_features_{patient}.xlsx', index_col = 0)\n",
    "    return rsp"
   ]
  },
  {
   "cell_type": "code",
   "execution_count": 6,
   "id": "4fdcc62f-937d-4d20-8384-eef03f67b457",
   "metadata": {},
   "outputs": [],
   "source": [
    "def load_sp(patient, only_fronto_central=only_fronto_central):\n",
    "    spindles = pd.read_excel(f'../df_analyse/spindles_{patient}.xlsx', index_col = 0)\n",
    "    if not only_fronto_central:\n",
    "        return spindles\n",
    "    else:\n",
    "        return spindles[spindles['Channel'].isin(['Fp1-C3','Fp2-C4','C4-T4','C3-T3'])]"
   ]
  },
  {
   "cell_type": "code",
   "execution_count": 7,
   "id": "7915af65-311b-420f-8bea-a0dd537287f3",
   "metadata": {},
   "outputs": [],
   "source": [
    "def load_sw(patient, only_fronto_central=only_fronto_central):\n",
    "    sw = pd.read_excel(f'../df_analyse/sw_{patient}.xlsx', index_col = 0)\n",
    "    if not only_fronto_central:\n",
    "        return sw\n",
    "    else:\n",
    "        return sw[sw['Channel'].isin(['Fp1-C3','Fp2-C4','C4-T4','C3-T3'])]"
   ]
  },
  {
   "cell_type": "code",
   "execution_count": 8,
   "id": "4a043ff6-825f-4ce4-aed1-3a6c841a6d4a",
   "metadata": {},
   "outputs": [],
   "source": [
    "def get_timestamps(df_cycles, spindles_times, patient):\n",
    "    rows = []\n",
    "\n",
    "    for cycle in df_cycles.index: # loop only on cycles with spindles found inside\n",
    "\n",
    "        start = df_cycles.loc[cycle,'inspi_time'] # get start time of the cycle\n",
    "        transition = df_cycles.loc[cycle,'expi_time'] # get i-e time of the cycle\n",
    "        stop = start + df_cycles.loc[cycle,'cycle_duration'] # get stop time of the cycle\n",
    "        duration = df_cycles.loc[cycle,'cycle_duration']\n",
    "        inspi_duration = transition - start\n",
    "        expi_duration = stop - transition\n",
    "\n",
    "        spindles_of_the_cycle = spindles_times[(spindles_times >= start) & (spindles_times <= stop)].values # keep the spindles of the cycle\n",
    "\n",
    "        for spindle_time in spindles_of_the_cycle: # loop on spindles of the cycle\n",
    "            time_post_start = spindle_time - start\n",
    "            time_vs_transition = spindle_time - transition\n",
    "            time_pre_end = stop - spindle_time\n",
    "\n",
    "            norm_time = (spindle_time - start) / duration\n",
    "            angle = norm_time * 2*np.pi\n",
    "\n",
    "            rows.append([patient, cycle, start, transition, stop, inspi_duration, expi_duration, duration, spindle_time, time_post_start, time_vs_transition, time_pre_end, norm_time, angle])\n",
    "    df_times = pd.DataFrame(rows, columns = ['patient','cycle','start cycle', 'transition ie', 'stop cycle', 'inspi duration','expi duration','cycle duration','spindle time', 'time post start', 'time vs transition ie','time pre end','norm time','angle'])\n",
    "    return df_times"
   ]
  },
  {
   "cell_type": "code",
   "execution_count": 9,
   "id": "e79079c4-9b17-44fa-85d4-2a398bf2e64c",
   "metadata": {},
   "outputs": [],
   "source": [
    "def get_circ_features(angles):\n",
    "    z, pval = pg.circ_rayleigh(angles)\n",
    "    mu = pg.circ_mean(angles) #+ np.pi\n",
    "    mu = np.degrees(mu)\n",
    "    r = pg.circ_r(angles)\n",
    "    if mu < 0:\n",
    "        mu = 360 + mu\n",
    "    return pval, mu, r"
   ]
  },
  {
   "cell_type": "code",
   "execution_count": 10,
   "id": "ada602bb-7720-46fc-9ede-f77e3a2c3b3a",
   "metadata": {},
   "outputs": [],
   "source": [
    "def get_angles(event_kind, patients=patients):\n",
    "    concat_df_times = []\n",
    "\n",
    "    for patient in patients:\n",
    "        if event_kind == 'sw':\n",
    "            df_cycles, spindles_times = load_resp(patient), load_sw(patient)['NegPeak'] # angles are computed based on the timing of negatives peaks\n",
    "        elif event_kind == 'sp':\n",
    "            df_cycles, spindles_times = load_resp(patient), load_sp(patient)['Peak'] # angles are computed based on the timing of negatives peaks\n",
    "        concat_df_times.append(get_timestamps(df_cycles, spindles_times, patient))\n",
    "\n",
    "    df_times_all = pd.concat(concat_df_times)\n",
    "    return df_times_all.loc[:,['patient','angle']]"
   ]
  },
  {
   "cell_type": "code",
   "execution_count": null,
   "id": "a80e5b75-394d-422b-9dc8-816e47ce4244",
   "metadata": {},
   "outputs": [],
   "source": [
    "sp_angles = get_angles('sp')\n",
    "sw_angles = get_angles('sw')"
   ]
  },
  {
   "cell_type": "code",
   "execution_count": null,
   "id": "6ea5b874-2141-4519-b95f-1c64cd801776",
   "metadata": {},
   "outputs": [],
   "source": [
    "sp_angles"
   ]
  },
  {
   "cell_type": "code",
   "execution_count": null,
   "id": "d986dac1-5b58-432a-9019-dce927f84a02",
   "metadata": {},
   "outputs": [],
   "source": [
    "sw_angles"
   ]
  },
  {
   "cell_type": "code",
   "execution_count": null,
   "id": "03e4d8c9-6319-43f3-a415-e7a8b93f9b24",
   "metadata": {},
   "outputs": [],
   "source": [
    "fig, axs = plt.subplots(ncols = 2, subplot_kw=dict(projection = 'polar'), figsize = (15,7), constrained_layout = True)\n",
    "fig.suptitle(f'Mean polar plot of phase angles of spindles vs. slow-waves according to respiration cycle', fontsize = 30)\n",
    "bins = 18\n",
    "\n",
    "for col, event_kind in enumerate(['Spindles','Slow-waves']):\n",
    "    if event_kind == 'Spindles':\n",
    "        angles_events = sp_angles\n",
    "        color = None\n",
    "    elif event_kind == 'Slow-waves':\n",
    "        angles_events = sw_angles\n",
    "        color = 'forestgreen'      \n",
    "    \n",
    "    ax = axs[col]\n",
    "    angles = angles_events['angle']\n",
    "    p, mu , r = get_circ_features(angles)\n",
    "    ax.hist(angles, bins = bins, density = False, edgecolor = 'black', color = color)\n",
    "    ax.set_rticks([])\n",
    "    ax.set_title(f'# {event_kind} # p-Rayleigh : {round(p, 4)} - mu : {int(mu)}° - MVL : {round(r, 3)}', fontsize = 15, y = 1.05)\n",
    "if savefig:\n",
    "    plt.savefig('../presentation_5/mean_polar_plot', bbox_inches = 'tight')"
   ]
  },
  {
   "cell_type": "code",
   "execution_count": null,
   "id": "a5e319c7-6694-4b35-91c1-b7f4daf78eee",
   "metadata": {},
   "outputs": [],
   "source": [
    "fig, axs = plt.subplots(nrows = len(patients), ncols = 2, subplot_kw=dict(projection = 'polar'), figsize = (17,40), constrained_layout = True)\n",
    "fig.suptitle(f'Polar plot of phase angles of spindles vs slow-waves according to respiration cycle', fontsize = 30, y = 1.01)\n",
    "bins = 18\n",
    "for row, patient in enumerate(patients): \n",
    "    sp_angles_patient = sp_angles[sp_angles['patient'] == patient]['angle']\n",
    "    sw_angles_patient = sw_angles[sw_angles['patient'] == patient]['angle']\n",
    "    \n",
    "    p_ww, T = watson_williams(sp_angles_patient, sw_angles_patient)\n",
    "    \n",
    "    for col, event_kind in enumerate(['spindles','slow-waves']):\n",
    "        if event_kind == 'spindles':\n",
    "            angles_events = sp_angles_patient\n",
    "            color = None\n",
    "        elif event_kind == 'slow-waves':\n",
    "            angles_events = sw_angles_patient\n",
    "            color = 'forestgreen'\n",
    "\n",
    "        ax = axs[row, col]\n",
    "        p, mu , r = get_circ_features(angles_events)\n",
    "        ax.hist(angles_events, bins = bins, density = True, edgecolor = 'black', color = color)\n",
    "        ax.set_rticks([])\n",
    "        ax.set_title(f'# {event_kind} # {patient} - p-Ray : {round(p, 4)} - mu : {int(mu)}° - MVL : {round(r, 3)} , WW : {round(p_ww, 4)}', fontsize = 15, y = 1.05)\n",
    "if savefig:\n",
    "    plt.savefig('../presentation_5/detailed_polar_plot_williams', bbox_inches = 'tight')"
   ]
  },
  {
   "cell_type": "code",
   "execution_count": null,
   "id": "3fd5dd50-90d0-4bde-82f5-d719b5680bd4",
   "metadata": {},
   "outputs": [],
   "source": [
    "rsp = pd.read_excel('../participant_characteristics/mean_resp_features_by_participant.xlsx', index_col = 0).set_index('participant')"
   ]
  },
  {
   "cell_type": "code",
   "execution_count": null,
   "id": "58e74ff1-7a2b-476c-b38b-180cc93fab79",
   "metadata": {},
   "outputs": [],
   "source": [
    "rsp"
   ]
  },
  {
   "cell_type": "code",
   "execution_count": null,
   "id": "75d5607f-4acc-4d31-ba1b-8fa906946ae5",
   "metadata": {},
   "outputs": [],
   "source": [
    "fig, axs = plt.subplots(ncols = 2, subplot_kw=dict(projection = 'polar'), figsize = (15,7), constrained_layout = True)\n",
    "bins = 18\n",
    "\n",
    "for col, event_kind in enumerate(['Spindles','Slow-waves']):\n",
    "    if event_kind == 'Spindles':\n",
    "        angles_events = sp_angles\n",
    "        color = None\n",
    "    elif event_kind == 'Slow-waves':\n",
    "        angles_events = sw_angles\n",
    "        color = 'forestgreen'      \n",
    "    \n",
    "    ax = axs[col]\n",
    "    angles = angles_events['angle']\n",
    "    p, mu , r = get_circ_features(angles)\n",
    "    ax.hist(angles, bins = bins, density = False, edgecolor = 'black', color = color)\n",
    "    ax.set_rticks([])\n",
    "    ax.set_title(event_kind, fontsize = 15, y = 1.05)\n",
    "    \n",
    "    tick = [ax.get_rmax()*0.995, ax.get_rmax() * 0.99]\n",
    "    tick_pos = rsp['ratio'].mean() * 360\n",
    "    for t in np.deg2rad(np.arange(0, 360, 2)):\n",
    "        if t <= np.deg2rad(tick_pos) and t > 0:\n",
    "            color = 'r'\n",
    "        elif t >= np.deg2rad(tick_pos) and t <= np.deg2rad(360):\n",
    "            color = 'k'\n",
    "        ax.plot([t, t], tick, lw=8, color=color)\n",
    "    ax.set_xticks(np.deg2rad([0, 90 , tick_pos , 180 , 270]))\n",
    "    ax.set_xticklabels(['Start', '90°', 'I>E', '180°','270°'])\n",
    "    \n",
    "if savefig:\n",
    "    if save_type == 'png':\n",
    "        plt.savefig('../article/mean_polar_plot', bbox_inches = 'tight', dpi = 300)\n",
    "    elif save_type == 'eps':\n",
    "        plt.savefig('../article/mean_polar_plot.eps', format = 'eps', bbox_inches = 'tight', dpi = 300)\n",
    "    elif save_type == 'tiff':\n",
    "        plt.savefig('../article/mean_polar_plot.tif', format = 'tif', bbox_inches = 'tight', dpi = 300)\n"
   ]
  },
  {
   "cell_type": "code",
   "execution_count": null,
   "id": "4b22f2f9-1f34-4cd3-8be7-7f28d95405da",
   "metadata": {},
   "outputs": [],
   "source": [
    "fig, axs = plt.subplots(ncols = len(patients), nrows = 2, subplot_kw=dict(projection = 'polar'), figsize = (30,8), constrained_layout = True)\n",
    "bins = 18\n",
    "for col, patient in enumerate(patients): \n",
    "    sp_angles_patient = sp_angles[sp_angles['patient'] == patient]['angle']\n",
    "    sw_angles_patient = sw_angles[sw_angles['patient'] == patient]['angle']\n",
    "    \n",
    "    # p_ww, T = watson_williams(sp_angles_patient, sw_angles_patient)\n",
    "    \n",
    "    for row, event_kind in enumerate(['spindles','slow-waves']):\n",
    "        if event_kind == 'spindles':\n",
    "            angles_events = sp_angles_patient\n",
    "            color = None\n",
    "        elif event_kind == 'slow-waves':\n",
    "            angles_events = sw_angles_patient\n",
    "            color = 'forestgreen'\n",
    "\n",
    "        ax = axs[row, col]\n",
    "        p, mu , r = get_circ_features(angles_events)\n",
    "        ax.hist(angles_events, bins = bins, density = True, edgecolor = 'black', color = color)\n",
    "        ax.set_rticks([])\n",
    "        ax.set_title(f'{event_kind} - {patient}', fontsize = 10, y = 1.08)\n",
    "        \n",
    "        tick = [ax.get_rmax()*0.995, ax.get_rmax() * 0.99]\n",
    "        tick_pos = rsp.loc[patient, 'ratio'] * 360\n",
    "        for t in np.deg2rad(np.arange(0, 360, 2)):\n",
    "            if t <= np.deg2rad(tick_pos) and t > 0:\n",
    "                color = 'r'\n",
    "            elif t >= np.deg2rad(tick_pos) and t <= np.deg2rad(360):\n",
    "                color = 'k'\n",
    "            ax.plot([t, t], tick, lw=8, color=color)\n",
    "        ax.set_xticks(np.deg2rad([0, 90 , tick_pos , 180 , 270]))\n",
    "        ax.set_xticklabels(['Start', '90°', 'I>E', '180°','270°'])\n",
    "        \n",
    "if savefig:\n",
    "    if save_type == 'png':\n",
    "        plt.savefig('../article/detailed_polar_plot', bbox_inches = 'tight', dpi = 300)\n",
    "    elif save_type == 'eps':\n",
    "        plt.savefig('../article/detailed_polar_plot.eps', format = 'eps', bbox_inches = 'tight', dpi = 300)\n",
    "    elif save_type == 'tiff':\n",
    "        plt.savefig('../article/detailed_polar_plot.tif', format = 'tif', bbox_inches = 'tight', dpi = 300)"
   ]
  },
  {
   "cell_type": "code",
   "execution_count": null,
   "id": "8252f4a8",
   "metadata": {},
   "outputs": [],
   "source": [
    "# participant_to_subjects = {'P1':'S1','P2':'S2','P3':'S3','P4':'S4','P5':'S5','P6':'S6','P7':'S7','P8':'S8','P9':'S9','P10':'S10'}\n",
    "\n",
    "# fig, axs = plt.subplots(ncols = len(patients), nrows = 2, subplot_kw=dict(projection = 'polar'), figsize = (30,8), constrained_layout = True)\n",
    "# bins = 18\n",
    "# for col, patient in enumerate(patients): \n",
    "#     sp_angles_patient = sp_angles[sp_angles['patient'] == patient]['angle']\n",
    "#     sw_angles_patient = sw_angles[sw_angles['patient'] == patient]['angle']\n",
    "    \n",
    "#     # p_ww, T = watson_williams(sp_angles_patient, sw_angles_patient)\n",
    "    \n",
    "#     for row, event_kind in enumerate(['spindles','slow-waves']):\n",
    "#         if event_kind == 'spindles':\n",
    "#             angles_events = sp_angles_patient\n",
    "#             color = None\n",
    "#         elif event_kind == 'slow-waves':\n",
    "#             angles_events = sw_angles_patient\n",
    "#             color = 'forestgreen'\n",
    "\n",
    "#         ax = axs[row, col]\n",
    "#         p, mu , r = get_circ_features(angles_events)\n",
    "#         ax.hist(angles_events, bins = bins, density = True, edgecolor = 'black', color = color)\n",
    "#         ax.set_rticks([])\n",
    "#         ax.set_title(f'{event_kind} - {participant_to_subjects[patient]}', fontsize = 10, y = 1.08)\n",
    "        \n",
    "#         tick = [ax.get_rmax()*0.995, ax.get_rmax() * 0.99]\n",
    "#         tick_pos = rsp.loc[patient, 'ratio'] * 360\n",
    "#         for t in np.deg2rad(np.arange(0, 360, 2)):\n",
    "#             if t <= np.deg2rad(tick_pos) and t > 0:\n",
    "#                 color = 'r'\n",
    "#             elif t >= np.deg2rad(tick_pos) and t <= np.deg2rad(360):\n",
    "#                 color = 'k'\n",
    "#             ax.plot([t, t], tick, lw=8, color=color)\n",
    "#         ax.set_xticks(np.deg2rad([0, 90 , tick_pos , 180 , 270]))\n",
    "#         ax.set_xticklabels(['Start', '90°', 'I>E', '180°','270°'])\n",
    "        \n",
    "# if savefig:\n",
    "#     if save_type == 'png':\n",
    "#         plt.savefig('../article/detailed_polar_plot', bbox_inches = 'tight', dpi = 300)\n",
    "#     elif save_type == 'eps':\n",
    "#         plt.savefig('../article/detailed_polar_plot.eps', format = 'eps', bbox_inches = 'tight', dpi = 300)\n",
    "#     elif save_type == 'tiff':\n",
    "#         plt.savefig('../article/detailed_polar_plot_Subject.tif', format = 'tif', bbox_inches = 'tight', dpi = 300)"
   ]
  },
  {
   "cell_type": "code",
   "execution_count": null,
   "id": "5aad18cc-d203-4619-8a98-07efd210ad4e",
   "metadata": {},
   "outputs": [],
   "source": [
    "tables = []\n",
    "\n",
    "for event_kind in ['Spindles','Slow-waves']:\n",
    "    if event_kind == 'Spindles':\n",
    "        angles_events = sp_angles\n",
    "    elif event_kind == 'Slow-waves':\n",
    "        angles_events = sw_angles\n",
    "    rows = []\n",
    "    for participant in patients:\n",
    "        angles = angles_events[angles_events['patient'] == participant]['angle']\n",
    "        p, mu , r = get_circ_features(angles)\n",
    "        \n",
    "        if p > 0.05:\n",
    "            stars = 'ns'\n",
    "        elif p < 0.05 and p >= 0.01:\n",
    "            stars = '*'\n",
    "        elif p < 0.01 and p >= 0.001:\n",
    "            stars = '**'\n",
    "        elif p < 0.001:\n",
    "            stars = '***'\n",
    "        \n",
    "        row = [participant, event_kind , p, stars, int(mu) , round(r, 3)]\n",
    "        rows.append(row)\n",
    "    stats_table = pd.DataFrame(rows, columns = ['Participant', 'Event','p-Rayleigh', 'Rayleigh Significance', 'Mean Direction (°)','Mean Vector Length']) \n",
    "    if event_kind == 'Slow-waves':\n",
    "        stats_table = stats_table.drop(columns = 'Participant')\n",
    "    tables.append(stats_table)\n",
    "    \n",
    "whole_stats_table = pd.concat(tables, axis = 1)\n",
    "if savefig:\n",
    "    whole_stats_table.to_excel('../article/stats_table.xlsx')"
   ]
  },
  {
   "cell_type": "code",
   "execution_count": null,
   "id": "eeff1fe6-ad61-4552-a358-773331fbeb5e",
   "metadata": {},
   "outputs": [],
   "source": [
    "whole_stats_table"
   ]
  },
  {
   "cell_type": "code",
   "execution_count": null,
   "id": "fa70ac24-8232-41cf-a7f9-01b1b895a219",
   "metadata": {},
   "outputs": [],
   "source": [
    "rows = []\n",
    "for participant in patients:\n",
    "    sp_angles_participant = sp_angles[sp_angles['patient'] == participant]['angle'].values\n",
    "    bin_values , x = np.histogram(sp_angles_participant, bins = 2)\n",
    "    norm_bin_values = bin_values / sum(bin_values)\n",
    "    norm_bin_values = np.round(norm_bin_values, 3)\n",
    "    rows.append([participant, 'first half', norm_bin_values[0]])\n",
    "    rows.append([participant, 'second half', norm_bin_values[1]])\n",
    "bins_2 = pd.DataFrame(rows, columns = ['participant', 'half', 'count'])"
   ]
  },
  {
   "cell_type": "code",
   "execution_count": null,
   "id": "b26761b2-00f3-4708-aff1-a1fc678cf973",
   "metadata": {},
   "outputs": [],
   "source": [
    "fig, ax = plt.subplots(figsize = (20,8))\n",
    "sns.barplot(data=bins_2, x = 'participant', hue = 'half', y = 'count', ax=ax)\n",
    "ax.set_ylabel('Proportion of spindle events')\n",
    "ax.legend(loc = 4)\n",
    "# ttest = pg.ttest(x= bins_2[bins_2['half']=='second half']['count'] , y= 0.5)\n",
    "# p = ttest.loc['T-test', 'p-val'].round(4)\n",
    "# cohen = ttest.loc['T-test', 'cohen-d'].round(4)\n",
    "# ax.set_title(f'T-test against 0.5 : p={p} ; cohen-d = {cohen}')\n",
    "for i in ax.containers:\n",
    "    print(i)\n",
    "    ax.bar_label(i,)\n",
    "    \n",
    "if savefig: \n",
    "    plt.savefig('../article/2_bins')"
   ]
  },
  {
   "cell_type": "code",
   "execution_count": null,
   "id": "d4aff43d-de59-47cb-8de9-bbbf99a4fb87",
   "metadata": {},
   "outputs": [],
   "source": []
  },
  {
   "cell_type": "code",
   "execution_count": null,
   "id": "def199f9-bfbf-4b26-a4ca-467862ac0bb8",
   "metadata": {},
   "outputs": [],
   "source": []
  }
 ],
 "metadata": {
  "kernelspec": {
   "display_name": "Python 3 (ipykernel)",
   "language": "python",
   "name": "python3"
  },
  "language_info": {
   "codemirror_mode": {
    "name": "ipython",
    "version": 3
   },
   "file_extension": ".py",
   "mimetype": "text/x-python",
   "name": "python",
   "nbconvert_exporter": "python",
   "pygments_lexer": "ipython3",
   "version": "3.10.6"
  },
  "vscode": {
   "interpreter": {
    "hash": "3f8cbbc74cb36f3c349d37f7f054c850f545b983d7e696789398bf82f47d5438"
   }
  }
 },
 "nbformat": 4,
 "nbformat_minor": 5
}
